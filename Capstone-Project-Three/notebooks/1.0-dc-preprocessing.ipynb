{
 "cells": [
  {
   "cell_type": "markdown",
   "id": "living-montana",
   "metadata": {},
   "source": [
    "# Pre-Processing\n",
    "## Business Problem\n",
    "Leukemia is a type of cancer of the blood that often affects young people. In the past, pathologists would diagnose patients by eye after examining blood smear images under the microscope. But, this is time consuming and tedious. Advances in image recognition technology have come a long ways since their inception. Therefore, automated solutions using computers would be of great benefit to the medical community to aid in cancer diagnoses.\n",
    "\n",
    "The goal of this project is to address the following question: How can the doctor’s at the Munich University Hospital automate the diagnosis of patients with leukemia using images from blood smears?\n",
    "\n",
    "**Plan:**\n",
    "1. Load annotations file.\n",
    "2. Create features and labels.\n",
    "3. Perform train-test split.\n",
    "    1. Without stratify.\n",
    "    2. With stratify."
   ]
  },
  {
   "cell_type": "code",
   "execution_count": 1,
   "id": "everyday-resort",
   "metadata": {},
   "outputs": [],
   "source": [
    "import os\n",
    "import sys\n",
    "sys.path.append('..')\n",
    "\n",
    "import cv2 as cv\n",
    "import matplotlib.pyplot as plt\n",
    "import numpy as np\n",
    "import pandas as pd\n",
    "import seaborn as sns\n",
    "from sklearn.model_selection import train_test_split\n",
    "\n",
    "from src import constants as con\n",
    "from src.visualization import visualize as viz\n",
    "\n",
    "# %load_ext autoreload\n",
    "# %autoreload 2\n",
    "%reload_ext autoreload\n",
    "%matplotlib inline"
   ]
  },
  {
   "cell_type": "markdown",
   "id": "altered-conclusion",
   "metadata": {},
   "source": [
    "## Load Annotations File\n",
    "The annotations files contains the list of images, which will be used for the features, and list of morphologies, which are the labels."
   ]
  },
  {
   "cell_type": "code",
   "execution_count": 2,
   "id": "induced-alloy",
   "metadata": {},
   "outputs": [],
   "source": [
    "df_annotate = pd.read_csv(os.path.join(con.REFERENCES_DIR, 'annotations.dat'), sep=' ', \n",
    "                          names=['Image Dir', 'Morphology', 'First Re-Annotation', 'Second Re-Annotation'])"
   ]
  },
  {
   "cell_type": "code",
   "execution_count": 3,
   "id": "compliant-france",
   "metadata": {},
   "outputs": [
    {
     "name": "stdout",
     "output_type": "stream",
     "text": [
      "<class 'pandas.core.frame.DataFrame'>\n",
      "RangeIndex: 18365 entries, 0 to 18364\n",
      "Data columns (total 4 columns):\n",
      " #   Column                Non-Null Count  Dtype \n",
      "---  ------                --------------  ----- \n",
      " 0   Image Dir             18365 non-null  object\n",
      " 1   Morphology            18365 non-null  object\n",
      " 2   First Re-Annotation   1905 non-null   object\n",
      " 3   Second Re-Annotation  1905 non-null   object\n",
      "dtypes: object(4)\n",
      "memory usage: 574.0+ KB\n"
     ]
    }
   ],
   "source": [
    "df_annotate.info()"
   ]
  },
  {
   "cell_type": "markdown",
   "id": "executive-movement",
   "metadata": {},
   "source": [
    "## Features and Labels\n",
    "Select the features and labels from the annotations file."
   ]
  },
  {
   "cell_type": "code",
   "execution_count": 4,
   "id": "apart-regard",
   "metadata": {},
   "outputs": [],
   "source": [
    "X = df_annotate['Image Dir'].values\n",
    "y = df_annotate['Morphology'].values"
   ]
  },
  {
   "cell_type": "markdown",
   "id": "looking-sheffield",
   "metadata": {},
   "source": [
    "Print out a few items in the features array. These are image file names."
   ]
  },
  {
   "cell_type": "code",
   "execution_count": 5,
   "id": "environmental-schedule",
   "metadata": {},
   "outputs": [
    {
     "data": {
      "text/plain": [
       "array(['BAS/BAS_0001.tiff', 'BAS/BAS_0002.tiff', 'BAS/BAS_0003.tiff',\n",
       "       'BAS/BAS_0004.tiff', 'BAS/BAS_0005.tiff'], dtype=object)"
      ]
     },
     "execution_count": 5,
     "metadata": {},
     "output_type": "execute_result"
    }
   ],
   "source": [
    "X[:5]"
   ]
  },
  {
   "cell_type": "markdown",
   "id": "composite-canyon",
   "metadata": {},
   "source": [
    "Print out of few of the label values. These are leukocite morphology types."
   ]
  },
  {
   "cell_type": "code",
   "execution_count": 6,
   "id": "saving-louisville",
   "metadata": {},
   "outputs": [
    {
     "data": {
      "text/plain": [
       "array(['BAS', 'BAS', 'BAS', 'BAS', 'BAS'], dtype=object)"
      ]
     },
     "execution_count": 6,
     "metadata": {},
     "output_type": "execute_result"
    }
   ],
   "source": [
    "y[:5]"
   ]
  },
  {
   "cell_type": "code",
   "execution_count": null,
   "id": "parental-verse",
   "metadata": {},
   "outputs": [],
   "source": []
  }
 ],
 "metadata": {
  "kernelspec": {
   "display_name": "Python 3",
   "language": "python",
   "name": "python3"
  },
  "language_info": {
   "codemirror_mode": {
    "name": "ipython",
    "version": 3
   },
   "file_extension": ".py",
   "mimetype": "text/x-python",
   "name": "python",
   "nbconvert_exporter": "python",
   "pygments_lexer": "ipython3",
   "version": "3.8.8"
  }
 },
 "nbformat": 4,
 "nbformat_minor": 5
}
