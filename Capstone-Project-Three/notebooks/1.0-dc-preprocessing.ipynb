{
 "cells": [
  {
   "cell_type": "markdown",
   "id": "meaningful-working",
   "metadata": {},
   "source": [
    "# Pre-Processing\n",
    "## Business Problem\n",
    "Leukemia is a type of cancer of the blood that often affects young people. In the past, pathologists would diagnose patients by eye after examining blood smear images under the microscope. But, this is time consuming and tedious. Advances in image recognition technology have come a long ways since their inception. Therefore, automated solutions using computers would be of great benefit to the medical community to aid in cancer diagnoses.\n",
    "\n",
    "The goal of this project is to address the following question: How can the doctor’s at the Munich University Hospital automate the diagnosis of patients with leukemia using images from blood smears?\n",
    "\n",
    "**Plan:**\n",
    "1. Load annotations file.\n",
    "2. Create features and labels.\n",
    "3. Perform train-test split.\n",
    "    1. Without stratify.\n",
    "    2. With stratify."
   ]
  },
  {
   "cell_type": "code",
   "execution_count": 1,
   "id": "suitable-valley",
   "metadata": {},
   "outputs": [],
   "source": [
    "import os\n",
    "import pickle\n",
    "import sys\n",
    "sys.path.append('..')\n",
    "\n",
    "import cv2 as cv\n",
    "import matplotlib.pyplot as plt\n",
    "import numpy as np\n",
    "import pandas as pd\n",
    "import seaborn as sns\n",
    "from sklearn.model_selection import train_test_split\n",
    "\n",
    "from src import constants as con\n",
    "from src.features import build_features as bf\n",
    "from src.visualization import visualize as viz\n",
    "\n",
    "# %load_ext autoreload\n",
    "# %autoreload 2\n",
    "%reload_ext autoreload\n",
    "%matplotlib inline"
   ]
  },
  {
   "cell_type": "markdown",
   "id": "wrong-norman",
   "metadata": {},
   "source": [
    "## Load Annotations File\n",
    "The annotations files contains the list of images, which will be used for the features, and list of morphologies, which are the labels."
   ]
  },
  {
   "cell_type": "code",
   "execution_count": 2,
   "id": "robust-going",
   "metadata": {},
   "outputs": [],
   "source": [
    "df_annotate = pd.read_csv(os.path.join(con.REFERENCES_DIR, 'annotations.dat'), sep=' ', \n",
    "                          names=['Image Dir', 'Morphology', 'First Re-Annotation', 'Second Re-Annotation'])"
   ]
  },
  {
   "cell_type": "code",
   "execution_count": 3,
   "id": "hindu-organizer",
   "metadata": {},
   "outputs": [
    {
     "name": "stdout",
     "output_type": "stream",
     "text": [
      "<class 'pandas.core.frame.DataFrame'>\n",
      "RangeIndex: 18365 entries, 0 to 18364\n",
      "Data columns (total 4 columns):\n",
      " #   Column                Non-Null Count  Dtype \n",
      "---  ------                --------------  ----- \n",
      " 0   Image Dir             18365 non-null  object\n",
      " 1   Morphology            18365 non-null  object\n",
      " 2   First Re-Annotation   1905 non-null   object\n",
      " 3   Second Re-Annotation  1905 non-null   object\n",
      "dtypes: object(4)\n",
      "memory usage: 574.0+ KB\n"
     ]
    }
   ],
   "source": [
    "df_annotate.info()"
   ]
  },
  {
   "cell_type": "markdown",
   "id": "dependent-puzzle",
   "metadata": {},
   "source": [
    "## Features and Labels\n",
    "Select the features and labels from the annotations file."
   ]
  },
  {
   "cell_type": "code",
   "execution_count": 4,
   "id": "indoor-fluid",
   "metadata": {},
   "outputs": [],
   "source": [
    "X = df_annotate['Image Dir'].values\n",
    "y = df_annotate['Morphology'].values"
   ]
  },
  {
   "cell_type": "markdown",
   "id": "neutral-header",
   "metadata": {},
   "source": [
    "Print out a few items in the features array. These are image file names."
   ]
  },
  {
   "cell_type": "code",
   "execution_count": 5,
   "id": "laden-guarantee",
   "metadata": {},
   "outputs": [
    {
     "data": {
      "text/plain": [
       "array(['BAS/BAS_0001.tiff', 'BAS/BAS_0002.tiff', 'BAS/BAS_0003.tiff',\n",
       "       'BAS/BAS_0004.tiff', 'BAS/BAS_0005.tiff'], dtype=object)"
      ]
     },
     "execution_count": 5,
     "metadata": {},
     "output_type": "execute_result"
    }
   ],
   "source": [
    "X[:5]"
   ]
  },
  {
   "cell_type": "markdown",
   "id": "promising-personal",
   "metadata": {},
   "source": [
    "Print out of few of the label values. These are leukocite morphology types."
   ]
  },
  {
   "cell_type": "code",
   "execution_count": 6,
   "id": "empty-imaging",
   "metadata": {},
   "outputs": [
    {
     "data": {
      "text/plain": [
       "array(['BAS', 'BAS', 'BAS', 'BAS', 'BAS'], dtype=object)"
      ]
     },
     "execution_count": 6,
     "metadata": {},
     "output_type": "execute_result"
    }
   ],
   "source": [
    "y[:5]"
   ]
  },
  {
   "cell_type": "markdown",
   "id": "elder-hardwood",
   "metadata": {},
   "source": [
    "## Flatten Images\n",
    "Load each image and flatten into a one-dimensional array.\n",
    "* Convert images to grayscale so they take up less memory on disk."
   ]
  },
  {
   "cell_type": "code",
   "execution_count": 7,
   "id": "fifteen-explosion",
   "metadata": {},
   "outputs": [
    {
     "name": "stdout",
     "output_type": "stream",
     "text": [
      "Preprocessing Images:\n",
      " * Flattening.\n",
      " * Rescaling (25.00%).\n",
      " * Convert to grayscale.\n",
      "It took 2.153 minutes to load and preprocess 18365 images.\n",
      "The array of preprocessed images takes up 183.650 Mb of memory.\n"
     ]
    }
   ],
   "source": [
    "X_flat = bf.preprocess_images(X, flatten=True, gray=True, rescale=True, scale_factor=0.25)"
   ]
  },
  {
   "cell_type": "markdown",
   "id": "engaged-prospect",
   "metadata": {},
   "source": [
    "## Train-Test Split\n",
    "Split the features and labels into training and test sets. I will set aside 20% of the dataset for testing and the rest for training.\n",
    "\n",
    "First, let's examine the distribution in class counts for the labels."
   ]
  },
  {
   "cell_type": "code",
   "execution_count": 8,
   "id": "neutral-gossip",
   "metadata": {},
   "outputs": [
    {
     "name": "stdout",
     "output_type": "stream",
     "text": [
      "Class fractions for the labels:\n"
     ]
    },
    {
     "data": {
      "text/plain": [
       "NGS    0.461966\n",
       "LYT    0.214375\n",
       "MYO    0.177947\n",
       "MON    0.097414\n",
       "EOS    0.023087\n",
       "NGB    0.005935\n",
       "BAS    0.004302\n",
       "EBO    0.004247\n",
       "PMO    0.003812\n",
       "MYB    0.002287\n",
       "MOB    0.001416\n",
       "PMB    0.000980\n",
       "KSC    0.000817\n",
       "MMZ    0.000817\n",
       "LYA    0.000599\n",
       "dtype: float64"
      ]
     },
     "execution_count": 8,
     "metadata": {},
     "output_type": "execute_result"
    }
   ],
   "source": [
    "print('Class fractions for the labels:')\n",
    "pd.Series(y).value_counts(normalize=True)"
   ]
  },
  {
   "cell_type": "markdown",
   "id": "viral-butterfly",
   "metadata": {},
   "source": [
    "As pointed in the EDA step, there is a large difference in class counts for each of the morphological types."
   ]
  },
  {
   "cell_type": "code",
   "execution_count": 9,
   "id": "respected-whole",
   "metadata": {},
   "outputs": [],
   "source": [
    "X_train, X_test, y_train, y_test = train_test_split(X_flat, y, test_size=0.2, random_state=42)"
   ]
  },
  {
   "cell_type": "markdown",
   "id": "worth-donna",
   "metadata": {},
   "source": [
    "After splitting the data into train and test splits, how does the class distribution change?"
   ]
  },
  {
   "cell_type": "code",
   "execution_count": 10,
   "id": "governmental-husband",
   "metadata": {},
   "outputs": [
    {
     "name": "stdout",
     "output_type": "stream",
     "text": [
      "Class fractions for labels in the training set:\n"
     ]
    },
    {
     "data": {
      "text/plain": [
       "NGS    0.459978\n",
       "LYT    0.215491\n",
       "MYO    0.178260\n",
       "MON    0.098013\n",
       "EOS    0.023074\n",
       "NGB    0.005990\n",
       "BAS    0.004288\n",
       "EBO    0.004084\n",
       "PMO    0.003744\n",
       "MYB    0.002110\n",
       "MOB    0.001634\n",
       "KSC    0.000953\n",
       "PMB    0.000953\n",
       "MMZ    0.000749\n",
       "LYA    0.000681\n",
       "dtype: float64"
      ]
     },
     "execution_count": 10,
     "metadata": {},
     "output_type": "execute_result"
    }
   ],
   "source": [
    "print('Class fractions for labels in the training set:')\n",
    "pd.Series(y_train).value_counts(normalize=True)"
   ]
  },
  {
   "cell_type": "code",
   "execution_count": 11,
   "id": "smaller-quarter",
   "metadata": {},
   "outputs": [
    {
     "name": "stdout",
     "output_type": "stream",
     "text": [
      "Class fractions for labels in the test set:\n"
     ]
    },
    {
     "data": {
      "text/plain": [
       "NGS    0.469916\n",
       "LYT    0.209910\n",
       "MYO    0.176695\n",
       "MON    0.095018\n",
       "EOS    0.023142\n",
       "NGB    0.005717\n",
       "EBO    0.004901\n",
       "BAS    0.004356\n",
       "PMO    0.004084\n",
       "MYB    0.002995\n",
       "MMZ    0.001089\n",
       "PMB    0.001089\n",
       "MOB    0.000545\n",
       "LYA    0.000272\n",
       "KSC    0.000272\n",
       "dtype: float64"
      ]
     },
     "execution_count": 11,
     "metadata": {},
     "output_type": "execute_result"
    }
   ],
   "source": [
    "print('Class fractions for labels in the test set:')\n",
    "pd.Series(y_test).value_counts(normalize=True)"
   ]
  },
  {
   "cell_type": "markdown",
   "id": "dominican-things",
   "metadata": {},
   "source": [
    "To make the comparison clearer, let's compute the fractional difference in value counts between training and test labels. If the class distribution is the same between and train test sets, then the fractions should be close to 1."
   ]
  },
  {
   "cell_type": "code",
   "execution_count": 12,
   "id": "recognized-mention",
   "metadata": {},
   "outputs": [
    {
     "data": {
      "image/png": "[encoded data removed]",
      "text/plain": [
       "<Figure size 720x432 with 1 Axes>"
      ]
     },
     "metadata": {
      "needs_background": "light"
     },
     "output_type": "display_data"
    }
   ],
   "source": [
    "y_value_counts = viz.compare_class_spread(y_train, y_test)"
   ]
  },
  {
   "cell_type": "code",
   "execution_count": 13,
   "id": "unauthorized-length",
   "metadata": {},
   "outputs": [
    {
     "data": {
      "text/html": [
       "<div>\n",
       "<style scoped>\n",
       "    .dataframe tbody tr th:only-of-type {\n",
       "        vertical-align: middle;\n",
       "    }\n",
       "\n",
       "    .dataframe tbody tr th {\n",
       "        vertical-align: top;\n",
       "    }\n",
       "\n",
       "    .dataframe thead th {\n",
       "        text-align: right;\n",
       "    }\n",
       "</style>\n",
       "<table border=\"1\" class=\"dataframe\">\n",
       "  <thead>\n",
       "    <tr style=\"text-align: right;\">\n",
       "      <th></th>\n",
       "      <th>Morphology</th>\n",
       "      <th>y_train</th>\n",
       "      <th>y_test</th>\n",
       "      <th>y_train/y_test</th>\n",
       "    </tr>\n",
       "  </thead>\n",
       "  <tbody>\n",
       "    <tr>\n",
       "      <th>0</th>\n",
       "      <td>NGS</td>\n",
       "      <td>0.459978</td>\n",
       "      <td>0.469916</td>\n",
       "      <td>0.978853</td>\n",
       "    </tr>\n",
       "    <tr>\n",
       "      <th>1</th>\n",
       "      <td>LYT</td>\n",
       "      <td>0.215491</td>\n",
       "      <td>0.209910</td>\n",
       "      <td>1.026589</td>\n",
       "    </tr>\n",
       "    <tr>\n",
       "      <th>2</th>\n",
       "      <td>MYO</td>\n",
       "      <td>0.178260</td>\n",
       "      <td>0.176695</td>\n",
       "      <td>1.008860</td>\n",
       "    </tr>\n",
       "    <tr>\n",
       "      <th>3</th>\n",
       "      <td>MON</td>\n",
       "      <td>0.098013</td>\n",
       "      <td>0.095018</td>\n",
       "      <td>1.031519</td>\n",
       "    </tr>\n",
       "    <tr>\n",
       "      <th>4</th>\n",
       "      <td>EOS</td>\n",
       "      <td>0.023074</td>\n",
       "      <td>0.023142</td>\n",
       "      <td>0.997059</td>\n",
       "    </tr>\n",
       "    <tr>\n",
       "      <th>5</th>\n",
       "      <td>NGB</td>\n",
       "      <td>0.005990</td>\n",
       "      <td>0.005717</td>\n",
       "      <td>1.047619</td>\n",
       "    </tr>\n",
       "    <tr>\n",
       "      <th>6</th>\n",
       "      <td>BAS</td>\n",
       "      <td>0.004288</td>\n",
       "      <td>0.004356</td>\n",
       "      <td>0.984375</td>\n",
       "    </tr>\n",
       "    <tr>\n",
       "      <th>7</th>\n",
       "      <td>EBO</td>\n",
       "      <td>0.004084</td>\n",
       "      <td>0.004901</td>\n",
       "      <td>0.833333</td>\n",
       "    </tr>\n",
       "    <tr>\n",
       "      <th>8</th>\n",
       "      <td>PMO</td>\n",
       "      <td>0.003744</td>\n",
       "      <td>0.004084</td>\n",
       "      <td>0.916667</td>\n",
       "    </tr>\n",
       "    <tr>\n",
       "      <th>9</th>\n",
       "      <td>MYB</td>\n",
       "      <td>0.002110</td>\n",
       "      <td>0.002995</td>\n",
       "      <td>0.704545</td>\n",
       "    </tr>\n",
       "    <tr>\n",
       "      <th>10</th>\n",
       "      <td>MOB</td>\n",
       "      <td>0.001634</td>\n",
       "      <td>0.000545</td>\n",
       "      <td>3.000000</td>\n",
       "    </tr>\n",
       "    <tr>\n",
       "      <th>11</th>\n",
       "      <td>KSC</td>\n",
       "      <td>0.000953</td>\n",
       "      <td>0.000272</td>\n",
       "      <td>3.500000</td>\n",
       "    </tr>\n",
       "    <tr>\n",
       "      <th>12</th>\n",
       "      <td>PMB</td>\n",
       "      <td>0.000953</td>\n",
       "      <td>0.001089</td>\n",
       "      <td>0.875000</td>\n",
       "    </tr>\n",
       "    <tr>\n",
       "      <th>13</th>\n",
       "      <td>MMZ</td>\n",
       "      <td>0.000749</td>\n",
       "      <td>0.001089</td>\n",
       "      <td>0.687500</td>\n",
       "    </tr>\n",
       "    <tr>\n",
       "      <th>14</th>\n",
       "      <td>LYA</td>\n",
       "      <td>0.000681</td>\n",
       "      <td>0.000272</td>\n",
       "      <td>2.500000</td>\n",
       "    </tr>\n",
       "  </tbody>\n",
       "</table>\n",
       "</div>"
      ],
      "text/plain": [
       "   Morphology   y_train    y_test  y_train/y_test\n",
       "0         NGS  0.459978  0.469916        0.978853\n",
       "1         LYT  0.215491  0.209910        1.026589\n",
       "2         MYO  0.178260  0.176695        1.008860\n",
       "3         MON  0.098013  0.095018        1.031519\n",
       "4         EOS  0.023074  0.023142        0.997059\n",
       "5         NGB  0.005990  0.005717        1.047619\n",
       "6         BAS  0.004288  0.004356        0.984375\n",
       "7         EBO  0.004084  0.004901        0.833333\n",
       "8         PMO  0.003744  0.004084        0.916667\n",
       "9         MYB  0.002110  0.002995        0.704545\n",
       "10        MOB  0.001634  0.000545        3.000000\n",
       "11        KSC  0.000953  0.000272        3.500000\n",
       "12        PMB  0.000953  0.001089        0.875000\n",
       "13        MMZ  0.000749  0.001089        0.687500\n",
       "14        LYA  0.000681  0.000272        2.500000"
      ]
     },
     "execution_count": 13,
     "metadata": {},
     "output_type": "execute_result"
    }
   ],
   "source": [
    "y_value_counts"
   ]
  },
  {
   "cell_type": "code",
   "execution_count": 14,
   "id": "reflected-alexandria",
   "metadata": {},
   "outputs": [
    {
     "name": "stdout",
     "output_type": "stream",
     "text": [
      "Minimum fractional difference: 0.688\n",
      "Maximum fractional difference: 3.500\n"
     ]
    }
   ],
   "source": [
    "print(f\"Minimum fractional difference: {y_value_counts['y_train/y_test'].min():0.3f}\")\n",
    "print(f\"Maximum fractional difference: {y_value_counts['y_train/y_test'].max():0.3f}\")"
   ]
  },
  {
   "cell_type": "markdown",
   "id": "colonial-intermediate",
   "metadata": {},
   "source": [
    "As you can see, not all fractions are one. The lowest is around 0.69, while the higest is up to 3.5.\n",
    "\n",
    "Let's redo the train/test split, but this time use the _`stratify`_ parameter to make the distribution in classes between the train and test sets more equal."
   ]
  },
  {
   "cell_type": "code",
   "execution_count": 15,
   "id": "confirmed-auckland",
   "metadata": {},
   "outputs": [],
   "source": [
    "X_train, X_test, y_train, y_test = train_test_split(X_flat, y, test_size=0.2, random_state=42, stratify=y)"
   ]
  },
  {
   "cell_type": "code",
   "execution_count": 16,
   "id": "thermal-reader",
   "metadata": {},
   "outputs": [
    {
     "data": {
      "image/png": "[encoded data removed]",
      "text/plain": [
       "<Figure size 720x432 with 1 Axes>"
      ]
     },
     "metadata": {
      "needs_background": "light"
     },
     "output_type": "display_data"
    }
   ],
   "source": [
    "y_value_counts = viz.compare_class_spread(y_train, y_test)"
   ]
  },
  {
   "cell_type": "code",
   "execution_count": 17,
   "id": "printable-miracle",
   "metadata": {},
   "outputs": [
    {
     "data": {
      "text/html": [
       "<div>\n",
       "<style scoped>\n",
       "    .dataframe tbody tr th:only-of-type {\n",
       "        vertical-align: middle;\n",
       "    }\n",
       "\n",
       "    .dataframe tbody tr th {\n",
       "        vertical-align: top;\n",
       "    }\n",
       "\n",
       "    .dataframe thead th {\n",
       "        text-align: right;\n",
       "    }\n",
       "</style>\n",
       "<table border=\"1\" class=\"dataframe\">\n",
       "  <thead>\n",
       "    <tr style=\"text-align: right;\">\n",
       "      <th></th>\n",
       "      <th>Morphology</th>\n",
       "      <th>y_train</th>\n",
       "      <th>y_test</th>\n",
       "      <th>y_train/y_test</th>\n",
       "    </tr>\n",
       "  </thead>\n",
       "  <tbody>\n",
       "    <tr>\n",
       "      <th>0</th>\n",
       "      <td>NGS</td>\n",
       "      <td>0.461952</td>\n",
       "      <td>0.462020</td>\n",
       "      <td>0.999853</td>\n",
       "    </tr>\n",
       "    <tr>\n",
       "      <th>1</th>\n",
       "      <td>LYT</td>\n",
       "      <td>0.214402</td>\n",
       "      <td>0.214266</td>\n",
       "      <td>1.000635</td>\n",
       "    </tr>\n",
       "    <tr>\n",
       "      <th>2</th>\n",
       "      <td>MYO</td>\n",
       "      <td>0.177988</td>\n",
       "      <td>0.177784</td>\n",
       "      <td>1.001149</td>\n",
       "    </tr>\n",
       "    <tr>\n",
       "      <th>3</th>\n",
       "      <td>MON</td>\n",
       "      <td>0.097400</td>\n",
       "      <td>0.097468</td>\n",
       "      <td>0.999302</td>\n",
       "    </tr>\n",
       "    <tr>\n",
       "      <th>4</th>\n",
       "      <td>EOS</td>\n",
       "      <td>0.023074</td>\n",
       "      <td>0.023142</td>\n",
       "      <td>0.997059</td>\n",
       "    </tr>\n",
       "    <tr>\n",
       "      <th>5</th>\n",
       "      <td>NGB</td>\n",
       "      <td>0.005922</td>\n",
       "      <td>0.005990</td>\n",
       "      <td>0.988636</td>\n",
       "    </tr>\n",
       "    <tr>\n",
       "      <th>6</th>\n",
       "      <td>BAS</td>\n",
       "      <td>0.004288</td>\n",
       "      <td>0.004356</td>\n",
       "      <td>0.984375</td>\n",
       "    </tr>\n",
       "    <tr>\n",
       "      <th>7</th>\n",
       "      <td>EBO</td>\n",
       "      <td>0.004220</td>\n",
       "      <td>0.004356</td>\n",
       "      <td>0.968750</td>\n",
       "    </tr>\n",
       "    <tr>\n",
       "      <th>8</th>\n",
       "      <td>PMO</td>\n",
       "      <td>0.003812</td>\n",
       "      <td>0.003812</td>\n",
       "      <td>1.000000</td>\n",
       "    </tr>\n",
       "    <tr>\n",
       "      <th>9</th>\n",
       "      <td>MYB</td>\n",
       "      <td>0.002314</td>\n",
       "      <td>0.002178</td>\n",
       "      <td>1.062500</td>\n",
       "    </tr>\n",
       "    <tr>\n",
       "      <th>10</th>\n",
       "      <td>MOB</td>\n",
       "      <td>0.001429</td>\n",
       "      <td>0.001361</td>\n",
       "      <td>1.050000</td>\n",
       "    </tr>\n",
       "    <tr>\n",
       "      <th>11</th>\n",
       "      <td>PMB</td>\n",
       "      <td>0.000953</td>\n",
       "      <td>0.001089</td>\n",
       "      <td>0.875000</td>\n",
       "    </tr>\n",
       "    <tr>\n",
       "      <th>12</th>\n",
       "      <td>KSC</td>\n",
       "      <td>0.000817</td>\n",
       "      <td>0.000817</td>\n",
       "      <td>1.000000</td>\n",
       "    </tr>\n",
       "    <tr>\n",
       "      <th>13</th>\n",
       "      <td>MMZ</td>\n",
       "      <td>0.000817</td>\n",
       "      <td>0.000817</td>\n",
       "      <td>1.000000</td>\n",
       "    </tr>\n",
       "    <tr>\n",
       "      <th>14</th>\n",
       "      <td>LYA</td>\n",
       "      <td>0.000613</td>\n",
       "      <td>0.000545</td>\n",
       "      <td>1.125000</td>\n",
       "    </tr>\n",
       "  </tbody>\n",
       "</table>\n",
       "</div>"
      ],
      "text/plain": [
       "   Morphology   y_train    y_test  y_train/y_test\n",
       "0         NGS  0.461952  0.462020        0.999853\n",
       "1         LYT  0.214402  0.214266        1.000635\n",
       "2         MYO  0.177988  0.177784        1.001149\n",
       "3         MON  0.097400  0.097468        0.999302\n",
       "4         EOS  0.023074  0.023142        0.997059\n",
       "5         NGB  0.005922  0.005990        0.988636\n",
       "6         BAS  0.004288  0.004356        0.984375\n",
       "7         EBO  0.004220  0.004356        0.968750\n",
       "8         PMO  0.003812  0.003812        1.000000\n",
       "9         MYB  0.002314  0.002178        1.062500\n",
       "10        MOB  0.001429  0.001361        1.050000\n",
       "11        PMB  0.000953  0.001089        0.875000\n",
       "12        KSC  0.000817  0.000817        1.000000\n",
       "13        MMZ  0.000817  0.000817        1.000000\n",
       "14        LYA  0.000613  0.000545        1.125000"
      ]
     },
     "execution_count": 17,
     "metadata": {},
     "output_type": "execute_result"
    }
   ],
   "source": [
    "y_value_counts"
   ]
  },
  {
   "cell_type": "code",
   "execution_count": 18,
   "id": "homeless-genre",
   "metadata": {},
   "outputs": [
    {
     "name": "stdout",
     "output_type": "stream",
     "text": [
      "Minimum fractional difference: 0.875\n",
      "Maximum fractional difference: 1.125\n"
     ]
    }
   ],
   "source": [
    "print(f\"Minimum fractional difference: {y_value_counts['y_train/y_test'].min():0.3f}\")\n",
    "print(f\"Maximum fractional difference: {y_value_counts['y_train/y_test'].max():0.3f}\")"
   ]
  },
  {
   "cell_type": "markdown",
   "id": "shaped-point",
   "metadata": {},
   "source": [
    "The distribution in classes are now much closer to one."
   ]
  },
  {
   "cell_type": "markdown",
   "id": "hired-linux",
   "metadata": {},
   "source": [
    "## Save Train/Test Data\n",
    "Save the training and test data to file. This data will not change during the modeling phase."
   ]
  },
  {
   "cell_type": "code",
   "execution_count": 19,
   "id": "friendly-excess",
   "metadata": {},
   "outputs": [
    {
     "data": {
      "text/plain": [
       "(14692, 10000)"
      ]
     },
     "execution_count": 19,
     "metadata": {},
     "output_type": "execute_result"
    }
   ],
   "source": [
    "X_train.shape"
   ]
  },
  {
   "cell_type": "code",
   "execution_count": 20,
   "id": "primary-panic",
   "metadata": {},
   "outputs": [],
   "source": [
    "data_dict = {\n",
    "    'X_train': X_train,\n",
    "    'X_test': X_test,\n",
    "    'y_train': y_train,\n",
    "    'y_test': y_test\n",
    "}"
   ]
  },
  {
   "cell_type": "code",
   "execution_count": 21,
   "id": "unexpected-checkout",
   "metadata": {},
   "outputs": [],
   "source": [
    "for key, value in data_dict.items():\n",
    "    outfile = open(os.path.join(con.PROCESSED_DATA_DIR, key), 'wb')\n",
    "    pickle.dump(value, outfile)\n",
    "    outfile.close()"
   ]
  },
  {
   "cell_type": "code",
   "execution_count": null,
   "id": "casual-moisture",
   "metadata": {},
   "outputs": [],
   "source": []
  }
 ],
 "metadata": {
  "kernelspec": {
   "display_name": "Python 3",
   "language": "python",
   "name": "python3"
  },
  "language_info": {
   "codemirror_mode": {
    "name": "ipython",
    "version": 3
   },
   "file_extension": ".py",
   "mimetype": "text/x-python",
   "name": "python",
   "nbconvert_exporter": "python",
   "pygments_lexer": "ipython3",
   "version": "3.8.8"
  }
 },
 "nbformat": 4,
 "nbformat_minor": 5
}
