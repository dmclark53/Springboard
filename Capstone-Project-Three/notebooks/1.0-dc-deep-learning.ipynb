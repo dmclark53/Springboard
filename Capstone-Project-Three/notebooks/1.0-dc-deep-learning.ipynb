{
 "cells": [
  {
   "cell_type": "markdown",
   "id": "guided-plumbing",
   "metadata": {},
   "source": [
    "# Deep Learning Model: Convolutional Neural Network\n",
    "## Business Problem\n",
    "Leukemia is a type of cancer of the blood that often affects young people. In the past, pathologists would diagnose patients by eye after examining blood smear images under the microscope. But, this is time consuming and tedious. Advances in image recognition technology have come a long ways since their inception. Therefore, automated solutions using computers would be of great benefit to the medical community to aid in cancer diagnoses.\n",
    "\n",
    "The goal of this project is to address the following question: How can the doctor’s at the Munich University Hospital automate the diagnosis of patients with leukemia using images from blood smears?\n",
    "\n",
    "**Overall Plan:**\n",
    "1. Create CNN on unbalanced data.\n",
    "2. Create CNN with weighted classes.\n",
    "3. Create CNN using focal loss.\n",
    "\n",
    "**Plan:**\n",
    "1. Use Keras to create network.\n",
    "2. Define CNN architecture.\n",
    "3. Train model on unbalanced data.\n",
    "4. Evaluate performance."
   ]
  },
  {
   "cell_type": "code",
   "execution_count": 1,
   "id": "working-camcorder",
   "metadata": {},
   "outputs": [],
   "source": [
    "import sys\n",
    "sys.path.append('..')\n",
    "from time import time\n",
    "\n",
    "from keras import layers\n",
    "from keras import metrics\n",
    "from keras import models\n",
    "from keras.utils import to_categorical\n",
    "import matplotlib.pyplot as plt\n",
    "import numpy as np\n",
    "import pandas as pd\n",
    "import seaborn as sns\n",
    "from sklearn.metrics import classification_report\n",
    "from sklearn.model_selection import train_test_split\n",
    "from sklearn.metrics import confusion_matrix\n",
    "from sklearn.utils.class_weight import compute_class_weight\n",
    "\n",
    "from src.data_setup import make_dataset as md\n",
    "from src.models import evaluate_model as em\n",
    "\n",
    "%matplotlib inline"
   ]
  },
  {
   "cell_type": "markdown",
   "id": "hazardous-facial",
   "metadata": {},
   "source": [
    "## Load Data\n",
    "Load the pickled training and test data."
   ]
  },
  {
   "cell_type": "code",
   "execution_count": 2,
   "id": "racial-triangle",
   "metadata": {},
   "outputs": [],
   "source": [
    "X_train, X_test, y_train, y_test = md.load_train_test('gray_rescale12')"
   ]
  },
  {
   "cell_type": "code",
   "execution_count": 3,
   "id": "indoor-version",
   "metadata": {},
   "outputs": [
    {
     "data": {
      "text/plain": [
       "(14692, 2304)"
      ]
     },
     "execution_count": 3,
     "metadata": {},
     "output_type": "execute_result"
    }
   ],
   "source": [
    "X_train.shape"
   ]
  },
  {
   "cell_type": "code",
   "execution_count": 4,
   "id": "civilian-simon",
   "metadata": {},
   "outputs": [
    {
     "data": {
      "text/plain": [
       "NGS    6787\n",
       "LYT    3150\n",
       "MYO    2615\n",
       "MON    1431\n",
       "EOS     339\n",
       "NGB      87\n",
       "BAS      63\n",
       "EBO      62\n",
       "PMO      56\n",
       "MYB      34\n",
       "MOB      21\n",
       "PMB      14\n",
       "KSC      12\n",
       "MMZ      12\n",
       "LYA       9\n",
       "dtype: int64"
      ]
     },
     "execution_count": 4,
     "metadata": {},
     "output_type": "execute_result"
    }
   ],
   "source": [
    "pd.Series(y_train).value_counts()"
   ]
  },
  {
   "cell_type": "code",
   "execution_count": 5,
   "id": "agricultural-algorithm",
   "metadata": {},
   "outputs": [
    {
     "data": {
      "text/plain": [
       "NGS    1697\n",
       "LYT     787\n",
       "MYO     653\n",
       "MON     358\n",
       "EOS      85\n",
       "NGB      22\n",
       "EBO      16\n",
       "BAS      16\n",
       "PMO      14\n",
       "MYB       8\n",
       "MOB       5\n",
       "PMB       4\n",
       "MMZ       3\n",
       "KSC       3\n",
       "LYA       2\n",
       "dtype: int64"
      ]
     },
     "execution_count": 5,
     "metadata": {},
     "output_type": "execute_result"
    }
   ],
   "source": [
    "pd.Series(y_test).value_counts()"
   ]
  },
  {
   "cell_type": "markdown",
   "id": "periodic-enclosure",
   "metadata": {},
   "source": [
    "## Data Preparation\n",
    "### Unflatten\n",
    "Unflatten the feature arrays, converting them back into arrays of 2-dimensional images."
   ]
  },
  {
   "cell_type": "code",
   "execution_count": 6,
   "id": "useful-subdivision",
   "metadata": {},
   "outputs": [],
   "source": [
    "def unflatten(X):\n",
    "    dimension = int(np.sqrt(X.shape[1]))\n",
    "    return X.reshape((len(X), dimension, dimension, 1))"
   ]
  },
  {
   "cell_type": "code",
   "execution_count": 7,
   "id": "noticed-picnic",
   "metadata": {},
   "outputs": [
    {
     "data": {
      "text/plain": [
       "(14692, 48, 48, 1)"
      ]
     },
     "execution_count": 7,
     "metadata": {},
     "output_type": "execute_result"
    }
   ],
   "source": [
    "X_train_unflatten = unflatten(X_train)\n",
    "X_train_unflatten.shape"
   ]
  },
  {
   "cell_type": "code",
   "execution_count": 8,
   "id": "raised-villa",
   "metadata": {},
   "outputs": [
    {
     "data": {
      "text/plain": [
       "(3673, 48, 48, 1)"
      ]
     },
     "execution_count": 8,
     "metadata": {},
     "output_type": "execute_result"
    }
   ],
   "source": [
    "X_test_unflatten = unflatten(X_test)\n",
    "X_test_unflatten.shape"
   ]
  },
  {
   "cell_type": "markdown",
   "id": "honey-photographer",
   "metadata": {},
   "source": [
    "### Normalize\n",
    "Normalize the features, to values between 0 and 1."
   ]
  },
  {
   "cell_type": "code",
   "execution_count": 9,
   "id": "streaming-looking",
   "metadata": {},
   "outputs": [
    {
     "name": "stdout",
     "output_type": "stream",
     "text": [
      "The maximum value for the training set is 255.\n",
      "The maximum value for the test set is 255.\n"
     ]
    }
   ],
   "source": [
    "print(f'The maximum value for the training set is {X_train_unflatten.max()}.')\n",
    "print(f'The maximum value for the test set is {X_test_unflatten.max()}.')"
   ]
  },
  {
   "cell_type": "code",
   "execution_count": 10,
   "id": "close-worship",
   "metadata": {},
   "outputs": [],
   "source": [
    "X_train_normalized = X_train_unflatten / X_train_unflatten.max()\n",
    "X_test_normalized = X_test_unflatten / X_test_unflatten.max()"
   ]
  },
  {
   "cell_type": "code",
   "execution_count": 11,
   "id": "logical-bouquet",
   "metadata": {},
   "outputs": [
    {
     "name": "stdout",
     "output_type": "stream",
     "text": [
      "The maximum value for the normalized training set is 1.0.\n",
      "The maximum value for the normalized test set is 1.0.\n"
     ]
    }
   ],
   "source": [
    "print(f'The maximum value for the normalized training set is {X_train_normalized.max()}.')\n",
    "print(f'The maximum value for the normalized test set is {X_test_normalized.max()}.')"
   ]
  },
  {
   "cell_type": "markdown",
   "id": "active-arbitration",
   "metadata": {},
   "source": [
    "### Categories\n",
    "First, encode the labels to integer values."
   ]
  },
  {
   "cell_type": "code",
   "execution_count": 12,
   "id": "confirmed-calcium",
   "metadata": {},
   "outputs": [],
   "source": [
    "label_encodings = {value: i for i, value in enumerate(np.unique(y_train))}"
   ]
  },
  {
   "cell_type": "code",
   "execution_count": 13,
   "id": "uniform-eugene",
   "metadata": {},
   "outputs": [
    {
     "data": {
      "text/plain": [
       "{'BAS': 0,\n",
       " 'EBO': 1,\n",
       " 'EOS': 2,\n",
       " 'KSC': 3,\n",
       " 'LYA': 4,\n",
       " 'LYT': 5,\n",
       " 'MMZ': 6,\n",
       " 'MOB': 7,\n",
       " 'MON': 8,\n",
       " 'MYB': 9,\n",
       " 'MYO': 10,\n",
       " 'NGB': 11,\n",
       " 'NGS': 12,\n",
       " 'PMB': 13,\n",
       " 'PMO': 14}"
      ]
     },
     "execution_count": 13,
     "metadata": {},
     "output_type": "execute_result"
    }
   ],
   "source": [
    "label_encodings"
   ]
  },
  {
   "cell_type": "code",
   "execution_count": 14,
   "id": "sound-sister",
   "metadata": {},
   "outputs": [
    {
     "data": {
      "text/plain": [
       "NGS    6787\n",
       "LYT    3150\n",
       "MYO    2615\n",
       "MON    1431\n",
       "EOS     339\n",
       "NGB      87\n",
       "BAS      63\n",
       "EBO      62\n",
       "PMO      56\n",
       "MYB      34\n",
       "MOB      21\n",
       "PMB      14\n",
       "KSC      12\n",
       "MMZ      12\n",
       "LYA       9\n",
       "dtype: int64"
      ]
     },
     "execution_count": 14,
     "metadata": {},
     "output_type": "execute_result"
    }
   ],
   "source": [
    "pd.Series(y_train).value_counts()"
   ]
  },
  {
   "cell_type": "code",
   "execution_count": 15,
   "id": "magnetic-circle",
   "metadata": {},
   "outputs": [],
   "source": [
    "y_train_encoded = pd.Series(y_train).replace(label_encodings).values\n",
    "y_test_encoded = pd.Series(y_test).replace(label_encodings).values"
   ]
  },
  {
   "cell_type": "code",
   "execution_count": 16,
   "id": "posted-knitting",
   "metadata": {},
   "outputs": [
    {
     "data": {
      "text/plain": [
       "array([ 0,  1,  2,  3,  4,  5,  6,  7,  8,  9, 10, 11, 12, 13, 14])"
      ]
     },
     "execution_count": 16,
     "metadata": {},
     "output_type": "execute_result"
    }
   ],
   "source": [
    "np.unique(y_train_encoded)"
   ]
  },
  {
   "cell_type": "code",
   "execution_count": 17,
   "id": "departmental-strain",
   "metadata": {},
   "outputs": [
    {
     "data": {
      "text/plain": [
       "array([ 0,  1,  2,  3,  4,  5,  6,  7,  8,  9, 10, 11, 12, 13, 14])"
      ]
     },
     "execution_count": 17,
     "metadata": {},
     "output_type": "execute_result"
    }
   ],
   "source": [
    "np.unique(y_test_encoded)"
   ]
  },
  {
   "cell_type": "markdown",
   "id": "spare-closure",
   "metadata": {},
   "source": [
    "Second, encode the integer labels as one-hot vectors."
   ]
  },
  {
   "cell_type": "code",
   "execution_count": 18,
   "id": "expensive-airline",
   "metadata": {},
   "outputs": [],
   "source": [
    "y_train_one_hot = to_categorical(y_train_encoded)\n",
    "y_test_one_hot = to_categorical(y_test_encoded)"
   ]
  },
  {
   "cell_type": "code",
   "execution_count": 19,
   "id": "acquired-copyright",
   "metadata": {},
   "outputs": [
    {
     "data": {
      "text/plain": [
       "(14692, 15)"
      ]
     },
     "execution_count": 19,
     "metadata": {},
     "output_type": "execute_result"
    }
   ],
   "source": [
    "y_train_one_hot.shape"
   ]
  },
  {
   "cell_type": "code",
   "execution_count": 20,
   "id": "afraid-finance",
   "metadata": {},
   "outputs": [
    {
     "data": {
      "text/plain": [
       "array([[0., 0., 0., 0., 0., 0., 0., 0., 0., 0., 0., 0., 1., 0., 0.],\n",
       "       [0., 0., 0., 0., 0., 0., 0., 0., 0., 0., 0., 0., 1., 0., 0.],\n",
       "       [0., 0., 0., 0., 0., 0., 0., 0., 0., 0., 0., 0., 1., 0., 0.],\n",
       "       [0., 0., 0., 0., 0., 0., 0., 0., 0., 0., 1., 0., 0., 0., 0.],\n",
       "       [0., 0., 0., 0., 0., 0., 0., 0., 0., 0., 0., 0., 1., 0., 0.]],\n",
       "      dtype=float32)"
      ]
     },
     "execution_count": 20,
     "metadata": {},
     "output_type": "execute_result"
    }
   ],
   "source": [
    "y_train_one_hot[0:5, :]"
   ]
  },
  {
   "cell_type": "code",
   "execution_count": 21,
   "id": "liked-arthritis",
   "metadata": {},
   "outputs": [
    {
     "data": {
      "text/plain": [
       "(3673, 15)"
      ]
     },
     "execution_count": 21,
     "metadata": {},
     "output_type": "execute_result"
    }
   ],
   "source": [
    "y_test_one_hot.shape"
   ]
  },
  {
   "cell_type": "code",
   "execution_count": 22,
   "id": "refined-welcome",
   "metadata": {},
   "outputs": [
    {
     "data": {
      "text/plain": [
       "array([[0., 0., 0., 0., 0., 0., 0., 0., 0., 0., 0., 0., 1., 0., 0.],\n",
       "       [0., 0., 0., 0., 0., 1., 0., 0., 0., 0., 0., 0., 0., 0., 0.],\n",
       "       [0., 0., 0., 0., 0., 0., 0., 0., 0., 0., 1., 0., 0., 0., 0.],\n",
       "       [0., 0., 0., 0., 0., 0., 0., 0., 0., 0., 0., 0., 1., 0., 0.],\n",
       "       [0., 0., 0., 0., 0., 0., 0., 0., 0., 0., 0., 0., 1., 0., 0.]],\n",
       "      dtype=float32)"
      ]
     },
     "execution_count": 22,
     "metadata": {},
     "output_type": "execute_result"
    }
   ],
   "source": [
    "y_test_one_hot[0:5, :]"
   ]
  },
  {
   "cell_type": "markdown",
   "id": "starting-links",
   "metadata": {},
   "source": [
    "## Validation Set\n",
    "Now that we have preprocessed the training data, I will create a validation set. This will be used to evaluate how the deep learning model is training."
   ]
  },
  {
   "cell_type": "code",
   "execution_count": 23,
   "id": "critical-suspect",
   "metadata": {},
   "outputs": [],
   "source": [
    "X_train_normalized, X_val, y_train_one_hot, y_val = train_test_split(X_train_normalized, y_train_one_hot, test_size=0.1, random_state=42)"
   ]
  },
  {
   "cell_type": "markdown",
   "id": "unusual-damages",
   "metadata": {},
   "source": [
    "## Define Model"
   ]
  },
  {
   "cell_type": "code",
   "execution_count": 24,
   "id": "located-birth",
   "metadata": {},
   "outputs": [
    {
     "name": "stdout",
     "output_type": "stream",
     "text": [
      "The input shape is (48, 48, 1).\n"
     ]
    }
   ],
   "source": [
    "input_shape = X_train_unflatten.shape[1:]\n",
    "print(f'The input shape is {input_shape}.')"
   ]
  },
  {
   "cell_type": "code",
   "execution_count": 25,
   "id": "technical-nirvana",
   "metadata": {},
   "outputs": [],
   "source": [
    "model_1 = models.Sequential([\n",
    "    layers.Conv2D(8, kernel_size=(3, 3), activation='relu', padding='same', input_shape=input_shape),\n",
    "    layers.MaxPooling2D(pool_size=(2, 2), strides=2),\n",
    "    layers.Conv2D(16, kernel_size=(7, 7), activation='relu'),\n",
    "    layers.MaxPooling2D(pool_size=(2, 2), strides=2),\n",
    "    layers.Flatten(),\n",
    "    layers.Dense(600, activation='relu'),\n",
    "    layers.Dense(150, activation='relu'),\n",
    "    layers.Dense(38, activation='relu'),\n",
    "    layers.Dense(15, activation='softmax')\n",
    "])"
   ]
  },
  {
   "cell_type": "code",
   "execution_count": 26,
   "id": "seeing-hacker",
   "metadata": {},
   "outputs": [
    {
     "name": "stdout",
     "output_type": "stream",
     "text": [
      "Model: \"sequential\"\n",
      "_________________________________________________________________\n",
      "Layer (type)                 Output Shape              Param #   \n",
      "=================================================================\n",
      "conv2d (Conv2D)              (None, 48, 48, 8)         80        \n",
      "_________________________________________________________________\n",
      "max_pooling2d (MaxPooling2D) (None, 24, 24, 8)         0         \n",
      "_________________________________________________________________\n",
      "conv2d_1 (Conv2D)            (None, 18, 18, 16)        6288      \n",
      "_________________________________________________________________\n",
      "max_pooling2d_1 (MaxPooling2 (None, 9, 9, 16)          0         \n",
      "_________________________________________________________________\n",
      "flatten (Flatten)            (None, 1296)              0         \n",
      "_________________________________________________________________\n",
      "dense (Dense)                (None, 600)               778200    \n",
      "_________________________________________________________________\n",
      "dense_1 (Dense)              (None, 150)               90150     \n",
      "_________________________________________________________________\n",
      "dense_2 (Dense)              (None, 38)                5738      \n",
      "_________________________________________________________________\n",
      "dense_3 (Dense)              (None, 15)                585       \n",
      "=================================================================\n",
      "Total params: 881,041\n",
      "Trainable params: 881,041\n",
      "Non-trainable params: 0\n",
      "_________________________________________________________________\n"
     ]
    }
   ],
   "source": [
    "model_1.summary()"
   ]
  },
  {
   "cell_type": "markdown",
   "id": "celtic-array",
   "metadata": {},
   "source": [
    "### Train Model"
   ]
  },
  {
   "cell_type": "code",
   "execution_count": 27,
   "id": "employed-transcription",
   "metadata": {},
   "outputs": [
    {
     "name": "stdout",
     "output_type": "stream",
     "text": [
      "Epoch 1/5\n",
      "207/207 [==============================] - 9s 39ms/step - loss: 1.3791 - accuracy: 0.0000e+00 - categorical_accuracy: 0.5260 - precision: 0.6723 - recall: 0.3287 - val_loss: 0.6697 - val_accuracy: 0.0000e+00 - val_categorical_accuracy: 0.7905 - val_precision: 0.8632 - val_recall: 0.7252\n",
      "Epoch 2/5\n",
      "207/207 [==============================] - 8s 37ms/step - loss: 0.6339 - accuracy: 0.0000e+00 - categorical_accuracy: 0.8058 - precision: 0.8628 - recall: 0.7437 - val_loss: 0.6629 - val_accuracy: 0.0000e+00 - val_categorical_accuracy: 0.7755 - val_precision: 0.8327 - val_recall: 0.7279\n",
      "Epoch 3/5\n",
      "207/207 [==============================] - 8s 37ms/step - loss: 0.4900 - accuracy: 0.0000e+00 - categorical_accuracy: 0.8491 - precision: 0.8838 - recall: 0.8091 - val_loss: 0.4978 - val_accuracy: 0.0000e+00 - val_categorical_accuracy: 0.8497 - val_precision: 0.8717 - val_recall: 0.8320\n",
      "Epoch 4/5\n",
      "207/207 [==============================] - 8s 37ms/step - loss: 0.4490 - accuracy: 0.0000e+00 - categorical_accuracy: 0.8687 - precision: 0.8956 - recall: 0.8404 - val_loss: 0.5007 - val_accuracy: 0.0000e+00 - val_categorical_accuracy: 0.8633 - val_precision: 0.8735 - val_recall: 0.8503\n",
      "Epoch 5/5\n",
      "207/207 [==============================] - 8s 37ms/step - loss: 0.3949 - accuracy: 0.0000e+00 - categorical_accuracy: 0.8797 - precision: 0.9046 - recall: 0.8560 - val_loss: 0.4341 - val_accuracy: 0.0000e+00 - val_categorical_accuracy: 0.8701 - val_precision: 0.8971 - val_recall: 0.8537\n"
     ]
    },
    {
     "data": {
      "text/plain": [
       "<tensorflow.python.keras.callbacks.History at 0x7fed976630d0>"
      ]
     },
     "execution_count": 27,
     "metadata": {},
     "output_type": "execute_result"
    }
   ],
   "source": [
    "model_1.compile(optimizer='rmsprop',\n",
    "              loss='categorical_crossentropy',\n",
    "              metrics=[\n",
    "                  metrics.Accuracy(),\n",
    "                  metrics.categorical_accuracy,\n",
    "                  metrics.Precision(),\n",
    "                  metrics.Recall()\n",
    "              ])\n",
    "model_1.fit(X_train_normalized, y_train_one_hot, validation_data=(X_val, y_val), epochs=5, batch_size=64)"
   ]
  },
  {
   "cell_type": "markdown",
   "id": "intellectual-booth",
   "metadata": {},
   "source": [
    "#### Predictions\n",
    "Make class predictions using the model."
   ]
  },
  {
   "cell_type": "code",
   "execution_count": 28,
   "id": "naked-montana",
   "metadata": {},
   "outputs": [],
   "source": [
    "y_pred_train_cnn = model_1.predict(X_train_normalized)\n",
    "y_pred_cnn = model_1.predict(X_test_normalized)"
   ]
  },
  {
   "cell_type": "markdown",
   "id": "bottom-charleston",
   "metadata": {},
   "source": [
    "### Evaluate the Model"
   ]
  },
  {
   "cell_type": "code",
   "execution_count": 29,
   "id": "operating-leisure",
   "metadata": {},
   "outputs": [
    {
     "name": "stdout",
     "output_type": "stream",
     "text": [
      "              precision    recall  f1-score   support\n",
      "\n",
      "           0       0.00      0.00      0.00        53\n",
      "           1       0.00      0.00      0.00        58\n",
      "           2       0.88      0.18      0.30       296\n",
      "           3       0.00      0.00      0.00        10\n",
      "           4       0.00      0.00      0.00         9\n",
      "           5       0.89      0.95      0.92      2855\n",
      "           6       0.00      0.00      0.00        11\n",
      "           7       0.00      0.00      0.00        17\n",
      "           8       0.76      0.70      0.73      1289\n",
      "           9       0.00      0.00      0.00        27\n",
      "          10       0.82      0.94      0.88      2348\n",
      "          11       0.00      0.00      0.00        79\n",
      "          12       0.96      0.98      0.97      6108\n",
      "          13       0.00      0.00      0.00        12\n",
      "          14       0.00      0.00      0.00        50\n",
      "\n",
      "    accuracy                           0.90     13222\n",
      "   macro avg       0.29      0.25      0.25     13222\n",
      "weighted avg       0.88      0.90      0.88     13222\n",
      "\n"
     ]
    },
    {
     "name": "stderr",
     "output_type": "stream",
     "text": [
      "/Users/dave/anaconda3/envs/springboard/lib/python3.8/site-packages/sklearn/metrics/_classification.py:1245: UndefinedMetricWarning: Precision and F-score are ill-defined and being set to 0.0 in labels with no predicted samples. Use `zero_division` parameter to control this behavior.\n",
      "  _warn_prf(average, modifier, msg_start, len(result))\n",
      "/Users/dave/anaconda3/envs/springboard/lib/python3.8/site-packages/sklearn/metrics/_classification.py:1245: UndefinedMetricWarning: Precision and F-score are ill-defined and being set to 0.0 in labels with no predicted samples. Use `zero_division` parameter to control this behavior.\n",
      "  _warn_prf(average, modifier, msg_start, len(result))\n",
      "/Users/dave/anaconda3/envs/springboard/lib/python3.8/site-packages/sklearn/metrics/_classification.py:1245: UndefinedMetricWarning: Precision and F-score are ill-defined and being set to 0.0 in labels with no predicted samples. Use `zero_division` parameter to control this behavior.\n",
      "  _warn_prf(average, modifier, msg_start, len(result))\n"
     ]
    }
   ],
   "source": [
    "print(classification_report(np.argmax(y_train_one_hot, axis=1), np.argmax(y_pred_train_cnn, axis=1)))"
   ]
  },
  {
   "cell_type": "code",
   "execution_count": 30,
   "id": "aging-crossing",
   "metadata": {},
   "outputs": [
    {
     "name": "stdout",
     "output_type": "stream",
     "text": [
      "              precision    recall  f1-score   support\n",
      "\n",
      "           0       0.00      0.00      0.00        16\n",
      "           1       0.00      0.00      0.00        16\n",
      "           2       0.94      0.20      0.33        85\n",
      "           3       0.00      0.00      0.00         3\n",
      "           4       0.00      0.00      0.00         2\n",
      "           5       0.86      0.94      0.90       787\n",
      "           6       0.00      0.00      0.00         3\n",
      "           7       0.00      0.00      0.00         5\n",
      "           8       0.71      0.61      0.66       358\n",
      "           9       0.00      0.00      0.00         8\n",
      "          10       0.79      0.91      0.85       653\n",
      "          11       0.00      0.00      0.00        22\n",
      "          12       0.95      0.97      0.96      1697\n",
      "          13       0.00      0.00      0.00         4\n",
      "          14       0.00      0.00      0.00        14\n",
      "\n",
      "    accuracy                           0.88      3673\n",
      "   macro avg       0.28      0.24      0.25      3673\n",
      "weighted avg       0.85      0.88      0.86      3673\n",
      "\n"
     ]
    },
    {
     "name": "stderr",
     "output_type": "stream",
     "text": [
      "/Users/dave/anaconda3/envs/springboard/lib/python3.8/site-packages/sklearn/metrics/_classification.py:1245: UndefinedMetricWarning: Precision and F-score are ill-defined and being set to 0.0 in labels with no predicted samples. Use `zero_division` parameter to control this behavior.\n",
      "  _warn_prf(average, modifier, msg_start, len(result))\n",
      "/Users/dave/anaconda3/envs/springboard/lib/python3.8/site-packages/sklearn/metrics/_classification.py:1245: UndefinedMetricWarning: Precision and F-score are ill-defined and being set to 0.0 in labels with no predicted samples. Use `zero_division` parameter to control this behavior.\n",
      "  _warn_prf(average, modifier, msg_start, len(result))\n",
      "/Users/dave/anaconda3/envs/springboard/lib/python3.8/site-packages/sklearn/metrics/_classification.py:1245: UndefinedMetricWarning: Precision and F-score are ill-defined and being set to 0.0 in labels with no predicted samples. Use `zero_division` parameter to control this behavior.\n",
      "  _warn_prf(average, modifier, msg_start, len(result))\n"
     ]
    }
   ],
   "source": [
    "print(classification_report(np.argmax(y_test_one_hot, axis=1), np.argmax(y_pred_cnn, axis=1)))"
   ]
  },
  {
   "cell_type": "code",
   "execution_count": 34,
   "id": "weighted-sydney",
   "metadata": {},
   "outputs": [
    {
     "data": {
      "image/png": "[encoded data removed]",
      "text/plain": [
       "<Figure size 720x576 with 2 Axes>"
      ]
     },
     "metadata": {
      "needs_background": "light"
     },
     "output_type": "display_data"
    }
   ],
   "source": [
    "em.plot_confusion_matrix(y_test_one_hot, y_pred_cnn, label_encodings)"
   ]
  },
  {
   "cell_type": "markdown",
   "id": "beautiful-guide",
   "metadata": {},
   "source": [
    "### Train Model - Use Weighted Classes\n",
    "To counter the class imbalance, I will try weighting the classes by importance. More weight will be given to the classes with less representation."
   ]
  },
  {
   "cell_type": "code",
   "execution_count": 34,
   "id": "practical-madison",
   "metadata": {},
   "outputs": [],
   "source": [
    "class_weights = compute_class_weight('balanced', classes=np.unique(y_train_encoded), y=y_train_encoded)\n",
    "class_weights_dict = dict(enumerate(class_weights))"
   ]
  },
  {
   "cell_type": "code",
   "execution_count": 35,
   "id": "infinite-airfare",
   "metadata": {},
   "outputs": [
    {
     "data": {
      "text/plain": [
       "{0: 15.547089947089948,\n",
       " 1: 15.79784946236559,\n",
       " 2: 2.889282202556539,\n",
       " 3: 81.62222222222222,\n",
       " 4: 108.82962962962964,\n",
       " 5: 0.31094179894179896,\n",
       " 6: 81.62222222222222,\n",
       " 7: 46.64126984126984,\n",
       " 8: 0.6844630794316329,\n",
       " 9: 28.807843137254903,\n",
       " 10: 0.3745570427023582,\n",
       " 11: 11.25823754789272,\n",
       " 12: 0.14431511222435048,\n",
       " 13: 69.96190476190476,\n",
       " 14: 17.49047619047619}"
      ]
     },
     "execution_count": 35,
     "metadata": {},
     "output_type": "execute_result"
    }
   ],
   "source": [
    "class_weights_dict"
   ]
  },
  {
   "cell_type": "code",
   "execution_count": 61,
   "id": "soviet-panama",
   "metadata": {},
   "outputs": [
    {
     "name": "stdout",
     "output_type": "stream",
     "text": [
      "Epoch 1/50\n",
      "207/207 [==============================] - 9s 39ms/step - loss: 1.8020 - accuracy: 0.1277 - categorical_accuracy: 0.5448 - precision_6: 0.6567 - recall_6: 0.4738 - val_loss: 1.4460 - val_accuracy: 0.0449 - val_categorical_accuracy: 0.5184 - val_precision_6: 0.5551 - val_recall_6: 0.4150\n",
      "Epoch 2/50\n",
      "207/207 [==============================] - 8s 37ms/step - loss: 1.5095 - accuracy: 0.0653 - categorical_accuracy: 0.5301 - precision_6: 0.6135 - recall_6: 0.4453 - val_loss: 2.2519 - val_accuracy: 0.0188 - val_categorical_accuracy: 0.2993 - val_precision_6: 0.3896 - val_recall_6: 0.2293\n",
      "Epoch 3/50\n",
      "207/207 [==============================] - 8s 36ms/step - loss: 1.1898 - accuracy: 0.0614 - categorical_accuracy: 0.5391 - precision_6: 0.6478 - recall_6: 0.4557 - val_loss: 2.3854 - val_accuracy: 0.2735 - val_categorical_accuracy: 0.5803 - val_precision_6: 0.6427 - val_recall_6: 0.5422\n",
      "Epoch 4/50\n",
      "207/207 [==============================] - 8s 37ms/step - loss: 1.4693 - accuracy: 0.1109 - categorical_accuracy: 0.5374 - precision_6: 0.6298 - recall_6: 0.4640 - val_loss: 1.5095 - val_accuracy: 0.0848 - val_categorical_accuracy: 0.5361 - val_precision_6: 0.6561 - val_recall_6: 0.4517\n",
      "Epoch 5/50\n",
      "207/207 [==============================] - 8s 37ms/step - loss: 1.2384 - accuracy: 0.1101 - categorical_accuracy: 0.5561 - precision_6: 0.6424 - recall_6: 0.4858 - val_loss: 1.3116 - val_accuracy: 0.0586 - val_categorical_accuracy: 0.6224 - val_precision_6: 0.6752 - val_recall_6: 0.5558\n",
      "Epoch 6/50\n",
      "207/207 [==============================] - 8s 37ms/step - loss: 1.4491 - accuracy: 0.0814 - categorical_accuracy: 0.5547 - precision_6: 0.6358 - recall_6: 0.4856 - val_loss: 1.4991 - val_accuracy: 0.0954 - val_categorical_accuracy: 0.5544 - val_precision_6: 0.6244 - val_recall_6: 0.4952\n",
      "Epoch 7/50\n",
      "207/207 [==============================] - 8s 37ms/step - loss: 1.1590 - accuracy: 0.1110 - categorical_accuracy: 0.5554 - precision_6: 0.6400 - recall_6: 0.4874 - val_loss: 1.9091 - val_accuracy: 0.1697 - val_categorical_accuracy: 0.4932 - val_precision_6: 0.5247 - val_recall_6: 0.4415\n",
      "Epoch 8/50\n",
      "207/207 [==============================] - 8s 38ms/step - loss: 1.1609 - accuracy: 0.1168 - categorical_accuracy: 0.5807 - precision_6: 0.6419 - recall_6: 0.5243 - val_loss: 1.7813 - val_accuracy: 0.1226 - val_categorical_accuracy: 0.5020 - val_precision_6: 0.5933 - val_recall_6: 0.3959\n",
      "Epoch 9/50\n",
      "207/207 [==============================] - 8s 37ms/step - loss: 3.2081 - accuracy: 0.0968 - categorical_accuracy: 0.5307 - precision_6: 0.6106 - recall_6: 0.4542 - val_loss: 2.5557 - val_accuracy: 0.0306 - val_categorical_accuracy: 0.2143 - val_precision_6: 0.3316 - val_recall_6: 0.1694\n",
      "Epoch 10/50\n",
      "207/207 [==============================] - 8s 38ms/step - loss: 0.9259 - accuracy: 0.0915 - categorical_accuracy: 0.5407 - precision_6: 0.6398 - recall_6: 0.4728 - val_loss: 1.3582 - val_accuracy: 0.0678 - val_categorical_accuracy: 0.5497 - val_precision_6: 0.6619 - val_recall_6: 0.4381\n",
      "Epoch 11/50\n",
      "207/207 [==============================] - 9s 43ms/step - loss: 1.4361 - accuracy: 0.0734 - categorical_accuracy: 0.5706 - precision_6: 0.6496 - recall_6: 0.5043 - val_loss: 1.2282 - val_accuracy: 0.1054 - val_categorical_accuracy: 0.6673 - val_precision_6: 0.7379 - val_recall_6: 0.6014\n",
      "Epoch 12/50\n",
      "207/207 [==============================] - 9s 43ms/step - loss: 1.0905 - accuracy: 0.1186 - categorical_accuracy: 0.5993 - precision_6: 0.6727 - recall_6: 0.5380 - val_loss: 2.0852 - val_accuracy: 0.1107 - val_categorical_accuracy: 0.4102 - val_precision_6: 0.4739 - val_recall_6: 0.3701\n",
      "Epoch 13/50\n",
      "207/207 [==============================] - 8s 40ms/step - loss: 1.5772 - accuracy: 0.1045 - categorical_accuracy: 0.5522 - precision_6: 0.6603 - recall_6: 0.4705 - val_loss: 2.1356 - val_accuracy: 0.0421 - val_categorical_accuracy: 0.3537 - val_precision_6: 0.3747 - val_recall_6: 0.2524\n",
      "Epoch 14/50\n",
      "207/207 [==============================] - 9s 42ms/step - loss: 1.0344 - accuracy: 0.1005 - categorical_accuracy: 0.5773 - precision_6: 0.6484 - recall_6: 0.5113 - val_loss: 1.5246 - val_accuracy: 0.0898 - val_categorical_accuracy: 0.5857 - val_precision_6: 0.6433 - val_recall_6: 0.5238\n",
      "Epoch 15/50\n",
      "207/207 [==============================] - 9s 43ms/step - loss: 1.0511 - accuracy: 0.1267 - categorical_accuracy: 0.5805 - precision_6: 0.6610 - recall_6: 0.5164 - val_loss: 1.7540 - val_accuracy: 0.1249 - val_categorical_accuracy: 0.5442 - val_precision_6: 0.6198 - val_recall_6: 0.4803\n",
      "Epoch 16/50\n",
      "207/207 [==============================] - 8s 40ms/step - loss: 1.5536 - accuracy: 0.1055 - categorical_accuracy: 0.5075 - precision_6: 0.5882 - recall_6: 0.4265 - val_loss: 3.8727 - val_accuracy: 0.1786 - val_categorical_accuracy: 0.3170 - val_precision_6: 0.3807 - val_recall_6: 0.3082\n",
      "Epoch 17/50\n",
      "207/207 [==============================] - 8s 41ms/step - loss: 1.3767 - accuracy: 0.0919 - categorical_accuracy: 0.5193 - precision_6: 0.5913 - recall_6: 0.4654 - val_loss: 2.1395 - val_accuracy: 0.0773 - val_categorical_accuracy: 0.3578 - val_precision_6: 0.4946 - val_recall_6: 0.2823\n",
      "Epoch 18/50\n",
      "207/207 [==============================] - 9s 41ms/step - loss: 1.2806 - accuracy: 0.0869 - categorical_accuracy: 0.5344 - precision_6: 0.6326 - recall_6: 0.4654 - val_loss: 1.3190 - val_accuracy: 0.0930 - val_categorical_accuracy: 0.6007 - val_precision_6: 0.7119 - val_recall_6: 0.5279\n",
      "Epoch 19/50\n",
      "207/207 [==============================] - 8s 40ms/step - loss: 1.0022 - accuracy: 0.1181 - categorical_accuracy: 0.6262 - precision_6: 0.6955 - recall_6: 0.5570 - val_loss: 1.3996 - val_accuracy: 0.1100 - val_categorical_accuracy: 0.5946 - val_precision_6: 0.6599 - val_recall_6: 0.5122\n",
      "Epoch 20/50\n",
      "207/207 [==============================] - 8s 38ms/step - loss: 2.7465 - accuracy: 0.1226 - categorical_accuracy: 0.6052 - precision_6: 0.6714 - recall_6: 0.5452 - val_loss: 1.8827 - val_accuracy: 0.0414 - val_categorical_accuracy: 0.4020 - val_precision_6: 0.4733 - val_recall_6: 0.2714\n",
      "Epoch 21/50\n",
      "207/207 [==============================] - 9s 42ms/step - loss: 1.1408 - accuracy: 0.1101 - categorical_accuracy: 0.5749 - precision_6: 0.6529 - recall_6: 0.4982 - val_loss: 1.9200 - val_accuracy: 0.2251 - val_categorical_accuracy: 0.5932 - val_precision_6: 0.6411 - val_recall_6: 0.5639\n",
      "Epoch 22/50\n",
      "207/207 [==============================] - 8s 39ms/step - loss: 1.9115 - accuracy: 0.1138 - categorical_accuracy: 0.5454 - precision_6: 0.6243 - recall_6: 0.4776 - val_loss: 1.4153 - val_accuracy: 0.1736 - val_categorical_accuracy: 0.6313 - val_precision_6: 0.6882 - val_recall_6: 0.5871\n",
      "Epoch 23/50\n",
      "207/207 [==============================] - 9s 42ms/step - loss: 1.7928 - accuracy: 0.1501 - categorical_accuracy: 0.6016 - precision_6: 0.6781 - recall_6: 0.5378 - val_loss: 2.3478 - val_accuracy: 0.1961 - val_categorical_accuracy: 0.5224 - val_precision_6: 0.5927 - val_recall_6: 0.4762\n",
      "Epoch 24/50\n",
      "207/207 [==============================] - 8s 39ms/step - loss: 1.1500 - accuracy: 0.1391 - categorical_accuracy: 0.5960 - precision_6: 0.6796 - recall_6: 0.5368 - val_loss: 1.8051 - val_accuracy: 0.0515 - val_categorical_accuracy: 0.4721 - val_precision_6: 0.5931 - val_recall_6: 0.3272\n",
      "Epoch 25/50\n",
      "207/207 [==============================] - 8s 38ms/step - loss: 1.3121 - accuracy: 0.1098 - categorical_accuracy: 0.5848 - precision_6: 0.6818 - recall_6: 0.4839 - val_loss: 1.6596 - val_accuracy: 0.1237 - val_categorical_accuracy: 0.5503 - val_precision_6: 0.5878 - val_recall_6: 0.4442\n",
      "Epoch 26/50\n",
      "207/207 [==============================] - 8s 39ms/step - loss: 1.1480 - accuracy: 0.1626 - categorical_accuracy: 0.6283 - precision_6: 0.6916 - recall_6: 0.5612 - val_loss: 1.6476 - val_accuracy: 0.1568 - val_categorical_accuracy: 0.5435 - val_precision_6: 0.6483 - val_recall_6: 0.4653\n",
      "Epoch 27/50\n",
      "207/207 [==============================] - 8s 38ms/step - loss: 0.8502 - accuracy: 0.1632 - categorical_accuracy: 0.6405 - precision_6: 0.7050 - recall_6: 0.5758 - val_loss: 2.1080 - val_accuracy: 0.0603 - val_categorical_accuracy: 0.4395 - val_precision_6: 0.5019 - val_recall_6: 0.3687\n",
      "Epoch 28/50\n",
      "207/207 [==============================] - 8s 39ms/step - loss: 1.8625 - accuracy: 0.1113 - categorical_accuracy: 0.5894 - precision_6: 0.6589 - recall_6: 0.5260 - val_loss: 2.0415 - val_accuracy: 0.1166 - val_categorical_accuracy: 0.5041 - val_precision_6: 0.5773 - val_recall_6: 0.4320\n",
      "Epoch 29/50\n",
      "207/207 [==============================] - 8s 38ms/step - loss: 1.4951 - accuracy: 0.1109 - categorical_accuracy: 0.5425 - precision_6: 0.6062 - recall_6: 0.4565 - val_loss: 4.7036 - val_accuracy: 0.2005 - val_categorical_accuracy: 0.3517 - val_precision_6: 0.3765 - val_recall_6: 0.3381\n",
      "Epoch 30/50\n",
      "207/207 [==============================] - 8s 38ms/step - loss: 0.9971 - accuracy: 0.1382 - categorical_accuracy: 0.5993 - precision_6: 0.6637 - recall_6: 0.5305 - val_loss: 1.6596 - val_accuracy: 0.1409 - val_categorical_accuracy: 0.6259 - val_precision_6: 0.6807 - val_recall_6: 0.5701\n",
      "Epoch 31/50\n",
      "207/207 [==============================] - 8s 38ms/step - loss: 0.7459 - accuracy: 0.1615 - categorical_accuracy: 0.6256 - precision_6: 0.6830 - recall_6: 0.5633 - val_loss: 2.1022 - val_accuracy: 0.1406 - val_categorical_accuracy: 0.5204 - val_precision_6: 0.5735 - val_recall_6: 0.4592\n",
      "Epoch 32/50\n",
      "207/207 [==============================] - 9s 44ms/step - loss: 0.8052 - accuracy: 0.1485 - categorical_accuracy: 0.5925 - precision_6: 0.6612 - recall_6: 0.5229 - val_loss: 2.0689 - val_accuracy: 0.2083 - val_categorical_accuracy: 0.5163 - val_precision_6: 0.5593 - val_recall_6: 0.4490\n",
      "Epoch 33/50\n",
      "207/207 [==============================] - 9s 42ms/step - loss: 1.8192 - accuracy: 0.1593 - categorical_accuracy: 0.5964 - precision_6: 0.6672 - recall_6: 0.5360 - val_loss: 1.8646 - val_accuracy: 0.2226 - val_categorical_accuracy: 0.7259 - val_precision_6: 0.7909 - val_recall_6: 0.6769\n",
      "Epoch 34/50\n",
      "207/207 [==============================] - 9s 44ms/step - loss: 1.5341 - accuracy: 0.1919 - categorical_accuracy: 0.6242 - precision_6: 0.6917 - recall_6: 0.5680 - val_loss: 2.3673 - val_accuracy: 0.0924 - val_categorical_accuracy: 0.4333 - val_precision_6: 0.5024 - val_recall_6: 0.3612\n",
      "Epoch 35/50\n",
      "207/207 [==============================] - 9s 45ms/step - loss: 1.3961 - accuracy: 0.1282 - categorical_accuracy: 0.5396 - precision_6: 0.6235 - recall_6: 0.4570 - val_loss: 2.0091 - val_accuracy: 0.2353 - val_categorical_accuracy: 0.6197 - val_precision_6: 0.6725 - val_recall_6: 0.5531\n",
      "Epoch 36/50\n",
      "207/207 [==============================] - 9s 42ms/step - loss: 1.1759 - accuracy: 0.1585 - categorical_accuracy: 0.5966 - precision_6: 0.6691 - recall_6: 0.5202 - val_loss: 1.7107 - val_accuracy: 0.1171 - val_categorical_accuracy: 0.5844 - val_precision_6: 0.6691 - val_recall_6: 0.4925\n",
      "Epoch 37/50\n",
      "207/207 [==============================] - 8s 39ms/step - loss: 0.9343 - accuracy: 0.1453 - categorical_accuracy: 0.6042 - precision_6: 0.6919 - recall_6: 0.5265 - val_loss: 2.8938 - val_accuracy: 0.0859 - val_categorical_accuracy: 0.3435 - val_precision_6: 0.4121 - val_recall_6: 0.2680\n",
      "Epoch 38/50\n",
      "207/207 [==============================] - 8s 38ms/step - loss: 1.2869 - accuracy: 0.1105 - categorical_accuracy: 0.5349 - precision_6: 0.6157 - recall_6: 0.4353 - val_loss: 1.8204 - val_accuracy: 0.0843 - val_categorical_accuracy: 0.5129 - val_precision_6: 0.6496 - val_recall_6: 0.3544\n",
      "Epoch 39/50\n",
      "207/207 [==============================] - 8s 39ms/step - loss: 1.4505 - accuracy: 0.1243 - categorical_accuracy: 0.5510 - precision_6: 0.6681 - recall_6: 0.4495 - val_loss: 2.7088 - val_accuracy: 0.1773 - val_categorical_accuracy: 0.4578 - val_precision_6: 0.4906 - val_recall_6: 0.4095\n",
      "Epoch 40/50\n",
      "207/207 [==============================] - 8s 40ms/step - loss: 1.1185 - accuracy: 0.1545 - categorical_accuracy: 0.5710 - precision_6: 0.6619 - recall_6: 0.4941 - val_loss: 2.8918 - val_accuracy: 0.0434 - val_categorical_accuracy: 0.3170 - val_precision_6: 0.3427 - val_recall_6: 0.2497\n",
      "Epoch 41/50\n",
      "207/207 [==============================] - 8s 41ms/step - loss: 1.8827 - accuracy: 0.0849 - categorical_accuracy: 0.4497 - precision_6: 0.5541 - recall_6: 0.3667 - val_loss: 2.1398 - val_accuracy: 0.1072 - val_categorical_accuracy: 0.3823 - val_precision_6: 0.4346 - val_recall_6: 0.3211\n",
      "Epoch 42/50\n",
      "207/207 [==============================] - 8s 40ms/step - loss: 1.2042 - accuracy: 0.1093 - categorical_accuracy: 0.5465 - precision_6: 0.6233 - recall_6: 0.4677 - val_loss: 2.0754 - val_accuracy: 0.1146 - val_categorical_accuracy: 0.4864 - val_precision_6: 0.5615 - val_recall_6: 0.3946\n",
      "Epoch 43/50\n",
      "207/207 [==============================] - 8s 38ms/step - loss: 1.0912 - accuracy: 0.1493 - categorical_accuracy: 0.5648 - precision_6: 0.6492 - recall_6: 0.4775 - val_loss: 1.9499 - val_accuracy: 0.1388 - val_categorical_accuracy: 0.4279 - val_precision_6: 0.6088 - val_recall_6: 0.3653\n",
      "Epoch 44/50\n",
      "207/207 [==============================] - 8s 41ms/step - loss: 1.0980 - accuracy: 0.1507 - categorical_accuracy: 0.5683 - precision_6: 0.6483 - recall_6: 0.4856 - val_loss: 2.3168 - val_accuracy: 0.0935 - val_categorical_accuracy: 0.5435 - val_precision_6: 0.6510 - val_recall_6: 0.4517\n",
      "Epoch 45/50\n",
      "207/207 [==============================] - 8s 39ms/step - loss: 1.1514 - accuracy: 0.1329 - categorical_accuracy: 0.5967 - precision_6: 0.6829 - recall_6: 0.5096 - val_loss: 1.9191 - val_accuracy: 0.1443 - val_categorical_accuracy: 0.5442 - val_precision_6: 0.6323 - val_recall_6: 0.4422\n",
      "Epoch 46/50\n",
      "207/207 [==============================] - 8s 41ms/step - loss: 0.8486 - accuracy: 0.1296 - categorical_accuracy: 0.5613 - precision_6: 0.6323 - recall_6: 0.4770 - val_loss: 2.9336 - val_accuracy: 0.0298 - val_categorical_accuracy: 0.2449 - val_precision_6: 0.2429 - val_recall_6: 0.1463\n",
      "Epoch 47/50\n",
      "207/207 [==============================] - 8s 39ms/step - loss: 1.2846 - accuracy: 0.1151 - categorical_accuracy: 0.5109 - precision_6: 0.5802 - recall_6: 0.4389 - val_loss: 2.1882 - val_accuracy: 0.2305 - val_categorical_accuracy: 0.6544 - val_precision_6: 0.6858 - val_recall_6: 0.6190\n",
      "Epoch 48/50\n",
      "207/207 [==============================] - 8s 38ms/step - loss: 1.2201 - accuracy: 0.1535 - categorical_accuracy: 0.5605 - precision_6: 0.6379 - recall_6: 0.4813 - val_loss: 1.6875 - val_accuracy: 0.1279 - val_categorical_accuracy: 0.5959 - val_precision_6: 0.6675 - val_recall_6: 0.5327\n",
      "Epoch 49/50\n",
      "207/207 [==============================] - 10s 47ms/step - loss: 1.8551 - accuracy: 0.1281 - categorical_accuracy: 0.5754 - precision_6: 0.6331 - recall_6: 0.5098 - val_loss: 2.0708 - val_accuracy: 0.1274 - val_categorical_accuracy: 0.5435 - val_precision_6: 0.6046 - val_recall_6: 0.4327\n",
      "Epoch 50/50\n",
      "207/207 [==============================] - 8s 37ms/step - loss: 1.6159 - accuracy: 0.1418 - categorical_accuracy: 0.5924 - precision_6: 0.6713 - recall_6: 0.5217 - val_loss: 2.2872 - val_accuracy: 0.1286 - val_categorical_accuracy: 0.5782 - val_precision_6: 0.6381 - val_recall_6: 0.4918\n"
     ]
    }
   ],
   "source": [
    "model_1.compile(optimizer='rmsprop',\n",
    "                loss='categorical_crossentropy',\n",
    "                metrics=[\n",
    "                    metrics.Accuracy(),\n",
    "                    metrics.categorical_accuracy,\n",
    "                    metrics.Precision(),\n",
    "                    metrics.Recall()\n",
    "                ])\n",
    "history_1 = model_1.fit(X_train_normalized, y_train_one_hot, validation_data=(X_val, y_val), epochs=50, batch_size=64, class_weight=class_weights_dict)"
   ]
  },
  {
   "cell_type": "code",
   "execution_count": 62,
   "id": "criminal-garlic",
   "metadata": {},
   "outputs": [
    {
     "data": {
      "text/plain": [
       "dict_keys(['loss', 'accuracy', 'categorical_accuracy', 'precision_6', 'recall_6', 'val_loss', 'val_accuracy', 'val_categorical_accuracy', 'val_precision_6', 'val_recall_6'])"
      ]
     },
     "execution_count": 62,
     "metadata": {},
     "output_type": "execute_result"
    }
   ],
   "source": [
    "history_1.history.keys()"
   ]
  },
  {
   "cell_type": "code",
   "execution_count": 63,
   "id": "handled-guatemala",
   "metadata": {},
   "outputs": [],
   "source": [
    "df_history = pd.DataFrame(history_1.history)"
   ]
  },
  {
   "cell_type": "code",
   "execution_count": 64,
   "id": "responsible-auditor",
   "metadata": {},
   "outputs": [
    {
     "data": {
      "text/html": [
       "<div>\n",
       "<style scoped>\n",
       "    .dataframe tbody tr th:only-of-type {\n",
       "        vertical-align: middle;\n",
       "    }\n",
       "\n",
       "    .dataframe tbody tr th {\n",
       "        vertical-align: top;\n",
       "    }\n",
       "\n",
       "    .dataframe thead th {\n",
       "        text-align: right;\n",
       "    }\n",
       "</style>\n",
       "<table border=\"1\" class=\"dataframe\">\n",
       "  <thead>\n",
       "    <tr style=\"text-align: right;\">\n",
       "      <th></th>\n",
       "      <th>loss</th>\n",
       "      <th>accuracy</th>\n",
       "      <th>categorical_accuracy</th>\n",
       "      <th>precision_6</th>\n",
       "      <th>recall_6</th>\n",
       "      <th>val_loss</th>\n",
       "      <th>val_accuracy</th>\n",
       "      <th>val_categorical_accuracy</th>\n",
       "      <th>val_precision_6</th>\n",
       "      <th>val_recall_6</th>\n",
       "    </tr>\n",
       "  </thead>\n",
       "  <tbody>\n",
       "    <tr>\n",
       "      <th>0</th>\n",
       "      <td>1.440016</td>\n",
       "      <td>0.111178</td>\n",
       "      <td>0.535622</td>\n",
       "      <td>0.644868</td>\n",
       "      <td>0.455680</td>\n",
       "      <td>1.445958</td>\n",
       "      <td>0.044943</td>\n",
       "      <td>0.518367</td>\n",
       "      <td>0.555050</td>\n",
       "      <td>0.414966</td>\n",
       "    </tr>\n",
       "    <tr>\n",
       "      <th>1</th>\n",
       "      <td>1.662502</td>\n",
       "      <td>0.065179</td>\n",
       "      <td>0.507488</td>\n",
       "      <td>0.612390</td>\n",
       "      <td>0.422402</td>\n",
       "      <td>2.251933</td>\n",
       "      <td>0.018776</td>\n",
       "      <td>0.299320</td>\n",
       "      <td>0.389595</td>\n",
       "      <td>0.229252</td>\n",
       "    </tr>\n",
       "    <tr>\n",
       "      <th>2</th>\n",
       "      <td>1.345089</td>\n",
       "      <td>0.072949</td>\n",
       "      <td>0.535925</td>\n",
       "      <td>0.640009</td>\n",
       "      <td>0.455151</td>\n",
       "      <td>2.385419</td>\n",
       "      <td>0.273469</td>\n",
       "      <td>0.580272</td>\n",
       "      <td>0.642742</td>\n",
       "      <td>0.542177</td>\n",
       "    </tr>\n",
       "    <tr>\n",
       "      <th>3</th>\n",
       "      <td>1.380207</td>\n",
       "      <td>0.090586</td>\n",
       "      <td>0.541068</td>\n",
       "      <td>0.636181</td>\n",
       "      <td>0.456134</td>\n",
       "      <td>1.509519</td>\n",
       "      <td>0.084807</td>\n",
       "      <td>0.536054</td>\n",
       "      <td>0.656126</td>\n",
       "      <td>0.451701</td>\n",
       "    </tr>\n",
       "    <tr>\n",
       "      <th>4</th>\n",
       "      <td>1.196923</td>\n",
       "      <td>0.099607</td>\n",
       "      <td>0.556724</td>\n",
       "      <td>0.643582</td>\n",
       "      <td>0.484269</td>\n",
       "      <td>1.311600</td>\n",
       "      <td>0.058594</td>\n",
       "      <td>0.622449</td>\n",
       "      <td>0.675207</td>\n",
       "      <td>0.555782</td>\n",
       "    </tr>\n",
       "    <tr>\n",
       "      <th>5</th>\n",
       "      <td>1.275322</td>\n",
       "      <td>0.090153</td>\n",
       "      <td>0.539782</td>\n",
       "      <td>0.635699</td>\n",
       "      <td>0.466798</td>\n",
       "      <td>1.499098</td>\n",
       "      <td>0.095420</td>\n",
       "      <td>0.554422</td>\n",
       "      <td>0.624357</td>\n",
       "      <td>0.495238</td>\n",
       "    </tr>\n",
       "    <tr>\n",
       "      <th>6</th>\n",
       "      <td>1.295833</td>\n",
       "      <td>0.097575</td>\n",
       "      <td>0.557858</td>\n",
       "      <td>0.633483</td>\n",
       "      <td>0.491378</td>\n",
       "      <td>1.909061</td>\n",
       "      <td>0.169660</td>\n",
       "      <td>0.493197</td>\n",
       "      <td>0.524656</td>\n",
       "      <td>0.441497</td>\n",
       "    </tr>\n",
       "    <tr>\n",
       "      <th>7</th>\n",
       "      <td>1.222507</td>\n",
       "      <td>0.097363</td>\n",
       "      <td>0.551581</td>\n",
       "      <td>0.627246</td>\n",
       "      <td>0.485781</td>\n",
       "      <td>1.781273</td>\n",
       "      <td>0.122630</td>\n",
       "      <td>0.502041</td>\n",
       "      <td>0.593272</td>\n",
       "      <td>0.395918</td>\n",
       "    </tr>\n",
       "    <tr>\n",
       "      <th>8</th>\n",
       "      <td>2.708006</td>\n",
       "      <td>0.089875</td>\n",
       "      <td>0.528362</td>\n",
       "      <td>0.612778</td>\n",
       "      <td>0.454092</td>\n",
       "      <td>2.555656</td>\n",
       "      <td>0.030567</td>\n",
       "      <td>0.214286</td>\n",
       "      <td>0.331558</td>\n",
       "      <td>0.169388</td>\n",
       "    </tr>\n",
       "    <tr>\n",
       "      <th>9</th>\n",
       "      <td>0.973682</td>\n",
       "      <td>0.098417</td>\n",
       "      <td>0.562925</td>\n",
       "      <td>0.653126</td>\n",
       "      <td>0.498563</td>\n",
       "      <td>1.358215</td>\n",
       "      <td>0.067755</td>\n",
       "      <td>0.549660</td>\n",
       "      <td>0.661870</td>\n",
       "      <td>0.438095</td>\n",
       "    </tr>\n",
       "    <tr>\n",
       "      <th>10</th>\n",
       "      <td>1.417898</td>\n",
       "      <td>0.091005</td>\n",
       "      <td>0.578808</td>\n",
       "      <td>0.657699</td>\n",
       "      <td>0.513992</td>\n",
       "      <td>1.228160</td>\n",
       "      <td>0.105351</td>\n",
       "      <td>0.667347</td>\n",
       "      <td>0.737897</td>\n",
       "      <td>0.601361</td>\n",
       "    </tr>\n",
       "    <tr>\n",
       "      <th>11</th>\n",
       "      <td>1.188870</td>\n",
       "      <td>0.105118</td>\n",
       "      <td>0.575178</td>\n",
       "      <td>0.656033</td>\n",
       "      <td>0.500832</td>\n",
       "      <td>2.085162</td>\n",
       "      <td>0.110703</td>\n",
       "      <td>0.410204</td>\n",
       "      <td>0.473868</td>\n",
       "      <td>0.370068</td>\n",
       "    </tr>\n",
       "    <tr>\n",
       "      <th>12</th>\n",
       "      <td>1.463589</td>\n",
       "      <td>0.100141</td>\n",
       "      <td>0.527303</td>\n",
       "      <td>0.627714</td>\n",
       "      <td>0.446075</td>\n",
       "      <td>2.135599</td>\n",
       "      <td>0.042132</td>\n",
       "      <td>0.353741</td>\n",
       "      <td>0.374747</td>\n",
       "      <td>0.252381</td>\n",
       "    </tr>\n",
       "    <tr>\n",
       "      <th>13</th>\n",
       "      <td>1.190855</td>\n",
       "      <td>0.097378</td>\n",
       "      <td>0.569657</td>\n",
       "      <td>0.641801</td>\n",
       "      <td>0.502345</td>\n",
       "      <td>1.524592</td>\n",
       "      <td>0.089841</td>\n",
       "      <td>0.585714</td>\n",
       "      <td>0.643275</td>\n",
       "      <td>0.523810</td>\n",
       "    </tr>\n",
       "    <tr>\n",
       "      <th>14</th>\n",
       "      <td>1.182735</td>\n",
       "      <td>0.127157</td>\n",
       "      <td>0.567236</td>\n",
       "      <td>0.650010</td>\n",
       "      <td>0.498790</td>\n",
       "      <td>1.754008</td>\n",
       "      <td>0.124898</td>\n",
       "      <td>0.544218</td>\n",
       "      <td>0.619842</td>\n",
       "      <td>0.480272</td>\n",
       "    </tr>\n",
       "    <tr>\n",
       "      <th>15</th>\n",
       "      <td>1.371186</td>\n",
       "      <td>0.119679</td>\n",
       "      <td>0.558161</td>\n",
       "      <td>0.644015</td>\n",
       "      <td>0.480941</td>\n",
       "      <td>3.872684</td>\n",
       "      <td>0.178594</td>\n",
       "      <td>0.317007</td>\n",
       "      <td>0.380672</td>\n",
       "      <td>0.308163</td>\n",
       "    </tr>\n",
       "    <tr>\n",
       "      <th>16</th>\n",
       "      <td>1.303463</td>\n",
       "      <td>0.114083</td>\n",
       "      <td>0.581228</td>\n",
       "      <td>0.659663</td>\n",
       "      <td>0.524807</td>\n",
       "      <td>2.139528</td>\n",
       "      <td>0.077324</td>\n",
       "      <td>0.357823</td>\n",
       "      <td>0.494636</td>\n",
       "      <td>0.282313</td>\n",
       "    </tr>\n",
       "    <tr>\n",
       "      <th>17</th>\n",
       "      <td>1.552382</td>\n",
       "      <td>0.085010</td>\n",
       "      <td>0.541824</td>\n",
       "      <td>0.632497</td>\n",
       "      <td>0.468991</td>\n",
       "      <td>1.318977</td>\n",
       "      <td>0.093016</td>\n",
       "      <td>0.600680</td>\n",
       "      <td>0.711927</td>\n",
       "      <td>0.527891</td>\n",
       "    </tr>\n",
       "    <tr>\n",
       "      <th>18</th>\n",
       "      <td>0.991663</td>\n",
       "      <td>0.118147</td>\n",
       "      <td>0.599758</td>\n",
       "      <td>0.668437</td>\n",
       "      <td>0.533202</td>\n",
       "      <td>1.399553</td>\n",
       "      <td>0.109977</td>\n",
       "      <td>0.594558</td>\n",
       "      <td>0.659947</td>\n",
       "      <td>0.512245</td>\n",
       "    </tr>\n",
       "    <tr>\n",
       "      <th>19</th>\n",
       "      <td>3.153564</td>\n",
       "      <td>0.127812</td>\n",
       "      <td>0.604523</td>\n",
       "      <td>0.673097</td>\n",
       "      <td>0.540992</td>\n",
       "      <td>1.882684</td>\n",
       "      <td>0.041406</td>\n",
       "      <td>0.402041</td>\n",
       "      <td>0.473310</td>\n",
       "      <td>0.271429</td>\n",
       "    </tr>\n",
       "    <tr>\n",
       "      <th>20</th>\n",
       "      <td>1.082838</td>\n",
       "      <td>0.127580</td>\n",
       "      <td>0.600363</td>\n",
       "      <td>0.676254</td>\n",
       "      <td>0.535244</td>\n",
       "      <td>1.919977</td>\n",
       "      <td>0.225125</td>\n",
       "      <td>0.593197</td>\n",
       "      <td>0.641145</td>\n",
       "      <td>0.563946</td>\n",
       "    </tr>\n",
       "    <tr>\n",
       "      <th>21</th>\n",
       "      <td>1.275328</td>\n",
       "      <td>0.103368</td>\n",
       "      <td>0.563909</td>\n",
       "      <td>0.639676</td>\n",
       "      <td>0.489941</td>\n",
       "      <td>1.415251</td>\n",
       "      <td>0.173560</td>\n",
       "      <td>0.631293</td>\n",
       "      <td>0.688198</td>\n",
       "      <td>0.587075</td>\n",
       "    </tr>\n",
       "    <tr>\n",
       "      <th>22</th>\n",
       "      <td>1.685925</td>\n",
       "      <td>0.146544</td>\n",
       "      <td>0.582741</td>\n",
       "      <td>0.668932</td>\n",
       "      <td>0.506277</td>\n",
       "      <td>2.347786</td>\n",
       "      <td>0.196100</td>\n",
       "      <td>0.522449</td>\n",
       "      <td>0.592718</td>\n",
       "      <td>0.476190</td>\n",
       "    </tr>\n",
       "    <tr>\n",
       "      <th>23</th>\n",
       "      <td>1.343656</td>\n",
       "      <td>0.130459</td>\n",
       "      <td>0.584178</td>\n",
       "      <td>0.664742</td>\n",
       "      <td>0.522311</td>\n",
       "      <td>1.805068</td>\n",
       "      <td>0.051519</td>\n",
       "      <td>0.472109</td>\n",
       "      <td>0.593095</td>\n",
       "      <td>0.327211</td>\n",
       "    </tr>\n",
       "    <tr>\n",
       "      <th>24</th>\n",
       "      <td>1.101471</td>\n",
       "      <td>0.128861</td>\n",
       "      <td>0.585464</td>\n",
       "      <td>0.667571</td>\n",
       "      <td>0.502420</td>\n",
       "      <td>1.659647</td>\n",
       "      <td>0.123673</td>\n",
       "      <td>0.550340</td>\n",
       "      <td>0.587759</td>\n",
       "      <td>0.444218</td>\n",
       "    </tr>\n",
       "    <tr>\n",
       "      <th>25</th>\n",
       "      <td>1.733052</td>\n",
       "      <td>0.160742</td>\n",
       "      <td>0.593783</td>\n",
       "      <td>0.662407</td>\n",
       "      <td>0.525337</td>\n",
       "      <td>1.647593</td>\n",
       "      <td>0.156780</td>\n",
       "      <td>0.543537</td>\n",
       "      <td>0.648341</td>\n",
       "      <td>0.465306</td>\n",
       "    </tr>\n",
       "    <tr>\n",
       "      <th>26</th>\n",
       "      <td>1.003547</td>\n",
       "      <td>0.142454</td>\n",
       "      <td>0.617531</td>\n",
       "      <td>0.675117</td>\n",
       "      <td>0.555892</td>\n",
       "      <td>2.107998</td>\n",
       "      <td>0.060317</td>\n",
       "      <td>0.439456</td>\n",
       "      <td>0.501852</td>\n",
       "      <td>0.368707</td>\n",
       "    </tr>\n",
       "    <tr>\n",
       "      <th>27</th>\n",
       "      <td>1.765119</td>\n",
       "      <td>0.129380</td>\n",
       "      <td>0.609968</td>\n",
       "      <td>0.674680</td>\n",
       "      <td>0.549766</td>\n",
       "      <td>2.041492</td>\n",
       "      <td>0.116599</td>\n",
       "      <td>0.504082</td>\n",
       "      <td>0.577273</td>\n",
       "      <td>0.431973</td>\n",
       "    </tr>\n",
       "    <tr>\n",
       "      <th>28</th>\n",
       "      <td>1.243478</td>\n",
       "      <td>0.115923</td>\n",
       "      <td>0.587506</td>\n",
       "      <td>0.650906</td>\n",
       "      <td>0.508093</td>\n",
       "      <td>4.703592</td>\n",
       "      <td>0.200544</td>\n",
       "      <td>0.351701</td>\n",
       "      <td>0.376515</td>\n",
       "      <td>0.338095</td>\n",
       "    </tr>\n",
       "    <tr>\n",
       "      <th>29</th>\n",
       "      <td>1.185392</td>\n",
       "      <td>0.127147</td>\n",
       "      <td>0.615262</td>\n",
       "      <td>0.682213</td>\n",
       "      <td>0.539858</td>\n",
       "      <td>1.659561</td>\n",
       "      <td>0.140862</td>\n",
       "      <td>0.625850</td>\n",
       "      <td>0.680747</td>\n",
       "      <td>0.570068</td>\n",
       "    </tr>\n",
       "    <tr>\n",
       "      <th>30</th>\n",
       "      <td>0.927305</td>\n",
       "      <td>0.163515</td>\n",
       "      <td>0.613069</td>\n",
       "      <td>0.670504</td>\n",
       "      <td>0.550673</td>\n",
       "      <td>2.102195</td>\n",
       "      <td>0.140590</td>\n",
       "      <td>0.520408</td>\n",
       "      <td>0.573492</td>\n",
       "      <td>0.459184</td>\n",
       "    </tr>\n",
       "    <tr>\n",
       "      <th>31</th>\n",
       "      <td>0.880074</td>\n",
       "      <td>0.145954</td>\n",
       "      <td>0.585615</td>\n",
       "      <td>0.656685</td>\n",
       "      <td>0.514143</td>\n",
       "      <td>2.068925</td>\n",
       "      <td>0.208345</td>\n",
       "      <td>0.516327</td>\n",
       "      <td>0.559322</td>\n",
       "      <td>0.448980</td>\n",
       "    </tr>\n",
       "    <tr>\n",
       "      <th>32</th>\n",
       "      <td>1.596912</td>\n",
       "      <td>0.148061</td>\n",
       "      <td>0.590985</td>\n",
       "      <td>0.666571</td>\n",
       "      <td>0.524353</td>\n",
       "      <td>1.864646</td>\n",
       "      <td>0.222630</td>\n",
       "      <td>0.725850</td>\n",
       "      <td>0.790938</td>\n",
       "      <td>0.676871</td>\n",
       "    </tr>\n",
       "    <tr>\n",
       "      <th>33</th>\n",
       "      <td>1.897971</td>\n",
       "      <td>0.176549</td>\n",
       "      <td>0.582060</td>\n",
       "      <td>0.648011</td>\n",
       "      <td>0.523673</td>\n",
       "      <td>2.367292</td>\n",
       "      <td>0.092381</td>\n",
       "      <td>0.433333</td>\n",
       "      <td>0.502365</td>\n",
       "      <td>0.361225</td>\n",
       "    </tr>\n",
       "    <tr>\n",
       "      <th>34</th>\n",
       "      <td>1.312260</td>\n",
       "      <td>0.118797</td>\n",
       "      <td>0.537589</td>\n",
       "      <td>0.614486</td>\n",
       "      <td>0.449781</td>\n",
       "      <td>2.009056</td>\n",
       "      <td>0.235283</td>\n",
       "      <td>0.619728</td>\n",
       "      <td>0.672457</td>\n",
       "      <td>0.553061</td>\n",
       "    </tr>\n",
       "    <tr>\n",
       "      <th>35</th>\n",
       "      <td>1.315273</td>\n",
       "      <td>0.142449</td>\n",
       "      <td>0.565043</td>\n",
       "      <td>0.645563</td>\n",
       "      <td>0.485857</td>\n",
       "      <td>1.710692</td>\n",
       "      <td>0.117143</td>\n",
       "      <td>0.584354</td>\n",
       "      <td>0.669131</td>\n",
       "      <td>0.492517</td>\n",
       "    </tr>\n",
       "    <tr>\n",
       "      <th>36</th>\n",
       "      <td>1.042883</td>\n",
       "      <td>0.148344</td>\n",
       "      <td>0.583422</td>\n",
       "      <td>0.664637</td>\n",
       "      <td>0.503630</td>\n",
       "      <td>2.893841</td>\n",
       "      <td>0.085850</td>\n",
       "      <td>0.343537</td>\n",
       "      <td>0.412134</td>\n",
       "      <td>0.268027</td>\n",
       "    </tr>\n",
       "    <tr>\n",
       "      <th>37</th>\n",
       "      <td>1.411635</td>\n",
       "      <td>0.101845</td>\n",
       "      <td>0.518152</td>\n",
       "      <td>0.606718</td>\n",
       "      <td>0.412570</td>\n",
       "      <td>1.820399</td>\n",
       "      <td>0.084263</td>\n",
       "      <td>0.512925</td>\n",
       "      <td>0.649626</td>\n",
       "      <td>0.354422</td>\n",
       "    </tr>\n",
       "    <tr>\n",
       "      <th>38</th>\n",
       "      <td>1.426545</td>\n",
       "      <td>0.131493</td>\n",
       "      <td>0.546135</td>\n",
       "      <td>0.657425</td>\n",
       "      <td>0.448344</td>\n",
       "      <td>2.708796</td>\n",
       "      <td>0.177324</td>\n",
       "      <td>0.457823</td>\n",
       "      <td>0.490628</td>\n",
       "      <td>0.409524</td>\n",
       "    </tr>\n",
       "    <tr>\n",
       "      <th>39</th>\n",
       "      <td>1.311868</td>\n",
       "      <td>0.136283</td>\n",
       "      <td>0.547421</td>\n",
       "      <td>0.652239</td>\n",
       "      <td>0.459310</td>\n",
       "      <td>2.891792</td>\n",
       "      <td>0.043356</td>\n",
       "      <td>0.317007</td>\n",
       "      <td>0.342670</td>\n",
       "      <td>0.249660</td>\n",
       "    </tr>\n",
       "    <tr>\n",
       "      <th>40</th>\n",
       "      <td>2.452065</td>\n",
       "      <td>0.107533</td>\n",
       "      <td>0.475193</td>\n",
       "      <td>0.578316</td>\n",
       "      <td>0.393738</td>\n",
       "      <td>2.139756</td>\n",
       "      <td>0.107166</td>\n",
       "      <td>0.382313</td>\n",
       "      <td>0.434622</td>\n",
       "      <td>0.321088</td>\n",
       "    </tr>\n",
       "    <tr>\n",
       "      <th>41</th>\n",
       "      <td>1.197405</td>\n",
       "      <td>0.117547</td>\n",
       "      <td>0.543639</td>\n",
       "      <td>0.624615</td>\n",
       "      <td>0.460596</td>\n",
       "      <td>2.075432</td>\n",
       "      <td>0.114558</td>\n",
       "      <td>0.486395</td>\n",
       "      <td>0.561471</td>\n",
       "      <td>0.394558</td>\n",
       "    </tr>\n",
       "    <tr>\n",
       "      <th>42</th>\n",
       "      <td>1.389314</td>\n",
       "      <td>0.137216</td>\n",
       "      <td>0.541370</td>\n",
       "      <td>0.635596</td>\n",
       "      <td>0.449705</td>\n",
       "      <td>1.949867</td>\n",
       "      <td>0.138776</td>\n",
       "      <td>0.427891</td>\n",
       "      <td>0.608844</td>\n",
       "      <td>0.365306</td>\n",
       "    </tr>\n",
       "    <tr>\n",
       "      <th>43</th>\n",
       "      <td>1.309676</td>\n",
       "      <td>0.156819</td>\n",
       "      <td>0.575253</td>\n",
       "      <td>0.643682</td>\n",
       "      <td>0.497731</td>\n",
       "      <td>2.316802</td>\n",
       "      <td>0.093469</td>\n",
       "      <td>0.543537</td>\n",
       "      <td>0.650980</td>\n",
       "      <td>0.451701</td>\n",
       "    </tr>\n",
       "    <tr>\n",
       "      <th>44</th>\n",
       "      <td>1.357872</td>\n",
       "      <td>0.142485</td>\n",
       "      <td>0.574800</td>\n",
       "      <td>0.652703</td>\n",
       "      <td>0.483134</td>\n",
       "      <td>1.919092</td>\n",
       "      <td>0.144263</td>\n",
       "      <td>0.544218</td>\n",
       "      <td>0.632296</td>\n",
       "      <td>0.442177</td>\n",
       "    </tr>\n",
       "    <tr>\n",
       "      <th>45</th>\n",
       "      <td>1.143423</td>\n",
       "      <td>0.146821</td>\n",
       "      <td>0.560581</td>\n",
       "      <td>0.635720</td>\n",
       "      <td>0.482151</td>\n",
       "      <td>2.933583</td>\n",
       "      <td>0.029796</td>\n",
       "      <td>0.244898</td>\n",
       "      <td>0.242938</td>\n",
       "      <td>0.146259</td>\n",
       "    </tr>\n",
       "    <tr>\n",
       "      <th>46</th>\n",
       "      <td>1.300286</td>\n",
       "      <td>0.126577</td>\n",
       "      <td>0.530177</td>\n",
       "      <td>0.611412</td>\n",
       "      <td>0.452201</td>\n",
       "      <td>2.188210</td>\n",
       "      <td>0.230522</td>\n",
       "      <td>0.654422</td>\n",
       "      <td>0.685757</td>\n",
       "      <td>0.619048</td>\n",
       "    </tr>\n",
       "    <tr>\n",
       "      <th>47</th>\n",
       "      <td>1.087389</td>\n",
       "      <td>0.149166</td>\n",
       "      <td>0.565119</td>\n",
       "      <td>0.636570</td>\n",
       "      <td>0.488428</td>\n",
       "      <td>1.687536</td>\n",
       "      <td>0.127891</td>\n",
       "      <td>0.595918</td>\n",
       "      <td>0.667519</td>\n",
       "      <td>0.532653</td>\n",
       "    </tr>\n",
       "    <tr>\n",
       "      <th>48</th>\n",
       "      <td>1.531787</td>\n",
       "      <td>0.119785</td>\n",
       "      <td>0.579186</td>\n",
       "      <td>0.645105</td>\n",
       "      <td>0.500832</td>\n",
       "      <td>2.070835</td>\n",
       "      <td>0.127392</td>\n",
       "      <td>0.543537</td>\n",
       "      <td>0.604563</td>\n",
       "      <td>0.432653</td>\n",
       "    </tr>\n",
       "    <tr>\n",
       "      <th>49</th>\n",
       "      <td>1.252676</td>\n",
       "      <td>0.138839</td>\n",
       "      <td>0.588565</td>\n",
       "      <td>0.669704</td>\n",
       "      <td>0.511420</td>\n",
       "      <td>2.287191</td>\n",
       "      <td>0.128571</td>\n",
       "      <td>0.578231</td>\n",
       "      <td>0.638129</td>\n",
       "      <td>0.491837</td>\n",
       "    </tr>\n",
       "  </tbody>\n",
       "</table>\n",
       "</div>"
      ],
      "text/plain": [
       "        loss  accuracy  categorical_accuracy  precision_6  recall_6  val_loss  \\\n",
       "0   1.440016  0.111178              0.535622     0.644868  0.455680  1.445958   \n",
       "1   1.662502  0.065179              0.507488     0.612390  0.422402  2.251933   \n",
       "2   1.345089  0.072949              0.535925     0.640009  0.455151  2.385419   \n",
       "3   1.380207  0.090586              0.541068     0.636181  0.456134  1.509519   \n",
       "4   1.196923  0.099607              0.556724     0.643582  0.484269  1.311600   \n",
       "5   1.275322  0.090153              0.539782     0.635699  0.466798  1.499098   \n",
       "6   1.295833  0.097575              0.557858     0.633483  0.491378  1.909061   \n",
       "7   1.222507  0.097363              0.551581     0.627246  0.485781  1.781273   \n",
       "8   2.708006  0.089875              0.528362     0.612778  0.454092  2.555656   \n",
       "9   0.973682  0.098417              0.562925     0.653126  0.498563  1.358215   \n",
       "10  1.417898  0.091005              0.578808     0.657699  0.513992  1.228160   \n",
       "11  1.188870  0.105118              0.575178     0.656033  0.500832  2.085162   \n",
       "12  1.463589  0.100141              0.527303     0.627714  0.446075  2.135599   \n",
       "13  1.190855  0.097378              0.569657     0.641801  0.502345  1.524592   \n",
       "14  1.182735  0.127157              0.567236     0.650010  0.498790  1.754008   \n",
       "15  1.371186  0.119679              0.558161     0.644015  0.480941  3.872684   \n",
       "16  1.303463  0.114083              0.581228     0.659663  0.524807  2.139528   \n",
       "17  1.552382  0.085010              0.541824     0.632497  0.468991  1.318977   \n",
       "18  0.991663  0.118147              0.599758     0.668437  0.533202  1.399553   \n",
       "19  3.153564  0.127812              0.604523     0.673097  0.540992  1.882684   \n",
       "20  1.082838  0.127580              0.600363     0.676254  0.535244  1.919977   \n",
       "21  1.275328  0.103368              0.563909     0.639676  0.489941  1.415251   \n",
       "22  1.685925  0.146544              0.582741     0.668932  0.506277  2.347786   \n",
       "23  1.343656  0.130459              0.584178     0.664742  0.522311  1.805068   \n",
       "24  1.101471  0.128861              0.585464     0.667571  0.502420  1.659647   \n",
       "25  1.733052  0.160742              0.593783     0.662407  0.525337  1.647593   \n",
       "26  1.003547  0.142454              0.617531     0.675117  0.555892  2.107998   \n",
       "27  1.765119  0.129380              0.609968     0.674680  0.549766  2.041492   \n",
       "28  1.243478  0.115923              0.587506     0.650906  0.508093  4.703592   \n",
       "29  1.185392  0.127147              0.615262     0.682213  0.539858  1.659561   \n",
       "30  0.927305  0.163515              0.613069     0.670504  0.550673  2.102195   \n",
       "31  0.880074  0.145954              0.585615     0.656685  0.514143  2.068925   \n",
       "32  1.596912  0.148061              0.590985     0.666571  0.524353  1.864646   \n",
       "33  1.897971  0.176549              0.582060     0.648011  0.523673  2.367292   \n",
       "34  1.312260  0.118797              0.537589     0.614486  0.449781  2.009056   \n",
       "35  1.315273  0.142449              0.565043     0.645563  0.485857  1.710692   \n",
       "36  1.042883  0.148344              0.583422     0.664637  0.503630  2.893841   \n",
       "37  1.411635  0.101845              0.518152     0.606718  0.412570  1.820399   \n",
       "38  1.426545  0.131493              0.546135     0.657425  0.448344  2.708796   \n",
       "39  1.311868  0.136283              0.547421     0.652239  0.459310  2.891792   \n",
       "40  2.452065  0.107533              0.475193     0.578316  0.393738  2.139756   \n",
       "41  1.197405  0.117547              0.543639     0.624615  0.460596  2.075432   \n",
       "42  1.389314  0.137216              0.541370     0.635596  0.449705  1.949867   \n",
       "43  1.309676  0.156819              0.575253     0.643682  0.497731  2.316802   \n",
       "44  1.357872  0.142485              0.574800     0.652703  0.483134  1.919092   \n",
       "45  1.143423  0.146821              0.560581     0.635720  0.482151  2.933583   \n",
       "46  1.300286  0.126577              0.530177     0.611412  0.452201  2.188210   \n",
       "47  1.087389  0.149166              0.565119     0.636570  0.488428  1.687536   \n",
       "48  1.531787  0.119785              0.579186     0.645105  0.500832  2.070835   \n",
       "49  1.252676  0.138839              0.588565     0.669704  0.511420  2.287191   \n",
       "\n",
       "    val_accuracy  val_categorical_accuracy  val_precision_6  val_recall_6  \n",
       "0       0.044943                  0.518367         0.555050      0.414966  \n",
       "1       0.018776                  0.299320         0.389595      0.229252  \n",
       "2       0.273469                  0.580272         0.642742      0.542177  \n",
       "3       0.084807                  0.536054         0.656126      0.451701  \n",
       "4       0.058594                  0.622449         0.675207      0.555782  \n",
       "5       0.095420                  0.554422         0.624357      0.495238  \n",
       "6       0.169660                  0.493197         0.524656      0.441497  \n",
       "7       0.122630                  0.502041         0.593272      0.395918  \n",
       "8       0.030567                  0.214286         0.331558      0.169388  \n",
       "9       0.067755                  0.549660         0.661870      0.438095  \n",
       "10      0.105351                  0.667347         0.737897      0.601361  \n",
       "11      0.110703                  0.410204         0.473868      0.370068  \n",
       "12      0.042132                  0.353741         0.374747      0.252381  \n",
       "13      0.089841                  0.585714         0.643275      0.523810  \n",
       "14      0.124898                  0.544218         0.619842      0.480272  \n",
       "15      0.178594                  0.317007         0.380672      0.308163  \n",
       "16      0.077324                  0.357823         0.494636      0.282313  \n",
       "17      0.093016                  0.600680         0.711927      0.527891  \n",
       "18      0.109977                  0.594558         0.659947      0.512245  \n",
       "19      0.041406                  0.402041         0.473310      0.271429  \n",
       "20      0.225125                  0.593197         0.641145      0.563946  \n",
       "21      0.173560                  0.631293         0.688198      0.587075  \n",
       "22      0.196100                  0.522449         0.592718      0.476190  \n",
       "23      0.051519                  0.472109         0.593095      0.327211  \n",
       "24      0.123673                  0.550340         0.587759      0.444218  \n",
       "25      0.156780                  0.543537         0.648341      0.465306  \n",
       "26      0.060317                  0.439456         0.501852      0.368707  \n",
       "27      0.116599                  0.504082         0.577273      0.431973  \n",
       "28      0.200544                  0.351701         0.376515      0.338095  \n",
       "29      0.140862                  0.625850         0.680747      0.570068  \n",
       "30      0.140590                  0.520408         0.573492      0.459184  \n",
       "31      0.208345                  0.516327         0.559322      0.448980  \n",
       "32      0.222630                  0.725850         0.790938      0.676871  \n",
       "33      0.092381                  0.433333         0.502365      0.361225  \n",
       "34      0.235283                  0.619728         0.672457      0.553061  \n",
       "35      0.117143                  0.584354         0.669131      0.492517  \n",
       "36      0.085850                  0.343537         0.412134      0.268027  \n",
       "37      0.084263                  0.512925         0.649626      0.354422  \n",
       "38      0.177324                  0.457823         0.490628      0.409524  \n",
       "39      0.043356                  0.317007         0.342670      0.249660  \n",
       "40      0.107166                  0.382313         0.434622      0.321088  \n",
       "41      0.114558                  0.486395         0.561471      0.394558  \n",
       "42      0.138776                  0.427891         0.608844      0.365306  \n",
       "43      0.093469                  0.543537         0.650980      0.451701  \n",
       "44      0.144263                  0.544218         0.632296      0.442177  \n",
       "45      0.029796                  0.244898         0.242938      0.146259  \n",
       "46      0.230522                  0.654422         0.685757      0.619048  \n",
       "47      0.127891                  0.595918         0.667519      0.532653  \n",
       "48      0.127392                  0.543537         0.604563      0.432653  \n",
       "49      0.128571                  0.578231         0.638129      0.491837  "
      ]
     },
     "execution_count": 64,
     "metadata": {},
     "output_type": "execute_result"
    }
   ],
   "source": [
    "df_history"
   ]
  },
  {
   "cell_type": "code",
   "execution_count": 65,
   "id": "median-procedure",
   "metadata": {},
   "outputs": [
    {
     "data": {
      "image/png": "[encoded data removed]",
      "text/plain": [
       "<Figure size 432x288 with 1 Axes>"
      ]
     },
     "metadata": {
      "needs_background": "light"
     },
     "output_type": "display_data"
    }
   ],
   "source": [
    "df_history.loc[:, ['categorical_accuracy', 'val_categorical_accuracy']].plot.line()\n",
    "plt.title('Categorical Accuracy')\n",
    "plt.show()"
   ]
  },
  {
   "cell_type": "code",
   "execution_count": 66,
   "id": "conventional-corrections",
   "metadata": {},
   "outputs": [
    {
     "data": {
      "image/png": "[encoded data removed]",
      "text/plain": [
       "<Figure size 432x288 with 1 Axes>"
      ]
     },
     "metadata": {
      "needs_background": "light"
     },
     "output_type": "display_data"
    }
   ],
   "source": [
    "df_history.loc[:, ['loss', 'val_loss']].plot.line()\n",
    "plt.title('Loss')\n",
    "plt.show()"
   ]
  },
  {
   "cell_type": "code",
   "execution_count": 67,
   "id": "international-cooling",
   "metadata": {},
   "outputs": [
    {
     "data": {
      "image/png": "[encoded data removed]",
      "text/plain": [
       "<Figure size 432x288 with 1 Axes>"
      ]
     },
     "metadata": {
      "needs_background": "light"
     },
     "output_type": "display_data"
    }
   ],
   "source": [
    "g = sns.lineplot(data=df_history.loc[:, ['loss', 'val_loss']])\n",
    "g.set_xticks(df_history.index)\n",
    "g.set_xticklabels(df_history.index)\n",
    "plt.show()"
   ]
  },
  {
   "cell_type": "code",
   "execution_count": null,
   "id": "unique-hunter",
   "metadata": {},
   "outputs": [],
   "source": []
  }
 ],
 "metadata": {
  "kernelspec": {
   "display_name": "Python 3",
   "language": "python",
   "name": "python3"
  },
  "language_info": {
   "codemirror_mode": {
    "name": "ipython",
    "version": 3
   },
   "file_extension": ".py",
   "mimetype": "text/x-python",
   "name": "python",
   "nbconvert_exporter": "python",
   "pygments_lexer": "ipython3",
   "version": "3.8.8"
  }
 },
 "nbformat": 4,
 "nbformat_minor": 5
}
