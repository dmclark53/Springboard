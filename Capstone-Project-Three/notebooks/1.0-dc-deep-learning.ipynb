{
 "cells": [
  {
   "cell_type": "markdown",
   "id": "assisted-westminster",
   "metadata": {},
   "source": [
    "# Deep Learning Model: Convolutional Neural Network\n",
    "## Business Problem\n",
    "Leukemia is a type of cancer of the blood that often affects young people. In the past, pathologists would diagnose patients by eye after examining blood smear images under the microscope. But, this is time consuming and tedious. Advances in image recognition technology have come a long ways since their inception. Therefore, automated solutions using computers would be of great benefit to the medical community to aid in cancer diagnoses.\n",
    "\n",
    "The goal of this project is to address the following question: How can the doctor’s at the Munich University Hospital automate the diagnosis of patients with leukemia using images from blood smears?\n",
    "\n",
    "**Overall Plan:**\n",
    "1. Create CNN on unbalanced data.\n",
    "2. Create CNN with weighted classes.\n",
    "3. Create CNN using focul loss.\n",
    "\n",
    "**Plan:**\n",
    "1. Use Keras to create network.\n",
    "2. Define CNN architecture.\n",
    "3. Train model on unbalanced data.\n",
    "4. Evaluate performance."
   ]
  },
  {
   "cell_type": "code",
   "execution_count": 1,
   "id": "worse-orchestra",
   "metadata": {},
   "outputs": [],
   "source": [
    "import sys\n",
    "sys.path.append('..')\n",
    "from time import time\n",
    "\n",
    "from keras import layers\n",
    "from keras import metrics\n",
    "from keras import models\n",
    "from keras.utils import to_categorical\n",
    "import numpy as np\n",
    "import pandas as pd\n",
    "from sklearn.metrics import classification_report\n",
    "\n",
    "from src.data_setup import make_dataset as md"
   ]
  },
  {
   "cell_type": "markdown",
   "id": "worth-vatican",
   "metadata": {},
   "source": [
    "## Load Data\n",
    "Load the pickled training and test data."
   ]
  },
  {
   "cell_type": "code",
   "execution_count": 2,
   "id": "rocky-medicaid",
   "metadata": {},
   "outputs": [],
   "source": [
    "X_train, X_test, y_train, y_test = md.load_train_test()"
   ]
  },
  {
   "cell_type": "code",
   "execution_count": 3,
   "id": "major-adelaide",
   "metadata": {},
   "outputs": [
    {
     "data": {
      "text/plain": [
       "(123195, 2304)"
      ]
     },
     "execution_count": 3,
     "metadata": {},
     "output_type": "execute_result"
    }
   ],
   "source": [
    "X_train.shape"
   ]
  },
  {
   "cell_type": "markdown",
   "id": "major-maryland",
   "metadata": {},
   "source": [
    "## Data Preparation\n",
    "### Unflatten\n",
    "Unflatten the feature arrays, converting them back into arrays of 2-dimensional images."
   ]
  },
  {
   "cell_type": "code",
   "execution_count": 4,
   "id": "becoming-province",
   "metadata": {},
   "outputs": [],
   "source": [
    "def unflatten(X):\n",
    "    dimension = int(np.sqrt(X.shape[1]))\n",
    "    return X.reshape((len(X), dimension, dimension, 1))"
   ]
  },
  {
   "cell_type": "code",
   "execution_count": 5,
   "id": "fitting-hygiene",
   "metadata": {},
   "outputs": [
    {
     "data": {
      "text/plain": [
       "(123195, 48, 48, 1)"
      ]
     },
     "execution_count": 5,
     "metadata": {},
     "output_type": "execute_result"
    }
   ],
   "source": [
    "X_train_unflatten = unflatten(X_train)\n",
    "X_train_unflatten.shape"
   ]
  },
  {
   "cell_type": "code",
   "execution_count": 6,
   "id": "suited-virgin",
   "metadata": {},
   "outputs": [
    {
     "data": {
      "text/plain": [
       "(3673, 48, 48, 1)"
      ]
     },
     "execution_count": 6,
     "metadata": {},
     "output_type": "execute_result"
    }
   ],
   "source": [
    "X_test_unflatten = unflatten(X_test)\n",
    "X_test_unflatten.shape"
   ]
  },
  {
   "cell_type": "markdown",
   "id": "buried-attribute",
   "metadata": {},
   "source": [
    "### Normalize\n",
    "Normalize the features, to values between 0 and 1."
   ]
  },
  {
   "cell_type": "code",
   "execution_count": 7,
   "id": "paperback-collection",
   "metadata": {},
   "outputs": [
    {
     "name": "stdout",
     "output_type": "stream",
     "text": [
      "The maximum value for the training set is 255.\n",
      "The maximum value for the test set is 255.\n"
     ]
    }
   ],
   "source": [
    "print(f'The maximum value for the training set is {X_train_unflatten.max()}.')\n",
    "print(f'The maximum value for the test set is {X_test_unflatten.max()}.')"
   ]
  },
  {
   "cell_type": "code",
   "execution_count": 8,
   "id": "heard-dream",
   "metadata": {},
   "outputs": [],
   "source": [
    "X_train_normalized = X_train_unflatten / X_train_unflatten.max()\n",
    "X_test_normalized = X_test_unflatten / X_test_unflatten.max()"
   ]
  },
  {
   "cell_type": "code",
   "execution_count": 9,
   "id": "desperate-concert",
   "metadata": {},
   "outputs": [
    {
     "name": "stdout",
     "output_type": "stream",
     "text": [
      "The maximum value for the normalized training set is 1.0.\n",
      "The maximum value for the normalized test set is 1.0.\n"
     ]
    }
   ],
   "source": [
    "print(f'The maximum value for the normalized training set is {X_train_normalized.max()}.')\n",
    "print(f'The maximum value for the normalized test set is {X_test_normalized.max()}.')"
   ]
  },
  {
   "cell_type": "markdown",
   "id": "integrated-plane",
   "metadata": {},
   "source": [
    "### Categories\n",
    "First, encode the labels to integer values."
   ]
  },
  {
   "cell_type": "code",
   "execution_count": 10,
   "id": "compact-remainder",
   "metadata": {},
   "outputs": [],
   "source": [
    "label_encodings = {value: i for i, value in enumerate(np.unique(y_train))}"
   ]
  },
  {
   "cell_type": "code",
   "execution_count": 11,
   "id": "stone-saskatchewan",
   "metadata": {},
   "outputs": [
    {
     "data": {
      "text/plain": [
       "{'BAS': 0,\n",
       " 'EBO': 1,\n",
       " 'EOS': 2,\n",
       " 'KSC': 3,\n",
       " 'LYA': 4,\n",
       " 'LYT': 5,\n",
       " 'MMZ': 6,\n",
       " 'MOB': 7,\n",
       " 'MON': 8,\n",
       " 'MYB': 9,\n",
       " 'MYO': 10,\n",
       " 'NGB': 11,\n",
       " 'NGS': 12,\n",
       " 'PMB': 13,\n",
       " 'PMO': 14}"
      ]
     },
     "execution_count": 11,
     "metadata": {},
     "output_type": "execute_result"
    }
   ],
   "source": [
    "label_encodings"
   ]
  },
  {
   "cell_type": "code",
   "execution_count": 12,
   "id": "polish-midwest",
   "metadata": {},
   "outputs": [],
   "source": [
    "y_train = pd.Series(y_train).replace(label_encodings).values\n",
    "y_test = pd.Series(y_test).replace(label_encodings).values"
   ]
  },
  {
   "cell_type": "code",
   "execution_count": 13,
   "id": "stopped-premiere",
   "metadata": {},
   "outputs": [
    {
     "data": {
      "text/plain": [
       "array([ 0,  1,  2,  3,  4,  5,  6,  7,  8,  9, 10, 11, 12, 13, 14])"
      ]
     },
     "execution_count": 13,
     "metadata": {},
     "output_type": "execute_result"
    }
   ],
   "source": [
    "np.unique(y_train)"
   ]
  },
  {
   "cell_type": "code",
   "execution_count": 14,
   "id": "tender-withdrawal",
   "metadata": {},
   "outputs": [
    {
     "data": {
      "text/plain": [
       "array([ 0,  1,  2,  3,  4,  5,  6,  7,  8,  9, 10, 11, 12, 13, 14])"
      ]
     },
     "execution_count": 14,
     "metadata": {},
     "output_type": "execute_result"
    }
   ],
   "source": [
    "np.unique(y_test)"
   ]
  },
  {
   "cell_type": "markdown",
   "id": "valid-fruit",
   "metadata": {},
   "source": [
    "Second, encode the integer labels as one-hot vectors."
   ]
  },
  {
   "cell_type": "code",
   "execution_count": 15,
   "id": "appreciated-elizabeth",
   "metadata": {},
   "outputs": [],
   "source": [
    "y_train = to_categorical(y_train)\n",
    "y_test = to_categorical(y_test)"
   ]
  },
  {
   "cell_type": "code",
   "execution_count": 16,
   "id": "conservative-mountain",
   "metadata": {},
   "outputs": [
    {
     "data": {
      "text/plain": [
       "(123195, 15)"
      ]
     },
     "execution_count": 16,
     "metadata": {},
     "output_type": "execute_result"
    }
   ],
   "source": [
    "y_train.shape"
   ]
  },
  {
   "cell_type": "code",
   "execution_count": 17,
   "id": "cathedral-lincoln",
   "metadata": {},
   "outputs": [
    {
     "data": {
      "text/plain": [
       "array([[0., 0., 0., 0., 0., 0., 0., 0., 0., 0., 0., 0., 1., 0., 0.],\n",
       "       [0., 0., 0., 0., 0., 0., 0., 0., 0., 0., 0., 0., 1., 0., 0.],\n",
       "       [0., 0., 0., 0., 0., 0., 0., 0., 0., 0., 0., 0., 1., 0., 0.],\n",
       "       [0., 0., 0., 0., 0., 0., 0., 0., 0., 0., 1., 0., 0., 0., 0.],\n",
       "       [0., 0., 0., 0., 0., 0., 0., 0., 0., 0., 0., 0., 1., 0., 0.]],\n",
       "      dtype=float32)"
      ]
     },
     "execution_count": 17,
     "metadata": {},
     "output_type": "execute_result"
    }
   ],
   "source": [
    "y_train[0:5, :]"
   ]
  },
  {
   "cell_type": "code",
   "execution_count": 18,
   "id": "cellular-robinson",
   "metadata": {},
   "outputs": [
    {
     "data": {
      "text/plain": [
       "(3673, 15)"
      ]
     },
     "execution_count": 18,
     "metadata": {},
     "output_type": "execute_result"
    }
   ],
   "source": [
    "y_test.shape"
   ]
  },
  {
   "cell_type": "code",
   "execution_count": 19,
   "id": "sapphire-winner",
   "metadata": {},
   "outputs": [
    {
     "data": {
      "text/plain": [
       "array([[0., 0., 0., 0., 0., 0., 0., 0., 0., 0., 0., 0., 1., 0., 0.],\n",
       "       [0., 0., 0., 0., 0., 1., 0., 0., 0., 0., 0., 0., 0., 0., 0.],\n",
       "       [0., 0., 0., 0., 0., 0., 0., 0., 0., 0., 1., 0., 0., 0., 0.],\n",
       "       [0., 0., 0., 0., 0., 0., 0., 0., 0., 0., 0., 0., 1., 0., 0.],\n",
       "       [0., 0., 0., 0., 0., 0., 0., 0., 0., 0., 0., 0., 1., 0., 0.]],\n",
       "      dtype=float32)"
      ]
     },
     "execution_count": 19,
     "metadata": {},
     "output_type": "execute_result"
    }
   ],
   "source": [
    "y_test[0:5, :]"
   ]
  },
  {
   "cell_type": "markdown",
   "id": "liked-asthma",
   "metadata": {},
   "source": [
    "## Define Model"
   ]
  },
  {
   "cell_type": "code",
   "execution_count": 20,
   "id": "quiet-alaska",
   "metadata": {},
   "outputs": [
    {
     "name": "stdout",
     "output_type": "stream",
     "text": [
      "The input shape is (48, 48, 1).\n"
     ]
    }
   ],
   "source": [
    "input_shape = X_train_unflatten.shape[1:]\n",
    "print(f'The input shape is {input_shape}.')"
   ]
  },
  {
   "cell_type": "code",
   "execution_count": 21,
   "id": "employed-harassment",
   "metadata": {},
   "outputs": [],
   "source": [
    "model_1 = models.Sequential([\n",
    "    layers.Conv2D(8, kernel_size=(3, 3), activation='relu', padding='same', input_shape=input_shape),\n",
    "    layers.MaxPooling2D(pool_size=(2, 2), strides=2),\n",
    "    layers.Conv2D(16, kernel_size=(7, 7), activation='relu'),\n",
    "    layers.MaxPooling2D(pool_size=(2, 2), strides=2),\n",
    "    layers.Flatten(),\n",
    "    layers.Dense(600, activation='relu'),\n",
    "    layers.Dense(150, activation='relu'),\n",
    "    layers.Dense(38, activation='relu'),\n",
    "    layers.Dense(15, activation='softmax')\n",
    "])"
   ]
  },
  {
   "cell_type": "markdown",
   "id": "german-participant",
   "metadata": {},
   "source": [
    "## Train Model"
   ]
  },
  {
   "cell_type": "code",
   "execution_count": 22,
   "id": "chinese-reward",
   "metadata": {},
   "outputs": [
    {
     "name": "stdout",
     "output_type": "stream",
     "text": [
      "Epoch 1/5\n",
      "1925/1925 [==============================] - 74s 38ms/step - loss: 1.0037 - accuracy: 3.0939e-05 - categorical_accuracy: 0.6678 - precision: 0.8566 - recall: 0.5673\n",
      "Epoch 2/5\n",
      "1925/1925 [==============================] - 74s 39ms/step - loss: 0.0675 - accuracy: 0.0021 - categorical_accuracy: 0.9783 - precision: 0.9801 - recall: 0.9765\n",
      "Epoch 3/5\n",
      "1925/1925 [==============================] - 74s 39ms/step - loss: 0.0316 - accuracy: 0.0195 - categorical_accuracy: 0.9906 - precision: 0.9911 - recall: 0.9902\n",
      "Epoch 4/5\n",
      "1925/1925 [==============================] - 77s 40ms/step - loss: 0.0216 - accuracy: 0.0488 - categorical_accuracy: 0.9940 - precision: 0.9942 - recall: 0.9937\n",
      "Epoch 5/5\n",
      "1925/1925 [==============================] - 77s 40ms/step - loss: 0.0182 - accuracy: 0.0855 - categorical_accuracy: 0.9950 - precision: 0.9952 - recall: 0.9950\n"
     ]
    },
    {
     "data": {
      "text/plain": [
       "<tensorflow.python.keras.callbacks.History at 0x7fe92f3bbfa0>"
      ]
     },
     "execution_count": 22,
     "metadata": {},
     "output_type": "execute_result"
    }
   ],
   "source": [
    "model_1.compile(optimizer='rmsprop',\n",
    "              loss='categorical_crossentropy',\n",
    "              metrics=[\n",
    "                  metrics.Accuracy(),\n",
    "                  metrics.categorical_accuracy,\n",
    "                  metrics.Precision(),\n",
    "                  metrics.Recall()\n",
    "              ])\n",
    "model_1.fit(X_train_normalized, y_train, epochs=5, batch_size=64)"
   ]
  },
  {
   "cell_type": "markdown",
   "id": "inner-experiment",
   "metadata": {},
   "source": [
    "### Predictions\n",
    "Make class predictions using the model."
   ]
  },
  {
   "cell_type": "code",
   "execution_count": 23,
   "id": "ranging-denmark",
   "metadata": {},
   "outputs": [],
   "source": [
    "y_pred_train_cnn = model_1.predict(X_train_normalized)\n",
    "y_pred_cnn = model_1.predict(X_test_normalized)"
   ]
  },
  {
   "cell_type": "markdown",
   "id": "broadband-carolina",
   "metadata": {},
   "source": [
    "## Evaluate the Model"
   ]
  },
  {
   "cell_type": "code",
   "execution_count": 24,
   "id": "british-preservation",
   "metadata": {},
   "outputs": [
    {
     "name": "stdout",
     "output_type": "stream",
     "text": [
      "              precision    recall  f1-score   support\n",
      "\n",
      "           0       1.00      1.00      1.00      8213\n",
      "           1       1.00      1.00      1.00      8213\n",
      "           2       1.00      1.00      1.00      8213\n",
      "           3       1.00      1.00      1.00      8213\n",
      "           4       1.00      1.00      1.00      8213\n",
      "           5       1.00      0.98      0.99      8213\n",
      "           6       1.00      1.00      1.00      8213\n",
      "           7       1.00      1.00      1.00      8213\n",
      "           8       1.00      0.99      0.99      8213\n",
      "           9       1.00      1.00      1.00      8213\n",
      "          10       0.97      1.00      0.99      8213\n",
      "          11       1.00      1.00      1.00      8213\n",
      "          12       0.99      0.99      0.99      8213\n",
      "          13       1.00      1.00      1.00      8213\n",
      "          14       1.00      1.00      1.00      8213\n",
      "\n",
      "    accuracy                           1.00    123195\n",
      "   macro avg       1.00      1.00      1.00    123195\n",
      "weighted avg       1.00      1.00      1.00    123195\n",
      "\n"
     ]
    }
   ],
   "source": [
    "print(classification_report(np.argmax(y_train, axis=1), np.argmax(y_pred_train_cnn, axis=1)))"
   ]
  },
  {
   "cell_type": "code",
   "execution_count": 25,
   "id": "parallel-seeking",
   "metadata": {},
   "outputs": [
    {
     "name": "stdout",
     "output_type": "stream",
     "text": [
      "              precision    recall  f1-score   support\n",
      "\n",
      "           0       0.00      0.00      0.00        16\n",
      "           1       0.56      0.31      0.40        16\n",
      "           2       0.59      0.31      0.40        85\n",
      "           3       0.00      0.00      0.00         3\n",
      "           4       0.00      0.00      0.00         2\n",
      "           5       0.91      0.87      0.89       787\n",
      "           6       0.00      0.00      0.00         3\n",
      "           7       0.00      0.00      0.00         5\n",
      "           8       0.70      0.58      0.63       358\n",
      "           9       0.00      0.00      0.00         8\n",
      "          10       0.77      0.90      0.83       653\n",
      "          11       0.00      0.00      0.00        22\n",
      "          12       0.93      0.97      0.95      1697\n",
      "          13       0.00      0.00      0.00         4\n",
      "          14       0.19      0.21      0.20        14\n",
      "\n",
      "    accuracy                           0.86      3673\n",
      "   macro avg       0.31      0.28      0.29      3673\n",
      "weighted avg       0.85      0.86      0.85      3673\n",
      "\n"
     ]
    },
    {
     "name": "stderr",
     "output_type": "stream",
     "text": [
      "/Users/dave/anaconda3/envs/springboard/lib/python3.8/site-packages/sklearn/metrics/_classification.py:1245: UndefinedMetricWarning: Precision and F-score are ill-defined and being set to 0.0 in labels with no predicted samples. Use `zero_division` parameter to control this behavior.\n",
      "  _warn_prf(average, modifier, msg_start, len(result))\n",
      "/Users/dave/anaconda3/envs/springboard/lib/python3.8/site-packages/sklearn/metrics/_classification.py:1245: UndefinedMetricWarning: Precision and F-score are ill-defined and being set to 0.0 in labels with no predicted samples. Use `zero_division` parameter to control this behavior.\n",
      "  _warn_prf(average, modifier, msg_start, len(result))\n",
      "/Users/dave/anaconda3/envs/springboard/lib/python3.8/site-packages/sklearn/metrics/_classification.py:1245: UndefinedMetricWarning: Precision and F-score are ill-defined and being set to 0.0 in labels with no predicted samples. Use `zero_division` parameter to control this behavior.\n",
      "  _warn_prf(average, modifier, msg_start, len(result))\n"
     ]
    }
   ],
   "source": [
    "print(classification_report(np.argmax(y_test, axis=1), np.argmax(y_pred_cnn, axis=1)))"
   ]
  },
  {
   "cell_type": "code",
   "execution_count": null,
   "id": "recent-ceramic",
   "metadata": {},
   "outputs": [],
   "source": []
  }
 ],
 "metadata": {
  "kernelspec": {
   "display_name": "Python 3",
   "language": "python",
   "name": "python3"
  },
  "language_info": {
   "codemirror_mode": {
    "name": "ipython",
    "version": 3
   },
   "file_extension": ".py",
   "mimetype": "text/x-python",
   "name": "python",
   "nbconvert_exporter": "python",
   "pygments_lexer": "ipython3",
   "version": "3.8.8"
  }
 },
 "nbformat": 4,
 "nbformat_minor": 5
}
