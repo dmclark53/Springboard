{
 "cells": [
  {
   "cell_type": "markdown",
   "id": "honey-stick",
   "metadata": {},
   "source": [
    "# Deep Learning Model: Convolutional Neural Network\n",
    "## Business Problem\n",
    "Leukemia is a type of cancer of the blood that often affects young people. In the past, pathologists would diagnose patients by eye after examining blood smear images under the microscope. But, this is time consuming and tedious. Advances in image recognition technology have come a long ways since their inception. Therefore, automated solutions using computers would be of great benefit to the medical community to aid in cancer diagnoses.\n",
    "\n",
    "The goal of this project is to address the following question: How can the doctor’s at the Munich University Hospital automate the diagnosis of patients with leukemia using images from blood smears?\n",
    "\n",
    "**Overall Plan:**\n",
    "1. Create CNN on unbalanced data.\n",
    "2. Create CNN with weighted classes.\n",
    "3. Create CNN using focal loss.\n",
    "\n",
    "**Plan:**\n",
    "1. Use Keras to create network.\n",
    "2. Define CNN architecture.\n",
    "3. Train model on unbalanced data.\n",
    "4. Evaluate performance."
   ]
  },
  {
   "cell_type": "code",
   "execution_count": 1,
   "id": "ahead-merchandise",
   "metadata": {},
   "outputs": [],
   "source": [
    "import sys\n",
    "sys.path.append('..')\n",
    "from time import time\n",
    "\n",
    "from keras import layers\n",
    "from keras import metrics\n",
    "from keras import models\n",
    "from keras.utils import to_categorical\n",
    "import matplotlib.pyplot as plt\n",
    "import numpy as np\n",
    "import pandas as pd\n",
    "import seaborn as sns\n",
    "from sklearn.metrics import classification_report\n",
    "from sklearn.model_selection import train_test_split\n",
    "from sklearn.metrics import confusion_matrix\n",
    "from sklearn.utils.class_weight import compute_class_weight\n",
    "\n",
    "from src.data_setup import make_dataset as md\n",
    "from src.modeling import evaluate_model as em\n",
    "\n",
    "%matplotlib inline"
   ]
  },
  {
   "cell_type": "markdown",
   "id": "falling-virus",
   "metadata": {},
   "source": [
    "## Load Data\n",
    "Load the pickled training and test data."
   ]
  },
  {
   "cell_type": "code",
   "execution_count": 2,
   "id": "technical-dryer",
   "metadata": {},
   "outputs": [],
   "source": [
    "X_train, X_test, y_train, y_test = md.load_train_test('gray_rescale12')"
   ]
  },
  {
   "cell_type": "code",
   "execution_count": 3,
   "id": "generic-length",
   "metadata": {},
   "outputs": [
    {
     "data": {
      "text/plain": [
       "(14692, 2304)"
      ]
     },
     "execution_count": 3,
     "metadata": {},
     "output_type": "execute_result"
    }
   ],
   "source": [
    "X_train.shape"
   ]
  },
  {
   "cell_type": "code",
   "execution_count": 4,
   "id": "thermal-hello",
   "metadata": {},
   "outputs": [
    {
     "data": {
      "text/plain": [
       "NGS    6787\n",
       "LYT    3150\n",
       "MYO    2615\n",
       "MON    1431\n",
       "EOS     339\n",
       "NGB      87\n",
       "BAS      63\n",
       "EBO      62\n",
       "PMO      56\n",
       "MYB      34\n",
       "MOB      21\n",
       "PMB      14\n",
       "MMZ      12\n",
       "KSC      12\n",
       "LYA       9\n",
       "dtype: int64"
      ]
     },
     "execution_count": 4,
     "metadata": {},
     "output_type": "execute_result"
    }
   ],
   "source": [
    "pd.Series(y_train).value_counts()"
   ]
  },
  {
   "cell_type": "code",
   "execution_count": 5,
   "id": "naval-charge",
   "metadata": {},
   "outputs": [
    {
     "data": {
      "text/plain": [
       "NGS    1697\n",
       "LYT     787\n",
       "MYO     653\n",
       "MON     358\n",
       "EOS      85\n",
       "NGB      22\n",
       "EBO      16\n",
       "BAS      16\n",
       "PMO      14\n",
       "MYB       8\n",
       "MOB       5\n",
       "PMB       4\n",
       "MMZ       3\n",
       "KSC       3\n",
       "LYA       2\n",
       "dtype: int64"
      ]
     },
     "execution_count": 5,
     "metadata": {},
     "output_type": "execute_result"
    }
   ],
   "source": [
    "pd.Series(y_test).value_counts()"
   ]
  },
  {
   "cell_type": "markdown",
   "id": "outside-slovenia",
   "metadata": {},
   "source": [
    "## Data Preparation\n",
    "### Unflatten\n",
    "Unflatten the feature arrays, converting them back into arrays of 2-dimensional images."
   ]
  },
  {
   "cell_type": "code",
   "execution_count": 6,
   "id": "covered-breast",
   "metadata": {},
   "outputs": [],
   "source": [
    "def unflatten(X):\n",
    "    dimension = int(np.sqrt(X.shape[1]))\n",
    "    return X.reshape((len(X), dimension, dimension, 1))"
   ]
  },
  {
   "cell_type": "code",
   "execution_count": 7,
   "id": "comprehensive-check",
   "metadata": {},
   "outputs": [
    {
     "data": {
      "text/plain": [
       "(14692, 48, 48, 1)"
      ]
     },
     "execution_count": 7,
     "metadata": {},
     "output_type": "execute_result"
    }
   ],
   "source": [
    "X_train_unflatten = unflatten(X_train)\n",
    "X_train_unflatten.shape"
   ]
  },
  {
   "cell_type": "code",
   "execution_count": 8,
   "id": "based-temperature",
   "metadata": {},
   "outputs": [
    {
     "data": {
      "text/plain": [
       "(3673, 48, 48, 1)"
      ]
     },
     "execution_count": 8,
     "metadata": {},
     "output_type": "execute_result"
    }
   ],
   "source": [
    "X_test_unflatten = unflatten(X_test)\n",
    "X_test_unflatten.shape"
   ]
  },
  {
   "cell_type": "markdown",
   "id": "blind-spectacular",
   "metadata": {},
   "source": [
    "### Normalize\n",
    "Normalize the features, to values between 0 and 1."
   ]
  },
  {
   "cell_type": "code",
   "execution_count": 9,
   "id": "disciplinary-breath",
   "metadata": {},
   "outputs": [
    {
     "name": "stdout",
     "output_type": "stream",
     "text": [
      "The maximum value for the training set is 255.\n",
      "The maximum value for the test set is 255.\n"
     ]
    }
   ],
   "source": [
    "print(f'The maximum value for the training set is {X_train_unflatten.max()}.')\n",
    "print(f'The maximum value for the test set is {X_test_unflatten.max()}.')"
   ]
  },
  {
   "cell_type": "code",
   "execution_count": 10,
   "id": "pressed-there",
   "metadata": {},
   "outputs": [],
   "source": [
    "X_train_normalized = X_train_unflatten / X_train_unflatten.max()\n",
    "X_test_normalized = X_test_unflatten / X_test_unflatten.max()"
   ]
  },
  {
   "cell_type": "code",
   "execution_count": 11,
   "id": "becoming-serum",
   "metadata": {},
   "outputs": [
    {
     "name": "stdout",
     "output_type": "stream",
     "text": [
      "The maximum value for the normalized training set is 1.0.\n",
      "The maximum value for the normalized test set is 1.0.\n"
     ]
    }
   ],
   "source": [
    "print(f'The maximum value for the normalized training set is {X_train_normalized.max()}.')\n",
    "print(f'The maximum value for the normalized test set is {X_test_normalized.max()}.')"
   ]
  },
  {
   "cell_type": "markdown",
   "id": "three-seventh",
   "metadata": {},
   "source": [
    "### Categories\n",
    "First, encode the labels to integer values."
   ]
  },
  {
   "cell_type": "code",
   "execution_count": 12,
   "id": "lyric-election",
   "metadata": {},
   "outputs": [],
   "source": [
    "label_encodings = {value: i for i, value in enumerate(np.unique(y_train))}"
   ]
  },
  {
   "cell_type": "code",
   "execution_count": 13,
   "id": "mature-standing",
   "metadata": {},
   "outputs": [
    {
     "data": {
      "text/plain": [
       "{'BAS': 0,\n",
       " 'EBO': 1,\n",
       " 'EOS': 2,\n",
       " 'KSC': 3,\n",
       " 'LYA': 4,\n",
       " 'LYT': 5,\n",
       " 'MMZ': 6,\n",
       " 'MOB': 7,\n",
       " 'MON': 8,\n",
       " 'MYB': 9,\n",
       " 'MYO': 10,\n",
       " 'NGB': 11,\n",
       " 'NGS': 12,\n",
       " 'PMB': 13,\n",
       " 'PMO': 14}"
      ]
     },
     "execution_count": 13,
     "metadata": {},
     "output_type": "execute_result"
    }
   ],
   "source": [
    "label_encodings"
   ]
  },
  {
   "cell_type": "code",
   "execution_count": 14,
   "id": "broadband-better",
   "metadata": {},
   "outputs": [
    {
     "data": {
      "text/plain": [
       "NGS    6787\n",
       "LYT    3150\n",
       "MYO    2615\n",
       "MON    1431\n",
       "EOS     339\n",
       "NGB      87\n",
       "BAS      63\n",
       "EBO      62\n",
       "PMO      56\n",
       "MYB      34\n",
       "MOB      21\n",
       "PMB      14\n",
       "MMZ      12\n",
       "KSC      12\n",
       "LYA       9\n",
       "dtype: int64"
      ]
     },
     "execution_count": 14,
     "metadata": {},
     "output_type": "execute_result"
    }
   ],
   "source": [
    "pd.Series(y_train).value_counts()"
   ]
  },
  {
   "cell_type": "code",
   "execution_count": 15,
   "id": "laden-hungary",
   "metadata": {},
   "outputs": [],
   "source": [
    "y_train_encoded = pd.Series(y_train).replace(label_encodings).values\n",
    "y_test_encoded = pd.Series(y_test).replace(label_encodings).values"
   ]
  },
  {
   "cell_type": "code",
   "execution_count": 16,
   "id": "bulgarian-paste",
   "metadata": {},
   "outputs": [
    {
     "data": {
      "text/plain": [
       "array([ 0,  1,  2,  3,  4,  5,  6,  7,  8,  9, 10, 11, 12, 13, 14])"
      ]
     },
     "execution_count": 16,
     "metadata": {},
     "output_type": "execute_result"
    }
   ],
   "source": [
    "np.unique(y_train_encoded)"
   ]
  },
  {
   "cell_type": "code",
   "execution_count": 17,
   "id": "commercial-spencer",
   "metadata": {},
   "outputs": [
    {
     "data": {
      "text/plain": [
       "array([ 0,  1,  2,  3,  4,  5,  6,  7,  8,  9, 10, 11, 12, 13, 14])"
      ]
     },
     "execution_count": 17,
     "metadata": {},
     "output_type": "execute_result"
    }
   ],
   "source": [
    "np.unique(y_test_encoded)"
   ]
  },
  {
   "cell_type": "markdown",
   "id": "beneficial-picking",
   "metadata": {},
   "source": [
    "Second, encode the integer labels as one-hot vectors."
   ]
  },
  {
   "cell_type": "code",
   "execution_count": 18,
   "id": "adverse-aviation",
   "metadata": {},
   "outputs": [],
   "source": [
    "y_train_one_hot = to_categorical(y_train_encoded)\n",
    "y_test_one_hot = to_categorical(y_test_encoded)"
   ]
  },
  {
   "cell_type": "code",
   "execution_count": 19,
   "id": "upset-nickname",
   "metadata": {},
   "outputs": [
    {
     "data": {
      "text/plain": [
       "(14692, 15)"
      ]
     },
     "execution_count": 19,
     "metadata": {},
     "output_type": "execute_result"
    }
   ],
   "source": [
    "y_train_one_hot.shape"
   ]
  },
  {
   "cell_type": "code",
   "execution_count": 20,
   "id": "reserved-anxiety",
   "metadata": {},
   "outputs": [
    {
     "data": {
      "text/plain": [
       "array([[0., 0., 0., 0., 0., 0., 0., 0., 0., 0., 0., 0., 1., 0., 0.],\n",
       "       [0., 0., 0., 0., 0., 0., 0., 0., 0., 0., 0., 0., 1., 0., 0.],\n",
       "       [0., 0., 0., 0., 0., 0., 0., 0., 0., 0., 0., 0., 1., 0., 0.],\n",
       "       [0., 0., 0., 0., 0., 0., 0., 0., 0., 0., 1., 0., 0., 0., 0.],\n",
       "       [0., 0., 0., 0., 0., 0., 0., 0., 0., 0., 0., 0., 1., 0., 0.]],\n",
       "      dtype=float32)"
      ]
     },
     "execution_count": 20,
     "metadata": {},
     "output_type": "execute_result"
    }
   ],
   "source": [
    "y_train_one_hot[0:5, :]"
   ]
  },
  {
   "cell_type": "code",
   "execution_count": 21,
   "id": "expressed-injury",
   "metadata": {},
   "outputs": [
    {
     "data": {
      "text/plain": [
       "(3673, 15)"
      ]
     },
     "execution_count": 21,
     "metadata": {},
     "output_type": "execute_result"
    }
   ],
   "source": [
    "y_test_one_hot.shape"
   ]
  },
  {
   "cell_type": "code",
   "execution_count": 22,
   "id": "desperate-series",
   "metadata": {},
   "outputs": [
    {
     "data": {
      "text/plain": [
       "array([[0., 0., 0., 0., 0., 0., 0., 0., 0., 0., 0., 0., 1., 0., 0.],\n",
       "       [0., 0., 0., 0., 0., 1., 0., 0., 0., 0., 0., 0., 0., 0., 0.],\n",
       "       [0., 0., 0., 0., 0., 0., 0., 0., 0., 0., 1., 0., 0., 0., 0.],\n",
       "       [0., 0., 0., 0., 0., 0., 0., 0., 0., 0., 0., 0., 1., 0., 0.],\n",
       "       [0., 0., 0., 0., 0., 0., 0., 0., 0., 0., 0., 0., 1., 0., 0.]],\n",
       "      dtype=float32)"
      ]
     },
     "execution_count": 22,
     "metadata": {},
     "output_type": "execute_result"
    }
   ],
   "source": [
    "y_test_one_hot[0:5, :]"
   ]
  },
  {
   "cell_type": "markdown",
   "id": "duplicate-violin",
   "metadata": {},
   "source": [
    "## Validation Set\n",
    "Now that we have preprocessed the training data, I will create a validation set. This will be used to evaluate how the deep learning model is training."
   ]
  },
  {
   "cell_type": "code",
   "execution_count": 23,
   "id": "tired-sunday",
   "metadata": {},
   "outputs": [],
   "source": [
    "X_train_normalized, X_val, y_train_one_hot, y_val = train_test_split(X_train_normalized, y_train_one_hot, test_size=0.1, random_state=42)"
   ]
  },
  {
   "cell_type": "markdown",
   "id": "binary-mistake",
   "metadata": {},
   "source": [
    "## Define Model"
   ]
  },
  {
   "cell_type": "code",
   "execution_count": 24,
   "id": "entire-quality",
   "metadata": {},
   "outputs": [
    {
     "name": "stdout",
     "output_type": "stream",
     "text": [
      "The input shape is (48, 48, 1).\n"
     ]
    }
   ],
   "source": [
    "input_shape = X_train_unflatten.shape[1:]\n",
    "print(f'The input shape is {input_shape}.')"
   ]
  },
  {
   "cell_type": "code",
   "execution_count": 25,
   "id": "chinese-pathology",
   "metadata": {},
   "outputs": [],
   "source": [
    "model_1 = models.Sequential([\n",
    "    layers.Conv2D(8, kernel_size=(3, 3), activation='relu', padding='same', input_shape=input_shape),\n",
    "    layers.MaxPooling2D(pool_size=(2, 2), strides=2),\n",
    "    layers.Conv2D(16, kernel_size=(7, 7), activation='relu'),\n",
    "    layers.MaxPooling2D(pool_size=(2, 2), strides=2),\n",
    "    layers.Flatten(),\n",
    "    layers.Dense(600, activation='relu'),\n",
    "    layers.Dense(150, activation='relu'),\n",
    "    layers.Dense(38, activation='relu'),\n",
    "    layers.Dense(15, activation='softmax')\n",
    "])"
   ]
  },
  {
   "cell_type": "code",
   "execution_count": 26,
   "id": "failing-trainer",
   "metadata": {},
   "outputs": [
    {
     "name": "stdout",
     "output_type": "stream",
     "text": [
      "Model: \"sequential\"\n",
      "_________________________________________________________________\n",
      "Layer (type)                 Output Shape              Param #   \n",
      "=================================================================\n",
      "conv2d (Conv2D)              (None, 48, 48, 8)         80        \n",
      "_________________________________________________________________\n",
      "max_pooling2d (MaxPooling2D) (None, 24, 24, 8)         0         \n",
      "_________________________________________________________________\n",
      "conv2d_1 (Conv2D)            (None, 18, 18, 16)        6288      \n",
      "_________________________________________________________________\n",
      "max_pooling2d_1 (MaxPooling2 (None, 9, 9, 16)          0         \n",
      "_________________________________________________________________\n",
      "flatten (Flatten)            (None, 1296)              0         \n",
      "_________________________________________________________________\n",
      "dense (Dense)                (None, 600)               778200    \n",
      "_________________________________________________________________\n",
      "dense_1 (Dense)              (None, 150)               90150     \n",
      "_________________________________________________________________\n",
      "dense_2 (Dense)              (None, 38)                5738      \n",
      "_________________________________________________________________\n",
      "dense_3 (Dense)              (None, 15)                585       \n",
      "=================================================================\n",
      "Total params: 881,041\n",
      "Trainable params: 881,041\n",
      "Non-trainable params: 0\n",
      "_________________________________________________________________\n"
     ]
    }
   ],
   "source": [
    "model_1.summary()"
   ]
  },
  {
   "cell_type": "markdown",
   "id": "happy-appraisal",
   "metadata": {},
   "source": [
    "### Train Model"
   ]
  },
  {
   "cell_type": "code",
   "execution_count": 38,
   "id": "oriental-piano",
   "metadata": {},
   "outputs": [
    {
     "name": "stdout",
     "output_type": "stream",
     "text": [
      "Epoch 1/10\n",
      "207/207 [==============================] - 9s 41ms/step - loss: 1.1640 - accuracy: 0.1173 - categorical_accuracy: 0.7782 - precision_2: 0.8428 - recall_2: 0.7047 - val_loss: 0.8279 - val_accuracy: 0.0875 - val_categorical_accuracy: 0.8054 - val_precision_2: 0.8620 - val_recall_2: 0.7735\n",
      "Epoch 2/10\n",
      "207/207 [==============================] - 8s 39ms/step - loss: 0.4388 - accuracy: 0.0899 - categorical_accuracy: 0.8627 - precision_2: 0.8927 - recall_2: 0.8307 - val_loss: 0.6738 - val_accuracy: 0.0495 - val_categorical_accuracy: 0.8347 - val_precision_2: 0.8516 - val_recall_2: 0.8122\n",
      "Epoch 3/10\n",
      "207/207 [==============================] - 8s 40ms/step - loss: 0.3925 - accuracy: 0.1039 - categorical_accuracy: 0.8730 - precision_2: 0.9009 - recall_2: 0.8452 - val_loss: 0.7082 - val_accuracy: 0.1392 - val_categorical_accuracy: 0.8415 - val_precision_2: 0.8723 - val_recall_2: 0.8177\n",
      "Epoch 4/10\n",
      "207/207 [==============================] - 9s 42ms/step - loss: 0.3662 - accuracy: 0.1206 - categorical_accuracy: 0.8816 - precision_2: 0.9052 - recall_2: 0.8591 - val_loss: 0.7785 - val_accuracy: 0.0936 - val_categorical_accuracy: 0.8354 - val_precision_2: 0.8602 - val_recall_2: 0.8204\n",
      "Epoch 5/10\n",
      "207/207 [==============================] - 8s 40ms/step - loss: 0.3371 - accuracy: 0.1187 - categorical_accuracy: 0.8893 - precision_2: 0.9166 - recall_2: 0.8677 - val_loss: 0.6344 - val_accuracy: 0.0963 - val_categorical_accuracy: 0.8510 - val_precision_2: 0.8682 - val_recall_2: 0.8293\n",
      "Epoch 6/10\n",
      "207/207 [==============================] - 8s 40ms/step - loss: 0.3134 - accuracy: 0.1389 - categorical_accuracy: 0.8964 - precision_2: 0.9205 - recall_2: 0.8765 - val_loss: 0.8379 - val_accuracy: 0.1976 - val_categorical_accuracy: 0.8578 - val_precision_2: 0.8693 - val_recall_2: 0.8503\n",
      "Epoch 7/10\n",
      "207/207 [==============================] - 8s 40ms/step - loss: 0.3099 - accuracy: 0.1480 - categorical_accuracy: 0.8938 - precision_2: 0.9166 - recall_2: 0.8771 - val_loss: 0.7230 - val_accuracy: 0.2074 - val_categorical_accuracy: 0.8612 - val_precision_2: 0.8762 - val_recall_2: 0.8476\n",
      "Epoch 8/10\n",
      "207/207 [==============================] - 9s 41ms/step - loss: 0.2856 - accuracy: 0.1690 - categorical_accuracy: 0.9076 - precision_2: 0.9256 - recall_2: 0.8914 - val_loss: 0.7687 - val_accuracy: 0.1213 - val_categorical_accuracy: 0.8231 - val_precision_2: 0.8475 - val_recall_2: 0.8014\n",
      "Epoch 9/10\n",
      "207/207 [==============================] - 8s 39ms/step - loss: 0.2703 - accuracy: 0.1607 - categorical_accuracy: 0.9081 - precision_2: 0.9260 - recall_2: 0.8887 - val_loss: 0.6345 - val_accuracy: 0.1471 - val_categorical_accuracy: 0.8741 - val_precision_2: 0.8890 - val_recall_2: 0.8558\n",
      "Epoch 10/10\n",
      "207/207 [==============================] - 8s 40ms/step - loss: 0.2499 - accuracy: 0.1655 - categorical_accuracy: 0.9199 - precision_2: 0.9360 - recall_2: 0.9030 - val_loss: 0.8644 - val_accuracy: 0.1156 - val_categorical_accuracy: 0.7844 - val_precision_2: 0.8072 - val_recall_2: 0.7517\n"
     ]
    }
   ],
   "source": [
    "model_1.compile(optimizer='rmsprop',\n",
    "              loss='categorical_crossentropy',\n",
    "              metrics=[\n",
    "                  metrics.Accuracy(),\n",
    "                  metrics.categorical_accuracy,\n",
    "                  metrics.Precision(),\n",
    "                  metrics.Recall()\n",
    "              ])\n",
    "results_1 = model_1.fit(X_train_normalized, y_train_one_hot, validation_data=(X_val, y_val), epochs=10, batch_size=64)"
   ]
  },
  {
   "cell_type": "markdown",
   "id": "affecting-implement",
   "metadata": {},
   "source": [
    "#### Predictions\n",
    "Make class predictions using the model."
   ]
  },
  {
   "cell_type": "code",
   "execution_count": 39,
   "id": "aquatic-fancy",
   "metadata": {},
   "outputs": [],
   "source": [
    "y_pred_train_cnn = model_1.predict(X_train_normalized)\n",
    "y_pred_cnn = model_1.predict(X_test_normalized)"
   ]
  },
  {
   "cell_type": "markdown",
   "id": "strong-visibility",
   "metadata": {},
   "source": [
    "### Evaluate the Model"
   ]
  },
  {
   "cell_type": "code",
   "execution_count": 40,
   "id": "actual-variance",
   "metadata": {},
   "outputs": [
    {
     "data": {
      "image/png": "[encoded data removed]",
      "text/plain": [
       "<Figure size 720x432 with 1 Axes>"
      ]
     },
     "metadata": {
      "needs_background": "light"
     },
     "output_type": "display_data"
    }
   ],
   "source": [
    "em.plot_train_val_losses(results_1)"
   ]
  },
  {
   "cell_type": "code",
   "execution_count": 30,
   "id": "chinese-accounting",
   "metadata": {},
   "outputs": [
    {
     "name": "stdout",
     "output_type": "stream",
     "text": [
      "              precision    recall  f1-score   support\n",
      "\n",
      "           0       0.75      0.06      0.11        53\n",
      "           1       0.00      0.00      0.00        58\n",
      "           2       0.86      0.15      0.25       296\n",
      "           3       0.00      0.00      0.00        10\n",
      "           4       0.00      0.00      0.00         9\n",
      "           5       0.90      0.96      0.93      2855\n",
      "           6       0.00      0.00      0.00        11\n",
      "           7       0.00      0.00      0.00        17\n",
      "           8       0.81      0.73      0.76      1289\n",
      "           9       0.00      0.00      0.00        27\n",
      "          10       0.86      0.92      0.89      2348\n",
      "          11       0.00      0.00      0.00        79\n",
      "          12       0.93      0.99      0.96      6108\n",
      "          13       0.00      0.00      0.00        12\n",
      "          14       0.00      0.00      0.00        50\n",
      "\n",
      "    accuracy                           0.90     13222\n",
      "   macro avg       0.34      0.25      0.26     13222\n",
      "weighted avg       0.88      0.90      0.88     13222\n",
      "\n"
     ]
    },
    {
     "name": "stderr",
     "output_type": "stream",
     "text": [
      "/Users/dave/anaconda3/envs/springboard/lib/python3.8/site-packages/sklearn/metrics/_classification.py:1245: UndefinedMetricWarning: Precision and F-score are ill-defined and being set to 0.0 in labels with no predicted samples. Use `zero_division` parameter to control this behavior.\n",
      "  _warn_prf(average, modifier, msg_start, len(result))\n",
      "/Users/dave/anaconda3/envs/springboard/lib/python3.8/site-packages/sklearn/metrics/_classification.py:1245: UndefinedMetricWarning: Precision and F-score are ill-defined and being set to 0.0 in labels with no predicted samples. Use `zero_division` parameter to control this behavior.\n",
      "  _warn_prf(average, modifier, msg_start, len(result))\n",
      "/Users/dave/anaconda3/envs/springboard/lib/python3.8/site-packages/sklearn/metrics/_classification.py:1245: UndefinedMetricWarning: Precision and F-score are ill-defined and being set to 0.0 in labels with no predicted samples. Use `zero_division` parameter to control this behavior.\n",
      "  _warn_prf(average, modifier, msg_start, len(result))\n"
     ]
    }
   ],
   "source": [
    "print(classification_report(np.argmax(y_train_one_hot, axis=1), np.argmax(y_pred_train_cnn, axis=1)))"
   ]
  },
  {
   "cell_type": "code",
   "execution_count": 31,
   "id": "confirmed-champion",
   "metadata": {},
   "outputs": [
    {
     "name": "stdout",
     "output_type": "stream",
     "text": [
      "              precision    recall  f1-score   support\n",
      "\n",
      "           0       0.00      0.00      0.00        16\n",
      "           1       0.00      0.00      0.00        16\n",
      "           2       0.71      0.12      0.20        85\n",
      "           3       0.00      0.00      0.00         3\n",
      "           4       0.00      0.00      0.00         2\n",
      "           5       0.86      0.93      0.89       787\n",
      "           6       0.00      0.00      0.00         3\n",
      "           7       0.00      0.00      0.00         5\n",
      "           8       0.70      0.64      0.67       358\n",
      "           9       0.00      0.00      0.00         8\n",
      "          10       0.82      0.87      0.85       653\n",
      "          11       0.00      0.00      0.00        22\n",
      "          12       0.93      0.98      0.95      1697\n",
      "          13       0.00      0.00      0.00         4\n",
      "          14       0.00      0.00      0.00        14\n",
      "\n",
      "    accuracy                           0.87      3673\n",
      "   macro avg       0.27      0.24      0.24      3673\n",
      "weighted avg       0.84      0.87      0.85      3673\n",
      "\n"
     ]
    },
    {
     "name": "stderr",
     "output_type": "stream",
     "text": [
      "/Users/dave/anaconda3/envs/springboard/lib/python3.8/site-packages/sklearn/metrics/_classification.py:1245: UndefinedMetricWarning: Precision and F-score are ill-defined and being set to 0.0 in labels with no predicted samples. Use `zero_division` parameter to control this behavior.\n",
      "  _warn_prf(average, modifier, msg_start, len(result))\n",
      "/Users/dave/anaconda3/envs/springboard/lib/python3.8/site-packages/sklearn/metrics/_classification.py:1245: UndefinedMetricWarning: Precision and F-score are ill-defined and being set to 0.0 in labels with no predicted samples. Use `zero_division` parameter to control this behavior.\n",
      "  _warn_prf(average, modifier, msg_start, len(result))\n",
      "/Users/dave/anaconda3/envs/springboard/lib/python3.8/site-packages/sklearn/metrics/_classification.py:1245: UndefinedMetricWarning: Precision and F-score are ill-defined and being set to 0.0 in labels with no predicted samples. Use `zero_division` parameter to control this behavior.\n",
      "  _warn_prf(average, modifier, msg_start, len(result))\n"
     ]
    }
   ],
   "source": [
    "print(classification_report(np.argmax(y_test_one_hot, axis=1), np.argmax(y_pred_cnn, axis=1)))"
   ]
  },
  {
   "cell_type": "code",
   "execution_count": 32,
   "id": "indoor-minute",
   "metadata": {},
   "outputs": [
    {
     "data": {
      "image/png": "[encoded data removed]",
      "text/plain": [
       "<Figure size 720x576 with 2 Axes>"
      ]
     },
     "metadata": {
      "needs_background": "light"
     },
     "output_type": "display_data"
    }
   ],
   "source": [
    "em.plot_confusion_matrix(y_test_one_hot, y_pred_cnn, label_encodings)"
   ]
  },
  {
   "cell_type": "markdown",
   "id": "australian-frontier",
   "metadata": {},
   "source": [
    "### Train Model - Use Weighted Classes\n",
    "To counter the class imbalance, I will try weighting the classes by importance. More weight will be given to the classes with less representation."
   ]
  },
  {
   "cell_type": "code",
   "execution_count": 33,
   "id": "formed-final",
   "metadata": {},
   "outputs": [],
   "source": [
    "class_weights = compute_class_weight('balanced', classes=np.unique(y_train_encoded), y=y_train_encoded)\n",
    "class_weights_dict = dict(enumerate(class_weights))"
   ]
  },
  {
   "cell_type": "code",
   "execution_count": 34,
   "id": "choice-radio",
   "metadata": {},
   "outputs": [
    {
     "data": {
      "text/plain": [
       "{0: 15.547089947089948,\n",
       " 1: 15.79784946236559,\n",
       " 2: 2.889282202556539,\n",
       " 3: 81.62222222222222,\n",
       " 4: 108.82962962962964,\n",
       " 5: 0.31094179894179896,\n",
       " 6: 81.62222222222222,\n",
       " 7: 46.64126984126984,\n",
       " 8: 0.6844630794316329,\n",
       " 9: 28.807843137254903,\n",
       " 10: 0.3745570427023582,\n",
       " 11: 11.25823754789272,\n",
       " 12: 0.14431511222435048,\n",
       " 13: 69.96190476190476,\n",
       " 14: 17.49047619047619}"
      ]
     },
     "execution_count": 34,
     "metadata": {},
     "output_type": "execute_result"
    }
   ],
   "source": [
    "class_weights_dict"
   ]
  },
  {
   "cell_type": "code",
   "execution_count": 35,
   "id": "parallel-italic",
   "metadata": {},
   "outputs": [
    {
     "name": "stdout",
     "output_type": "stream",
     "text": [
      "Epoch 1/50\n",
      "207/207 [==============================] - 10s 43ms/step - loss: 2.4492 - accuracy: 0.0000e+00 - categorical_accuracy: 0.8032 - precision_1: 0.9256 - recall_1: 0.5450 - val_loss: 1.0768 - val_accuracy: 0.0000e+00 - val_categorical_accuracy: 0.7075 - val_precision_1: 0.9112 - val_recall_1: 0.4537\n",
      "Epoch 2/50\n",
      "207/207 [==============================] - 8s 41ms/step - loss: 2.0365 - accuracy: 6.9341e-06 - categorical_accuracy: 0.6428 - precision_1: 0.8147 - recall_1: 0.4674 - val_loss: 0.9506 - val_accuracy: 0.0000e+00 - val_categorical_accuracy: 0.6952 - val_precision_1: 0.8924 - val_recall_1: 0.5585\n",
      "Epoch 3/50\n",
      "207/207 [==============================] - 8s 41ms/step - loss: 1.7484 - accuracy: 1.1867e-05 - categorical_accuracy: 0.6364 - precision_1: 0.8156 - recall_1: 0.4943 - val_loss: 1.3576 - val_accuracy: 4.5351e-05 - val_categorical_accuracy: 0.4966 - val_precision_1: 0.6430 - val_recall_1: 0.3517\n",
      "Epoch 4/50\n",
      "207/207 [==============================] - 8s 41ms/step - loss: 1.7248 - accuracy: 7.1921e-04 - categorical_accuracy: 0.5819 - precision_1: 0.7405 - recall_1: 0.4550 - val_loss: 1.0608 - val_accuracy: 0.0010 - val_categorical_accuracy: 0.6136 - val_precision_1: 0.7821 - val_recall_1: 0.4980\n",
      "Epoch 5/50\n",
      "207/207 [==============================] - 9s 41ms/step - loss: 1.3966 - accuracy: 0.0015 - categorical_accuracy: 0.5975 - precision_1: 0.7368 - recall_1: 0.5030 - val_loss: 1.1267 - val_accuracy: 9.9773e-04 - val_categorical_accuracy: 0.6354 - val_precision_1: 0.8251 - val_recall_1: 0.4912\n",
      "Epoch 6/50\n",
      "207/207 [==============================] - 8s 41ms/step - loss: 1.4277 - accuracy: 0.0041 - categorical_accuracy: 0.6044 - precision_1: 0.7418 - recall_1: 0.4975 - val_loss: 1.2174 - val_accuracy: 8.1633e-04 - val_categorical_accuracy: 0.5626 - val_precision_1: 0.7797 - val_recall_1: 0.4503\n",
      "Epoch 7/50\n",
      "207/207 [==============================] - 9s 41ms/step - loss: 1.4164 - accuracy: 0.0073 - categorical_accuracy: 0.6003 - precision_1: 0.7444 - recall_1: 0.5208 - val_loss: 0.9808 - val_accuracy: 0.0265 - val_categorical_accuracy: 0.6912 - val_precision_1: 0.8149 - val_recall_1: 0.6259\n",
      "Epoch 8/50\n",
      "207/207 [==============================] - 9s 41ms/step - loss: 1.5260 - accuracy: 0.0124 - categorical_accuracy: 0.6250 - precision_1: 0.7546 - recall_1: 0.5367 - val_loss: 1.3304 - val_accuracy: 0.0068 - val_categorical_accuracy: 0.4952 - val_precision_1: 0.7026 - val_recall_1: 0.3857\n",
      "Epoch 9/50\n",
      "207/207 [==============================] - 8s 41ms/step - loss: 1.2846 - accuracy: 0.0137 - categorical_accuracy: 0.5934 - precision_1: 0.7346 - recall_1: 0.4956 - val_loss: 1.1063 - val_accuracy: 0.0072 - val_categorical_accuracy: 0.5884 - val_precision_1: 0.7147 - val_recall_1: 0.5027\n",
      "Epoch 10/50\n",
      "207/207 [==============================] - 9s 41ms/step - loss: 1.3083 - accuracy: 0.0169 - categorical_accuracy: 0.6017 - precision_1: 0.7458 - recall_1: 0.5286 - val_loss: 1.0574 - val_accuracy: 0.0040 - val_categorical_accuracy: 0.5952 - val_precision_1: 0.7468 - val_recall_1: 0.5197\n",
      "Epoch 11/50\n",
      "207/207 [==============================] - 9s 41ms/step - loss: 1.2984 - accuracy: 0.0145 - categorical_accuracy: 0.5935 - precision_1: 0.7204 - recall_1: 0.5172 - val_loss: 1.1225 - val_accuracy: 0.0113 - val_categorical_accuracy: 0.5973 - val_precision_1: 0.7632 - val_recall_1: 0.5000\n",
      "Epoch 12/50\n",
      "207/207 [==============================] - 9s 41ms/step - loss: 1.1490 - accuracy: 0.0187 - categorical_accuracy: 0.5952 - precision_1: 0.7290 - recall_1: 0.5072 - val_loss: 1.1707 - val_accuracy: 0.0137 - val_categorical_accuracy: 0.5490 - val_precision_1: 0.7700 - val_recall_1: 0.4327\n",
      "Epoch 13/50\n",
      "207/207 [==============================] - 9s 41ms/step - loss: 1.2079 - accuracy: 0.0305 - categorical_accuracy: 0.6046 - precision_1: 0.7122 - recall_1: 0.5372 - val_loss: 1.4614 - val_accuracy: 0.0116 - val_categorical_accuracy: 0.4388 - val_precision_1: 0.5591 - val_recall_1: 0.3605\n",
      "Epoch 14/50\n",
      "207/207 [==============================] - 9s 42ms/step - loss: 1.1422 - accuracy: 0.0268 - categorical_accuracy: 0.5661 - precision_1: 0.6799 - recall_1: 0.4790 - val_loss: 1.6442 - val_accuracy: 0.0106 - val_categorical_accuracy: 0.3952 - val_precision_1: 0.4376 - val_recall_1: 0.3293\n",
      "Epoch 15/50\n",
      "207/207 [==============================] - 9s 44ms/step - loss: 1.0232 - accuracy: 0.0308 - categorical_accuracy: 0.6233 - precision_1: 0.7276 - recall_1: 0.5537 - val_loss: 1.2680 - val_accuracy: 0.0155 - val_categorical_accuracy: 0.5660 - val_precision_1: 0.7288 - val_recall_1: 0.4626\n",
      "Epoch 16/50\n",
      "207/207 [==============================] - 8s 40ms/step - loss: 0.9102 - accuracy: 0.0269 - categorical_accuracy: 0.6440 - precision_1: 0.7455 - recall_1: 0.5549 - val_loss: 2.2305 - val_accuracy: 0.0581 - val_categorical_accuracy: 0.4265 - val_precision_1: 0.5200 - val_recall_1: 0.3986\n",
      "Epoch 17/50\n",
      "207/207 [==============================] - 8s 40ms/step - loss: 1.0561 - accuracy: 0.0376 - categorical_accuracy: 0.5521 - precision_1: 0.6397 - recall_1: 0.4953 - val_loss: 1.0883 - val_accuracy: 0.0611 - val_categorical_accuracy: 0.6619 - val_precision_1: 0.7490 - val_recall_1: 0.6170\n",
      "Epoch 18/50\n",
      "207/207 [==============================] - 8s 40ms/step - loss: 1.5960 - accuracy: 0.0470 - categorical_accuracy: 0.5966 - precision_1: 0.7003 - recall_1: 0.5382 - val_loss: 1.4009 - val_accuracy: 0.0730 - val_categorical_accuracy: 0.5020 - val_precision_1: 0.6024 - val_recall_1: 0.4381\n",
      "Epoch 19/50\n",
      "207/207 [==============================] - 8s 40ms/step - loss: 1.0961 - accuracy: 0.0595 - categorical_accuracy: 0.6104 - precision_1: 0.7105 - recall_1: 0.5437 - val_loss: 2.1331 - val_accuracy: 0.0287 - val_categorical_accuracy: 0.4177 - val_precision_1: 0.5241 - val_recall_1: 0.3844\n",
      "Epoch 20/50\n",
      "207/207 [==============================] - 8s 40ms/step - loss: 1.0904 - accuracy: 0.0585 - categorical_accuracy: 0.5822 - precision_1: 0.6745 - recall_1: 0.5276 - val_loss: 1.5763 - val_accuracy: 0.0397 - val_categorical_accuracy: 0.5755 - val_precision_1: 0.6452 - val_recall_1: 0.5320\n",
      "Epoch 21/50\n",
      "207/207 [==============================] - 8s 40ms/step - loss: 1.2509 - accuracy: 0.0625 - categorical_accuracy: 0.5940 - precision_1: 0.6783 - recall_1: 0.5229 - val_loss: 1.0849 - val_accuracy: 0.0550 - val_categorical_accuracy: 0.6469 - val_precision_1: 0.7213 - val_recall_1: 0.5864\n",
      "Epoch 22/50\n",
      "207/207 [==============================] - 8s 40ms/step - loss: 1.0231 - accuracy: 0.0589 - categorical_accuracy: 0.6353 - precision_1: 0.7085 - recall_1: 0.5827 - val_loss: 1.6930 - val_accuracy: 0.0335 - val_categorical_accuracy: 0.4075 - val_precision_1: 0.4928 - val_recall_1: 0.3510\n",
      "Epoch 23/50\n",
      "207/207 [==============================] - 10s 47ms/step - loss: 1.0509 - accuracy: 0.0571 - categorical_accuracy: 0.5603 - precision_1: 0.6514 - recall_1: 0.4894 - val_loss: 1.3164 - val_accuracy: 0.0712 - val_categorical_accuracy: 0.5544 - val_precision_1: 0.6811 - val_recall_1: 0.4912\n",
      "Epoch 24/50\n",
      "207/207 [==============================] - 9s 42ms/step - loss: 1.0444 - accuracy: 0.0784 - categorical_accuracy: 0.5920 - precision_1: 0.6833 - recall_1: 0.5266 - val_loss: 1.8968 - val_accuracy: 0.0375 - val_categorical_accuracy: 0.3939 - val_precision_1: 0.5159 - val_recall_1: 0.3320\n",
      "Epoch 25/50\n",
      "207/207 [==============================] - 8s 40ms/step - loss: 2.1602 - accuracy: 0.0587 - categorical_accuracy: 0.5806 - precision_1: 0.6678 - recall_1: 0.5149 - val_loss: 1.8379 - val_accuracy: 0.0104 - val_categorical_accuracy: 0.3605 - val_precision_1: 0.4104 - val_recall_1: 0.2803\n",
      "Epoch 26/50\n",
      "207/207 [==============================] - 8s 40ms/step - loss: 1.3625 - accuracy: 0.0348 - categorical_accuracy: 0.5096 - precision_1: 0.6135 - recall_1: 0.4326 - val_loss: 1.3511 - val_accuracy: 0.0140 - val_categorical_accuracy: 0.5211 - val_precision_1: 0.6994 - val_recall_1: 0.4163\n",
      "Epoch 27/50\n",
      "207/207 [==============================] - 8s 40ms/step - loss: 1.2971 - accuracy: 0.0419 - categorical_accuracy: 0.5655 - precision_1: 0.6508 - recall_1: 0.4925 - val_loss: 1.2013 - val_accuracy: 0.0141 - val_categorical_accuracy: 0.6109 - val_precision_1: 0.7601 - val_recall_1: 0.4224\n",
      "Epoch 28/50\n",
      "207/207 [==============================] - 8s 41ms/step - loss: 1.0922 - accuracy: 0.0405 - categorical_accuracy: 0.5791 - precision_1: 0.7015 - recall_1: 0.4954 - val_loss: 1.5765 - val_accuracy: 0.0398 - val_categorical_accuracy: 0.4925 - val_precision_1: 0.5695 - val_recall_1: 0.4293\n",
      "Epoch 29/50\n",
      "207/207 [==============================] - 8s 40ms/step - loss: 1.1345 - accuracy: 0.0445 - categorical_accuracy: 0.5854 - precision_1: 0.6623 - recall_1: 0.5204 - val_loss: 1.0440 - val_accuracy: 0.1344 - val_categorical_accuracy: 0.7218 - val_precision_1: 0.7932 - val_recall_1: 0.6810\n",
      "Epoch 30/50\n",
      "207/207 [==============================] - 8s 40ms/step - loss: 1.4212 - accuracy: 0.0830 - categorical_accuracy: 0.5810 - precision_1: 0.6715 - recall_1: 0.5282 - val_loss: 2.2831 - val_accuracy: 0.0101 - val_categorical_accuracy: 0.3007 - val_precision_1: 0.4736 - val_recall_1: 0.2197\n",
      "Epoch 31/50\n",
      "207/207 [==============================] - 9s 42ms/step - loss: 1.5696 - accuracy: 0.0540 - categorical_accuracy: 0.5588 - precision_1: 0.6608 - recall_1: 0.4943 - val_loss: 3.8965 - val_accuracy: 0.0487 - val_categorical_accuracy: 0.2939 - val_precision_1: 0.3524 - val_recall_1: 0.2762\n",
      "Epoch 32/50\n",
      "207/207 [==============================] - 9s 41ms/step - loss: 2.0354 - accuracy: 0.0261 - categorical_accuracy: 0.4539 - precision_1: 0.5633 - recall_1: 0.3938 - val_loss: 1.5451 - val_accuracy: 0.0053 - val_categorical_accuracy: 0.4510 - val_precision_1: 0.5995 - val_recall_1: 0.3422\n",
      "Epoch 33/50\n",
      "207/207 [==============================] - 9s 41ms/step - loss: 1.5207 - accuracy: 0.0332 - categorical_accuracy: 0.5319 - precision_1: 0.6616 - recall_1: 0.4405 - val_loss: 1.0496 - val_accuracy: 0.0417 - val_categorical_accuracy: 0.6381 - val_precision_1: 0.7515 - val_recall_1: 0.5286\n",
      "Epoch 34/50\n",
      "207/207 [==============================] - 9s 41ms/step - loss: 1.5559 - accuracy: 0.0357 - categorical_accuracy: 0.5276 - precision_1: 0.6482 - recall_1: 0.4423 - val_loss: 1.2983 - val_accuracy: 0.0143 - val_categorical_accuracy: 0.5707 - val_precision_1: 0.6811 - val_recall_1: 0.4503\n",
      "Epoch 35/50\n",
      "207/207 [==============================] - 9s 45ms/step - loss: 1.3172 - accuracy: 0.0343 - categorical_accuracy: 0.5518 - precision_1: 0.6528 - recall_1: 0.4704 - val_loss: 1.1275 - val_accuracy: 0.0636 - val_categorical_accuracy: 0.6184 - val_precision_1: 0.7825 - val_recall_1: 0.4748\n",
      "Epoch 36/50\n",
      "207/207 [==============================] - 9s 42ms/step - loss: 1.5935 - accuracy: 0.0437 - categorical_accuracy: 0.4967 - precision_1: 0.6108 - recall_1: 0.4141 - val_loss: 1.4314 - val_accuracy: 0.0053 - val_categorical_accuracy: 0.4388 - val_precision_1: 0.5208 - val_recall_1: 0.3585\n",
      "Epoch 37/50\n",
      "207/207 [==============================] - 9s 42ms/step - loss: 2.2050 - accuracy: 0.0358 - categorical_accuracy: 0.4955 - precision_1: 0.6440 - recall_1: 0.4013 - val_loss: 1.4075 - val_accuracy: 0.0299 - val_categorical_accuracy: 0.4707 - val_precision_1: 0.6000 - val_recall_1: 0.3898\n",
      "Epoch 38/50\n",
      "207/207 [==============================] - 10s 50ms/step - loss: 2.0061 - accuracy: 0.0593 - categorical_accuracy: 0.5218 - precision_1: 0.6292 - recall_1: 0.4524 - val_loss: 1.6088 - val_accuracy: 0.0433 - val_categorical_accuracy: 0.4789 - val_precision_1: 0.5311 - val_recall_1: 0.4245\n",
      "Epoch 39/50\n",
      "207/207 [==============================] - 10s 46ms/step - loss: 1.1709 - accuracy: 0.0645 - categorical_accuracy: 0.5591 - precision_1: 0.6499 - recall_1: 0.4823 - val_loss: 1.3330 - val_accuracy: 0.0154 - val_categorical_accuracy: 0.5320 - val_precision_1: 0.6450 - val_recall_1: 0.3980\n",
      "Epoch 40/50\n",
      "207/207 [==============================] - 10s 50ms/step - loss: 1.4793 - accuracy: 0.0371 - categorical_accuracy: 0.5116 - precision_1: 0.6210 - recall_1: 0.4330 - val_loss: 1.3214 - val_accuracy: 0.0507 - val_categorical_accuracy: 0.5605 - val_precision_1: 0.6648 - val_recall_1: 0.4898\n",
      "Epoch 41/50\n",
      "207/207 [==============================] - 13s 63ms/step - loss: 1.5324 - accuracy: 0.0758 - categorical_accuracy: 0.4996 - precision_1: 0.6467 - recall_1: 0.4255 - val_loss: 1.7317 - val_accuracy: 0.0525 - val_categorical_accuracy: 0.4190 - val_precision_1: 0.5316 - val_recall_1: 0.3721\n",
      "Epoch 42/50\n",
      "207/207 [==============================] - 11s 52ms/step - loss: 1.6248 - accuracy: 0.0656 - categorical_accuracy: 0.5284 - precision_1: 0.6369 - recall_1: 0.4437 - val_loss: 1.6494 - val_accuracy: 0.0370 - val_categorical_accuracy: 0.3816 - val_precision_1: 0.4989 - val_recall_1: 0.3041\n",
      "Epoch 43/50\n",
      "207/207 [==============================] - 10s 49ms/step - loss: 1.1726 - accuracy: 0.0634 - categorical_accuracy: 0.5469 - precision_1: 0.6487 - recall_1: 0.4472 - val_loss: 5.8390 - val_accuracy: 0.2051 - val_categorical_accuracy: 0.4177 - val_precision_1: 0.4210 - val_recall_1: 0.4150\n",
      "Epoch 44/50\n",
      "207/207 [==============================] - 11s 55ms/step - loss: 1.8927 - accuracy: 0.0725 - categorical_accuracy: 0.4357 - precision_1: 0.5241 - recall_1: 0.3816 - val_loss: 1.0959 - val_accuracy: 0.1185 - val_categorical_accuracy: 0.6796 - val_precision_1: 0.8165 - val_recall_1: 0.5871\n",
      "Epoch 45/50\n",
      "207/207 [==============================] - 11s 51ms/step - loss: 2.5111 - accuracy: 0.0786 - categorical_accuracy: 0.4968 - precision_1: 0.6004 - recall_1: 0.4298 - val_loss: 1.5522 - val_accuracy: 0.0834 - val_categorical_accuracy: 0.4728 - val_precision_1: 0.5941 - val_recall_1: 0.3973\n",
      "Epoch 46/50\n",
      "207/207 [==============================] - 9s 43ms/step - loss: 1.1593 - accuracy: 0.0698 - categorical_accuracy: 0.5305 - precision_1: 0.6300 - recall_1: 0.4502 - val_loss: 1.8167 - val_accuracy: 0.0713 - val_categorical_accuracy: 0.4211 - val_precision_1: 0.5315 - val_recall_1: 0.3728\n",
      "Epoch 47/50\n",
      "207/207 [==============================] - 10s 48ms/step - loss: 2.8122 - accuracy: 0.1018 - categorical_accuracy: 0.4658 - precision_1: 0.5778 - recall_1: 0.3981 - val_loss: 1.3003 - val_accuracy: 0.0800 - val_categorical_accuracy: 0.5510 - val_precision_1: 0.6960 - val_recall_1: 0.4252\n",
      "Epoch 48/50\n",
      "207/207 [==============================] - 10s 47ms/step - loss: 1.3195 - accuracy: 0.0991 - categorical_accuracy: 0.5274 - precision_1: 0.6555 - recall_1: 0.4471 - val_loss: 1.4467 - val_accuracy: 0.1055 - val_categorical_accuracy: 0.4939 - val_precision_1: 0.5990 - val_recall_1: 0.4054\n",
      "Epoch 49/50\n",
      "207/207 [==============================] - 10s 50ms/step - loss: 1.8161 - accuracy: 0.0984 - categorical_accuracy: 0.4963 - precision_1: 0.6182 - recall_1: 0.4193 - val_loss: 1.7260 - val_accuracy: 0.0427 - val_categorical_accuracy: 0.3857 - val_precision_1: 0.6183 - val_recall_1: 0.2578\n",
      "Epoch 50/50\n",
      "207/207 [==============================] - 12s 59ms/step - loss: 1.5172 - accuracy: 0.0634 - categorical_accuracy: 0.4630 - precision_1: 0.6111 - recall_1: 0.3712 - val_loss: 2.6236 - val_accuracy: 0.2013 - val_categorical_accuracy: 0.4170 - val_precision_1: 0.4895 - val_recall_1: 0.3959\n"
     ]
    }
   ],
   "source": [
    "model_1.compile(optimizer='rmsprop',\n",
    "                loss='categorical_crossentropy',\n",
    "                metrics=[\n",
    "                    metrics.Accuracy(),\n",
    "                    metrics.categorical_accuracy,\n",
    "                    metrics.Precision(),\n",
    "                    metrics.Recall()\n",
    "                ])\n",
    "results_2 = model_1.fit(X_train_normalized, y_train_one_hot, validation_data=(X_val, y_val), epochs=50, batch_size=64, class_weight=class_weights_dict)"
   ]
  },
  {
   "cell_type": "code",
   "execution_count": 36,
   "id": "still-straight",
   "metadata": {},
   "outputs": [
    {
     "data": {
      "text/plain": [
       "dict_keys(['loss', 'accuracy', 'categorical_accuracy', 'precision_1', 'recall_1', 'val_loss', 'val_accuracy', 'val_categorical_accuracy', 'val_precision_1', 'val_recall_1'])"
      ]
     },
     "execution_count": 36,
     "metadata": {},
     "output_type": "execute_result"
    }
   ],
   "source": [
    "results_2.history.keys()"
   ]
  },
  {
   "cell_type": "code",
   "execution_count": 37,
   "id": "choice-injection",
   "metadata": {},
   "outputs": [
    {
     "data": {
      "image/png": "[encoded data removed]",
      "text/plain": [
       "<Figure size 720x432 with 1 Axes>"
      ]
     },
     "metadata": {
      "needs_background": "light"
     },
     "output_type": "display_data"
    }
   ],
   "source": [
    "em.plot_train_val_losses(results_2)"
   ]
  },
  {
   "cell_type": "markdown",
   "id": "binary-calgary",
   "metadata": {},
   "source": [
    "**Observations:** The chaotic loss indicates that the model is unable to learn anything useful from the training data."
   ]
  },
  {
   "cell_type": "code",
   "execution_count": null,
   "id": "outer-relations",
   "metadata": {},
   "outputs": [],
   "source": []
  }
 ],
 "metadata": {
  "kernelspec": {
   "display_name": "Python 3",
   "language": "python",
   "name": "python3"
  },
  "language_info": {
   "codemirror_mode": {
    "name": "ipython",
    "version": 3
   },
   "file_extension": ".py",
   "mimetype": "text/x-python",
   "name": "python",
   "nbconvert_exporter": "python",
   "pygments_lexer": "ipython3",
   "version": "3.8.8"
  }
 },
 "nbformat": 4,
 "nbformat_minor": 5
}
