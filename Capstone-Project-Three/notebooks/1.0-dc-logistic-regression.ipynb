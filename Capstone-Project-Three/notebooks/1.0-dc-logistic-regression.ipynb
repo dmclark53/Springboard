{
 "cells": [
  {
   "cell_type": "markdown",
   "id": "selective-handling",
   "metadata": {},
   "source": [
    "# Logistic Regression Model\n",
    "## Business Problem\n",
    "Leukemia is a type of cancer of the blood that often affects young people. In the past, pathologists would diagnose patients by eye after examining blood smear images under the microscope. But, this is time consuming and tedious. Advances in image recognition technology have come a long ways since their inception. Therefore, automated solutions using computers would be of great benefit to the medical community to aid in cancer diagnoses.\n",
    "\n",
    "The goal of this project is to address the following question: How can the doctor’s at the Munich University Hospital automate the diagnosis of patients with leukemia using images from blood smears?\n",
    "\n",
    "## Approach\n",
    "In this notebook, I will try a simple logistic regression model on the dataset of flattened images. I will not consider class imbalance at this time, but will examain the results of the model at the end."
   ]
  },
  {
   "cell_type": "code",
   "execution_count": 1,
   "id": "chubby-supplier",
   "metadata": {},
   "outputs": [],
   "source": [
    "import os\n",
    "import pickle\n",
    "import sys\n",
    "sys.path.append('..')\n",
    "from time import time\n",
    "\n",
    "import cv2 as cv\n",
    "import matplotlib.pyplot as plt\n",
    "import numpy as np\n",
    "import pandas as pd\n",
    "from sklearn.linear_model import LogisticRegression\n",
    "from sklearn.metrics import classification_report\n",
    "\n",
    "from src.data_setup import make_dataset as md\n",
    "\n",
    "# %load_ext autoreload\n",
    "# %autoreload 2\n",
    "%reload_ext autoreload"
   ]
  },
  {
   "cell_type": "markdown",
   "id": "usual-boring",
   "metadata": {},
   "source": [
    "## Load Data\n",
    "Load the pickled training and test data."
   ]
  },
  {
   "cell_type": "code",
   "execution_count": 2,
   "id": "radical-bulgarian",
   "metadata": {},
   "outputs": [],
   "source": [
    "X_train, X_test, y_train, y_test = md.load_train_test()"
   ]
  },
  {
   "cell_type": "code",
   "execution_count": 3,
   "id": "collected-boston",
   "metadata": {},
   "outputs": [
    {
     "data": {
      "text/plain": [
       "(14692, 120000)"
      ]
     },
     "execution_count": 3,
     "metadata": {},
     "output_type": "execute_result"
    }
   ],
   "source": [
    "X_train.shape"
   ]
  },
  {
   "cell_type": "code",
   "execution_count": 4,
   "id": "dietary-blood",
   "metadata": {},
   "outputs": [
    {
     "data": {
      "text/plain": [
       "(5, 120000)"
      ]
     },
     "execution_count": 4,
     "metadata": {},
     "output_type": "execute_result"
    }
   ],
   "source": [
    "X_train[:5, :].shape"
   ]
  },
  {
   "cell_type": "code",
   "execution_count": 5,
   "id": "intensive-amber",
   "metadata": {},
   "outputs": [
    {
     "data": {
      "text/plain": [
       "3.8044117777777777"
      ]
     },
     "execution_count": 5,
     "metadata": {},
     "output_type": "execute_result"
    }
   ],
   "source": [
    "(((14692 / 5) * 4.661) / 60) / 60"
   ]
  },
  {
   "cell_type": "markdown",
   "id": "operational-president",
   "metadata": {},
   "source": [
    "## Model\n",
    "Train a very simplistic logistic regression model. I will not consider rescaling at this time, either."
   ]
  },
  {
   "cell_type": "code",
   "execution_count": 8,
   "id": "difficult-static",
   "metadata": {},
   "outputs": [
    {
     "name": "stdout",
     "output_type": "stream",
     "text": [
      "It took the model 14.933 minutes to run.\n"
     ]
    },
    {
     "name": "stderr",
     "output_type": "stream",
     "text": [
      "/Users/dave/anaconda3/envs/springboard/lib/python3.8/site-packages/sklearn/linear_model/_sag.py:328: ConvergenceWarning: The max_iter was reached which means the coef_ did not converge\n",
      "  warnings.warn(\"The max_iter was reached which means \"\n"
     ]
    }
   ],
   "source": [
    "num_rows = 1000\n",
    "start = time()\n",
    "logreg = LogisticRegression(solver='saga', multi_class='multinomial', n_jobs=-1)\n",
    "logreg.fit(X_train[:num_rows, :], y_train[:num_rows])\n",
    "end = time()\n",
    "elapsed = end - start\n",
    "time_unit = 'seconds'\n",
    "if elapsed > 60:\n",
    "    elapsed = elapsed / 60\n",
    "    time_unit = 'minutes'\n",
    "print(f'It took the model {elapsed:0.3f} {time_unit} to run.')"
   ]
  },
  {
   "cell_type": "code",
   "execution_count": null,
   "id": "danish-white",
   "metadata": {},
   "outputs": [],
   "source": [
    "y_pred_train_logreg = logreg.predict(X_train)\n",
    "y_pred_logreg = logreg.predict(X_test)"
   ]
  },
  {
   "cell_type": "code",
   "execution_count": null,
   "id": "external-creator",
   "metadata": {},
   "outputs": [],
   "source": [
    "print(classification_report(y_train, y_pred_train_logreg))"
   ]
  },
  {
   "cell_type": "code",
   "execution_count": null,
   "id": "signed-identification",
   "metadata": {},
   "outputs": [],
   "source": [
    "print(classification_report(y_test, y_pred_logreg))"
   ]
  }
 ],
 "metadata": {
  "kernelspec": {
   "display_name": "Python 3",
   "language": "python",
   "name": "python3"
  },
  "language_info": {
   "codemirror_mode": {
    "name": "ipython",
    "version": 3
   },
   "file_extension": ".py",
   "mimetype": "text/x-python",
   "name": "python",
   "nbconvert_exporter": "python",
   "pygments_lexer": "ipython3",
   "version": "3.8.8"
  }
 },
 "nbformat": 4,
 "nbformat_minor": 5
}
