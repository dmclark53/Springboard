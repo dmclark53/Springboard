{
 "cells": [
  {
   "cell_type": "markdown",
   "id": "numeric-evans",
   "metadata": {},
   "source": [
    "# Logistic Regression Model\n",
    "## Business Problem\n",
    "Leukemia is a type of cancer of the blood that often affects young people. In the past, pathologists would diagnose patients by eye after examining blood smear images under the microscope. But, this is time consuming and tedious. Advances in image recognition technology have come a long ways since their inception. Therefore, automated solutions using computers would be of great benefit to the medical community to aid in cancer diagnoses.\n",
    "\n",
    "The goal of this project is to address the following question: How can the doctor’s at the Munich University Hospital automate the diagnosis of patients with leukemia using images from blood smears?\n",
    "\n",
    "## Approach\n",
    "In this notebook, I will try a simple logistic regression model on the dataset of flattened images. I will not consider class imbalance at this time, but will examain the results of the model at the end."
   ]
  },
  {
   "cell_type": "code",
   "execution_count": 1,
   "id": "essential-walker",
   "metadata": {},
   "outputs": [],
   "source": [
    "import os\n",
    "import pickle\n",
    "import sys\n",
    "sys.path.append('..')\n",
    "from time import time\n",
    "\n",
    "import cv2 as cv\n",
    "import matplotlib.pyplot as plt\n",
    "import numpy as np\n",
    "import pandas as pd\n",
    "from sklearn.linear_model import LogisticRegression\n",
    "from sklearn.metrics import classification_report\n",
    "\n",
    "from src.data_setup import make_dataset as md\n",
    "\n",
    "# %load_ext autoreload\n",
    "# %autoreload 2\n",
    "%reload_ext autoreload"
   ]
  },
  {
   "cell_type": "markdown",
   "id": "bulgarian-genealogy",
   "metadata": {},
   "source": [
    "## Load Data\n",
    "Load the pickled training and test data."
   ]
  },
  {
   "cell_type": "code",
   "execution_count": 2,
   "id": "alike-rental",
   "metadata": {},
   "outputs": [],
   "source": [
    "X_train, X_test, y_train, y_test = md.load_train_test()"
   ]
  },
  {
   "cell_type": "code",
   "execution_count": 3,
   "id": "geographic-wages",
   "metadata": {},
   "outputs": [
    {
     "data": {
      "text/plain": [
       "(14692, 480000)"
      ]
     },
     "execution_count": 3,
     "metadata": {},
     "output_type": "execute_result"
    }
   ],
   "source": [
    "X_train.shape"
   ]
  },
  {
   "cell_type": "markdown",
   "id": "lovely-international",
   "metadata": {},
   "source": [
    "## Model\n",
    "Train a very simplistic logistic regression model. I will not consider rescaling at this time, either."
   ]
  },
  {
   "cell_type": "code",
   "execution_count": 8,
   "id": "fatal-development",
   "metadata": {},
   "outputs": [
    {
     "name": "stderr",
     "output_type": "stream",
     "text": [
      "/Users/dave/anaconda3/envs/springboard/lib/python3.8/site-packages/sklearn/linear_model/_sag.py:328: ConvergenceWarning: The max_iter was reached which means the coef_ did not converge\n",
      "  warnings.warn(\"The max_iter was reached which means \"\n"
     ]
    },
    {
     "name": "stdout",
     "output_type": "stream",
     "text": [
      "It took the model 130.384 minutes to run.\n"
     ]
    }
   ],
   "source": [
    "num_rows = 1000\n",
    "start = time()\n",
    "logreg = LogisticRegression(solver='saga', multi_class='multinomial', n_jobs=-1)\n",
    "logreg.fit(X_train[:num_rows, :], y_train[:num_rows])\n",
    "end = time()\n",
    "elapsed = end - start\n",
    "time_unit = 'seconds'\n",
    "if elapsed > 60:\n",
    "    elapsed = elapsed / 60\n",
    "    time_unit = 'minutes'\n",
    "print(f'It took the model {elapsed:0.3f} {time_unit} to run.')"
   ]
  },
  {
   "cell_type": "markdown",
   "id": "tough-touch",
   "metadata": {},
   "source": [
    "Notes:\n",
    "* RGB training data:\n",
    "    * It took 130.384 minutes to train on 1000 rows.\n",
    "    * If the training time scales up linearly, I computed it would take 31 hours to train!"
   ]
  },
  {
   "cell_type": "code",
   "execution_count": 5,
   "id": "involved-bicycle",
   "metadata": {},
   "outputs": [],
   "source": [
    "y_pred_train_logreg = logreg.predict(X_train)\n",
    "y_pred_logreg = logreg.predict(X_test)"
   ]
  },
  {
   "cell_type": "code",
   "execution_count": 6,
   "id": "likely-privilege",
   "metadata": {},
   "outputs": [
    {
     "name": "stdout",
     "output_type": "stream",
     "text": [
      "              precision    recall  f1-score   support\n",
      "\n",
      "         BAS       0.00      0.00      0.00        63\n",
      "         EBO       0.00      0.00      0.00        62\n",
      "         EOS       0.00      0.00      0.00       339\n",
      "         KSC       0.00      0.00      0.00        12\n",
      "         LYA       0.00      0.00      0.00         9\n",
      "         LYT       0.00      0.00      0.00      3150\n",
      "         MMZ       0.00      0.00      0.00        12\n",
      "         MOB       0.00      0.00      0.00        21\n",
      "         MON       0.00      0.00      0.00      1431\n",
      "         MYB       0.00      0.00      0.00        34\n",
      "         MYO       0.79      0.03      0.06      2615\n",
      "         NGB       0.00      0.00      0.00        87\n",
      "         NGS       0.47      1.00      0.64      6787\n",
      "         PMB       0.00      0.00      0.00        14\n",
      "         PMO       0.00      0.00      0.00        56\n",
      "\n",
      "    accuracy                           0.47     14692\n",
      "   macro avg       0.08      0.07      0.05     14692\n",
      "weighted avg       0.35      0.47      0.30     14692\n",
      "\n"
     ]
    },
    {
     "name": "stderr",
     "output_type": "stream",
     "text": [
      "/Users/dave/anaconda3/envs/springboard/lib/python3.8/site-packages/sklearn/metrics/_classification.py:1245: UndefinedMetricWarning: Precision and F-score are ill-defined and being set to 0.0 in labels with no predicted samples. Use `zero_division` parameter to control this behavior.\n",
      "  _warn_prf(average, modifier, msg_start, len(result))\n",
      "/Users/dave/anaconda3/envs/springboard/lib/python3.8/site-packages/sklearn/metrics/_classification.py:1245: UndefinedMetricWarning: Precision and F-score are ill-defined and being set to 0.0 in labels with no predicted samples. Use `zero_division` parameter to control this behavior.\n",
      "  _warn_prf(average, modifier, msg_start, len(result))\n",
      "/Users/dave/anaconda3/envs/springboard/lib/python3.8/site-packages/sklearn/metrics/_classification.py:1245: UndefinedMetricWarning: Precision and F-score are ill-defined and being set to 0.0 in labels with no predicted samples. Use `zero_division` parameter to control this behavior.\n",
      "  _warn_prf(average, modifier, msg_start, len(result))\n"
     ]
    }
   ],
   "source": [
    "print(classification_report(y_train, y_pred_train_logreg))"
   ]
  },
  {
   "cell_type": "code",
   "execution_count": null,
   "id": "light-british",
   "metadata": {},
   "outputs": [],
   "source": [
    "print(classification_report(y_test, y_pred_logreg))"
   ]
  }
 ],
 "metadata": {
  "kernelspec": {
   "display_name": "Python 3",
   "language": "python",
   "name": "python3"
  },
  "language_info": {
   "codemirror_mode": {
    "name": "ipython",
    "version": 3
   },
   "file_extension": ".py",
   "mimetype": "text/x-python",
   "name": "python",
   "nbconvert_exporter": "python",
   "pygments_lexer": "ipython3",
   "version": "3.8.8"
  }
 },
 "nbformat": 4,
 "nbformat_minor": 5
}
