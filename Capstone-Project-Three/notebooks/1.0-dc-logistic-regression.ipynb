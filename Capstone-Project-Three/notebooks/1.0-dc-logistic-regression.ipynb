{
 "cells": [
  {
   "cell_type": "markdown",
   "id": "controlling-motorcycle",
   "metadata": {},
   "source": [
    "# Logistic Regression Model\n",
    "## Business Problem\n",
    "Leukemia is a type of cancer of the blood that often affects young people. In the past, pathologists would diagnose patients by eye after examining blood smear images under the microscope. But, this is time consuming and tedious. Advances in image recognition technology have come a long ways since their inception. Therefore, automated solutions using computers would be of great benefit to the medical community to aid in cancer diagnoses.\n",
    "\n",
    "The goal of this project is to address the following question: How can the doctor’s at the Munich University Hospital automate the diagnosis of patients with leukemia using images from blood smears?\n",
    "\n",
    "## Approach\n",
    "In this notebook, I will try a simple logistic regression model on the dataset of flattened images. I will not consider class imbalance at this time, but will examain the results of the model at the end."
   ]
  },
  {
   "cell_type": "code",
   "execution_count": 1,
   "id": "invisible-commerce",
   "metadata": {},
   "outputs": [],
   "source": [
    "import os\n",
    "import pickle\n",
    "import sys\n",
    "sys.path.append('..')\n",
    "from time import time\n",
    "\n",
    "import cv2 as cv\n",
    "import matplotlib.pyplot as plt\n",
    "import numpy as np\n",
    "import pandas as pd\n",
    "from sklearn.linear_model import LogisticRegression\n",
    "from sklearn.metrics import classification_report\n",
    "\n",
    "from src import constants as con\n",
    "from src.data_setup import make_dataset as md\n",
    "from src.models import train_model as tm\n",
    "\n",
    "%load_ext autoreload\n",
    "%autoreload 2\n",
    "# %reload_ext autoreload"
   ]
  },
  {
   "cell_type": "markdown",
   "id": "commercial-hartford",
   "metadata": {},
   "source": [
    "## Load Data\n",
    "Load the pickled training and test data."
   ]
  },
  {
   "cell_type": "code",
   "execution_count": 2,
   "id": "underlying-capacity",
   "metadata": {},
   "outputs": [],
   "source": [
    "X_train, X_test, y_train, y_test = md.load_train_test()"
   ]
  },
  {
   "cell_type": "code",
   "execution_count": 3,
   "id": "christian-ghana",
   "metadata": {},
   "outputs": [
    {
     "data": {
      "text/plain": [
       "(123195, 2304)"
      ]
     },
     "execution_count": 3,
     "metadata": {},
     "output_type": "execute_result"
    }
   ],
   "source": [
    "X_train.shape"
   ]
  },
  {
   "cell_type": "markdown",
   "id": "dependent-novel",
   "metadata": {},
   "source": [
    "## Model\n",
    "Train a very simplistic logistic regression model. I will not consider rescaling at this time, either."
   ]
  },
  {
   "cell_type": "code",
   "execution_count": 4,
   "id": "medium-recipient",
   "metadata": {},
   "outputs": [
    {
     "name": "stdout",
     "output_type": "stream",
     "text": [
      "model type: LogisticRegression\n",
      "It took the model 11.443 hours to run.\n"
     ]
    }
   ],
   "source": [
    "logreg = LogisticRegression(solver='saga', multi_class='multinomial', n_jobs=-1, max_iter=10000)\n",
    "num_rows = -1\n",
    "tm.run_model(logreg, X_train[:num_rows, :], y_train[:num_rows], X_test, y_test)"
   ]
  },
  {
   "cell_type": "markdown",
   "id": "controlled-leeds",
   "metadata": {},
   "source": [
    "Notes:\n",
    "* RGB:\n",
    "    * It took 130.384 minutes to train on 1000 rows.\n",
    "    * If the training time scales up linearly, I computed it would take 31 hours to train!\n",
    "* Gray scale:\n",
    "    * It took 27.499 minutes to train on 100 rows.\n",
    "    * It would take 67 hours to train on full training dataset.\n",
    "* Gray scale, rescale by 50%:\n",
    "    * It took 2.529 minutes to train on 100 rows.\n",
    "    * It would take 6.2 hours to train on full training dataset.\n",
    "* Gray scale, rescale by 25%:\n",
    "    * It took 36.678 second to train on 100 rows.\n",
    "    * It would take 1.5 hours to train on training dataset.\n",
    "    * It actually took 12.83 hours.\n",
    "* Gray scale, rescale by 12%\n",
    "    * It took 8.763 second to train on 100 rows.\n",
    "    * It would take 21 minutes to train on the training dataset.\n",
    "    * It actually took 2.20 hours."
   ]
  },
  {
   "cell_type": "code",
   "execution_count": 5,
   "id": "declared-madison",
   "metadata": {},
   "outputs": [],
   "source": [
    "y_pred_train_logreg = logreg.predict(X_train)\n",
    "y_pred_logreg = logreg.predict(X_test)"
   ]
  },
  {
   "cell_type": "code",
   "execution_count": 6,
   "id": "distributed-submission",
   "metadata": {},
   "outputs": [
    {
     "name": "stdout",
     "output_type": "stream",
     "text": [
      "              precision    recall  f1-score   support\n",
      "\n",
      "         BAS       1.00      1.00      1.00        63\n",
      "         EBO       1.00      0.95      0.98        62\n",
      "         EOS       1.00      0.93      0.96       339\n",
      "         KSC       1.00      1.00      1.00        12\n",
      "         LYA       1.00      1.00      1.00         9\n",
      "         LYT       0.82      0.78      0.80      3150\n",
      "         MMZ       1.00      1.00      1.00        12\n",
      "         MOB       1.00      1.00      1.00        21\n",
      "         MON       0.85      0.73      0.79      1431\n",
      "         MYB       1.00      1.00      1.00        34\n",
      "         MYO       0.84      0.85      0.85      2615\n",
      "         NGB       1.00      0.99      0.99        87\n",
      "         NGS       0.88      0.92      0.90      6787\n",
      "         PMB       1.00      1.00      1.00        14\n",
      "         PMO       1.00      1.00      1.00        56\n",
      "\n",
      "    accuracy                           0.86     14692\n",
      "   macro avg       0.96      0.94      0.95     14692\n",
      "weighted avg       0.86      0.86      0.86     14692\n",
      "\n"
     ]
    }
   ],
   "source": [
    "print(classification_report(y_train, y_pred_train_logreg))"
   ]
  },
  {
   "cell_type": "code",
   "execution_count": 7,
   "id": "eastern-oxford",
   "metadata": {},
   "outputs": [
    {
     "name": "stdout",
     "output_type": "stream",
     "text": [
      "              precision    recall  f1-score   support\n",
      "\n",
      "         BAS       0.00      0.00      0.00        16\n",
      "         EBO       0.00      0.00      0.00        16\n",
      "         EOS       0.03      0.02      0.03        85\n",
      "         KSC       0.00      0.00      0.00         3\n",
      "         LYA       0.00      0.00      0.00         2\n",
      "         LYT       0.56      0.58      0.57       787\n",
      "         MMZ       0.00      0.00      0.00         3\n",
      "         MOB       0.00      0.00      0.00         5\n",
      "         MON       0.27      0.27      0.27       358\n",
      "         MYB       0.00      0.00      0.00         8\n",
      "         MYO       0.51      0.55      0.53       653\n",
      "         NGB       0.00      0.00      0.00        22\n",
      "         NGS       0.74      0.73      0.73      1697\n",
      "         PMB       0.00      0.00      0.00         4\n",
      "         PMO       0.25      0.14      0.18        14\n",
      "\n",
      "    accuracy                           0.59      3673\n",
      "   macro avg       0.16      0.15      0.15      3673\n",
      "weighted avg       0.58      0.59      0.58      3673\n",
      "\n"
     ]
    },
    {
     "name": "stderr",
     "output_type": "stream",
     "text": [
      "/Users/dave/anaconda3/envs/springboard/lib/python3.8/site-packages/sklearn/metrics/_classification.py:1245: UndefinedMetricWarning: Precision and F-score are ill-defined and being set to 0.0 in labels with no predicted samples. Use `zero_division` parameter to control this behavior.\n",
      "  _warn_prf(average, modifier, msg_start, len(result))\n",
      "/Users/dave/anaconda3/envs/springboard/lib/python3.8/site-packages/sklearn/metrics/_classification.py:1245: UndefinedMetricWarning: Precision and F-score are ill-defined and being set to 0.0 in labels with no predicted samples. Use `zero_division` parameter to control this behavior.\n",
      "  _warn_prf(average, modifier, msg_start, len(result))\n",
      "/Users/dave/anaconda3/envs/springboard/lib/python3.8/site-packages/sklearn/metrics/_classification.py:1245: UndefinedMetricWarning: Precision and F-score are ill-defined and being set to 0.0 in labels with no predicted samples. Use `zero_division` parameter to control this behavior.\n",
      "  _warn_prf(average, modifier, msg_start, len(result))\n"
     ]
    }
   ],
   "source": [
    "print(classification_report(y_test, y_pred_logreg))"
   ]
  },
  {
   "cell_type": "code",
   "execution_count": null,
   "id": "greater-express",
   "metadata": {},
   "outputs": [],
   "source": []
  }
 ],
 "metadata": {
  "kernelspec": {
   "display_name": "Python 3",
   "language": "python",
   "name": "python3"
  },
  "language_info": {
   "codemirror_mode": {
    "name": "ipython",
    "version": 3
   },
   "file_extension": ".py",
   "mimetype": "text/x-python",
   "name": "python",
   "nbconvert_exporter": "python",
   "pygments_lexer": "ipython3",
   "version": "3.8.8"
  }
 },
 "nbformat": 4,
 "nbformat_minor": 5
}
