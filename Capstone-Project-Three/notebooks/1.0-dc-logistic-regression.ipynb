{
 "cells": [
  {
   "cell_type": "markdown",
   "id": "refined-resort",
   "metadata": {},
   "source": [
    "# Logistic Regression Model\n",
    "## Business Problem\n",
    "Leukemia is a type of cancer of the blood that often affects young people. In the past, pathologists would diagnose patients by eye after examining blood smear images under the microscope. But, this is time consuming and tedious. Advances in image recognition technology have come a long ways since their inception. Therefore, automated solutions using computers would be of great benefit to the medical community to aid in cancer diagnoses.\n",
    "\n",
    "The goal of this project is to address the following question: How can the doctor’s at the Munich University Hospital automate the diagnosis of patients with leukemia using images from blood smears?\n",
    "\n",
    "## Approach\n",
    "In this notebook, I will try a simple logistic regression model on the dataset of flattened images. I will not consider class imbalance at this time, but will examain the results of the model at the end."
   ]
  },
  {
   "cell_type": "code",
   "execution_count": 7,
   "id": "surprising-advancement",
   "metadata": {},
   "outputs": [],
   "source": [
    "import os\n",
    "import pickle\n",
    "import sys\n",
    "sys.path.append('..')\n",
    "from time import time\n",
    "\n",
    "import cv2 as cv\n",
    "import matplotlib.pyplot as plt\n",
    "import numpy as np\n",
    "import pandas as pd\n",
    "from sklearn.linear_model import LogisticRegression\n",
    "from sklearn.metrics import classification_report\n",
    "\n",
    "from src.data_setup import make_dataset as md\n",
    "\n",
    "# %load_ext autoreload\n",
    "# %autoreload 2\n",
    "%reload_ext autoreload"
   ]
  },
  {
   "cell_type": "markdown",
   "id": "everyday-fairy",
   "metadata": {},
   "source": [
    "## Load Data\n",
    "Load the pickled training and test data."
   ]
  },
  {
   "cell_type": "code",
   "execution_count": 8,
   "id": "previous-battery",
   "metadata": {},
   "outputs": [],
   "source": [
    "X_train, X_test, y_train, y_test = md.load_train_test()"
   ]
  },
  {
   "cell_type": "code",
   "execution_count": 9,
   "id": "geographic-hybrid",
   "metadata": {},
   "outputs": [
    {
     "data": {
      "text/plain": [
       "(14692, 10000)"
      ]
     },
     "execution_count": 9,
     "metadata": {},
     "output_type": "execute_result"
    }
   ],
   "source": [
    "X_train.shape"
   ]
  },
  {
   "cell_type": "markdown",
   "id": "valuable-stuff",
   "metadata": {},
   "source": [
    "## Model\n",
    "Train a very simplistic logistic regression model. I will not consider rescaling at this time, either."
   ]
  },
  {
   "cell_type": "code",
   "execution_count": 10,
   "id": "controlled-gather",
   "metadata": {},
   "outputs": [
    {
     "name": "stdout",
     "output_type": "stream",
     "text": [
      "It took the model 36.678 seconds to run.\n"
     ]
    }
   ],
   "source": [
    "num_rows = 100\n",
    "start = time()\n",
    "logreg = LogisticRegression(solver='saga', multi_class='multinomial', n_jobs=-1, max_iter=10000)\n",
    "logreg.fit(X_train[:num_rows, :], y_train[:num_rows])\n",
    "end = time()\n",
    "elapsed = end - start\n",
    "time_unit = 'seconds'\n",
    "if elapsed > 60:\n",
    "    elapsed = elapsed / 60\n",
    "    time_unit = 'minutes'\n",
    "print(f'It took the model {elapsed:0.3f} {time_unit} to run.')"
   ]
  },
  {
   "cell_type": "markdown",
   "id": "stunning-sociology",
   "metadata": {},
   "source": [
    "Notes:\n",
    "* RGB:\n",
    "    * It took 130.384 minutes to train on 1000 rows.\n",
    "    * If the training time scales up linearly, I computed it would take 31 hours to train!\n",
    "* Gray scale:\n",
    "    * It took 27.499 minutes to train on 100 rows.\n",
    "    * It would take 67 hours to train on full training dataset.\n",
    "* Gray scale, rescale by 50%:\n",
    "    * It took 2.529 minutes to train on 100 rows.\n",
    "    * It would take 6.2 hours to train on full training dataset.\n",
    "* Gray scale, rescale by 25%:\n",
    "    * It took 36.678 second to train on 100 rows.\n",
    "    * It would take 1.5 hours to train on training dataset."
   ]
  },
  {
   "cell_type": "code",
   "execution_count": 12,
   "id": "planned-patio",
   "metadata": {},
   "outputs": [
    {
     "data": {
      "text/plain": [
       "1.496869933333333"
      ]
     },
     "execution_count": 12,
     "metadata": {},
     "output_type": "execute_result"
    }
   ],
   "source": [
    "(((14692/100)*36.678)/60)/60"
   ]
  },
  {
   "cell_type": "code",
   "execution_count": 18,
   "id": "spoken-angle",
   "metadata": {},
   "outputs": [
    {
     "data": {
      "text/plain": [
       "67.33588466666666"
      ]
     },
     "execution_count": 18,
     "metadata": {},
     "output_type": "execute_result"
    }
   ],
   "source": [
    "((14692/100)*27.499)/60"
   ]
  },
  {
   "cell_type": "code",
   "execution_count": 20,
   "id": "alone-penny",
   "metadata": {},
   "outputs": [
    {
     "data": {
      "text/plain": [
       "38.00330666666667"
      ]
     },
     "execution_count": 20,
     "metadata": {},
     "output_type": "execute_result"
    },
    {
     "name": "stderr",
     "output_type": "stream",
     "text": [
      "/Users/dave/anaconda3/envs/springboard/lib/python3.8/site-packages/sklearn/linear_model/_sag.py:328: ConvergenceWarning: The max_iter was reached which means the coef_ did not converge\n",
      "  warnings.warn(\"The max_iter was reached which means \"\n"
     ]
    }
   ],
   "source": [
    "((14692/10)*1.552)/60"
   ]
  },
  {
   "cell_type": "code",
   "execution_count": 5,
   "id": "tracked-cylinder",
   "metadata": {},
   "outputs": [],
   "source": [
    "y_pred_train_logreg = logreg.predict(X_train)\n",
    "y_pred_logreg = logreg.predict(X_test)"
   ]
  },
  {
   "cell_type": "code",
   "execution_count": 6,
   "id": "adequate-danish",
   "metadata": {},
   "outputs": [
    {
     "name": "stdout",
     "output_type": "stream",
     "text": [
      "              precision    recall  f1-score   support\n",
      "\n",
      "         BAS       0.00      0.00      0.00        63\n",
      "         EBO       0.00      0.00      0.00        62\n",
      "         EOS       0.00      0.00      0.00       339\n",
      "         KSC       0.00      0.00      0.00        12\n",
      "         LYA       0.00      0.00      0.00         9\n",
      "         LYT       0.00      0.00      0.00      3150\n",
      "         MMZ       0.00      0.00      0.00        12\n",
      "         MOB       0.00      0.00      0.00        21\n",
      "         MON       0.00      0.00      0.00      1431\n",
      "         MYB       0.00      0.00      0.00        34\n",
      "         MYO       0.79      0.03      0.06      2615\n",
      "         NGB       0.00      0.00      0.00        87\n",
      "         NGS       0.47      1.00      0.64      6787\n",
      "         PMB       0.00      0.00      0.00        14\n",
      "         PMO       0.00      0.00      0.00        56\n",
      "\n",
      "    accuracy                           0.47     14692\n",
      "   macro avg       0.08      0.07      0.05     14692\n",
      "weighted avg       0.35      0.47      0.30     14692\n",
      "\n"
     ]
    },
    {
     "name": "stderr",
     "output_type": "stream",
     "text": [
      "/Users/dave/anaconda3/envs/springboard/lib/python3.8/site-packages/sklearn/metrics/_classification.py:1245: UndefinedMetricWarning: Precision and F-score are ill-defined and being set to 0.0 in labels with no predicted samples. Use `zero_division` parameter to control this behavior.\n",
      "  _warn_prf(average, modifier, msg_start, len(result))\n",
      "/Users/dave/anaconda3/envs/springboard/lib/python3.8/site-packages/sklearn/metrics/_classification.py:1245: UndefinedMetricWarning: Precision and F-score are ill-defined and being set to 0.0 in labels with no predicted samples. Use `zero_division` parameter to control this behavior.\n",
      "  _warn_prf(average, modifier, msg_start, len(result))\n",
      "/Users/dave/anaconda3/envs/springboard/lib/python3.8/site-packages/sklearn/metrics/_classification.py:1245: UndefinedMetricWarning: Precision and F-score are ill-defined and being set to 0.0 in labels with no predicted samples. Use `zero_division` parameter to control this behavior.\n",
      "  _warn_prf(average, modifier, msg_start, len(result))\n"
     ]
    }
   ],
   "source": [
    "print(classification_report(y_train, y_pred_train_logreg))"
   ]
  },
  {
   "cell_type": "code",
   "execution_count": null,
   "id": "purple-division",
   "metadata": {},
   "outputs": [],
   "source": [
    "print(classification_report(y_test, y_pred_logreg))"
   ]
  }
 ],
 "metadata": {
  "kernelspec": {
   "display_name": "Python 3",
   "language": "python",
   "name": "python3"
  },
  "language_info": {
   "codemirror_mode": {
    "name": "ipython",
    "version": 3
   },
   "file_extension": ".py",
   "mimetype": "text/x-python",
   "name": "python",
   "nbconvert_exporter": "python",
   "pygments_lexer": "ipython3",
   "version": "3.8.8"
  }
 },
 "nbformat": 4,
 "nbformat_minor": 5
}
