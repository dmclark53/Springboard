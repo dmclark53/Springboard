{
 "cells": [
  {
   "cell_type": "markdown",
   "id": "manufactured-influence",
   "metadata": {},
   "source": [
    "# LinearSVC Model\n",
    "## Business Problem\n",
    "Leukemia is a type of cancer of the blood that often affects young people. In the past, pathologists would diagnose patients by eye after examining blood smear images under the microscope. But, this is time consuming and tedious. Advances in image recognition technology have come a long ways since their inception. Therefore, automated solutions using computers would be of great benefit to the medical community to aid in cancer diagnoses.\n",
    "\n",
    "The goal of this project is to address the following question: How can the doctor’s at the Munich University Hospital automate the diagnosis of patients with leukemia using images from blood smears?\n",
    "\n",
    "## Approach\n",
    "In this notebook, I will try a LinearSVC model on the dataset of flattened images."
   ]
  },
  {
   "cell_type": "code",
   "execution_count": 1,
   "id": "explicit-participation",
   "metadata": {},
   "outputs": [],
   "source": [
    "import os\n",
    "import pickle\n",
    "import sys\n",
    "sys.path.append('..')\n",
    "from time import time\n",
    "\n",
    "import cv2 as cv\n",
    "import matplotlib.pyplot as plt\n",
    "import numpy as np\n",
    "import pandas as pd\n",
    "from sklearn.metrics import classification_report\n",
    "from sklearn.svm import LinearSVC\n",
    "\n",
    "from src import constants as con\n",
    "from src.data_setup import make_dataset as md\n",
    "from src.models import train_model as tm\n",
    "\n",
    "%load_ext autoreload\n",
    "%autoreload 2\n",
    "# %reload_ext autoreload"
   ]
  },
  {
   "cell_type": "markdown",
   "id": "recorded-liverpool",
   "metadata": {},
   "source": [
    "## Load Data\n",
    "Load the pickled training and test data."
   ]
  },
  {
   "cell_type": "code",
   "execution_count": 2,
   "id": "cubic-probe",
   "metadata": {},
   "outputs": [],
   "source": [
    "X_train, X_test, y_train, y_test = md.load_train_test()"
   ]
  },
  {
   "cell_type": "code",
   "execution_count": 3,
   "id": "hidden-storm",
   "metadata": {},
   "outputs": [
    {
     "data": {
      "text/plain": [
       "(123195, 2304)"
      ]
     },
     "execution_count": 3,
     "metadata": {},
     "output_type": "execute_result"
    }
   ],
   "source": [
    "X_train.shape"
   ]
  },
  {
   "cell_type": "markdown",
   "id": "satisfactory-appointment",
   "metadata": {},
   "source": [
    "## Model\n",
    "Train a very simplistic LinearSVC model."
   ]
  },
  {
   "cell_type": "code",
   "execution_count": 4,
   "id": "disabled-twist",
   "metadata": {},
   "outputs": [],
   "source": [
    "svc = LinearSVC(random_state=42)"
   ]
  },
  {
   "cell_type": "code",
   "execution_count": 5,
   "id": "brutal-modern",
   "metadata": {},
   "outputs": [
    {
     "name": "stdout",
     "output_type": "stream",
     "text": [
      "model type: LinearSVC\n"
     ]
    },
    {
     "name": "stderr",
     "output_type": "stream",
     "text": [
      "/Users/dave/anaconda3/envs/springboard/lib/python3.8/site-packages/sklearn/svm/_base.py:985: ConvergenceWarning: Liblinear failed to converge, increase the number of iterations.\n",
      "  warnings.warn(\"Liblinear failed to converge, increase \"\n"
     ]
    },
    {
     "name": "stdout",
     "output_type": "stream",
     "text": [
      "It took the model 54.650 minutes to run.\n"
     ]
    }
   ],
   "source": [
    "num_rows = -1\n",
    "tm.run_model(svc, X_train[:num_rows, :], y_train[:num_rows], X_test, y_test)"
   ]
  },
  {
   "cell_type": "code",
   "execution_count": 6,
   "id": "explicit-trace",
   "metadata": {},
   "outputs": [],
   "source": [
    "y_pred_train_svc = svc.predict(X_train)\n",
    "y_pred_svc = svc.predict(X_test)"
   ]
  },
  {
   "cell_type": "code",
   "execution_count": 7,
   "id": "automotive-player",
   "metadata": {},
   "outputs": [
    {
     "name": "stdout",
     "output_type": "stream",
     "text": [
      "              precision    recall  f1-score   support\n",
      "\n",
      "         BAS       1.00      1.00      1.00      8213\n",
      "         EBO       1.00      1.00      1.00      8213\n",
      "         EOS       0.99      1.00      0.99      8213\n",
      "         KSC       1.00      1.00      1.00      8213\n",
      "         LYA       1.00      1.00      1.00      8213\n",
      "         LYT       0.75      0.89      0.81      8213\n",
      "         MMZ       1.00      1.00      1.00      8213\n",
      "         MOB       1.00      1.00      1.00      8213\n",
      "         MON       0.77      0.88      0.82      8213\n",
      "         MYB       1.00      1.00      1.00      8213\n",
      "         MYO       0.82      0.76      0.79      8213\n",
      "         NGB       1.00      1.00      1.00      8213\n",
      "         NGS       0.85      0.62      0.72      8213\n",
      "         PMB       1.00      1.00      1.00      8213\n",
      "         PMO       1.00      1.00      1.00      8213\n",
      "\n",
      "    accuracy                           0.94    123195\n",
      "   macro avg       0.94      0.94      0.94    123195\n",
      "weighted avg       0.94      0.94      0.94    123195\n",
      "\n"
     ]
    }
   ],
   "source": [
    "print(classification_report(y_train, y_pred_train_svc))"
   ]
  },
  {
   "cell_type": "code",
   "execution_count": 8,
   "id": "sound-voice",
   "metadata": {},
   "outputs": [
    {
     "name": "stdout",
     "output_type": "stream",
     "text": [
      "              precision    recall  f1-score   support\n",
      "\n",
      "         BAS       0.00      0.00      0.00        16\n",
      "         EBO       0.00      0.00      0.00        16\n",
      "         EOS       0.03      0.06      0.04        85\n",
      "         KSC       0.00      0.00      0.00         3\n",
      "         LYA       0.00      0.00      0.00         2\n",
      "         LYT       0.46      0.67      0.55       787\n",
      "         MMZ       0.00      0.00      0.00         3\n",
      "         MOB       0.00      0.00      0.00         5\n",
      "         MON       0.20      0.35      0.25       358\n",
      "         MYB       0.00      0.00      0.00         8\n",
      "         MYO       0.45      0.44      0.45       653\n",
      "         NGB       0.00      0.00      0.00        22\n",
      "         NGS       0.78      0.45      0.57      1697\n",
      "         PMB       0.00      0.00      0.00         4\n",
      "         PMO       0.00      0.00      0.00        14\n",
      "\n",
      "    accuracy                           0.47      3673\n",
      "   macro avg       0.13      0.13      0.12      3673\n",
      "weighted avg       0.56      0.47      0.49      3673\n",
      "\n"
     ]
    }
   ],
   "source": [
    "print(classification_report(y_test, y_pred_svc))"
   ]
  },
  {
   "cell_type": "code",
   "execution_count": null,
   "id": "valuable-testament",
   "metadata": {},
   "outputs": [],
   "source": []
  }
 ],
 "metadata": {
  "kernelspec": {
   "display_name": "Python 3",
   "language": "python",
   "name": "python3"
  },
  "language_info": {
   "codemirror_mode": {
    "name": "ipython",
    "version": 3
   },
   "file_extension": ".py",
   "mimetype": "text/x-python",
   "name": "python",
   "nbconvert_exporter": "python",
   "pygments_lexer": "ipython3",
   "version": "3.8.8"
  }
 },
 "nbformat": 4,
 "nbformat_minor": 5
}
