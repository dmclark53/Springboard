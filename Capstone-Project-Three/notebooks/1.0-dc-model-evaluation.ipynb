{
 "cells": [
  {
   "cell_type": "markdown",
   "id": "relevant-parliament",
   "metadata": {},
   "source": [
    "# Model Evaluation\n",
    "## Business Problem\n",
    "Leukemia is a type of cancer of the blood that often affects young people. In the past, pathologists would diagnose patients by eye after examining blood smear images under the microscope. But, this is time consuming and tedious. Advances in image recognition technology have come a long ways since their inception. Therefore, automated solutions using computers would be of great benefit to the medical community to aid in cancer diagnoses.\n",
    "\n",
    "The goal of this project is to address the following question: How can the doctor’s at the Munich University Hospital automate the diagnosis of patients with leukemia using images from blood smears?\n",
    "\n",
    "## Approach\n",
    "After preprocessing the image data, I chose to evaluate four different models to see how well each could predict leukocite class from the blood smear images. These were:\n",
    "\n",
    "* Logistic Regression.\n",
    "* Random Forest.\n",
    "* XGBoost.\n",
    "* Support Vector Classifier (LinearSVC).\n",
    "\n",
    "During training, the data was modified in the following manner:\n",
    "\n",
    "* Converted to gray scale.\n",
    "* Rescaled by 25%.\n",
    "* Flattened into 1-dimensional areas.\n",
    "* Oversampled using boostrapping to account for class imbalance.\n",
    "\n",
    "The first two modifications were chosen to improve model performance and reduce training time.\n",
    "\n",
    "## Notebooks\n",
    "Since each model took several hours to run, I created separate notebooks for each model. These are:\n",
    "\n",
    "* [Logistic Regression](https://github.com/dmclark53/Springboard/blob/main/Capstone-Project-Three/notebooks/1.0-dc-logistic-regression.ipynb).\n",
    "* [Random Forest](https://github.com/dmclark53/Springboard/blob/main/Capstone-Project-Three/notebooks/1.0-dc-random-forest.ipynb).\n",
    "* [XGBoost](https://github.com/dmclark53/Springboard/blob/main/Capstone-Project-Three/notebooks/1.0-dc-xgboost.ipynb).\n",
    "* [LinearSVC](https://github.com/dmclark53/Springboard/blob/main/Capstone-Project-Three/notebooks/1.0-dc-linearsvc.ipynb).\n",
    "\n",
    "## Summary\n",
    "I discovered that all models strongly over fit and did poorly on the test set. The best accuracy was achieved by the LinearSVC model with a value of 86%. However, no model was able to give addiquate F1 scores for the individual classes. In many cases, the F1 score was zero.\n",
    "\n",
    "## Future Work\n",
    "I will try two strategies to improve model perform:\n",
    "1. Deep Learning.\n",
    "    * Convolutional neural networks have proven success in image classification. I will build out a deep learning architecture from scratch and investigate if this strategy will improve model performance.\n",
    "2. Image Augmentation.\n",
    "    * During model evaluation, I tried accounting for unbalanced classes by using boostrapping. Since this did not lead to good model performace, I will try image augmenation instead."
   ]
  },
  {
   "cell_type": "code",
   "execution_count": null,
   "id": "emotional-silence",
   "metadata": {},
   "outputs": [],
   "source": []
  }
 ],
 "metadata": {
  "kernelspec": {
   "display_name": "Python 3",
   "language": "python",
   "name": "python3"
  },
  "language_info": {
   "codemirror_mode": {
    "name": "ipython",
    "version": 3
   },
   "file_extension": ".py",
   "mimetype": "text/x-python",
   "name": "python",
   "nbconvert_exporter": "python",
   "pygments_lexer": "ipython3",
   "version": "3.8.8"
  }
 },
 "nbformat": 4,
 "nbformat_minor": 5
}
