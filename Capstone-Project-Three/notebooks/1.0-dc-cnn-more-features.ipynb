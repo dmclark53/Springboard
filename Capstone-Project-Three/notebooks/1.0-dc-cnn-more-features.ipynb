{
 "cells": [
  {
   "cell_type": "markdown",
   "id": "developing-package",
   "metadata": {},
   "source": [
    "# Deep Learning Model: CNN - More Features\n",
    "## Business Problem\n",
    "Leukemia is a type of cancer of the blood that often affects young people. In the past, pathologists would diagnose patients by eye after examining blood smear images under the microscope. But, this is time consuming and tedious. Advances in image recognition technology have come a long ways since their inception. Therefore, automated solutions using computers would be of great benefit to the medical community to aid in cancer diagnoses.\n",
    "\n",
    "The goal of this project is to address the following question: How can the doctor’s at the Munich University Hospital automate the diagnosis of patients with leukemia using images from blood smears?\n",
    "\n",
    "## Approach\n",
    "In the first deep learning notebook, I discovered that the model was not able to learn anything useful from the training data. To address this issue, I will try training the model on larger images. Instead of using the images rescaled by 12%, I will use the images rescaled by 25%. This will give the neural network more features to work with and could help improve its performance."
   ]
  },
  {
   "cell_type": "code",
   "execution_count": 1,
   "id": "reliable-roberts",
   "metadata": {},
   "outputs": [],
   "source": [
    "import sys\n",
    "sys.path.append('..')\n",
    "from time import time\n",
    "\n",
    "from keras import layers\n",
    "from keras import metrics\n",
    "from keras import models\n",
    "from keras.utils import to_categorical\n",
    "import matplotlib.pyplot as plt\n",
    "import numpy as np\n",
    "import pandas as pd\n",
    "import seaborn as sns\n",
    "from sklearn.metrics import classification_report\n",
    "from sklearn.model_selection import train_test_split\n",
    "from sklearn.metrics import confusion_matrix\n",
    "from sklearn.utils.class_weight import compute_class_weight\n",
    "\n",
    "from src.data_setup import make_dataset as md\n",
    "from src.modeling import evaluate_model as em\n",
    "\n",
    "%matplotlib inline"
   ]
  },
  {
   "cell_type": "markdown",
   "id": "southeast-theory",
   "metadata": {},
   "source": [
    "## Load Data\n",
    "Load the pickled training and test data."
   ]
  },
  {
   "cell_type": "code",
   "execution_count": 2,
   "id": "cellular-sphere",
   "metadata": {},
   "outputs": [],
   "source": [
    "X_train, X_test, y_train, y_test = md.load_train_test('gray_rescale25')"
   ]
  },
  {
   "cell_type": "code",
   "execution_count": 3,
   "id": "decent-regulation",
   "metadata": {},
   "outputs": [
    {
     "data": {
      "text/plain": [
       "(14692, 10000)"
      ]
     },
     "execution_count": 3,
     "metadata": {},
     "output_type": "execute_result"
    }
   ],
   "source": [
    "X_train.shape"
   ]
  },
  {
   "cell_type": "code",
   "execution_count": 4,
   "id": "entertaining-guard",
   "metadata": {},
   "outputs": [
    {
     "data": {
      "text/plain": [
       "NGS    6787\n",
       "LYT    3150\n",
       "MYO    2615\n",
       "MON    1431\n",
       "EOS     339\n",
       "NGB      87\n",
       "BAS      63\n",
       "EBO      62\n",
       "PMO      56\n",
       "MYB      34\n",
       "MOB      21\n",
       "PMB      14\n",
       "MMZ      12\n",
       "KSC      12\n",
       "LYA       9\n",
       "dtype: int64"
      ]
     },
     "execution_count": 4,
     "metadata": {},
     "output_type": "execute_result"
    }
   ],
   "source": [
    "pd.Series(y_train).value_counts()"
   ]
  },
  {
   "cell_type": "code",
   "execution_count": 5,
   "id": "private-cemetery",
   "metadata": {},
   "outputs": [
    {
     "data": {
      "text/plain": [
       "NGS    1697\n",
       "LYT     787\n",
       "MYO     653\n",
       "MON     358\n",
       "EOS      85\n",
       "NGB      22\n",
       "EBO      16\n",
       "BAS      16\n",
       "PMO      14\n",
       "MYB       8\n",
       "MOB       5\n",
       "PMB       4\n",
       "MMZ       3\n",
       "KSC       3\n",
       "LYA       2\n",
       "dtype: int64"
      ]
     },
     "execution_count": 5,
     "metadata": {},
     "output_type": "execute_result"
    }
   ],
   "source": [
    "pd.Series(y_test).value_counts()"
   ]
  },
  {
   "cell_type": "markdown",
   "id": "comic-certification",
   "metadata": {},
   "source": [
    "## Data Preparation\n",
    "### Unflatten\n",
    "Unflatten the feature arrays, converting them back into arrays of 2-dimensional images."
   ]
  },
  {
   "cell_type": "code",
   "execution_count": 6,
   "id": "dominant-campus",
   "metadata": {},
   "outputs": [],
   "source": [
    "def unflatten(X):\n",
    "    dimension = int(np.sqrt(X.shape[1]))\n",
    "    return X.reshape((len(X), dimension, dimension, 1))"
   ]
  },
  {
   "cell_type": "code",
   "execution_count": 7,
   "id": "superior-heading",
   "metadata": {},
   "outputs": [
    {
     "data": {
      "text/plain": [
       "(14692, 100, 100, 1)"
      ]
     },
     "execution_count": 7,
     "metadata": {},
     "output_type": "execute_result"
    }
   ],
   "source": [
    "X_train_unflatten = unflatten(X_train)\n",
    "X_train_unflatten.shape"
   ]
  },
  {
   "cell_type": "code",
   "execution_count": 8,
   "id": "human-pepper",
   "metadata": {},
   "outputs": [
    {
     "data": {
      "text/plain": [
       "(3673, 100, 100, 1)"
      ]
     },
     "execution_count": 8,
     "metadata": {},
     "output_type": "execute_result"
    }
   ],
   "source": [
    "X_test_unflatten = unflatten(X_test)\n",
    "X_test_unflatten.shape"
   ]
  },
  {
   "cell_type": "markdown",
   "id": "asian-hello",
   "metadata": {},
   "source": [
    "### Normalize\n",
    "Normalize the features, to values between 0 and 1."
   ]
  },
  {
   "cell_type": "code",
   "execution_count": 9,
   "id": "aquatic-acoustic",
   "metadata": {},
   "outputs": [
    {
     "name": "stdout",
     "output_type": "stream",
     "text": [
      "The maximum value for the training set is 255.\n",
      "The maximum value for the test set is 255.\n"
     ]
    }
   ],
   "source": [
    "print(f'The maximum value for the training set is {X_train_unflatten.max()}.')\n",
    "print(f'The maximum value for the test set is {X_test_unflatten.max()}.')"
   ]
  },
  {
   "cell_type": "code",
   "execution_count": 10,
   "id": "indian-contest",
   "metadata": {},
   "outputs": [],
   "source": [
    "X_train_normalized = X_train_unflatten / X_train_unflatten.max()\n",
    "X_test_normalized = X_test_unflatten / X_test_unflatten.max()"
   ]
  },
  {
   "cell_type": "code",
   "execution_count": 11,
   "id": "native-whale",
   "metadata": {},
   "outputs": [
    {
     "name": "stdout",
     "output_type": "stream",
     "text": [
      "The maximum value for the normalized training set is 1.0.\n",
      "The maximum value for the normalized test set is 1.0.\n"
     ]
    }
   ],
   "source": [
    "print(f'The maximum value for the normalized training set is {X_train_normalized.max()}.')\n",
    "print(f'The maximum value for the normalized test set is {X_test_normalized.max()}.')"
   ]
  },
  {
   "cell_type": "markdown",
   "id": "useful-valuation",
   "metadata": {},
   "source": [
    "### Categories\n",
    "First, encode the labels to integer values."
   ]
  },
  {
   "cell_type": "code",
   "execution_count": 12,
   "id": "quick-equality",
   "metadata": {},
   "outputs": [],
   "source": [
    "label_encodings = {value: i for i, value in enumerate(np.unique(y_train))}"
   ]
  },
  {
   "cell_type": "code",
   "execution_count": 13,
   "id": "furnished-truth",
   "metadata": {},
   "outputs": [
    {
     "data": {
      "text/plain": [
       "{'BAS': 0,\n",
       " 'EBO': 1,\n",
       " 'EOS': 2,\n",
       " 'KSC': 3,\n",
       " 'LYA': 4,\n",
       " 'LYT': 5,\n",
       " 'MMZ': 6,\n",
       " 'MOB': 7,\n",
       " 'MON': 8,\n",
       " 'MYB': 9,\n",
       " 'MYO': 10,\n",
       " 'NGB': 11,\n",
       " 'NGS': 12,\n",
       " 'PMB': 13,\n",
       " 'PMO': 14}"
      ]
     },
     "execution_count": 13,
     "metadata": {},
     "output_type": "execute_result"
    }
   ],
   "source": [
    "label_encodings"
   ]
  },
  {
   "cell_type": "code",
   "execution_count": 14,
   "id": "defined-travel",
   "metadata": {},
   "outputs": [
    {
     "data": {
      "text/plain": [
       "NGS    6787\n",
       "LYT    3150\n",
       "MYO    2615\n",
       "MON    1431\n",
       "EOS     339\n",
       "NGB      87\n",
       "BAS      63\n",
       "EBO      62\n",
       "PMO      56\n",
       "MYB      34\n",
       "MOB      21\n",
       "PMB      14\n",
       "MMZ      12\n",
       "KSC      12\n",
       "LYA       9\n",
       "dtype: int64"
      ]
     },
     "execution_count": 14,
     "metadata": {},
     "output_type": "execute_result"
    }
   ],
   "source": [
    "pd.Series(y_train).value_counts()"
   ]
  },
  {
   "cell_type": "code",
   "execution_count": 15,
   "id": "finite-reach",
   "metadata": {},
   "outputs": [],
   "source": [
    "y_train_encoded = pd.Series(y_train).replace(label_encodings).values\n",
    "y_test_encoded = pd.Series(y_test).replace(label_encodings).values"
   ]
  },
  {
   "cell_type": "code",
   "execution_count": 16,
   "id": "difficult-subscriber",
   "metadata": {},
   "outputs": [
    {
     "data": {
      "text/plain": [
       "array([ 0,  1,  2,  3,  4,  5,  6,  7,  8,  9, 10, 11, 12, 13, 14])"
      ]
     },
     "execution_count": 16,
     "metadata": {},
     "output_type": "execute_result"
    }
   ],
   "source": [
    "np.unique(y_train_encoded)"
   ]
  },
  {
   "cell_type": "code",
   "execution_count": 17,
   "id": "improved-monthly",
   "metadata": {},
   "outputs": [
    {
     "data": {
      "text/plain": [
       "array([ 0,  1,  2,  3,  4,  5,  6,  7,  8,  9, 10, 11, 12, 13, 14])"
      ]
     },
     "execution_count": 17,
     "metadata": {},
     "output_type": "execute_result"
    }
   ],
   "source": [
    "np.unique(y_test_encoded)"
   ]
  },
  {
   "cell_type": "markdown",
   "id": "innocent-divide",
   "metadata": {},
   "source": [
    "Second, encode the integer labels as one-hot vectors."
   ]
  },
  {
   "cell_type": "code",
   "execution_count": 18,
   "id": "emotional-huntington",
   "metadata": {},
   "outputs": [],
   "source": [
    "y_train_one_hot = to_categorical(y_train_encoded)\n",
    "y_test_one_hot = to_categorical(y_test_encoded)"
   ]
  },
  {
   "cell_type": "code",
   "execution_count": 19,
   "id": "opened-accommodation",
   "metadata": {},
   "outputs": [
    {
     "data": {
      "text/plain": [
       "(14692, 15)"
      ]
     },
     "execution_count": 19,
     "metadata": {},
     "output_type": "execute_result"
    }
   ],
   "source": [
    "y_train_one_hot.shape"
   ]
  },
  {
   "cell_type": "code",
   "execution_count": 20,
   "id": "primary-winner",
   "metadata": {},
   "outputs": [
    {
     "data": {
      "text/plain": [
       "array([[0., 0., 0., 0., 0., 0., 0., 0., 0., 0., 0., 0., 1., 0., 0.],\n",
       "       [0., 0., 0., 0., 0., 0., 0., 0., 0., 0., 0., 0., 1., 0., 0.],\n",
       "       [0., 0., 0., 0., 0., 0., 0., 0., 0., 0., 0., 0., 1., 0., 0.],\n",
       "       [0., 0., 0., 0., 0., 0., 0., 0., 0., 0., 1., 0., 0., 0., 0.],\n",
       "       [0., 0., 0., 0., 0., 0., 0., 0., 0., 0., 0., 0., 1., 0., 0.]],\n",
       "      dtype=float32)"
      ]
     },
     "execution_count": 20,
     "metadata": {},
     "output_type": "execute_result"
    }
   ],
   "source": [
    "y_train_one_hot[0:5, :]"
   ]
  },
  {
   "cell_type": "code",
   "execution_count": 21,
   "id": "genuine-alpha",
   "metadata": {},
   "outputs": [
    {
     "data": {
      "text/plain": [
       "(3673, 15)"
      ]
     },
     "execution_count": 21,
     "metadata": {},
     "output_type": "execute_result"
    }
   ],
   "source": [
    "y_test_one_hot.shape"
   ]
  },
  {
   "cell_type": "code",
   "execution_count": 22,
   "id": "thrown-academy",
   "metadata": {},
   "outputs": [
    {
     "data": {
      "text/plain": [
       "array([[0., 0., 0., 0., 0., 0., 0., 0., 0., 0., 0., 0., 1., 0., 0.],\n",
       "       [0., 0., 0., 0., 0., 1., 0., 0., 0., 0., 0., 0., 0., 0., 0.],\n",
       "       [0., 0., 0., 0., 0., 0., 0., 0., 0., 0., 1., 0., 0., 0., 0.],\n",
       "       [0., 0., 0., 0., 0., 0., 0., 0., 0., 0., 0., 0., 1., 0., 0.],\n",
       "       [0., 0., 0., 0., 0., 0., 0., 0., 0., 0., 0., 0., 1., 0., 0.]],\n",
       "      dtype=float32)"
      ]
     },
     "execution_count": 22,
     "metadata": {},
     "output_type": "execute_result"
    }
   ],
   "source": [
    "y_test_one_hot[0:5, :]"
   ]
  },
  {
   "cell_type": "markdown",
   "id": "engaging-contractor",
   "metadata": {},
   "source": [
    "## Validation Set\n",
    "Now that we have preprocessed the training data, I will create a validation set. This will be used to evaluate how the deep learning model is training."
   ]
  },
  {
   "cell_type": "code",
   "execution_count": 23,
   "id": "packed-edmonton",
   "metadata": {},
   "outputs": [],
   "source": [
    "X_train_normalized, X_val, y_train_one_hot, y_val = train_test_split(X_train_normalized, y_train_one_hot, test_size=0.1, random_state=42)"
   ]
  },
  {
   "cell_type": "markdown",
   "id": "constitutional-cleaners",
   "metadata": {},
   "source": [
    "## Define Model"
   ]
  },
  {
   "cell_type": "code",
   "execution_count": 24,
   "id": "vietnamese-angel",
   "metadata": {},
   "outputs": [
    {
     "name": "stdout",
     "output_type": "stream",
     "text": [
      "The input shape is (100, 100, 1).\n"
     ]
    }
   ],
   "source": [
    "input_shape = X_train_unflatten.shape[1:]\n",
    "print(f'The input shape is {input_shape}.')"
   ]
  },
  {
   "cell_type": "code",
   "execution_count": 25,
   "id": "killing-antenna",
   "metadata": {},
   "outputs": [],
   "source": [
    "model_1 = models.Sequential([\n",
    "    layers.Conv2D(8, kernel_size=(3, 3), activation='relu', padding='same', input_shape=input_shape),\n",
    "    layers.MaxPooling2D(pool_size=(2, 2), strides=2),\n",
    "    layers.Conv2D(16, kernel_size=(7, 7), activation='relu'),\n",
    "    layers.MaxPooling2D(pool_size=(2, 2), strides=2),\n",
    "    layers.Flatten(),\n",
    "    layers.Dense(600, activation='relu'),\n",
    "    layers.Dense(150, activation='relu'),\n",
    "    layers.Dense(38, activation='relu'),\n",
    "    layers.Dense(15, activation='softmax')\n",
    "])"
   ]
  },
  {
   "cell_type": "code",
   "execution_count": 26,
   "id": "dominican-dress",
   "metadata": {},
   "outputs": [
    {
     "name": "stdout",
     "output_type": "stream",
     "text": [
      "Model: \"sequential\"\n",
      "_________________________________________________________________\n",
      "Layer (type)                 Output Shape              Param #   \n",
      "=================================================================\n",
      "conv2d (Conv2D)              (None, 100, 100, 8)       80        \n",
      "_________________________________________________________________\n",
      "max_pooling2d (MaxPooling2D) (None, 50, 50, 8)         0         \n",
      "_________________________________________________________________\n",
      "conv2d_1 (Conv2D)            (None, 44, 44, 16)        6288      \n",
      "_________________________________________________________________\n",
      "max_pooling2d_1 (MaxPooling2 (None, 22, 22, 16)        0         \n",
      "_________________________________________________________________\n",
      "flatten (Flatten)            (None, 7744)              0         \n",
      "_________________________________________________________________\n",
      "dense (Dense)                (None, 600)               4647000   \n",
      "_________________________________________________________________\n",
      "dense_1 (Dense)              (None, 150)               90150     \n",
      "_________________________________________________________________\n",
      "dense_2 (Dense)              (None, 38)                5738      \n",
      "_________________________________________________________________\n",
      "dense_3 (Dense)              (None, 15)                585       \n",
      "=================================================================\n",
      "Total params: 4,749,841\n",
      "Trainable params: 4,749,841\n",
      "Non-trainable params: 0\n",
      "_________________________________________________________________\n"
     ]
    }
   ],
   "source": [
    "model_1.summary()"
   ]
  },
  {
   "cell_type": "markdown",
   "id": "owned-three",
   "metadata": {},
   "source": [
    "### Train Model\n",
    "Create class weights to counter class imbalance."
   ]
  },
  {
   "cell_type": "code",
   "execution_count": 27,
   "id": "fallen-turner",
   "metadata": {},
   "outputs": [],
   "source": [
    "class_weights = compute_class_weight('balanced', classes=np.unique(y_train_encoded), y=y_train_encoded)\n",
    "class_weights_dict = dict(enumerate(class_weights))"
   ]
  },
  {
   "cell_type": "code",
   "execution_count": 28,
   "id": "christian-office",
   "metadata": {},
   "outputs": [
    {
     "data": {
      "text/plain": [
       "{0: 15.547089947089948,\n",
       " 1: 15.79784946236559,\n",
       " 2: 2.889282202556539,\n",
       " 3: 81.62222222222222,\n",
       " 4: 108.82962962962964,\n",
       " 5: 0.31094179894179896,\n",
       " 6: 81.62222222222222,\n",
       " 7: 46.64126984126984,\n",
       " 8: 0.6844630794316329,\n",
       " 9: 28.807843137254903,\n",
       " 10: 0.3745570427023582,\n",
       " 11: 11.25823754789272,\n",
       " 12: 0.14431511222435048,\n",
       " 13: 69.96190476190476,\n",
       " 14: 17.49047619047619}"
      ]
     },
     "execution_count": 28,
     "metadata": {},
     "output_type": "execute_result"
    }
   ],
   "source": [
    "class_weights_dict"
   ]
  },
  {
   "cell_type": "code",
   "execution_count": 29,
   "id": "scheduled-distribution",
   "metadata": {},
   "outputs": [
    {
     "name": "stdout",
     "output_type": "stream",
     "text": [
      "Epoch 1/50\n",
      "207/207 [==============================] - 30s 141ms/step - loss: 3.4153 - accuracy: 0.0000e+00 - categorical_accuracy: 0.2480 - precision: 0.2955 - recall: 0.0159 - val_loss: 1.7905 - val_accuracy: 0.0000e+00 - val_categorical_accuracy: 0.6327 - val_precision: 0.9882 - val_recall: 0.1714\n",
      "Epoch 2/50\n",
      "207/207 [==============================] - 29s 138ms/step - loss: 2.7030 - accuracy: 3.8583e-06 - categorical_accuracy: 0.5611 - precision: 0.9219 - recall: 0.2075 - val_loss: 1.7670 - val_accuracy: 0.0000e+00 - val_categorical_accuracy: 0.3952 - val_precision: 0.5246 - val_recall: 0.0653\n",
      "Epoch 3/50\n",
      "207/207 [==============================] - 27s 131ms/step - loss: 2.3673 - accuracy: 0.0000e+00 - categorical_accuracy: 0.4748 - precision: 0.7294 - recall: 0.2387 - val_loss: 1.5166 - val_accuracy: 0.0000e+00 - val_categorical_accuracy: 0.4741 - val_precision: 0.9217 - val_recall: 0.2483\n",
      "Epoch 4/50\n",
      "207/207 [==============================] - 28s 136ms/step - loss: 2.0720 - accuracy: 1.6297e-05 - categorical_accuracy: 0.5444 - precision: 0.8305 - recall: 0.3279 - val_loss: 1.5517 - val_accuracy: 0.0000e+00 - val_categorical_accuracy: 0.4041 - val_precision: 0.6392 - val_recall: 0.2061\n",
      "Epoch 5/50\n",
      "207/207 [==============================] - 29s 138ms/step - loss: 1.7476 - accuracy: 0.0000e+00 - categorical_accuracy: 0.5083 - precision: 0.7165 - recall: 0.3178 - val_loss: 1.4900 - val_accuracy: 0.0000e+00 - val_categorical_accuracy: 0.4415 - val_precision: 0.6427 - val_recall: 0.2864\n",
      "Epoch 6/50\n",
      "207/207 [==============================] - 28s 137ms/step - loss: 1.6668 - accuracy: 2.7460e-06 - categorical_accuracy: 0.5286 - precision: 0.7388 - recall: 0.3800 - val_loss: 1.4978 - val_accuracy: 0.0000e+00 - val_categorical_accuracy: 0.4279 - val_precision: 0.7633 - val_recall: 0.2918\n",
      "Epoch 7/50\n",
      "207/207 [==============================] - 29s 138ms/step - loss: 1.4016 - accuracy: 9.2561e-06 - categorical_accuracy: 0.5665 - precision: 0.7442 - recall: 0.4302 - val_loss: 1.4030 - val_accuracy: 0.0000e+00 - val_categorical_accuracy: 0.4497 - val_precision: 0.5459 - val_recall: 0.3361\n",
      "Epoch 8/50\n",
      "207/207 [==============================] - 29s 140ms/step - loss: 1.1543 - accuracy: 5.1264e-05 - categorical_accuracy: 0.5870 - precision: 0.7074 - recall: 0.4785 - val_loss: 1.0927 - val_accuracy: 1.3605e-04 - val_categorical_accuracy: 0.6374 - val_precision: 0.7281 - val_recall: 0.5592\n",
      "Epoch 9/50\n",
      "207/207 [==============================] - 28s 137ms/step - loss: 0.9480 - accuracy: 3.1206e-05 - categorical_accuracy: 0.6270 - precision: 0.7353 - recall: 0.5379 - val_loss: 1.0935 - val_accuracy: 0.0000e+00 - val_categorical_accuracy: 0.6272 - val_precision: 0.8600 - val_recall: 0.4891\n",
      "Epoch 10/50\n",
      "207/207 [==============================] - 28s 137ms/step - loss: 0.7660 - accuracy: 2.0172e-04 - categorical_accuracy: 0.6774 - precision: 0.7781 - recall: 0.5882 - val_loss: 0.9718 - val_accuracy: 4.5351e-05 - val_categorical_accuracy: 0.6544 - val_precision: 0.7692 - val_recall: 0.5442\n",
      "Epoch 11/50\n",
      "207/207 [==============================] - 28s 137ms/step - loss: 0.6420 - accuracy: 4.7249e-04 - categorical_accuracy: 0.6960 - precision: 0.7601 - recall: 0.6327 - val_loss: 1.2378 - val_accuracy: 0.0000e+00 - val_categorical_accuracy: 0.5741 - val_precision: 0.6446 - val_recall: 0.4837\n",
      "Epoch 12/50\n",
      "207/207 [==============================] - 28s 134ms/step - loss: 0.4642 - accuracy: 5.3089e-04 - categorical_accuracy: 0.7478 - precision: 0.7980 - recall: 0.6908 - val_loss: 0.8488 - val_accuracy: 3.1746e-04 - val_categorical_accuracy: 0.7456 - val_precision: 0.7828 - val_recall: 0.7014\n",
      "Epoch 13/50\n",
      "207/207 [==============================] - 27s 133ms/step - loss: 0.3845 - accuracy: 0.0010 - categorical_accuracy: 0.7808 - precision: 0.8246 - recall: 0.7410 - val_loss: 0.9250 - val_accuracy: 3.1746e-04 - val_categorical_accuracy: 0.7231 - val_precision: 0.7676 - val_recall: 0.6741\n",
      "Epoch 14/50\n",
      "207/207 [==============================] - 27s 131ms/step - loss: 0.2469 - accuracy: 0.0022 - categorical_accuracy: 0.8326 - precision: 0.8557 - recall: 0.8061 - val_loss: 0.7958 - val_accuracy: 9.0703e-04 - val_categorical_accuracy: 0.7878 - val_precision: 0.8186 - val_recall: 0.7673\n",
      "Epoch 15/50\n",
      "207/207 [==============================] - 27s 132ms/step - loss: 0.3608 - accuracy: 0.0033 - categorical_accuracy: 0.8511 - precision: 0.8726 - recall: 0.8265 - val_loss: 1.2115 - val_accuracy: 4.0816e-04 - val_categorical_accuracy: 0.6612 - val_precision: 0.7059 - val_recall: 0.6286\n",
      "Epoch 16/50\n",
      "207/207 [==============================] - 27s 132ms/step - loss: 0.2402 - accuracy: 0.0049 - categorical_accuracy: 0.8506 - precision: 0.8751 - recall: 0.8282 - val_loss: 0.8947 - val_accuracy: 0.0014 - val_categorical_accuracy: 0.7633 - val_precision: 0.7970 - val_recall: 0.7265\n",
      "Epoch 17/50\n",
      "207/207 [==============================] - 27s 132ms/step - loss: 0.2234 - accuracy: 0.0053 - categorical_accuracy: 0.8757 - precision: 0.8910 - recall: 0.8605 - val_loss: 1.1758 - val_accuracy: 4.0816e-04 - val_categorical_accuracy: 0.6667 - val_precision: 0.7044 - val_recall: 0.6272\n",
      "Epoch 18/50\n",
      "207/207 [==============================] - 28s 133ms/step - loss: 0.1286 - accuracy: 0.0026 - categorical_accuracy: 0.8880 - precision: 0.9034 - recall: 0.8755 - val_loss: 0.8951 - val_accuracy: 0.0037 - val_categorical_accuracy: 0.8129 - val_precision: 0.8237 - val_recall: 0.8041\n",
      "Epoch 19/50\n",
      "207/207 [==============================] - 28s 134ms/step - loss: 0.1599 - accuracy: 0.0047 - categorical_accuracy: 0.9111 - precision: 0.9197 - recall: 0.9020 - val_loss: 0.8521 - val_accuracy: 0.0101 - val_categorical_accuracy: 0.8204 - val_precision: 0.8365 - val_recall: 0.8109\n",
      "Epoch 20/50\n",
      "207/207 [==============================] - 28s 136ms/step - loss: 0.0925 - accuracy: 0.0201 - categorical_accuracy: 0.9334 - precision: 0.9399 - recall: 0.9255 - val_loss: 0.9791 - val_accuracy: 0.0115 - val_categorical_accuracy: 0.8367 - val_precision: 0.8443 - val_recall: 0.8299\n",
      "Epoch 21/50\n",
      "207/207 [==============================] - 28s 137ms/step - loss: 0.0757 - accuracy: 0.0251 - categorical_accuracy: 0.9504 - precision: 0.9551 - recall: 0.9456 - val_loss: 0.9142 - val_accuracy: 0.0075 - val_categorical_accuracy: 0.8020 - val_precision: 0.8151 - val_recall: 0.7857\n",
      "Epoch 22/50\n",
      "207/207 [==============================] - 28s 137ms/step - loss: 0.0520 - accuracy: 0.0254 - categorical_accuracy: 0.9560 - precision: 0.9613 - recall: 0.9521 - val_loss: 0.9172 - val_accuracy: 0.0084 - val_categorical_accuracy: 0.8000 - val_precision: 0.8119 - val_recall: 0.7898\n",
      "Epoch 23/50\n",
      "207/207 [==============================] - 29s 139ms/step - loss: 0.0791 - accuracy: 0.0304 - categorical_accuracy: 0.9661 - precision: 0.9698 - recall: 0.9635 - val_loss: 1.0123 - val_accuracy: 0.0270 - val_categorical_accuracy: 0.8265 - val_precision: 0.8377 - val_recall: 0.8218\n",
      "Epoch 24/50\n",
      "207/207 [==============================] - 29s 140ms/step - loss: 0.1350 - accuracy: 0.0374 - categorical_accuracy: 0.9631 - precision: 0.9655 - recall: 0.9610 - val_loss: 1.0996 - val_accuracy: 0.0183 - val_categorical_accuracy: 0.7422 - val_precision: 0.7524 - val_recall: 0.7320\n",
      "Epoch 25/50\n",
      "207/207 [==============================] - 31s 148ms/step - loss: 0.0684 - accuracy: 0.0465 - categorical_accuracy: 0.9643 - precision: 0.9669 - recall: 0.9615 - val_loss: 1.2664 - val_accuracy: 0.0239 - val_categorical_accuracy: 0.7551 - val_precision: 0.7680 - val_recall: 0.7476\n",
      "Epoch 26/50\n",
      "207/207 [==============================] - 30s 143ms/step - loss: 0.0307 - accuracy: 0.0628 - categorical_accuracy: 0.9773 - precision: 0.9792 - recall: 0.9757 - val_loss: 1.3929 - val_accuracy: 0.0947 - val_categorical_accuracy: 0.8143 - val_precision: 0.8174 - val_recall: 0.8129\n",
      "Epoch 27/50\n",
      "207/207 [==============================] - 29s 138ms/step - loss: 0.0524 - accuracy: 0.0583 - categorical_accuracy: 0.9741 - precision: 0.9754 - recall: 0.9725 - val_loss: 1.1552 - val_accuracy: 0.0581 - val_categorical_accuracy: 0.8422 - val_precision: 0.8482 - val_recall: 0.8401\n",
      "Epoch 28/50\n",
      "207/207 [==============================] - 29s 139ms/step - loss: 0.1085 - accuracy: 0.0690 - categorical_accuracy: 0.9826 - precision: 0.9842 - recall: 0.9816 - val_loss: 1.0724 - val_accuracy: 0.0271 - val_categorical_accuracy: 0.8231 - val_precision: 0.8302 - val_recall: 0.8150\n",
      "Epoch 29/50\n",
      "207/207 [==============================] - 28s 138ms/step - loss: 0.0197 - accuracy: 0.0643 - categorical_accuracy: 0.9874 - precision: 0.9882 - recall: 0.9868 - val_loss: 1.2130 - val_accuracy: 0.0573 - val_categorical_accuracy: 0.8395 - val_precision: 0.8456 - val_recall: 0.8347\n",
      "Epoch 30/50\n",
      "207/207 [==============================] - 31s 148ms/step - loss: 0.0198 - accuracy: 0.0960 - categorical_accuracy: 0.9865 - precision: 0.9870 - recall: 0.9857 - val_loss: 1.3557 - val_accuracy: 0.0894 - val_categorical_accuracy: 0.8279 - val_precision: 0.8314 - val_recall: 0.8252\n",
      "Epoch 31/50\n",
      "207/207 [==============================] - 28s 137ms/step - loss: 0.0501 - accuracy: 0.1112 - categorical_accuracy: 0.9828 - precision: 0.9842 - recall: 0.9820 - val_loss: 1.5516 - val_accuracy: 0.0883 - val_categorical_accuracy: 0.8095 - val_precision: 0.8115 - val_recall: 0.8054\n",
      "Epoch 32/50\n",
      "207/207 [==============================] - 28s 136ms/step - loss: 0.0314 - accuracy: 0.1183 - categorical_accuracy: 0.9856 - precision: 0.9860 - recall: 0.9844 - val_loss: 1.5569 - val_accuracy: 0.1029 - val_categorical_accuracy: 0.8354 - val_precision: 0.8387 - val_recall: 0.8279\n",
      "Epoch 33/50\n",
      "207/207 [==============================] - 30s 143ms/step - loss: 0.0487 - accuracy: 0.1111 - categorical_accuracy: 0.9811 - precision: 0.9822 - recall: 0.9805 - val_loss: 1.5032 - val_accuracy: 0.1198 - val_categorical_accuracy: 0.8279 - val_precision: 0.8328 - val_recall: 0.8265\n",
      "Epoch 34/50\n",
      "207/207 [==============================] - 29s 139ms/step - loss: 0.0421 - accuracy: 0.1290 - categorical_accuracy: 0.9905 - precision: 0.9910 - recall: 0.9903 - val_loss: 1.6521 - val_accuracy: 0.1680 - val_categorical_accuracy: 0.8408 - val_precision: 0.8459 - val_recall: 0.8401\n",
      "Epoch 35/50\n",
      "207/207 [==============================] - 29s 140ms/step - loss: 0.0733 - accuracy: 0.1723 - categorical_accuracy: 0.9887 - precision: 0.9892 - recall: 0.9884 - val_loss: 1.5097 - val_accuracy: 0.1160 - val_categorical_accuracy: 0.8197 - val_precision: 0.8222 - val_recall: 0.8177\n",
      "Epoch 36/50\n",
      "207/207 [==============================] - 29s 142ms/step - loss: 0.0274 - accuracy: 0.1550 - categorical_accuracy: 0.9852 - precision: 0.9855 - recall: 0.9851 - val_loss: 1.3825 - val_accuracy: 0.1341 - val_categorical_accuracy: 0.8259 - val_precision: 0.8305 - val_recall: 0.8231\n",
      "Epoch 37/50\n",
      "207/207 [==============================] - 29s 142ms/step - loss: 0.0231 - accuracy: 0.1571 - categorical_accuracy: 0.9892 - precision: 0.9896 - recall: 0.9892 - val_loss: 1.8108 - val_accuracy: 0.2122 - val_categorical_accuracy: 0.8306 - val_precision: 0.8356 - val_recall: 0.8299\n",
      "Epoch 38/50\n",
      "207/207 [==============================] - 28s 137ms/step - loss: 0.0150 - accuracy: 0.2164 - categorical_accuracy: 0.9930 - precision: 0.9931 - recall: 0.9929 - val_loss: 1.6519 - val_accuracy: 0.1224 - val_categorical_accuracy: 0.7939 - val_precision: 0.8007 - val_recall: 0.7898\n",
      "Epoch 39/50\n",
      "207/207 [==============================] - 31s 149ms/step - loss: 0.0360 - accuracy: 0.1705 - categorical_accuracy: 0.9859 - precision: 0.9865 - recall: 0.9852 - val_loss: 1.6671 - val_accuracy: 0.1240 - val_categorical_accuracy: 0.8163 - val_precision: 0.8207 - val_recall: 0.8156\n",
      "Epoch 40/50\n",
      "207/207 [==============================] - 30s 147ms/step - loss: 0.0382 - accuracy: 0.1719 - categorical_accuracy: 0.9936 - precision: 0.9938 - recall: 0.9936 - val_loss: 3.4266 - val_accuracy: 0.2270 - val_categorical_accuracy: 0.7041 - val_precision: 0.7094 - val_recall: 0.7041\n",
      "Epoch 41/50\n",
      "207/207 [==============================] - 30s 144ms/step - loss: 0.0368 - accuracy: 0.1859 - categorical_accuracy: 0.9847 - precision: 0.9847 - recall: 0.9846 - val_loss: 1.6130 - val_accuracy: 0.1982 - val_categorical_accuracy: 0.8442 - val_precision: 0.8476 - val_recall: 0.8435\n",
      "Epoch 42/50\n",
      "207/207 [==============================] - 31s 151ms/step - loss: 0.0539 - accuracy: 0.2136 - categorical_accuracy: 0.9934 - precision: 0.9936 - recall: 0.9933 - val_loss: 1.8112 - val_accuracy: 0.2498 - val_categorical_accuracy: 0.8442 - val_precision: 0.8470 - val_recall: 0.8435\n",
      "Epoch 43/50\n",
      "207/207 [==============================] - 31s 149ms/step - loss: 0.0204 - accuracy: 0.2731 - categorical_accuracy: 0.9964 - precision: 0.9964 - recall: 0.9963 - val_loss: 1.7536 - val_accuracy: 0.2030 - val_categorical_accuracy: 0.8279 - val_precision: 0.8300 - val_recall: 0.8272\n",
      "Epoch 44/50\n",
      "207/207 [==============================] - 31s 151ms/step - loss: 0.0069 - accuracy: 0.2675 - categorical_accuracy: 0.9965 - precision: 0.9966 - recall: 0.9965 - val_loss: 2.1822 - val_accuracy: 0.2880 - val_categorical_accuracy: 0.8381 - val_precision: 0.8397 - val_recall: 0.8374\n",
      "Epoch 45/50\n",
      "207/207 [==============================] - 30s 146ms/step - loss: 0.0142 - accuracy: 0.2728 - categorical_accuracy: 0.9953 - precision: 0.9953 - recall: 0.9953 - val_loss: 1.6515 - val_accuracy: 0.1516 - val_categorical_accuracy: 0.8211 - val_precision: 0.8255 - val_recall: 0.8177\n",
      "Epoch 46/50\n",
      "207/207 [==============================] - 31s 150ms/step - loss: 0.0455 - accuracy: 0.2467 - categorical_accuracy: 0.9926 - precision: 0.9929 - recall: 0.9926 - val_loss: 1.6969 - val_accuracy: 0.1636 - val_categorical_accuracy: 0.8122 - val_precision: 0.8153 - val_recall: 0.8109\n",
      "Epoch 47/50\n",
      "207/207 [==============================] - 30s 147ms/step - loss: 0.0197 - accuracy: 0.2317 - categorical_accuracy: 0.9943 - precision: 0.9949 - recall: 0.9940 - val_loss: 1.9285 - val_accuracy: 0.2556 - val_categorical_accuracy: 0.8510 - val_precision: 0.8528 - val_recall: 0.8510\n",
      "Epoch 48/50\n",
      "207/207 [==============================] - 31s 150ms/step - loss: 0.0369 - accuracy: 0.3034 - categorical_accuracy: 0.9937 - precision: 0.9938 - recall: 0.9937 - val_loss: 1.9803 - val_accuracy: 0.2361 - val_categorical_accuracy: 0.8286 - val_precision: 0.8346 - val_recall: 0.8272\n",
      "Epoch 49/50\n",
      "207/207 [==============================] - 31s 152ms/step - loss: 0.0406 - accuracy: 0.2765 - categorical_accuracy: 0.9966 - precision: 0.9966 - recall: 0.9966 - val_loss: 1.8353 - val_accuracy: 0.2451 - val_categorical_accuracy: 0.8224 - val_precision: 0.8243 - val_recall: 0.8204\n",
      "Epoch 50/50\n",
      "207/207 [==============================] - 31s 152ms/step - loss: 0.0109 - accuracy: 0.2946 - categorical_accuracy: 0.9949 - precision: 0.9950 - recall: 0.9948 - val_loss: 1.8172 - val_accuracy: 0.1906 - val_categorical_accuracy: 0.7857 - val_precision: 0.7934 - val_recall: 0.7810\n"
     ]
    }
   ],
   "source": [
    "model_1.compile(optimizer='rmsprop',\n",
    "                loss='categorical_crossentropy',\n",
    "                metrics=[\n",
    "                    metrics.Accuracy(),\n",
    "                    metrics.categorical_accuracy,\n",
    "                    metrics.Precision(),\n",
    "                    metrics.Recall()\n",
    "                ])\n",
    "results_3 = model_1.fit(X_train_normalized, y_train_one_hot, validation_data=(X_val, y_val), epochs=50, batch_size=64, class_weight=class_weights_dict)"
   ]
  },
  {
   "cell_type": "code",
   "execution_count": 30,
   "id": "endless-timothy",
   "metadata": {},
   "outputs": [
    {
     "data": {
      "text/plain": [
       "dict_keys(['loss', 'accuracy', 'categorical_accuracy', 'precision', 'recall', 'val_loss', 'val_accuracy', 'val_categorical_accuracy', 'val_precision', 'val_recall'])"
      ]
     },
     "execution_count": 30,
     "metadata": {},
     "output_type": "execute_result"
    }
   ],
   "source": [
    "results_3.history.keys()"
   ]
  },
  {
   "cell_type": "code",
   "execution_count": 31,
   "id": "complete-exchange",
   "metadata": {},
   "outputs": [
    {
     "data": {
      "image/png": "[encoded data removed]",
      "text/plain": [
       "<Figure size 720x432 with 1 Axes>"
      ]
     },
     "metadata": {
      "needs_background": "light"
     },
     "output_type": "display_data"
    }
   ],
   "source": [
    "em.plot_train_val_losses(results_3)"
   ]
  },
  {
   "cell_type": "markdown",
   "id": "worthy-concept",
   "metadata": {},
   "source": [
    "**Observations:**\n",
    "The large gap between the training loss and validation loss indicates that the training data still does not provide sufficient information to fit the model properly."
   ]
  },
  {
   "cell_type": "code",
   "execution_count": null,
   "id": "coated-document",
   "metadata": {},
   "outputs": [],
   "source": []
  }
 ],
 "metadata": {
  "kernelspec": {
   "display_name": "Python 3",
   "language": "python",
   "name": "python3"
  },
  "language_info": {
   "codemirror_mode": {
    "name": "ipython",
    "version": 3
   },
   "file_extension": ".py",
   "mimetype": "text/x-python",
   "name": "python",
   "nbconvert_exporter": "python",
   "pygments_lexer": "ipython3",
   "version": "3.8.8"
  }
 },
 "nbformat": 4,
 "nbformat_minor": 5
}
