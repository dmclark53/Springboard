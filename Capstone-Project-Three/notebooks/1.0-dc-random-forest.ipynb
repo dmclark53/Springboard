{
 "cells": [
  {
   "cell_type": "markdown",
   "id": "allied-concentrate",
   "metadata": {},
   "source": [
    "# Random Forest Model\n",
    "## Business Problem\n",
    "Leukemia is a type of cancer of the blood that often affects young people. In the past, pathologists would diagnose patients by eye after examining blood smear images under the microscope. But, this is time consuming and tedious. Advances in image recognition technology have come a long ways since their inception. Therefore, automated solutions using computers would be of great benefit to the medical community to aid in cancer diagnoses.\n",
    "\n",
    "The goal of this project is to address the following question: How can the doctor’s at the Munich University Hospital automate the diagnosis of patients with leukemia using images from blood smears?\n",
    "\n",
    "## Approach\n",
    "In this notebook, I will try a random forest model on the dataset of flattened images."
   ]
  },
  {
   "cell_type": "code",
   "execution_count": 1,
   "id": "awful-humanitarian",
   "metadata": {},
   "outputs": [],
   "source": [
    "import os\n",
    "import pickle\n",
    "import sys\n",
    "sys.path.append('..')\n",
    "from time import time\n",
    "\n",
    "import cv2 as cv\n",
    "import matplotlib.pyplot as plt\n",
    "import numpy as np\n",
    "import pandas as pd\n",
    "from sklearn.ensemble import RandomForestClassifier\n",
    "from sklearn.metrics import classification_report\n",
    "\n",
    "from src import constants as con\n",
    "from src.data_setup import make_dataset as md\n",
    "from src.models import train_model as tm\n",
    "\n",
    "%load_ext autoreload\n",
    "%autoreload 2\n",
    "# %reload_ext autoreload"
   ]
  },
  {
   "cell_type": "markdown",
   "id": "special-chaos",
   "metadata": {},
   "source": [
    "## Load Data\n",
    "Load the pickled training and test data."
   ]
  },
  {
   "cell_type": "code",
   "execution_count": 2,
   "id": "finite-hungarian",
   "metadata": {},
   "outputs": [],
   "source": [
    "X_train, X_test, y_train, y_test = md.load_train_test()"
   ]
  },
  {
   "cell_type": "code",
   "execution_count": 3,
   "id": "reported-hybrid",
   "metadata": {},
   "outputs": [
    {
     "data": {
      "text/plain": [
       "(123195, 2304)"
      ]
     },
     "execution_count": 3,
     "metadata": {},
     "output_type": "execute_result"
    }
   ],
   "source": [
    "X_train.shape"
   ]
  },
  {
   "cell_type": "markdown",
   "id": "therapeutic-reviewer",
   "metadata": {},
   "source": [
    "## Model\n",
    "Train a very simplistic random forest model. I will not consider rescaling at this time, either."
   ]
  },
  {
   "cell_type": "code",
   "execution_count": 9,
   "id": "known-friend",
   "metadata": {},
   "outputs": [
    {
     "name": "stdout",
     "output_type": "stream",
     "text": [
      "model type: RandomForestClassifier\n",
      "It took the model 10.163 minutes to run.\n"
     ]
    },
    {
     "name": "stderr",
     "output_type": "stream",
     "text": [
      "/Users/dave/anaconda3/envs/springboard/lib/python3.8/site-packages/sklearn/metrics/_classification.py:1245: UndefinedMetricWarning: Precision and F-score are ill-defined and being set to 0.0 in labels with no predicted samples. Use `zero_division` parameter to control this behavior.\n",
      "  _warn_prf(average, modifier, msg_start, len(result))\n",
      "/Users/dave/anaconda3/envs/springboard/lib/python3.8/site-packages/sklearn/metrics/_classification.py:1245: UndefinedMetricWarning: Precision and F-score are ill-defined and being set to 0.0 in labels with no predicted samples. Use `zero_division` parameter to control this behavior.\n",
      "  _warn_prf(average, modifier, msg_start, len(result))\n",
      "/Users/dave/anaconda3/envs/springboard/lib/python3.8/site-packages/sklearn/metrics/_classification.py:1245: UndefinedMetricWarning: Precision and F-score are ill-defined and being set to 0.0 in labels with no predicted samples. Use `zero_division` parameter to control this behavior.\n",
      "  _warn_prf(average, modifier, msg_start, len(result))\n"
     ]
    }
   ],
   "source": [
    "rf = RandomForestClassifier(random_state = 42, max_depth=90, min_samples_split=3, n_estimators=1600, min_samples_leaf=1, max_features='auto', n_jobs=-1)\n",
    "num_rows = -1\n",
    "tm.run_model(rf, X_train[:num_rows, :], y_train[:num_rows], X_test, y_test)"
   ]
  },
  {
   "cell_type": "code",
   "execution_count": 10,
   "id": "selective-rouge",
   "metadata": {},
   "outputs": [],
   "source": [
    "y_pred_train_rf = rf.predict(X_train)\n",
    "y_pred_rf = rf.predict(X_test)"
   ]
  },
  {
   "cell_type": "code",
   "execution_count": 11,
   "id": "athletic-screw",
   "metadata": {},
   "outputs": [
    {
     "name": "stdout",
     "output_type": "stream",
     "text": [
      "              precision    recall  f1-score   support\n",
      "\n",
      "         BAS       1.00      1.00      1.00      8213\n",
      "         EBO       1.00      1.00      1.00      8213\n",
      "         EOS       1.00      1.00      1.00      8213\n",
      "         KSC       1.00      1.00      1.00      8213\n",
      "         LYA       1.00      1.00      1.00      8213\n",
      "         LYT       1.00      1.00      1.00      8213\n",
      "         MMZ       1.00      1.00      1.00      8213\n",
      "         MOB       1.00      1.00      1.00      8213\n",
      "         MON       1.00      1.00      1.00      8213\n",
      "         MYB       1.00      1.00      1.00      8213\n",
      "         MYO       1.00      1.00      1.00      8213\n",
      "         NGB       1.00      1.00      1.00      8213\n",
      "         NGS       1.00      1.00      1.00      8213\n",
      "         PMB       1.00      1.00      1.00      8213\n",
      "         PMO       1.00      1.00      1.00      8213\n",
      "\n",
      "    accuracy                           1.00    123195\n",
      "   macro avg       1.00      1.00      1.00    123195\n",
      "weighted avg       1.00      1.00      1.00    123195\n",
      "\n"
     ]
    }
   ],
   "source": [
    "print(classification_report(y_train, y_pred_train_rf))"
   ]
  },
  {
   "cell_type": "code",
   "execution_count": 12,
   "id": "independent-denver",
   "metadata": {},
   "outputs": [
    {
     "name": "stdout",
     "output_type": "stream",
     "text": [
      "              precision    recall  f1-score   support\n",
      "\n",
      "         BAS       0.00      0.00      0.00        16\n",
      "         EBO       1.00      0.06      0.12        16\n",
      "         EOS       0.00      0.00      0.00        85\n",
      "         KSC       0.00      0.00      0.00         3\n",
      "         LYA       0.00      0.00      0.00         2\n",
      "         LYT       0.90      0.75      0.82       787\n",
      "         MMZ       0.00      0.00      0.00         3\n",
      "         MOB       0.00      0.00      0.00         5\n",
      "         MON       0.78      0.27      0.40       358\n",
      "         MYB       0.00      0.00      0.00         8\n",
      "         MYO       0.64      0.89      0.74       653\n",
      "         NGB       0.00      0.00      0.00        22\n",
      "         NGS       0.84      0.98      0.90      1697\n",
      "         PMB       0.00      0.00      0.00         4\n",
      "         PMO       0.00      0.00      0.00        14\n",
      "\n",
      "    accuracy                           0.80      3673\n",
      "   macro avg       0.28      0.20      0.20      3673\n",
      "weighted avg       0.77      0.80      0.77      3673\n",
      "\n"
     ]
    },
    {
     "name": "stderr",
     "output_type": "stream",
     "text": [
      "/Users/dave/anaconda3/envs/springboard/lib/python3.8/site-packages/sklearn/metrics/_classification.py:1245: UndefinedMetricWarning: Precision and F-score are ill-defined and being set to 0.0 in labels with no predicted samples. Use `zero_division` parameter to control this behavior.\n",
      "  _warn_prf(average, modifier, msg_start, len(result))\n",
      "/Users/dave/anaconda3/envs/springboard/lib/python3.8/site-packages/sklearn/metrics/_classification.py:1245: UndefinedMetricWarning: Precision and F-score are ill-defined and being set to 0.0 in labels with no predicted samples. Use `zero_division` parameter to control this behavior.\n",
      "  _warn_prf(average, modifier, msg_start, len(result))\n",
      "/Users/dave/anaconda3/envs/springboard/lib/python3.8/site-packages/sklearn/metrics/_classification.py:1245: UndefinedMetricWarning: Precision and F-score are ill-defined and being set to 0.0 in labels with no predicted samples. Use `zero_division` parameter to control this behavior.\n",
      "  _warn_prf(average, modifier, msg_start, len(result))\n"
     ]
    }
   ],
   "source": [
    "print(classification_report(y_test, y_pred_rf))"
   ]
  },
  {
   "cell_type": "code",
   "execution_count": null,
   "id": "linear-annex",
   "metadata": {},
   "outputs": [],
   "source": []
  }
 ],
 "metadata": {
  "kernelspec": {
   "display_name": "Python 3",
   "language": "python",
   "name": "python3"
  },
  "language_info": {
   "codemirror_mode": {
    "name": "ipython",
    "version": 3
   },
   "file_extension": ".py",
   "mimetype": "text/x-python",
   "name": "python",
   "nbconvert_exporter": "python",
   "pygments_lexer": "ipython3",
   "version": "3.8.8"
  }
 },
 "nbformat": 4,
 "nbformat_minor": 5
}
