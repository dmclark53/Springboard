{
 "cells": [
  {
   "cell_type": "markdown",
   "id": "monthly-vampire",
   "metadata": {},
   "source": [
    "# XGBoost Model\n",
    "## Business Problem\n",
    "Leukemia is a type of cancer of the blood that often affects young people. In the past, pathologists would diagnose patients by eye after examining blood smear images under the microscope. But, this is time consuming and tedious. Advances in image recognition technology have come a long ways since their inception. Therefore, automated solutions using computers would be of great benefit to the medical community to aid in cancer diagnoses.\n",
    "\n",
    "The goal of this project is to address the following question: How can the doctor’s at the Munich University Hospital automate the diagnosis of patients with leukemia using images from blood smears?\n",
    "\n",
    "## Approach\n",
    "In this notebook, I will try a XGBoost model on the dataset of flattened images."
   ]
  },
  {
   "cell_type": "code",
   "execution_count": 1,
   "id": "provincial-dealer",
   "metadata": {},
   "outputs": [],
   "source": [
    "import os\n",
    "import pickle\n",
    "import sys\n",
    "sys.path.append('..')\n",
    "from time import time\n",
    "\n",
    "import cv2 as cv\n",
    "import matplotlib.pyplot as plt\n",
    "import numpy as np\n",
    "import pandas as pd\n",
    "from sklearn.metrics import classification_report\n",
    "from xgboost import XGBClassifier\n",
    "\n",
    "from src import constants as con\n",
    "from src.data_setup import make_dataset as md\n",
    "from src.models import train_model as tm\n",
    "\n",
    "%load_ext autoreload\n",
    "%autoreload 2\n",
    "# %reload_ext autoreload"
   ]
  },
  {
   "cell_type": "markdown",
   "id": "previous-freedom",
   "metadata": {},
   "source": [
    "## Load Data\n",
    "Load the pickled training and test data."
   ]
  },
  {
   "cell_type": "code",
   "execution_count": 2,
   "id": "systematic-vertical",
   "metadata": {},
   "outputs": [],
   "source": [
    "X_train, X_test, y_train, y_test = md.load_train_test()"
   ]
  },
  {
   "cell_type": "code",
   "execution_count": 3,
   "id": "chemical-billion",
   "metadata": {},
   "outputs": [
    {
     "data": {
      "text/plain": [
       "(123195, 2304)"
      ]
     },
     "execution_count": 3,
     "metadata": {},
     "output_type": "execute_result"
    }
   ],
   "source": [
    "X_train.shape"
   ]
  },
  {
   "cell_type": "markdown",
   "id": "false-stake",
   "metadata": {},
   "source": [
    "## Encoding Labels\n",
    "XGBoost requires that the labels are encoded as numerical values."
   ]
  },
  {
   "cell_type": "code",
   "execution_count": 4,
   "id": "complicated-genesis",
   "metadata": {},
   "outputs": [],
   "source": [
    "label_encodings = {value: i for i, value in enumerate(np.unique(y_train))}"
   ]
  },
  {
   "cell_type": "code",
   "execution_count": 5,
   "id": "divine-switch",
   "metadata": {},
   "outputs": [
    {
     "data": {
      "text/plain": [
       "{'BAS': 0,\n",
       " 'EBO': 1,\n",
       " 'EOS': 2,\n",
       " 'KSC': 3,\n",
       " 'LYA': 4,\n",
       " 'LYT': 5,\n",
       " 'MMZ': 6,\n",
       " 'MOB': 7,\n",
       " 'MON': 8,\n",
       " 'MYB': 9,\n",
       " 'MYO': 10,\n",
       " 'NGB': 11,\n",
       " 'NGS': 12,\n",
       " 'PMB': 13,\n",
       " 'PMO': 14}"
      ]
     },
     "execution_count": 5,
     "metadata": {},
     "output_type": "execute_result"
    }
   ],
   "source": [
    "label_encodings"
   ]
  },
  {
   "cell_type": "code",
   "execution_count": 6,
   "id": "monthly-valuation",
   "metadata": {},
   "outputs": [],
   "source": [
    "y_train = pd.Series(y_train).replace(label_encodings).values\n",
    "y_test = pd.Series(y_test).replace(label_encodings).values"
   ]
  },
  {
   "cell_type": "markdown",
   "id": "entertaining-airplane",
   "metadata": {},
   "source": [
    "## Model\n",
    "Train a very simplistic XGBoost model."
   ]
  },
  {
   "cell_type": "code",
   "execution_count": 9,
   "id": "smooth-frederick",
   "metadata": {},
   "outputs": [],
   "source": [
    "xgb = XGBClassifier(n_estimators=1000)"
   ]
  },
  {
   "cell_type": "code",
   "execution_count": 10,
   "id": "round-violence",
   "metadata": {},
   "outputs": [
    {
     "name": "stdout",
     "output_type": "stream",
     "text": [
      "model type: XGBClassifier\n"
     ]
    },
    {
     "name": "stderr",
     "output_type": "stream",
     "text": [
      "/Users/dave/anaconda3/envs/springboard/lib/python3.8/site-packages/xgboost/sklearn.py:888: UserWarning: The use of label encoder in XGBClassifier is deprecated and will be removed in a future release. To remove this warning, do the following: 1) Pass option use_label_encoder=False when constructing XGBClassifier object; and 2) Encode your labels (y) as integers starting with 0, i.e. 0, 1, 2, ..., [num_class - 1].\n",
      "  warnings.warn(label_encoder_deprecation_msg, UserWarning)\n"
     ]
    },
    {
     "name": "stdout",
     "output_type": "stream",
     "text": [
      "[12:09:50] WARNING: ../src/learner.cc:1061: Starting in XGBoost 1.3.0, the default evaluation metric used with the objective 'multi:softprob' was changed from 'merror' to 'mlogloss'. Explicitly set eval_metric if you'd like to restore the old behavior.\n",
      "It took the model 3.195 hours to run.\n"
     ]
    },
    {
     "name": "stderr",
     "output_type": "stream",
     "text": [
      "/Users/dave/anaconda3/envs/springboard/lib/python3.8/site-packages/sklearn/metrics/_classification.py:1245: UndefinedMetricWarning: Precision and F-score are ill-defined and being set to 0.0 in labels with no predicted samples. Use `zero_division` parameter to control this behavior.\n",
      "  _warn_prf(average, modifier, msg_start, len(result))\n",
      "/Users/dave/anaconda3/envs/springboard/lib/python3.8/site-packages/sklearn/metrics/_classification.py:1245: UndefinedMetricWarning: Precision and F-score are ill-defined and being set to 0.0 in labels with no predicted samples. Use `zero_division` parameter to control this behavior.\n",
      "  _warn_prf(average, modifier, msg_start, len(result))\n",
      "/Users/dave/anaconda3/envs/springboard/lib/python3.8/site-packages/sklearn/metrics/_classification.py:1245: UndefinedMetricWarning: Precision and F-score are ill-defined and being set to 0.0 in labels with no predicted samples. Use `zero_division` parameter to control this behavior.\n",
      "  _warn_prf(average, modifier, msg_start, len(result))\n"
     ]
    }
   ],
   "source": [
    "num_rows = -1\n",
    "tm.run_model(xgb, X_train[:num_rows, :], y_train[:num_rows], X_test, y_test)"
   ]
  },
  {
   "cell_type": "code",
   "execution_count": 11,
   "id": "coated-probability",
   "metadata": {},
   "outputs": [],
   "source": [
    "y_pred_train_xgb = xgb.predict(X_train)\n",
    "y_pred_xgb = xgb.predict(X_test)"
   ]
  },
  {
   "cell_type": "code",
   "execution_count": 12,
   "id": "conditional-shooting",
   "metadata": {},
   "outputs": [
    {
     "name": "stdout",
     "output_type": "stream",
     "text": [
      "              precision    recall  f1-score   support\n",
      "\n",
      "           0       1.00      1.00      1.00      8213\n",
      "           1       1.00      1.00      1.00      8213\n",
      "           2       1.00      1.00      1.00      8213\n",
      "           3       1.00      1.00      1.00      8213\n",
      "           4       1.00      1.00      1.00      8213\n",
      "           5       1.00      1.00      1.00      8213\n",
      "           6       1.00      1.00      1.00      8213\n",
      "           7       1.00      1.00      1.00      8213\n",
      "           8       1.00      1.00      1.00      8213\n",
      "           9       1.00      1.00      1.00      8213\n",
      "          10       1.00      1.00      1.00      8213\n",
      "          11       1.00      1.00      1.00      8213\n",
      "          12       1.00      1.00      1.00      8213\n",
      "          13       1.00      1.00      1.00      8213\n",
      "          14       1.00      1.00      1.00      8213\n",
      "\n",
      "    accuracy                           1.00    123195\n",
      "   macro avg       1.00      1.00      1.00    123195\n",
      "weighted avg       1.00      1.00      1.00    123195\n",
      "\n"
     ]
    }
   ],
   "source": [
    "print(classification_report(y_train, y_pred_train_xgb))"
   ]
  },
  {
   "cell_type": "code",
   "execution_count": 13,
   "id": "immediate-chance",
   "metadata": {},
   "outputs": [
    {
     "name": "stdout",
     "output_type": "stream",
     "text": [
      "              precision    recall  f1-score   support\n",
      "\n",
      "           0       0.00      0.00      0.00        16\n",
      "           1       1.00      0.06      0.12        16\n",
      "           2       0.83      0.35      0.50        85\n",
      "           3       0.00      0.00      0.00         3\n",
      "           4       0.00      0.00      0.00         2\n",
      "           5       0.89      0.89      0.89       787\n",
      "           6       0.00      0.00      0.00         3\n",
      "           7       0.00      0.00      0.00         5\n",
      "           8       0.67      0.61      0.64       358\n",
      "           9       0.00      0.00      0.00         8\n",
      "          10       0.74      0.87      0.80       653\n",
      "          11       0.00      0.00      0.00        22\n",
      "          12       0.94      0.97      0.95      1697\n",
      "          13       0.00      0.00      0.00         4\n",
      "          14       0.00      0.00      0.00        14\n",
      "\n",
      "    accuracy                           0.86      3673\n",
      "   macro avg       0.34      0.25      0.26      3673\n",
      "weighted avg       0.84      0.86      0.85      3673\n",
      "\n"
     ]
    },
    {
     "name": "stderr",
     "output_type": "stream",
     "text": [
      "/Users/dave/anaconda3/envs/springboard/lib/python3.8/site-packages/sklearn/metrics/_classification.py:1245: UndefinedMetricWarning: Precision and F-score are ill-defined and being set to 0.0 in labels with no predicted samples. Use `zero_division` parameter to control this behavior.\n",
      "  _warn_prf(average, modifier, msg_start, len(result))\n",
      "/Users/dave/anaconda3/envs/springboard/lib/python3.8/site-packages/sklearn/metrics/_classification.py:1245: UndefinedMetricWarning: Precision and F-score are ill-defined and being set to 0.0 in labels with no predicted samples. Use `zero_division` parameter to control this behavior.\n",
      "  _warn_prf(average, modifier, msg_start, len(result))\n",
      "/Users/dave/anaconda3/envs/springboard/lib/python3.8/site-packages/sklearn/metrics/_classification.py:1245: UndefinedMetricWarning: Precision and F-score are ill-defined and being set to 0.0 in labels with no predicted samples. Use `zero_division` parameter to control this behavior.\n",
      "  _warn_prf(average, modifier, msg_start, len(result))\n"
     ]
    }
   ],
   "source": [
    "print(classification_report(y_test, y_pred_xgb))"
   ]
  },
  {
   "cell_type": "code",
   "execution_count": null,
   "id": "blessed-sunrise",
   "metadata": {},
   "outputs": [],
   "source": []
  }
 ],
 "metadata": {
  "kernelspec": {
   "display_name": "Python 3",
   "language": "python",
   "name": "python3"
  },
  "language_info": {
   "codemirror_mode": {
    "name": "ipython",
    "version": 3
   },
   "file_extension": ".py",
   "mimetype": "text/x-python",
   "name": "python",
   "nbconvert_exporter": "python",
   "pygments_lexer": "ipython3",
   "version": "3.8.8"
  }
 },
 "nbformat": 4,
 "nbformat_minor": 5
}
