{
 "cells": [
  {
   "cell_type": "markdown",
   "id": "surprised-sandwich",
   "metadata": {},
   "source": [
    "# Deep Learning Model: CNN - Reduced Classes\n",
    "## Business Problem\n",
    "Leukemia is a type of cancer of the blood that often affects young people. In the past, pathologists would diagnose patients by eye after examining blood smear images under the microscope. But, this is time consuming and tedious. Advances in image recognition technology have come a long ways since their inception. Therefore, automated solutions using computers would be of great benefit to the medical community to aid in cancer diagnoses.\n",
    "\n",
    "The goal of this project is to address the following question: How can the doctor’s at the Munich University Hospital automate the diagnosis of patients with leukemia using images from blood smears?\n",
    "\n",
    "## Approach\n",
    "This notebook will use the previously built model, but only a subset of the training data the includes just a binary class. From this data, I will be able to assess whether this model has difficulty with the large class imbalance between all 15 classes."
   ]
  },
  {
   "cell_type": "code",
   "execution_count": 1,
   "id": "sufficient-contest",
   "metadata": {},
   "outputs": [],
   "source": [
    "import sys\n",
    "sys.path.append('..')\n",
    "from time import time\n",
    "\n",
    "from keras import layers\n",
    "from keras import metrics\n",
    "from keras import models\n",
    "from keras.utils import to_categorical\n",
    "import matplotlib.pyplot as plt\n",
    "import numpy as np\n",
    "import pandas as pd\n",
    "import seaborn as sns\n",
    "from sklearn.metrics import classification_report\n",
    "from sklearn.model_selection import train_test_split\n",
    "from sklearn.metrics import confusion_matrix\n",
    "from sklearn.utils.class_weight import compute_class_weight\n",
    "\n",
    "from src.data_setup import make_dataset as md\n",
    "from src.modeling import evaluate_model as em\n",
    "\n",
    "%matplotlib inline"
   ]
  },
  {
   "cell_type": "markdown",
   "id": "reasonable-garden",
   "metadata": {},
   "source": [
    "## Load Data\n",
    "Load the pickled training and test data."
   ]
  },
  {
   "cell_type": "code",
   "execution_count": 2,
   "id": "exterior-unemployment",
   "metadata": {},
   "outputs": [],
   "source": [
    "X_train, X_test, y_train, y_test = md.load_train_test('gray_rescale12_binary')"
   ]
  },
  {
   "cell_type": "code",
   "execution_count": 3,
   "id": "behind-closure",
   "metadata": {},
   "outputs": [
    {
     "data": {
      "text/plain": [
       "(13982, 2304)"
      ]
     },
     "execution_count": 3,
     "metadata": {},
     "output_type": "execute_result"
    }
   ],
   "source": [
    "X_train.shape"
   ]
  },
  {
   "cell_type": "code",
   "execution_count": 4,
   "id": "nasty-agency",
   "metadata": {},
   "outputs": [
    {
     "data": {
      "text/plain": [
       "not NGS    7195\n",
       "NGS        6787\n",
       "dtype: int64"
      ]
     },
     "execution_count": 4,
     "metadata": {},
     "output_type": "execute_result"
    }
   ],
   "source": [
    "pd.Series(y_train).value_counts()"
   ]
  },
  {
   "cell_type": "code",
   "execution_count": 5,
   "id": "straight-snake",
   "metadata": {},
   "outputs": [
    {
     "data": {
      "text/plain": [
       "not NGS    1799\n",
       "NGS        1697\n",
       "dtype: int64"
      ]
     },
     "execution_count": 5,
     "metadata": {},
     "output_type": "execute_result"
    }
   ],
   "source": [
    "pd.Series(y_test).value_counts()"
   ]
  },
  {
   "cell_type": "markdown",
   "id": "conventional-overview",
   "metadata": {},
   "source": [
    "## Data Preparation\n",
    "### Unflatten\n",
    "Unflatten the feature arrays, converting them back into arrays of 2-dimensional images."
   ]
  },
  {
   "cell_type": "code",
   "execution_count": 6,
   "id": "genetic-berkeley",
   "metadata": {},
   "outputs": [],
   "source": [
    "def unflatten(X):\n",
    "    dimension = int(np.sqrt(X.shape[1]))\n",
    "    return X.reshape((len(X), dimension, dimension, 1))"
   ]
  },
  {
   "cell_type": "code",
   "execution_count": 7,
   "id": "decreased-testing",
   "metadata": {},
   "outputs": [
    {
     "data": {
      "text/plain": [
       "(13982, 48, 48, 1)"
      ]
     },
     "execution_count": 7,
     "metadata": {},
     "output_type": "execute_result"
    }
   ],
   "source": [
    "X_train_unflatten = unflatten(X_train)\n",
    "X_train_unflatten.shape"
   ]
  },
  {
   "cell_type": "code",
   "execution_count": 8,
   "id": "furnished-shuttle",
   "metadata": {},
   "outputs": [
    {
     "data": {
      "text/plain": [
       "(3496, 48, 48, 1)"
      ]
     },
     "execution_count": 8,
     "metadata": {},
     "output_type": "execute_result"
    }
   ],
   "source": [
    "X_test_unflatten = unflatten(X_test)\n",
    "X_test_unflatten.shape"
   ]
  },
  {
   "cell_type": "markdown",
   "id": "closing-register",
   "metadata": {},
   "source": [
    "### Normalize\n",
    "Normalize the features, to values between 0 and 1."
   ]
  },
  {
   "cell_type": "code",
   "execution_count": 9,
   "id": "computational-business",
   "metadata": {},
   "outputs": [
    {
     "name": "stdout",
     "output_type": "stream",
     "text": [
      "The maximum value for the training set is 255.\n",
      "The maximum value for the test set is 255.\n"
     ]
    }
   ],
   "source": [
    "print(f'The maximum value for the training set is {X_train_unflatten.max()}.')\n",
    "print(f'The maximum value for the test set is {X_test_unflatten.max()}.')"
   ]
  },
  {
   "cell_type": "code",
   "execution_count": 10,
   "id": "unlikely-attention",
   "metadata": {},
   "outputs": [],
   "source": [
    "X_train_normalized = X_train_unflatten / X_train_unflatten.max()\n",
    "X_test_normalized = X_test_unflatten / X_test_unflatten.max()"
   ]
  },
  {
   "cell_type": "code",
   "execution_count": 11,
   "id": "indie-organizer",
   "metadata": {},
   "outputs": [
    {
     "name": "stdout",
     "output_type": "stream",
     "text": [
      "The maximum value for the normalized training set is 1.0.\n",
      "The maximum value for the normalized test set is 1.0.\n"
     ]
    }
   ],
   "source": [
    "print(f'The maximum value for the normalized training set is {X_train_normalized.max()}.')\n",
    "print(f'The maximum value for the normalized test set is {X_test_normalized.max()}.')"
   ]
  },
  {
   "cell_type": "markdown",
   "id": "stretch-checkout",
   "metadata": {},
   "source": [
    "### Categories\n",
    "First, encode the labels to integer values."
   ]
  },
  {
   "cell_type": "code",
   "execution_count": 12,
   "id": "identical-madness",
   "metadata": {},
   "outputs": [],
   "source": [
    "label_encodings = {value: i for i, value in enumerate(np.unique(y_train))}"
   ]
  },
  {
   "cell_type": "code",
   "execution_count": 13,
   "id": "advised-client",
   "metadata": {},
   "outputs": [
    {
     "data": {
      "text/plain": [
       "{'NGS': 0, 'not NGS': 1}"
      ]
     },
     "execution_count": 13,
     "metadata": {},
     "output_type": "execute_result"
    }
   ],
   "source": [
    "label_encodings"
   ]
  },
  {
   "cell_type": "code",
   "execution_count": 14,
   "id": "saved-allergy",
   "metadata": {},
   "outputs": [
    {
     "data": {
      "text/plain": [
       "not NGS    7195\n",
       "NGS        6787\n",
       "dtype: int64"
      ]
     },
     "execution_count": 14,
     "metadata": {},
     "output_type": "execute_result"
    }
   ],
   "source": [
    "pd.Series(y_train).value_counts()"
   ]
  },
  {
   "cell_type": "code",
   "execution_count": 15,
   "id": "organizational-permit",
   "metadata": {},
   "outputs": [],
   "source": [
    "y_train_encoded = pd.Series(y_train).replace(label_encodings).values\n",
    "y_test_encoded = pd.Series(y_test).replace(label_encodings).values"
   ]
  },
  {
   "cell_type": "code",
   "execution_count": 16,
   "id": "nearby-taylor",
   "metadata": {},
   "outputs": [
    {
     "data": {
      "text/plain": [
       "array([0, 1])"
      ]
     },
     "execution_count": 16,
     "metadata": {},
     "output_type": "execute_result"
    }
   ],
   "source": [
    "np.unique(y_train_encoded)"
   ]
  },
  {
   "cell_type": "code",
   "execution_count": 17,
   "id": "initial-sucking",
   "metadata": {},
   "outputs": [
    {
     "data": {
      "text/plain": [
       "array([0, 1])"
      ]
     },
     "execution_count": 17,
     "metadata": {},
     "output_type": "execute_result"
    }
   ],
   "source": [
    "np.unique(y_test_encoded)"
   ]
  },
  {
   "cell_type": "markdown",
   "id": "otherwise-developer",
   "metadata": {},
   "source": [
    "Second, encode the integer labels as one-hot vectors."
   ]
  },
  {
   "cell_type": "code",
   "execution_count": 18,
   "id": "isolated-exemption",
   "metadata": {},
   "outputs": [],
   "source": [
    "y_train_one_hot = to_categorical(y_train_encoded)\n",
    "y_test_one_hot = to_categorical(y_test_encoded)"
   ]
  },
  {
   "cell_type": "code",
   "execution_count": 19,
   "id": "smart-branch",
   "metadata": {},
   "outputs": [
    {
     "data": {
      "text/plain": [
       "(13982, 2)"
      ]
     },
     "execution_count": 19,
     "metadata": {},
     "output_type": "execute_result"
    }
   ],
   "source": [
    "y_train_one_hot.shape"
   ]
  },
  {
   "cell_type": "code",
   "execution_count": 20,
   "id": "agreed-ballot",
   "metadata": {},
   "outputs": [
    {
     "data": {
      "text/plain": [
       "array([[0., 1.],\n",
       "       [0., 1.],\n",
       "       [1., 0.],\n",
       "       [0., 1.],\n",
       "       [0., 1.]], dtype=float32)"
      ]
     },
     "execution_count": 20,
     "metadata": {},
     "output_type": "execute_result"
    }
   ],
   "source": [
    "y_train_one_hot[0:5, :]"
   ]
  },
  {
   "cell_type": "code",
   "execution_count": 21,
   "id": "consistent-present",
   "metadata": {},
   "outputs": [
    {
     "data": {
      "text/plain": [
       "(3496, 2)"
      ]
     },
     "execution_count": 21,
     "metadata": {},
     "output_type": "execute_result"
    }
   ],
   "source": [
    "y_test_one_hot.shape"
   ]
  },
  {
   "cell_type": "code",
   "execution_count": 22,
   "id": "reliable-weekly",
   "metadata": {},
   "outputs": [
    {
     "data": {
      "text/plain": [
       "array([[0., 1.],\n",
       "       [0., 1.],\n",
       "       [1., 0.],\n",
       "       [0., 1.],\n",
       "       [0., 1.]], dtype=float32)"
      ]
     },
     "execution_count": 22,
     "metadata": {},
     "output_type": "execute_result"
    }
   ],
   "source": [
    "y_test_one_hot[0:5, :]"
   ]
  },
  {
   "cell_type": "markdown",
   "id": "solid-biodiversity",
   "metadata": {},
   "source": [
    "## Validation Set\n",
    "Now that we have preprocessed the training data, I will create a validation set. This will be used to evaluate how the deep learning model is training."
   ]
  },
  {
   "cell_type": "code",
   "execution_count": 23,
   "id": "logical-senior",
   "metadata": {},
   "outputs": [],
   "source": [
    "X_train_normalized, X_val, y_train_one_hot, y_val = train_test_split(X_train_normalized, y_train_one_hot, test_size=0.1, random_state=42)"
   ]
  },
  {
   "cell_type": "markdown",
   "id": "moved-grove",
   "metadata": {},
   "source": [
    "## Define Model"
   ]
  },
  {
   "cell_type": "code",
   "execution_count": 24,
   "id": "inappropriate-blackjack",
   "metadata": {},
   "outputs": [
    {
     "name": "stdout",
     "output_type": "stream",
     "text": [
      "The input shape is (48, 48, 1).\n"
     ]
    }
   ],
   "source": [
    "input_shape = X_train_unflatten.shape[1:]\n",
    "print(f'The input shape is {input_shape}.')"
   ]
  },
  {
   "cell_type": "markdown",
   "id": "incorrect-tracy",
   "metadata": {},
   "source": [
    "Note: I will make one modification to the original model. Since I am only dealing with two classes, I will reduce the number of neorons in the last layer from 15 to 2."
   ]
  },
  {
   "cell_type": "code",
   "execution_count": 25,
   "id": "internal-accreditation",
   "metadata": {},
   "outputs": [],
   "source": [
    "model_2a = models.Sequential([\n",
    "    layers.Conv2D(8, kernel_size=(3, 3), activation='relu', padding='same', input_shape=input_shape),\n",
    "    layers.MaxPooling2D(pool_size=(2, 2), strides=2),\n",
    "    layers.Conv2D(16, kernel_size=(7, 7), activation='relu'),\n",
    "    layers.MaxPooling2D(pool_size=(2, 2), strides=2),\n",
    "    layers.Flatten(),\n",
    "    layers.Dense(600, activation='relu'),\n",
    "    layers.Dense(150, activation='relu'),\n",
    "    layers.Dense(38, activation='relu'),\n",
    "    layers.Dense(2, activation='softmax')\n",
    "])"
   ]
  },
  {
   "cell_type": "code",
   "execution_count": 26,
   "id": "flush-payroll",
   "metadata": {},
   "outputs": [
    {
     "name": "stdout",
     "output_type": "stream",
     "text": [
      "Model: \"sequential\"\n",
      "_________________________________________________________________\n",
      "Layer (type)                 Output Shape              Param #   \n",
      "=================================================================\n",
      "conv2d (Conv2D)              (None, 48, 48, 8)         80        \n",
      "_________________________________________________________________\n",
      "max_pooling2d (MaxPooling2D) (None, 24, 24, 8)         0         \n",
      "_________________________________________________________________\n",
      "conv2d_1 (Conv2D)            (None, 18, 18, 16)        6288      \n",
      "_________________________________________________________________\n",
      "max_pooling2d_1 (MaxPooling2 (None, 9, 9, 16)          0         \n",
      "_________________________________________________________________\n",
      "flatten (Flatten)            (None, 1296)              0         \n",
      "_________________________________________________________________\n",
      "dense (Dense)                (None, 600)               778200    \n",
      "_________________________________________________________________\n",
      "dense_1 (Dense)              (None, 150)               90150     \n",
      "_________________________________________________________________\n",
      "dense_2 (Dense)              (None, 38)                5738      \n",
      "_________________________________________________________________\n",
      "dense_3 (Dense)              (None, 2)                 78        \n",
      "=================================================================\n",
      "Total params: 880,534\n",
      "Trainable params: 880,534\n",
      "Non-trainable params: 0\n",
      "_________________________________________________________________\n"
     ]
    }
   ],
   "source": [
    "model_2a.summary()"
   ]
  },
  {
   "cell_type": "markdown",
   "id": "potential-evaluation",
   "metadata": {},
   "source": [
    "### Train Model"
   ]
  },
  {
   "cell_type": "code",
   "execution_count": 27,
   "id": "blocked-manhattan",
   "metadata": {},
   "outputs": [
    {
     "name": "stdout",
     "output_type": "stream",
     "text": [
      "Epoch 1/50\n",
      "197/197 [==============================] - 9s 40ms/step - loss: 0.4579 - accuracy: 0.0000e+00 - categorical_accuracy: 0.7704 - precision: 0.7704 - recall: 0.7704 - val_loss: 0.1039 - val_accuracy: 3.5740e-04 - val_categorical_accuracy: 0.9578 - val_precision: 0.9578 - val_recall: 0.9578\n",
      "Epoch 2/50\n",
      "197/197 [==============================] - 7s 36ms/step - loss: 0.1140 - accuracy: 0.0011 - categorical_accuracy: 0.9616 - precision: 0.9616 - recall: 0.9616 - val_loss: 0.0756 - val_accuracy: 7.1480e-04 - val_categorical_accuracy: 0.9707 - val_precision: 0.9707 - val_recall: 0.9707\n",
      "Epoch 3/50\n",
      "197/197 [==============================] - 7s 37ms/step - loss: 0.0820 - accuracy: 0.0023 - categorical_accuracy: 0.9735 - precision: 0.9735 - recall: 0.9735 - val_loss: 0.0817 - val_accuracy: 0.0311 - val_categorical_accuracy: 0.9757 - val_precision: 0.9757 - val_recall: 0.9757\n",
      "Epoch 4/50\n",
      "197/197 [==============================] - 7s 37ms/step - loss: 0.0675 - accuracy: 0.0192 - categorical_accuracy: 0.9773 - precision: 0.9773 - recall: 0.9773 - val_loss: 0.0810 - val_accuracy: 0.0236 - val_categorical_accuracy: 0.9743 - val_precision: 0.9743 - val_recall: 0.9743\n",
      "Epoch 5/50\n",
      "197/197 [==============================] - 7s 37ms/step - loss: 0.0641 - accuracy: 0.0299 - categorical_accuracy: 0.9792 - precision: 0.9792 - recall: 0.9792 - val_loss: 0.0802 - val_accuracy: 0.0779 - val_categorical_accuracy: 0.9757 - val_precision: 0.9757 - val_recall: 0.9757\n",
      "Epoch 6/50\n",
      "197/197 [==============================] - 7s 38ms/step - loss: 0.0542 - accuracy: 0.0467 - categorical_accuracy: 0.9841 - precision: 0.9841 - recall: 0.9841 - val_loss: 0.0690 - val_accuracy: 0.0525 - val_categorical_accuracy: 0.9750 - val_precision: 0.9750 - val_recall: 0.9750\n",
      "Epoch 7/50\n",
      "197/197 [==============================] - 8s 42ms/step - loss: 0.0437 - accuracy: 0.0731 - categorical_accuracy: 0.9870 - precision: 0.9870 - recall: 0.9870 - val_loss: 0.0688 - val_accuracy: 0.1508 - val_categorical_accuracy: 0.9836 - val_precision: 0.9836 - val_recall: 0.9836\n",
      "Epoch 8/50\n",
      "197/197 [==============================] - 8s 42ms/step - loss: 0.0346 - accuracy: 0.1230 - categorical_accuracy: 0.9900 - precision: 0.9900 - recall: 0.9900 - val_loss: 0.0768 - val_accuracy: 0.1297 - val_categorical_accuracy: 0.9800 - val_precision: 0.9800 - val_recall: 0.9800\n",
      "Epoch 9/50\n",
      "197/197 [==============================] - 8s 42ms/step - loss: 0.0353 - accuracy: 0.1021 - categorical_accuracy: 0.9880 - precision: 0.9880 - recall: 0.9880 - val_loss: 0.0712 - val_accuracy: 0.1326 - val_categorical_accuracy: 0.9786 - val_precision: 0.9786 - val_recall: 0.9786\n",
      "Epoch 10/50\n",
      "197/197 [==============================] - 8s 39ms/step - loss: 0.0265 - accuracy: 0.1633 - categorical_accuracy: 0.9919 - precision: 0.9919 - recall: 0.9919 - val_loss: 0.0831 - val_accuracy: 0.1755 - val_categorical_accuracy: 0.9750 - val_precision: 0.9750 - val_recall: 0.9750\n",
      "Epoch 11/50\n",
      "197/197 [==============================] - 8s 40ms/step - loss: 0.0287 - accuracy: 0.1760 - categorical_accuracy: 0.9918 - precision: 0.9918 - recall: 0.9918 - val_loss: 0.0667 - val_accuracy: 0.1669 - val_categorical_accuracy: 0.9793 - val_precision: 0.9793 - val_recall: 0.9793\n",
      "Epoch 12/50\n",
      "197/197 [==============================] - 8s 39ms/step - loss: 0.0256 - accuracy: 0.1799 - categorical_accuracy: 0.9941 - precision: 0.9941 - recall: 0.9941 - val_loss: 0.0950 - val_accuracy: 0.1951 - val_categorical_accuracy: 0.9736 - val_precision: 0.9736 - val_recall: 0.9736\n",
      "Epoch 13/50\n",
      "197/197 [==============================] - 8s 40ms/step - loss: 0.0248 - accuracy: 0.2186 - categorical_accuracy: 0.9940 - precision: 0.9940 - recall: 0.9940 - val_loss: 0.0831 - val_accuracy: 0.2638 - val_categorical_accuracy: 0.9814 - val_precision: 0.9814 - val_recall: 0.9814\n",
      "Epoch 14/50\n",
      "197/197 [==============================] - 7s 38ms/step - loss: 0.0221 - accuracy: 0.2224 - categorical_accuracy: 0.9936 - precision: 0.9936 - recall: 0.9936 - val_loss: 0.0839 - val_accuracy: 0.2152 - val_categorical_accuracy: 0.9786 - val_precision: 0.9786 - val_recall: 0.9786\n",
      "Epoch 15/50\n",
      "197/197 [==============================] - 7s 38ms/step - loss: 0.0171 - accuracy: 0.2707 - categorical_accuracy: 0.9957 - precision: 0.9957 - recall: 0.9957 - val_loss: 0.1014 - val_accuracy: 0.2623 - val_categorical_accuracy: 0.9757 - val_precision: 0.9757 - val_recall: 0.9757\n",
      "Epoch 16/50\n",
      "197/197 [==============================] - 7s 38ms/step - loss: 0.0170 - accuracy: 0.2701 - categorical_accuracy: 0.9951 - precision: 0.9951 - recall: 0.9951 - val_loss: 0.0804 - val_accuracy: 0.2823 - val_categorical_accuracy: 0.9793 - val_precision: 0.9793 - val_recall: 0.9793\n",
      "Epoch 17/50\n",
      "197/197 [==============================] - 8s 38ms/step - loss: 0.0174 - accuracy: 0.2950 - categorical_accuracy: 0.9956 - precision: 0.9956 - recall: 0.9956 - val_loss: 0.1512 - val_accuracy: 0.3967 - val_categorical_accuracy: 0.9778 - val_precision: 0.9778 - val_recall: 0.9778\n",
      "Epoch 18/50\n",
      "197/197 [==============================] - 7s 37ms/step - loss: 0.0210 - accuracy: 0.3153 - categorical_accuracy: 0.9950 - precision: 0.9950 - recall: 0.9950 - val_loss: 0.0932 - val_accuracy: 0.2898 - val_categorical_accuracy: 0.9757 - val_precision: 0.9757 - val_recall: 0.9757\n",
      "Epoch 19/50\n",
      "197/197 [==============================] - 8s 38ms/step - loss: 0.0119 - accuracy: 0.3620 - categorical_accuracy: 0.9974 - precision: 0.9974 - recall: 0.9974 - val_loss: 0.1171 - val_accuracy: 0.2966 - val_categorical_accuracy: 0.9728 - val_precision: 0.9728 - val_recall: 0.9728\n",
      "Epoch 20/50\n",
      "197/197 [==============================] - 7s 37ms/step - loss: 0.0127 - accuracy: 0.3389 - categorical_accuracy: 0.9967 - precision: 0.9967 - recall: 0.9967 - val_loss: 0.1090 - val_accuracy: 0.3131 - val_categorical_accuracy: 0.9743 - val_precision: 0.9743 - val_recall: 0.9743\n",
      "Epoch 21/50\n",
      "197/197 [==============================] - 7s 37ms/step - loss: 0.0125 - accuracy: 0.3491 - categorical_accuracy: 0.9966 - precision: 0.9966 - recall: 0.9966 - val_loss: 0.1532 - val_accuracy: 0.4028 - val_categorical_accuracy: 0.9728 - val_precision: 0.9728 - val_recall: 0.9728\n",
      "Epoch 22/50\n",
      "197/197 [==============================] - 7s 37ms/step - loss: 0.0103 - accuracy: 0.4002 - categorical_accuracy: 0.9970 - precision: 0.9970 - recall: 0.9970 - val_loss: 0.1844 - val_accuracy: 0.4435 - val_categorical_accuracy: 0.9728 - val_precision: 0.9728 - val_recall: 0.9728\n",
      "Epoch 23/50\n",
      "197/197 [==============================] - 7s 37ms/step - loss: 0.0577 - accuracy: 0.4187 - categorical_accuracy: 0.9941 - precision: 0.9941 - recall: 0.9941 - val_loss: 0.1263 - val_accuracy: 0.4031 - val_categorical_accuracy: 0.9771 - val_precision: 0.9771 - val_recall: 0.9771\n",
      "Epoch 24/50\n",
      "197/197 [==============================] - 7s 37ms/step - loss: 0.0134 - accuracy: 0.4185 - categorical_accuracy: 0.9971 - precision: 0.9971 - recall: 0.9971 - val_loss: 0.0984 - val_accuracy: 0.3038 - val_categorical_accuracy: 0.9764 - val_precision: 0.9764 - val_recall: 0.9764\n",
      "Epoch 25/50\n",
      "197/197 [==============================] - 7s 37ms/step - loss: 0.0100 - accuracy: 0.3992 - categorical_accuracy: 0.9977 - precision: 0.9977 - recall: 0.9977 - val_loss: 0.1438 - val_accuracy: 0.3206 - val_categorical_accuracy: 0.9700 - val_precision: 0.9700 - val_recall: 0.9700\n",
      "Epoch 26/50\n",
      "197/197 [==============================] - 7s 37ms/step - loss: 0.0126 - accuracy: 0.4268 - categorical_accuracy: 0.9965 - precision: 0.9965 - recall: 0.9965 - val_loss: 0.1608 - val_accuracy: 0.4439 - val_categorical_accuracy: 0.9757 - val_precision: 0.9757 - val_recall: 0.9757\n",
      "Epoch 27/50\n",
      "197/197 [==============================] - 8s 39ms/step - loss: 0.0077 - accuracy: 0.4936 - categorical_accuracy: 0.9990 - precision: 0.9990 - recall: 0.9990 - val_loss: 0.2935 - val_accuracy: 0.5382 - val_categorical_accuracy: 0.9721 - val_precision: 0.9721 - val_recall: 0.9721\n",
      "Epoch 28/50\n",
      "197/197 [==============================] - 8s 41ms/step - loss: 0.0107 - accuracy: 0.5349 - categorical_accuracy: 0.9977 - precision: 0.9977 - recall: 0.9977 - val_loss: 0.1671 - val_accuracy: 0.4442 - val_categorical_accuracy: 0.9736 - val_precision: 0.9736 - val_recall: 0.9736\n",
      "Epoch 29/50\n",
      "197/197 [==============================] - 7s 37ms/step - loss: 0.0108 - accuracy: 0.4548 - categorical_accuracy: 0.9975 - precision: 0.9975 - recall: 0.9975 - val_loss: 0.1573 - val_accuracy: 0.4625 - val_categorical_accuracy: 0.9757 - val_precision: 0.9757 - val_recall: 0.9757\n",
      "Epoch 30/50\n",
      "197/197 [==============================] - 8s 39ms/step - loss: 0.0058 - accuracy: 0.5100 - categorical_accuracy: 0.9987 - precision: 0.9987 - recall: 0.9987 - val_loss: 0.1468 - val_accuracy: 0.3517 - val_categorical_accuracy: 0.9693 - val_precision: 0.9693 - val_recall: 0.9693\n",
      "Epoch 31/50\n",
      "197/197 [==============================] - 7s 38ms/step - loss: 0.0067 - accuracy: 0.4918 - categorical_accuracy: 0.9980 - precision: 0.9980 - recall: 0.9980 - val_loss: 0.2021 - val_accuracy: 0.5307 - val_categorical_accuracy: 0.9743 - val_precision: 0.9743 - val_recall: 0.9743\n",
      "Epoch 32/50\n",
      "197/197 [==============================] - 7s 36ms/step - loss: 0.0151 - accuracy: 0.5244 - categorical_accuracy: 0.9970 - precision: 0.9970 - recall: 0.9970 - val_loss: 0.1803 - val_accuracy: 0.4682 - val_categorical_accuracy: 0.9700 - val_precision: 0.9700 - val_recall: 0.9700\n",
      "Epoch 33/50\n",
      "197/197 [==============================] - 7s 37ms/step - loss: 0.0174 - accuracy: 0.5095 - categorical_accuracy: 0.9978 - precision: 0.9978 - recall: 0.9978 - val_loss: 0.2852 - val_accuracy: 0.5297 - val_categorical_accuracy: 0.9736 - val_precision: 0.9736 - val_recall: 0.9736\n",
      "Epoch 34/50\n",
      "197/197 [==============================] - 7s 37ms/step - loss: 0.0138 - accuracy: 0.4906 - categorical_accuracy: 0.9969 - precision: 0.9969 - recall: 0.9969 - val_loss: 0.2725 - val_accuracy: 0.5422 - val_categorical_accuracy: 0.9700 - val_precision: 0.9700 - val_recall: 0.9700\n",
      "Epoch 35/50\n",
      "197/197 [==============================] - 7s 36ms/step - loss: 0.0079 - accuracy: 0.5498 - categorical_accuracy: 0.9980 - precision: 0.9980 - recall: 0.9980 - val_loss: 0.1941 - val_accuracy: 0.5379 - val_categorical_accuracy: 0.9743 - val_precision: 0.9743 - val_recall: 0.9743\n",
      "Epoch 36/50\n",
      "197/197 [==============================] - 7s 36ms/step - loss: 0.0041 - accuracy: 0.5576 - categorical_accuracy: 0.9992 - precision: 0.9992 - recall: 0.9992 - val_loss: 0.2461 - val_accuracy: 0.5622 - val_categorical_accuracy: 0.9743 - val_precision: 0.9743 - val_recall: 0.9743\n",
      "Epoch 37/50\n",
      "197/197 [==============================] - 7s 36ms/step - loss: 0.0068 - accuracy: 0.5971 - categorical_accuracy: 0.9988 - precision: 0.9988 - recall: 0.9988 - val_loss: 0.2915 - val_accuracy: 0.6197 - val_categorical_accuracy: 0.9743 - val_precision: 0.9743 - val_recall: 0.9743\n",
      "Epoch 38/50\n",
      "197/197 [==============================] - 7s 36ms/step - loss: 0.0099 - accuracy: 0.5819 - categorical_accuracy: 0.9980 - precision: 0.9980 - recall: 0.9980 - val_loss: 0.2285 - val_accuracy: 0.5114 - val_categorical_accuracy: 0.9685 - val_precision: 0.9685 - val_recall: 0.9685\n",
      "Epoch 39/50\n",
      "197/197 [==============================] - 7s 36ms/step - loss: 0.0071 - accuracy: 0.5632 - categorical_accuracy: 0.9990 - precision: 0.9990 - recall: 0.9990 - val_loss: 0.2129 - val_accuracy: 0.5279 - val_categorical_accuracy: 0.9743 - val_precision: 0.9743 - val_recall: 0.9743\n",
      "Epoch 40/50\n",
      "197/197 [==============================] - 7s 36ms/step - loss: 0.0060 - accuracy: 0.5634 - categorical_accuracy: 0.9992 - precision: 0.9992 - recall: 0.9992 - val_loss: 0.2237 - val_accuracy: 0.5815 - val_categorical_accuracy: 0.9778 - val_precision: 0.9778 - val_recall: 0.9778\n",
      "Epoch 41/50\n",
      "197/197 [==============================] - 7s 37ms/step - loss: 0.0062 - accuracy: 0.5902 - categorical_accuracy: 0.9990 - precision: 0.9990 - recall: 0.9990 - val_loss: 0.3433 - val_accuracy: 0.6015 - val_categorical_accuracy: 0.9778 - val_precision: 0.9778 - val_recall: 0.9778\n",
      "Epoch 42/50\n",
      "197/197 [==============================] - 7s 37ms/step - loss: 0.0113 - accuracy: 0.5918 - categorical_accuracy: 0.9979 - precision: 0.9979 - recall: 0.9979 - val_loss: 0.2967 - val_accuracy: 0.6408 - val_categorical_accuracy: 0.9736 - val_precision: 0.9736 - val_recall: 0.9736\n",
      "Epoch 43/50\n",
      "197/197 [==============================] - 8s 38ms/step - loss: 0.0043 - accuracy: 0.6725 - categorical_accuracy: 0.9994 - precision: 0.9994 - recall: 0.9994 - val_loss: 0.2866 - val_accuracy: 0.6455 - val_categorical_accuracy: 0.9778 - val_precision: 0.9778 - val_recall: 0.9778\n",
      "Epoch 44/50\n",
      "197/197 [==============================] - 8s 38ms/step - loss: 0.0096 - accuracy: 0.6660 - categorical_accuracy: 0.9993 - precision: 0.9993 - recall: 0.9993 - val_loss: 0.3016 - val_accuracy: 0.5783 - val_categorical_accuracy: 0.9685 - val_precision: 0.9685 - val_recall: 0.9685\n",
      "Epoch 45/50\n",
      "197/197 [==============================] - 7s 37ms/step - loss: 0.0090 - accuracy: 0.5832 - categorical_accuracy: 0.9987 - precision: 0.9987 - recall: 0.9987 - val_loss: 0.2503 - val_accuracy: 0.6169 - val_categorical_accuracy: 0.9750 - val_precision: 0.9750 - val_recall: 0.9750\n",
      "Epoch 46/50\n",
      "197/197 [==============================] - 8s 39ms/step - loss: 0.0084 - accuracy: 0.6067 - categorical_accuracy: 0.9980 - precision: 0.9980 - recall: 0.9980 - val_loss: 0.1992 - val_accuracy: 0.5175 - val_categorical_accuracy: 0.9700 - val_precision: 0.9700 - val_recall: 0.9700\n",
      "Epoch 47/50\n",
      "197/197 [==============================] - 8s 38ms/step - loss: 0.0080 - accuracy: 0.6236 - categorical_accuracy: 0.9985 - precision: 0.9985 - recall: 0.9985 - val_loss: 0.3328 - val_accuracy: 0.6344 - val_categorical_accuracy: 0.9728 - val_precision: 0.9728 - val_recall: 0.9728\n",
      "Epoch 48/50\n",
      "197/197 [==============================] - 8s 39ms/step - loss: 0.0072 - accuracy: 0.6535 - categorical_accuracy: 0.9990 - precision: 0.9990 - recall: 0.9990 - val_loss: 0.2372 - val_accuracy: 0.5776 - val_categorical_accuracy: 0.9743 - val_precision: 0.9743 - val_recall: 0.9743\n",
      "Epoch 49/50\n",
      "197/197 [==============================] - 8s 38ms/step - loss: 0.0037 - accuracy: 0.6166 - categorical_accuracy: 0.9991 - precision: 0.9991 - recall: 0.9991 - val_loss: 0.8437 - val_accuracy: 0.7970 - val_categorical_accuracy: 0.9714 - val_precision: 0.9714 - val_recall: 0.9714\n",
      "Epoch 50/50\n",
      "197/197 [==============================] - 7s 37ms/step - loss: 0.0172 - accuracy: 0.6631 - categorical_accuracy: 0.9984 - precision: 0.9984 - recall: 0.9984 - val_loss: 0.2849 - val_accuracy: 0.6011 - val_categorical_accuracy: 0.9721 - val_precision: 0.9721 - val_recall: 0.9721\n"
     ]
    }
   ],
   "source": [
    "model_2a.compile(optimizer='rmsprop',\n",
    "              loss='categorical_crossentropy',\n",
    "              metrics=[\n",
    "                  metrics.Accuracy(),\n",
    "                  metrics.categorical_accuracy,\n",
    "                  metrics.Precision(),\n",
    "                  metrics.Recall()\n",
    "              ])\n",
    "results_3 = model_2a.fit(X_train_normalized, y_train_one_hot, validation_data=(X_val, y_val), epochs=50, batch_size=64)"
   ]
  },
  {
   "cell_type": "markdown",
   "id": "sophisticated-cleaner",
   "metadata": {},
   "source": [
    "#### Predictions\n",
    "Make class predictions using the model."
   ]
  },
  {
   "cell_type": "code",
   "execution_count": 28,
   "id": "suffering-pointer",
   "metadata": {},
   "outputs": [],
   "source": [
    "y_pred_cnn = model_2a.predict(X_test_normalized)"
   ]
  },
  {
   "cell_type": "markdown",
   "id": "solar-metadata",
   "metadata": {},
   "source": [
    "### Evaluate the Model"
   ]
  },
  {
   "cell_type": "code",
   "execution_count": 29,
   "id": "toxic-queens",
   "metadata": {},
   "outputs": [
    {
     "data": {
      "image/png": "[encoded data removed]",
      "text/plain": [
       "<Figure size 720x432 with 1 Axes>"
      ]
     },
     "metadata": {
      "needs_background": "light"
     },
     "output_type": "display_data"
    }
   ],
   "source": [
    "em.plot_train_val_losses(results_3, figure_name='losses_model_2a')"
   ]
  },
  {
   "cell_type": "markdown",
   "id": "prompt-completion",
   "metadata": {},
   "source": [
    "**Observations:**\n",
    "The flat curve for the training loss indicates that this model is underfitting. It is not complex enough."
   ]
  },
  {
   "cell_type": "code",
   "execution_count": 30,
   "id": "quantitative-anime",
   "metadata": {},
   "outputs": [
    {
     "name": "stdout",
     "output_type": "stream",
     "text": [
      "              precision    recall  f1-score   support\n",
      "\n",
      "           0       0.97      0.98      0.97      1697\n",
      "           1       0.98      0.97      0.98      1799\n",
      "\n",
      "    accuracy                           0.98      3496\n",
      "   macro avg       0.98      0.98      0.98      3496\n",
      "weighted avg       0.98      0.98      0.98      3496\n",
      "\n"
     ]
    }
   ],
   "source": [
    "print(classification_report(np.argmax(y_test_one_hot, axis=1), np.argmax(y_pred_cnn, axis=1)))"
   ]
  },
  {
   "cell_type": "code",
   "execution_count": 31,
   "id": "progressive-antarctica",
   "metadata": {},
   "outputs": [
    {
     "data": {
      "image/png": "[encoded data removed]",
      "text/plain": [
       "<Figure size 720x576 with 2 Axes>"
      ]
     },
     "metadata": {
      "needs_background": "light"
     },
     "output_type": "display_data"
    }
   ],
   "source": [
    "em.plot_confusion_matrix(y_test_one_hot, y_pred_cnn, label_encodings, figure_name='cm_model_2a')"
   ]
  },
  {
   "cell_type": "markdown",
   "id": "bright-screening",
   "metadata": {},
   "source": [
    "**Observations:**\n",
    "Despite not training well, the model does a pretty good job at making predictions."
   ]
  },
  {
   "cell_type": "markdown",
   "id": "multiple-alabama",
   "metadata": {},
   "source": [
    "### Train Model - Use Weighted Classes\n",
    "In the previous CNN model, I also tried weighting the classes to counter class imbalance. While these two classes are more balanced, they are not equal. Therefore, in order to be complete, I will also try weighting the classes and see how the model performs."
   ]
  },
  {
   "cell_type": "code",
   "execution_count": 32,
   "id": "statewide-extra",
   "metadata": {},
   "outputs": [],
   "source": [
    "class_weights = compute_class_weight('balanced', classes=np.unique(y_train_encoded), y=y_train_encoded)\n",
    "class_weights_dict = dict(enumerate(class_weights))"
   ]
  },
  {
   "cell_type": "code",
   "execution_count": 33,
   "id": "ready-memorial",
   "metadata": {},
   "outputs": [
    {
     "data": {
      "text/plain": [
       "{0: 1.0300574627965227, 1: 0.9716469770674079}"
      ]
     },
     "execution_count": 33,
     "metadata": {},
     "output_type": "execute_result"
    }
   ],
   "source": [
    "class_weights_dict"
   ]
  },
  {
   "cell_type": "code",
   "execution_count": 34,
   "id": "homeless-subcommittee",
   "metadata": {},
   "outputs": [],
   "source": [
    "model_2b = models.Sequential([\n",
    "    layers.Conv2D(8, kernel_size=(3, 3), activation='relu', padding='same', input_shape=input_shape),\n",
    "    layers.MaxPooling2D(pool_size=(2, 2), strides=2),\n",
    "    layers.Conv2D(16, kernel_size=(7, 7), activation='relu'),\n",
    "    layers.MaxPooling2D(pool_size=(2, 2), strides=2),\n",
    "    layers.Flatten(),\n",
    "    layers.Dense(600, activation='relu'),\n",
    "    layers.Dense(150, activation='relu'),\n",
    "    layers.Dense(38, activation='relu'),\n",
    "    layers.Dense(2, activation='softmax')\n",
    "])"
   ]
  },
  {
   "cell_type": "code",
   "execution_count": 35,
   "id": "unusual-glory",
   "metadata": {},
   "outputs": [
    {
     "name": "stdout",
     "output_type": "stream",
     "text": [
      "Epoch 1/50\n",
      "197/197 [==============================] - 8s 36ms/step - loss: 0.4910 - accuracy: 0.0000e+00 - categorical_accuracy: 0.7498 - precision_1: 0.7498 - recall_1: 0.7498 - val_loss: 0.2167 - val_accuracy: 0.0000e+00 - val_categorical_accuracy: 0.9092 - val_precision_1: 0.9092 - val_recall_1: 0.9092\n",
      "Epoch 2/50\n",
      "197/197 [==============================] - 7s 35ms/step - loss: 0.1442 - accuracy: 6.5163e-04 - categorical_accuracy: 0.9484 - precision_1: 0.9484 - recall_1: 0.9484 - val_loss: 0.1129 - val_accuracy: 0.0050 - val_categorical_accuracy: 0.9628 - val_precision_1: 0.9628 - val_recall_1: 0.9628\n",
      "Epoch 3/50\n",
      "197/197 [==============================] - 7s 37ms/step - loss: 0.1066 - accuracy: 0.0026 - categorical_accuracy: 0.9635 - precision_1: 0.9635 - recall_1: 0.9635 - val_loss: 0.0941 - val_accuracy: 0.0011 - val_categorical_accuracy: 0.9635 - val_precision_1: 0.9635 - val_recall_1: 0.9635\n",
      "Epoch 4/50\n",
      "197/197 [==============================] - 7s 36ms/step - loss: 0.0908 - accuracy: 0.0075 - categorical_accuracy: 0.9709 - precision_1: 0.9709 - recall_1: 0.9709 - val_loss: 0.0871 - val_accuracy: 0.0186 - val_categorical_accuracy: 0.9728 - val_precision_1: 0.9728 - val_recall_1: 0.9728\n",
      "Epoch 5/50\n",
      "197/197 [==============================] - 7s 36ms/step - loss: 0.0650 - accuracy: 0.0203 - categorical_accuracy: 0.9775 - precision_1: 0.9775 - recall_1: 0.9775 - val_loss: 0.0878 - val_accuracy: 0.0079 - val_categorical_accuracy: 0.9693 - val_precision_1: 0.9693 - val_recall_1: 0.9693\n",
      "Epoch 6/50\n",
      "197/197 [==============================] - 8s 40ms/step - loss: 0.0620 - accuracy: 0.0247 - categorical_accuracy: 0.9792 - precision_1: 0.9792 - recall_1: 0.9792 - val_loss: 0.0672 - val_accuracy: 0.0357 - val_categorical_accuracy: 0.9764 - val_precision_1: 0.9764 - val_recall_1: 0.9764\n",
      "Epoch 7/50\n",
      "197/197 [==============================] - 8s 41ms/step - loss: 0.0535 - accuracy: 0.0392 - categorical_accuracy: 0.9836 - precision_1: 0.9836 - recall_1: 0.9836 - val_loss: 0.0705 - val_accuracy: 0.0247 - val_categorical_accuracy: 0.9736 - val_precision_1: 0.9736 - val_recall_1: 0.9736\n",
      "Epoch 8/50\n",
      "197/197 [==============================] - 8s 40ms/step - loss: 0.0457 - accuracy: 0.0721 - categorical_accuracy: 0.9869 - precision_1: 0.9869 - recall_1: 0.9869 - val_loss: 0.0664 - val_accuracy: 0.0332 - val_categorical_accuracy: 0.9743 - val_precision_1: 0.9743 - val_recall_1: 0.9743\n",
      "Epoch 9/50\n",
      "197/197 [==============================] - 7s 38ms/step - loss: 0.0441 - accuracy: 0.0883 - categorical_accuracy: 0.9869 - precision_1: 0.9869 - recall_1: 0.9869 - val_loss: 0.0685 - val_accuracy: 0.0751 - val_categorical_accuracy: 0.9757 - val_precision_1: 0.9757 - val_recall_1: 0.9757\n",
      "Epoch 10/50\n",
      "197/197 [==============================] - 7s 38ms/step - loss: 0.0429 - accuracy: 0.0925 - categorical_accuracy: 0.9862 - precision_1: 0.9862 - recall_1: 0.9862 - val_loss: 0.0756 - val_accuracy: 0.1294 - val_categorical_accuracy: 0.9721 - val_precision_1: 0.9721 - val_recall_1: 0.9721\n",
      "Epoch 11/50\n",
      "197/197 [==============================] - 8s 39ms/step - loss: 0.0361 - accuracy: 0.1074 - categorical_accuracy: 0.9901 - precision_1: 0.9901 - recall_1: 0.9901 - val_loss: 0.1162 - val_accuracy: 0.1290 - val_categorical_accuracy: 0.9700 - val_precision_1: 0.9700 - val_recall_1: 0.9700\n",
      "Epoch 12/50\n",
      "197/197 [==============================] - 7s 37ms/step - loss: 0.0335 - accuracy: 0.1570 - categorical_accuracy: 0.9898 - precision_1: 0.9898 - recall_1: 0.9898 - val_loss: 0.0963 - val_accuracy: 0.0633 - val_categorical_accuracy: 0.9721 - val_precision_1: 0.9721 - val_recall_1: 0.9721\n",
      "Epoch 13/50\n",
      "197/197 [==============================] - 8s 40ms/step - loss: 0.0303 - accuracy: 0.1231 - categorical_accuracy: 0.9917 - precision_1: 0.9917 - recall_1: 0.9917 - val_loss: 0.1187 - val_accuracy: 0.1994 - val_categorical_accuracy: 0.9693 - val_precision_1: 0.9693 - val_recall_1: 0.9693\n",
      "Epoch 14/50\n",
      "197/197 [==============================] - 7s 37ms/step - loss: 0.0270 - accuracy: 0.1903 - categorical_accuracy: 0.9923 - precision_1: 0.9923 - recall_1: 0.9923 - val_loss: 0.0815 - val_accuracy: 0.2116 - val_categorical_accuracy: 0.9750 - val_precision_1: 0.9750 - val_recall_1: 0.9750\n",
      "Epoch 15/50\n",
      "197/197 [==============================] - 7s 36ms/step - loss: 0.0315 - accuracy: 0.1820 - categorical_accuracy: 0.9923 - precision_1: 0.9923 - recall_1: 0.9923 - val_loss: 0.1216 - val_accuracy: 0.1683 - val_categorical_accuracy: 0.9693 - val_precision_1: 0.9693 - val_recall_1: 0.9693\n",
      "Epoch 16/50\n",
      "197/197 [==============================] - 7s 35ms/step - loss: 0.0219 - accuracy: 0.1754 - categorical_accuracy: 0.9942 - precision_1: 0.9942 - recall_1: 0.9942 - val_loss: 0.0960 - val_accuracy: 0.2180 - val_categorical_accuracy: 0.9743 - val_precision_1: 0.9743 - val_recall_1: 0.9743\n",
      "Epoch 17/50\n",
      "197/197 [==============================] - 7s 36ms/step - loss: 0.0249 - accuracy: 0.1806 - categorical_accuracy: 0.9923 - precision_1: 0.9923 - recall_1: 0.9923 - val_loss: 0.0915 - val_accuracy: 0.1783 - val_categorical_accuracy: 0.9700 - val_precision_1: 0.9700 - val_recall_1: 0.9700\n",
      "Epoch 18/50\n",
      "197/197 [==============================] - 7s 37ms/step - loss: 0.0212 - accuracy: 0.2134 - categorical_accuracy: 0.9939 - precision_1: 0.9939 - recall_1: 0.9939 - val_loss: 0.1046 - val_accuracy: 0.2030 - val_categorical_accuracy: 0.9685 - val_precision_1: 0.9685 - val_recall_1: 0.9685\n",
      "Epoch 19/50\n",
      "197/197 [==============================] - 7s 35ms/step - loss: 0.0183 - accuracy: 0.2048 - categorical_accuracy: 0.9948 - precision_1: 0.9948 - recall_1: 0.9948 - val_loss: 0.1046 - val_accuracy: 0.1698 - val_categorical_accuracy: 0.9657 - val_precision_1: 0.9657 - val_recall_1: 0.9657\n",
      "Epoch 20/50\n",
      "197/197 [==============================] - 7s 35ms/step - loss: 0.0151 - accuracy: 0.2597 - categorical_accuracy: 0.9962 - precision_1: 0.9962 - recall_1: 0.9962 - val_loss: 0.0845 - val_accuracy: 0.2234 - val_categorical_accuracy: 0.9750 - val_precision_1: 0.9750 - val_recall_1: 0.9750\n",
      "Epoch 21/50\n",
      "197/197 [==============================] - 7s 36ms/step - loss: 0.0137 - accuracy: 0.2515 - categorical_accuracy: 0.9965 - precision_1: 0.9965 - recall_1: 0.9965 - val_loss: 0.1993 - val_accuracy: 0.3270 - val_categorical_accuracy: 0.9671 - val_precision_1: 0.9671 - val_recall_1: 0.9671\n",
      "Epoch 22/50\n",
      "197/197 [==============================] - 8s 39ms/step - loss: 0.0179 - accuracy: 0.2881 - categorical_accuracy: 0.9956 - precision_1: 0.9956 - recall_1: 0.9956 - val_loss: 0.1731 - val_accuracy: 0.3585 - val_categorical_accuracy: 0.9714 - val_precision_1: 0.9714 - val_recall_1: 0.9714\n",
      "Epoch 23/50\n",
      "197/197 [==============================] - 8s 39ms/step - loss: 0.0331 - accuracy: 0.2688 - categorical_accuracy: 0.9933 - precision_1: 0.9933 - recall_1: 0.9933 - val_loss: 0.2248 - val_accuracy: 0.4278 - val_categorical_accuracy: 0.9685 - val_precision_1: 0.9685 - val_recall_1: 0.9685\n",
      "Epoch 24/50\n",
      "197/197 [==============================] - 7s 37ms/step - loss: 0.0214 - accuracy: 0.3366 - categorical_accuracy: 0.9953 - precision_1: 0.9953 - recall_1: 0.9953 - val_loss: 0.2088 - val_accuracy: 0.3045 - val_categorical_accuracy: 0.9614 - val_precision_1: 0.9614 - val_recall_1: 0.9614\n",
      "Epoch 25/50\n",
      "197/197 [==============================] - 7s 37ms/step - loss: 0.0258 - accuracy: 0.3453 - categorical_accuracy: 0.9959 - precision_1: 0.9959 - recall_1: 0.9959 - val_loss: 0.1680 - val_accuracy: 0.3474 - val_categorical_accuracy: 0.9714 - val_precision_1: 0.9714 - val_recall_1: 0.9714\n",
      "Epoch 26/50\n",
      "197/197 [==============================] - 7s 36ms/step - loss: 0.0111 - accuracy: 0.3162 - categorical_accuracy: 0.9970 - precision_1: 0.9970 - recall_1: 0.9970 - val_loss: 0.2632 - val_accuracy: 0.2920 - val_categorical_accuracy: 0.9621 - val_precision_1: 0.9621 - val_recall_1: 0.9621\n",
      "Epoch 27/50\n",
      "197/197 [==============================] - 7s 36ms/step - loss: 0.0132 - accuracy: 0.3112 - categorical_accuracy: 0.9975 - precision_1: 0.9975 - recall_1: 0.9975 - val_loss: 0.1482 - val_accuracy: 0.3485 - val_categorical_accuracy: 0.9685 - val_precision_1: 0.9685 - val_recall_1: 0.9685\n",
      "Epoch 28/50\n",
      "197/197 [==============================] - 7s 37ms/step - loss: 0.0115 - accuracy: 0.3470 - categorical_accuracy: 0.9969 - precision_1: 0.9969 - recall_1: 0.9969 - val_loss: 0.2483 - val_accuracy: 0.4689 - val_categorical_accuracy: 0.9736 - val_precision_1: 0.9736 - val_recall_1: 0.9736\n",
      "Epoch 29/50\n",
      "197/197 [==============================] - 7s 37ms/step - loss: 0.0154 - accuracy: 0.3900 - categorical_accuracy: 0.9969 - precision_1: 0.9969 - recall_1: 0.9969 - val_loss: 0.1843 - val_accuracy: 0.4067 - val_categorical_accuracy: 0.9700 - val_precision_1: 0.9700 - val_recall_1: 0.9700\n",
      "Epoch 30/50\n",
      "197/197 [==============================] - 7s 36ms/step - loss: 0.0152 - accuracy: 0.3550 - categorical_accuracy: 0.9963 - precision_1: 0.9963 - recall_1: 0.9963 - val_loss: 0.1369 - val_accuracy: 0.3095 - val_categorical_accuracy: 0.9721 - val_precision_1: 0.9721 - val_recall_1: 0.9721\n",
      "Epoch 31/50\n",
      "197/197 [==============================] - 7s 36ms/step - loss: 0.0083 - accuracy: 0.3661 - categorical_accuracy: 0.9983 - precision_1: 0.9983 - recall_1: 0.9983 - val_loss: 0.1707 - val_accuracy: 0.3685 - val_categorical_accuracy: 0.9678 - val_precision_1: 0.9678 - val_recall_1: 0.9678\n",
      "Epoch 32/50\n",
      "197/197 [==============================] - 7s 37ms/step - loss: 0.0085 - accuracy: 0.4426 - categorical_accuracy: 0.9985 - precision_1: 0.9985 - recall_1: 0.9985 - val_loss: 0.2266 - val_accuracy: 0.4557 - val_categorical_accuracy: 0.9714 - val_precision_1: 0.9714 - val_recall_1: 0.9714\n",
      "Epoch 33/50\n",
      "197/197 [==============================] - 7s 37ms/step - loss: 0.0069 - accuracy: 0.4924 - categorical_accuracy: 0.9987 - precision_1: 0.9987 - recall_1: 0.9987 - val_loss: 0.2792 - val_accuracy: 0.4904 - val_categorical_accuracy: 0.9693 - val_precision_1: 0.9693 - val_recall_1: 0.9693\n",
      "Epoch 34/50\n",
      "197/197 [==============================] - 7s 37ms/step - loss: 0.0091 - accuracy: 0.4626 - categorical_accuracy: 0.9984 - precision_1: 0.9984 - recall_1: 0.9984 - val_loss: 0.1951 - val_accuracy: 0.4954 - val_categorical_accuracy: 0.9757 - val_precision_1: 0.9757 - val_recall_1: 0.9757\n",
      "Epoch 35/50\n",
      "197/197 [==============================] - 7s 37ms/step - loss: 0.0107 - accuracy: 0.4719 - categorical_accuracy: 0.9982 - precision_1: 0.9982 - recall_1: 0.9982 - val_loss: 0.1848 - val_accuracy: 0.4811 - val_categorical_accuracy: 0.9728 - val_precision_1: 0.9728 - val_recall_1: 0.9728\n",
      "Epoch 36/50\n",
      "197/197 [==============================] - 7s 37ms/step - loss: 0.0054 - accuracy: 0.4967 - categorical_accuracy: 0.9991 - precision_1: 0.9991 - recall_1: 0.9991 - val_loss: 0.2151 - val_accuracy: 0.4114 - val_categorical_accuracy: 0.9700 - val_precision_1: 0.9700 - val_recall_1: 0.9700\n",
      "Epoch 37/50\n",
      "197/197 [==============================] - 7s 38ms/step - loss: 0.0105 - accuracy: 0.4586 - categorical_accuracy: 0.9976 - precision_1: 0.9976 - recall_1: 0.9976 - val_loss: 0.2125 - val_accuracy: 0.5129 - val_categorical_accuracy: 0.9750 - val_precision_1: 0.9750 - val_recall_1: 0.9750\n",
      "Epoch 38/50\n",
      "197/197 [==============================] - 7s 38ms/step - loss: 0.0038 - accuracy: 0.5573 - categorical_accuracy: 0.9992 - precision_1: 0.9992 - recall_1: 0.9992 - val_loss: 0.1651 - val_accuracy: 0.4271 - val_categorical_accuracy: 0.9700 - val_precision_1: 0.9700 - val_recall_1: 0.9700\n",
      "Epoch 39/50\n",
      "197/197 [==============================] - 7s 38ms/step - loss: 0.0082 - accuracy: 0.4593 - categorical_accuracy: 0.9983 - precision_1: 0.9983 - recall_1: 0.9983 - val_loss: 0.2367 - val_accuracy: 0.5257 - val_categorical_accuracy: 0.9714 - val_precision_1: 0.9714 - val_recall_1: 0.9714\n",
      "Epoch 40/50\n",
      "197/197 [==============================] - 8s 38ms/step - loss: 0.0091 - accuracy: 0.5289 - categorical_accuracy: 0.9985 - precision_1: 0.9985 - recall_1: 0.9985 - val_loss: 0.2049 - val_accuracy: 0.5057 - val_categorical_accuracy: 0.9714 - val_precision_1: 0.9714 - val_recall_1: 0.9714\n",
      "Epoch 41/50\n",
      "197/197 [==============================] - 8s 38ms/step - loss: 0.0029 - accuracy: 0.5451 - categorical_accuracy: 0.9994 - precision_1: 0.9994 - recall_1: 0.9994 - val_loss: 0.2886 - val_accuracy: 0.5826 - val_categorical_accuracy: 0.9728 - val_precision_1: 0.9728 - val_recall_1: 0.9728\n",
      "Epoch 42/50\n",
      "197/197 [==============================] - 7s 38ms/step - loss: 0.0121 - accuracy: 0.5536 - categorical_accuracy: 0.9978 - precision_1: 0.9978 - recall_1: 0.9978 - val_loss: 0.1844 - val_accuracy: 0.5150 - val_categorical_accuracy: 0.9736 - val_precision_1: 0.9736 - val_recall_1: 0.9736\n",
      "Epoch 43/50\n",
      "197/197 [==============================] - 7s 38ms/step - loss: 0.0046 - accuracy: 0.5356 - categorical_accuracy: 0.9989 - precision_1: 0.9989 - recall_1: 0.9989 - val_loss: 0.2754 - val_accuracy: 0.4964 - val_categorical_accuracy: 0.9657 - val_precision_1: 0.9657 - val_recall_1: 0.9657\n",
      "Epoch 44/50\n",
      "197/197 [==============================] - 7s 37ms/step - loss: 0.0077 - accuracy: 0.5211 - categorical_accuracy: 0.9985 - precision_1: 0.9985 - recall_1: 0.9985 - val_loss: 0.1917 - val_accuracy: 0.5222 - val_categorical_accuracy: 0.9714 - val_precision_1: 0.9714 - val_recall_1: 0.9714\n",
      "Epoch 45/50\n",
      "197/197 [==============================] - 7s 38ms/step - loss: 0.0032 - accuracy: 0.5283 - categorical_accuracy: 0.9991 - precision_1: 0.9991 - recall_1: 0.9991 - val_loss: 0.4789 - val_accuracy: 0.5686 - val_categorical_accuracy: 0.9678 - val_precision_1: 0.9678 - val_recall_1: 0.9678\n",
      "Epoch 46/50\n",
      "197/197 [==============================] - 8s 38ms/step - loss: 0.0084 - accuracy: 0.5669 - categorical_accuracy: 0.9989 - precision_1: 0.9989 - recall_1: 0.9989 - val_loss: 0.3777 - val_accuracy: 0.6287 - val_categorical_accuracy: 0.9728 - val_precision_1: 0.9728 - val_recall_1: 0.9728\n",
      "Epoch 47/50\n",
      "197/197 [==============================] - 7s 38ms/step - loss: 0.0155 - accuracy: 0.5740 - categorical_accuracy: 0.9983 - precision_1: 0.9983 - recall_1: 0.9983 - val_loss: 0.4092 - val_accuracy: 0.6212 - val_categorical_accuracy: 0.9678 - val_precision_1: 0.9678 - val_recall_1: 0.9678\n",
      "Epoch 48/50\n",
      "197/197 [==============================] - 8s 39ms/step - loss: 0.0098 - accuracy: 0.5968 - categorical_accuracy: 0.9986 - precision_1: 0.9986 - recall_1: 0.9986 - val_loss: 0.3523 - val_accuracy: 0.6058 - val_categorical_accuracy: 0.9693 - val_precision_1: 0.9693 - val_recall_1: 0.9693\n",
      "Epoch 49/50\n",
      "197/197 [==============================] - 7s 38ms/step - loss: 0.0061 - accuracy: 0.5670 - categorical_accuracy: 0.9991 - precision_1: 0.9991 - recall_1: 0.9991 - val_loss: 0.2032 - val_accuracy: 0.5239 - val_categorical_accuracy: 0.9707 - val_precision_1: 0.9707 - val_recall_1: 0.9707\n",
      "Epoch 50/50\n",
      "197/197 [==============================] - 7s 38ms/step - loss: 0.0092 - accuracy: 0.5536 - categorical_accuracy: 0.9985 - precision_1: 0.9985 - recall_1: 0.9985 - val_loss: 0.4073 - val_accuracy: 0.6369 - val_categorical_accuracy: 0.9693 - val_precision_1: 0.9693 - val_recall_1: 0.9693\n"
     ]
    }
   ],
   "source": [
    "model_2b.compile(optimizer='rmsprop',\n",
    "                loss='categorical_crossentropy',\n",
    "                metrics=[\n",
    "                    metrics.Accuracy(),\n",
    "                    metrics.categorical_accuracy,\n",
    "                    metrics.Precision(),\n",
    "                    metrics.Recall()\n",
    "                ])\n",
    "results_4 = model_2b.fit(X_train_normalized, y_train_one_hot, validation_data=(X_val, y_val), epochs=50, batch_size=64, class_weight=class_weights_dict)"
   ]
  },
  {
   "cell_type": "code",
   "execution_count": 36,
   "id": "built-christianity",
   "metadata": {},
   "outputs": [
    {
     "data": {
      "text/plain": [
       "dict_keys(['loss', 'accuracy', 'categorical_accuracy', 'precision_1', 'recall_1', 'val_loss', 'val_accuracy', 'val_categorical_accuracy', 'val_precision_1', 'val_recall_1'])"
      ]
     },
     "execution_count": 36,
     "metadata": {},
     "output_type": "execute_result"
    }
   ],
   "source": [
    "results_4.history.keys()"
   ]
  },
  {
   "cell_type": "code",
   "execution_count": 37,
   "id": "governing-disco",
   "metadata": {},
   "outputs": [
    {
     "data": {
      "image/png": "[encoded data removed]",
      "text/plain": [
       "<Figure size 720x432 with 1 Axes>"
      ]
     },
     "metadata": {
      "needs_background": "light"
     },
     "output_type": "display_data"
    }
   ],
   "source": [
    "em.plot_train_val_losses(results_4, figure_name='losses_model_2b')"
   ]
  },
  {
   "cell_type": "markdown",
   "id": "referenced-blogger",
   "metadata": {},
   "source": [
    "### Predictions\n",
    "Make class predictions using the model fit using weighted classes."
   ]
  },
  {
   "cell_type": "code",
   "execution_count": 38,
   "id": "middle-empty",
   "metadata": {},
   "outputs": [],
   "source": [
    "y_pred_cnn_2 = model_2b.predict(X_test_normalized)"
   ]
  },
  {
   "cell_type": "code",
   "execution_count": 39,
   "id": "sunset-lobby",
   "metadata": {},
   "outputs": [
    {
     "name": "stdout",
     "output_type": "stream",
     "text": [
      "              precision    recall  f1-score   support\n",
      "\n",
      "           0       0.99      0.95      0.97      1697\n",
      "           1       0.95      0.99      0.97      1799\n",
      "\n",
      "    accuracy                           0.97      3496\n",
      "   macro avg       0.97      0.97      0.97      3496\n",
      "weighted avg       0.97      0.97      0.97      3496\n",
      "\n"
     ]
    }
   ],
   "source": [
    "print(classification_report(np.argmax(y_test_one_hot, axis=1), np.argmax(y_pred_cnn_2, axis=1)))"
   ]
  },
  {
   "cell_type": "code",
   "execution_count": 40,
   "id": "iraqi-klein",
   "metadata": {},
   "outputs": [
    {
     "data": {
      "image/png": "[encoded data removed]",
      "text/plain": [
       "<Figure size 720x576 with 2 Axes>"
      ]
     },
     "metadata": {
      "needs_background": "light"
     },
     "output_type": "display_data"
    }
   ],
   "source": [
    "em.plot_confusion_matrix(y_test_one_hot, y_pred_cnn_2, label_encodings, figure_name='cm_model_2b')"
   ]
  },
  {
   "cell_type": "markdown",
   "id": "progressive-objective",
   "metadata": {},
   "source": [
    "**Observations:** The flat curve still indicates that the model is underfitting.\n",
    "\n",
    "## Summary\n",
    "After fitting the CNN to a dataset with only two classes, I have determined that the model is underfitting. Nevertheless, it has high predictive power, as shown by the classification report for the test set and the confussion matrix.\n",
    "\n",
    "## Future Direction\n",
    "Since this model is underfitting, even for a two class problem, this indicates that I need a more complicated model in order to be able to learn useful features that can be used to predict leukocite class. \n",
    "\n",
    "As future work, I will extend my project to include the following improvements:\n",
    "* Develop more complex architecture.\n",
    "* Explore data augmentation to counter class imbalance."
   ]
  },
  {
   "cell_type": "code",
   "execution_count": null,
   "id": "simplified-quantum",
   "metadata": {},
   "outputs": [],
   "source": []
  }
 ],
 "metadata": {
  "kernelspec": {
   "display_name": "Python 3",
   "language": "python",
   "name": "python3"
  },
  "language_info": {
   "codemirror_mode": {
    "name": "ipython",
    "version": 3
   },
   "file_extension": ".py",
   "mimetype": "text/x-python",
   "name": "python",
   "nbconvert_exporter": "python",
   "pygments_lexer": "ipython3",
   "version": "3.8.8"
  }
 },
 "nbformat": 4,
 "nbformat_minor": 5
}
