{
 "cells": [
  {
   "cell_type": "markdown",
   "id": "sitting-gather",
   "metadata": {},
   "source": [
    "# Deep Learning Model: CNN - Reduced Classes\n",
    "## Business Problem\n",
    "Leukemia is a type of cancer of the blood that often affects young people. In the past, pathologists would diagnose patients by eye after examining blood smear images under the microscope. But, this is time consuming and tedious. Advances in image recognition technology have come a long ways since their inception. Therefore, automated solutions using computers would be of great benefit to the medical community to aid in cancer diagnoses.\n",
    "\n",
    "The goal of this project is to address the following question: How can the doctor’s at the Munich University Hospital automate the diagnosis of patients with leukemia using images from blood smears?\n",
    "\n",
    "## Approach\n",
    "This notebook will use the previously built model, but only a subset of the training data the includes just a binary class. From this data, I will be able to assess whether this model has difficulty with the large class imbalance between all 15 classes."
   ]
  },
  {
   "cell_type": "code",
   "execution_count": 1,
   "id": "owned-competition",
   "metadata": {},
   "outputs": [],
   "source": [
    "import sys\n",
    "sys.path.append('..')\n",
    "from time import time\n",
    "\n",
    "from keras import layers\n",
    "from keras import metrics\n",
    "from keras import models\n",
    "from keras.utils import to_categorical\n",
    "import matplotlib.pyplot as plt\n",
    "import numpy as np\n",
    "import pandas as pd\n",
    "import seaborn as sns\n",
    "from sklearn.metrics import classification_report\n",
    "from sklearn.model_selection import train_test_split\n",
    "from sklearn.metrics import confusion_matrix\n",
    "from sklearn.utils.class_weight import compute_class_weight\n",
    "\n",
    "from src.data_setup import make_dataset as md\n",
    "from src.modeling import evaluate_model as em\n",
    "\n",
    "%matplotlib inline"
   ]
  },
  {
   "cell_type": "markdown",
   "id": "thermal-conservative",
   "metadata": {},
   "source": [
    "## Load Data\n",
    "Load the pickled training and test data."
   ]
  },
  {
   "cell_type": "code",
   "execution_count": 2,
   "id": "spectacular-breed",
   "metadata": {},
   "outputs": [],
   "source": [
    "X_train, X_test, y_train, y_test = md.load_train_test('gray_rescale12_binary')"
   ]
  },
  {
   "cell_type": "code",
   "execution_count": 3,
   "id": "soviet-irrigation",
   "metadata": {},
   "outputs": [
    {
     "data": {
      "text/plain": [
       "(13982, 2304)"
      ]
     },
     "execution_count": 3,
     "metadata": {},
     "output_type": "execute_result"
    }
   ],
   "source": [
    "X_train.shape"
   ]
  },
  {
   "cell_type": "code",
   "execution_count": 4,
   "id": "literary-option",
   "metadata": {},
   "outputs": [
    {
     "data": {
      "text/plain": [
       "not NGS    7195\n",
       "NGS        6787\n",
       "dtype: int64"
      ]
     },
     "execution_count": 4,
     "metadata": {},
     "output_type": "execute_result"
    }
   ],
   "source": [
    "pd.Series(y_train).value_counts()"
   ]
  },
  {
   "cell_type": "code",
   "execution_count": 5,
   "id": "fallen-hardwood",
   "metadata": {},
   "outputs": [
    {
     "data": {
      "text/plain": [
       "not NGS    1799\n",
       "NGS        1697\n",
       "dtype: int64"
      ]
     },
     "execution_count": 5,
     "metadata": {},
     "output_type": "execute_result"
    }
   ],
   "source": [
    "pd.Series(y_test).value_counts()"
   ]
  },
  {
   "cell_type": "markdown",
   "id": "north-homeless",
   "metadata": {},
   "source": [
    "## Data Preparation\n",
    "### Unflatten\n",
    "Unflatten the feature arrays, converting them back into arrays of 2-dimensional images."
   ]
  },
  {
   "cell_type": "code",
   "execution_count": 6,
   "id": "previous-recovery",
   "metadata": {},
   "outputs": [],
   "source": [
    "def unflatten(X):\n",
    "    dimension = int(np.sqrt(X.shape[1]))\n",
    "    return X.reshape((len(X), dimension, dimension, 1))"
   ]
  },
  {
   "cell_type": "code",
   "execution_count": 7,
   "id": "everyday-purple",
   "metadata": {},
   "outputs": [
    {
     "data": {
      "text/plain": [
       "(13982, 48, 48, 1)"
      ]
     },
     "execution_count": 7,
     "metadata": {},
     "output_type": "execute_result"
    }
   ],
   "source": [
    "X_train_unflatten = unflatten(X_train)\n",
    "X_train_unflatten.shape"
   ]
  },
  {
   "cell_type": "code",
   "execution_count": 8,
   "id": "armed-morocco",
   "metadata": {},
   "outputs": [
    {
     "data": {
      "text/plain": [
       "(3496, 48, 48, 1)"
      ]
     },
     "execution_count": 8,
     "metadata": {},
     "output_type": "execute_result"
    }
   ],
   "source": [
    "X_test_unflatten = unflatten(X_test)\n",
    "X_test_unflatten.shape"
   ]
  },
  {
   "cell_type": "markdown",
   "id": "median-minimum",
   "metadata": {},
   "source": [
    "### Normalize\n",
    "Normalize the features, to values between 0 and 1."
   ]
  },
  {
   "cell_type": "code",
   "execution_count": 9,
   "id": "assured-calgary",
   "metadata": {},
   "outputs": [
    {
     "name": "stdout",
     "output_type": "stream",
     "text": [
      "The maximum value for the training set is 255.\n",
      "The maximum value for the test set is 255.\n"
     ]
    }
   ],
   "source": [
    "print(f'The maximum value for the training set is {X_train_unflatten.max()}.')\n",
    "print(f'The maximum value for the test set is {X_test_unflatten.max()}.')"
   ]
  },
  {
   "cell_type": "code",
   "execution_count": 10,
   "id": "controlled-musical",
   "metadata": {},
   "outputs": [],
   "source": [
    "X_train_normalized = X_train_unflatten / X_train_unflatten.max()\n",
    "X_test_normalized = X_test_unflatten / X_test_unflatten.max()"
   ]
  },
  {
   "cell_type": "code",
   "execution_count": 11,
   "id": "romantic-greece",
   "metadata": {},
   "outputs": [
    {
     "name": "stdout",
     "output_type": "stream",
     "text": [
      "The maximum value for the normalized training set is 1.0.\n",
      "The maximum value for the normalized test set is 1.0.\n"
     ]
    }
   ],
   "source": [
    "print(f'The maximum value for the normalized training set is {X_train_normalized.max()}.')\n",
    "print(f'The maximum value for the normalized test set is {X_test_normalized.max()}.')"
   ]
  },
  {
   "cell_type": "markdown",
   "id": "foster-medicare",
   "metadata": {},
   "source": [
    "### Categories\n",
    "First, encode the labels to integer values."
   ]
  },
  {
   "cell_type": "code",
   "execution_count": 12,
   "id": "suffering-rebound",
   "metadata": {},
   "outputs": [],
   "source": [
    "label_encodings = {value: i for i, value in enumerate(np.unique(y_train))}"
   ]
  },
  {
   "cell_type": "code",
   "execution_count": 13,
   "id": "neural-boost",
   "metadata": {},
   "outputs": [
    {
     "data": {
      "text/plain": [
       "{'NGS': 0, 'not NGS': 1}"
      ]
     },
     "execution_count": 13,
     "metadata": {},
     "output_type": "execute_result"
    }
   ],
   "source": [
    "label_encodings"
   ]
  },
  {
   "cell_type": "code",
   "execution_count": 14,
   "id": "expensive-accused",
   "metadata": {},
   "outputs": [
    {
     "data": {
      "text/plain": [
       "not NGS    7195\n",
       "NGS        6787\n",
       "dtype: int64"
      ]
     },
     "execution_count": 14,
     "metadata": {},
     "output_type": "execute_result"
    }
   ],
   "source": [
    "pd.Series(y_train).value_counts()"
   ]
  },
  {
   "cell_type": "code",
   "execution_count": 15,
   "id": "experienced-patient",
   "metadata": {},
   "outputs": [],
   "source": [
    "y_train_encoded = pd.Series(y_train).replace(label_encodings).values\n",
    "y_test_encoded = pd.Series(y_test).replace(label_encodings).values"
   ]
  },
  {
   "cell_type": "code",
   "execution_count": 16,
   "id": "virgin-multiple",
   "metadata": {},
   "outputs": [
    {
     "data": {
      "text/plain": [
       "array([0, 1])"
      ]
     },
     "execution_count": 16,
     "metadata": {},
     "output_type": "execute_result"
    }
   ],
   "source": [
    "np.unique(y_train_encoded)"
   ]
  },
  {
   "cell_type": "code",
   "execution_count": 17,
   "id": "peaceful-wayne",
   "metadata": {},
   "outputs": [
    {
     "data": {
      "text/plain": [
       "array([0, 1])"
      ]
     },
     "execution_count": 17,
     "metadata": {},
     "output_type": "execute_result"
    }
   ],
   "source": [
    "np.unique(y_test_encoded)"
   ]
  },
  {
   "cell_type": "markdown",
   "id": "junior-chick",
   "metadata": {},
   "source": [
    "Second, encode the integer labels as one-hot vectors."
   ]
  },
  {
   "cell_type": "code",
   "execution_count": 18,
   "id": "toxic-purchase",
   "metadata": {},
   "outputs": [],
   "source": [
    "y_train_one_hot = to_categorical(y_train_encoded)\n",
    "y_test_one_hot = to_categorical(y_test_encoded)"
   ]
  },
  {
   "cell_type": "code",
   "execution_count": 19,
   "id": "authentic-yahoo",
   "metadata": {},
   "outputs": [
    {
     "data": {
      "text/plain": [
       "(13982, 2)"
      ]
     },
     "execution_count": 19,
     "metadata": {},
     "output_type": "execute_result"
    }
   ],
   "source": [
    "y_train_one_hot.shape"
   ]
  },
  {
   "cell_type": "code",
   "execution_count": 20,
   "id": "favorite-reward",
   "metadata": {},
   "outputs": [
    {
     "data": {
      "text/plain": [
       "array([[0., 1.],\n",
       "       [0., 1.],\n",
       "       [1., 0.],\n",
       "       [0., 1.],\n",
       "       [0., 1.]], dtype=float32)"
      ]
     },
     "execution_count": 20,
     "metadata": {},
     "output_type": "execute_result"
    }
   ],
   "source": [
    "y_train_one_hot[0:5, :]"
   ]
  },
  {
   "cell_type": "code",
   "execution_count": 21,
   "id": "alleged-assist",
   "metadata": {},
   "outputs": [
    {
     "data": {
      "text/plain": [
       "(3496, 2)"
      ]
     },
     "execution_count": 21,
     "metadata": {},
     "output_type": "execute_result"
    }
   ],
   "source": [
    "y_test_one_hot.shape"
   ]
  },
  {
   "cell_type": "code",
   "execution_count": 22,
   "id": "korean-excess",
   "metadata": {},
   "outputs": [
    {
     "data": {
      "text/plain": [
       "array([[0., 1.],\n",
       "       [0., 1.],\n",
       "       [1., 0.],\n",
       "       [0., 1.],\n",
       "       [0., 1.]], dtype=float32)"
      ]
     },
     "execution_count": 22,
     "metadata": {},
     "output_type": "execute_result"
    }
   ],
   "source": [
    "y_test_one_hot[0:5, :]"
   ]
  },
  {
   "cell_type": "markdown",
   "id": "brilliant-pathology",
   "metadata": {},
   "source": [
    "## Validation Set\n",
    "Now that we have preprocessed the training data, I will create a validation set. This will be used to evaluate how the deep learning model is training."
   ]
  },
  {
   "cell_type": "code",
   "execution_count": 23,
   "id": "peripheral-coverage",
   "metadata": {},
   "outputs": [],
   "source": [
    "X_train_normalized, X_val, y_train_one_hot, y_val = train_test_split(X_train_normalized, y_train_one_hot, test_size=0.1, random_state=42)"
   ]
  },
  {
   "cell_type": "markdown",
   "id": "sexual-understanding",
   "metadata": {},
   "source": [
    "## Define Model"
   ]
  },
  {
   "cell_type": "code",
   "execution_count": 24,
   "id": "applicable-necklace",
   "metadata": {},
   "outputs": [
    {
     "name": "stdout",
     "output_type": "stream",
     "text": [
      "The input shape is (48, 48, 1).\n"
     ]
    }
   ],
   "source": [
    "input_shape = X_train_unflatten.shape[1:]\n",
    "print(f'The input shape is {input_shape}.')"
   ]
  },
  {
   "cell_type": "markdown",
   "id": "reverse-transformation",
   "metadata": {},
   "source": [
    "Note: I will make one modification to the original model. Since I am only dealing with two classes, I will reduce the number of neorons in the last layer from 15 to 2."
   ]
  },
  {
   "cell_type": "code",
   "execution_count": 25,
   "id": "paperback-acting",
   "metadata": {},
   "outputs": [],
   "source": [
    "model_1 = models.Sequential([\n",
    "    layers.Conv2D(8, kernel_size=(3, 3), activation='relu', padding='same', input_shape=input_shape),\n",
    "    layers.MaxPooling2D(pool_size=(2, 2), strides=2),\n",
    "    layers.Conv2D(16, kernel_size=(7, 7), activation='relu'),\n",
    "    layers.MaxPooling2D(pool_size=(2, 2), strides=2),\n",
    "    layers.Flatten(),\n",
    "    layers.Dense(600, activation='relu'),\n",
    "    layers.Dense(150, activation='relu'),\n",
    "    layers.Dense(38, activation='relu'),\n",
    "    layers.Dense(2, activation='softmax')\n",
    "])"
   ]
  },
  {
   "cell_type": "code",
   "execution_count": 26,
   "id": "outdoor-exhibit",
   "metadata": {},
   "outputs": [
    {
     "name": "stdout",
     "output_type": "stream",
     "text": [
      "Model: \"sequential\"\n",
      "_________________________________________________________________\n",
      "Layer (type)                 Output Shape              Param #   \n",
      "=================================================================\n",
      "conv2d (Conv2D)              (None, 48, 48, 8)         80        \n",
      "_________________________________________________________________\n",
      "max_pooling2d (MaxPooling2D) (None, 24, 24, 8)         0         \n",
      "_________________________________________________________________\n",
      "conv2d_1 (Conv2D)            (None, 18, 18, 16)        6288      \n",
      "_________________________________________________________________\n",
      "max_pooling2d_1 (MaxPooling2 (None, 9, 9, 16)          0         \n",
      "_________________________________________________________________\n",
      "flatten (Flatten)            (None, 1296)              0         \n",
      "_________________________________________________________________\n",
      "dense (Dense)                (None, 600)               778200    \n",
      "_________________________________________________________________\n",
      "dense_1 (Dense)              (None, 150)               90150     \n",
      "_________________________________________________________________\n",
      "dense_2 (Dense)              (None, 38)                5738      \n",
      "_________________________________________________________________\n",
      "dense_3 (Dense)              (None, 2)                 78        \n",
      "=================================================================\n",
      "Total params: 880,534\n",
      "Trainable params: 880,534\n",
      "Non-trainable params: 0\n",
      "_________________________________________________________________\n"
     ]
    }
   ],
   "source": [
    "model_1.summary()"
   ]
  },
  {
   "cell_type": "markdown",
   "id": "permanent-plain",
   "metadata": {},
   "source": [
    "### Train Model"
   ]
  },
  {
   "cell_type": "code",
   "execution_count": 30,
   "id": "higher-locator",
   "metadata": {},
   "outputs": [
    {
     "name": "stdout",
     "output_type": "stream",
     "text": [
      "Epoch 1/50\n",
      "197/197 [==============================] - 8s 38ms/step - loss: 0.0328 - accuracy: 0.2981 - categorical_accuracy: 0.9912 - precision_1: 0.9912 - recall_1: 0.9912 - val_loss: 0.1394 - val_accuracy: 0.2695 - val_categorical_accuracy: 0.9693 - val_precision_1: 0.9693 - val_recall_1: 0.9693\n",
      "Epoch 2/50\n",
      "197/197 [==============================] - 8s 38ms/step - loss: 0.0237 - accuracy: 0.2790 - categorical_accuracy: 0.9957 - precision_1: 0.9957 - recall_1: 0.9957 - val_loss: 0.1480 - val_accuracy: 0.3302 - val_categorical_accuracy: 0.9714 - val_precision_1: 0.9714 - val_recall_1: 0.9714\n",
      "Epoch 3/50\n",
      "197/197 [==============================] - 8s 39ms/step - loss: 0.0159 - accuracy: 0.3282 - categorical_accuracy: 0.9971 - precision_1: 0.9971 - recall_1: 0.9971 - val_loss: 0.2243 - val_accuracy: 0.3066 - val_categorical_accuracy: 0.9593 - val_precision_1: 0.9593 - val_recall_1: 0.9593\n",
      "Epoch 4/50\n",
      "197/197 [==============================] - 8s 39ms/step - loss: 0.0186 - accuracy: 0.3336 - categorical_accuracy: 0.9952 - precision_1: 0.9952 - recall_1: 0.9952 - val_loss: 0.1483 - val_accuracy: 0.3327 - val_categorical_accuracy: 0.9714 - val_precision_1: 0.9714 - val_recall_1: 0.9714\n",
      "Epoch 5/50\n",
      "197/197 [==============================] - 8s 39ms/step - loss: 0.0131 - accuracy: 0.3716 - categorical_accuracy: 0.9965 - precision_1: 0.9965 - recall_1: 0.9965 - val_loss: 0.1567 - val_accuracy: 0.3306 - val_categorical_accuracy: 0.9714 - val_precision_1: 0.9714 - val_recall_1: 0.9714\n",
      "Epoch 6/50\n",
      "197/197 [==============================] - 8s 39ms/step - loss: 0.0141 - accuracy: 0.3643 - categorical_accuracy: 0.9971 - precision_1: 0.9971 - recall_1: 0.9971 - val_loss: 0.1469 - val_accuracy: 0.3406 - val_categorical_accuracy: 0.9707 - val_precision_1: 0.9707 - val_recall_1: 0.9707\n",
      "Epoch 7/50\n",
      "197/197 [==============================] - 8s 40ms/step - loss: 0.0095 - accuracy: 0.3864 - categorical_accuracy: 0.9965 - precision_1: 0.9965 - recall_1: 0.9965 - val_loss: 0.3302 - val_accuracy: 0.4893 - val_categorical_accuracy: 0.9671 - val_precision_1: 0.9671 - val_recall_1: 0.9671\n",
      "Epoch 8/50\n",
      "197/197 [==============================] - 8s 40ms/step - loss: 0.0222 - accuracy: 0.4418 - categorical_accuracy: 0.9970 - precision_1: 0.9970 - recall_1: 0.9970 - val_loss: 0.1950 - val_accuracy: 0.3431 - val_categorical_accuracy: 0.9685 - val_precision_1: 0.9685 - val_recall_1: 0.9685\n",
      "Epoch 9/50\n",
      "197/197 [==============================] - 8s 40ms/step - loss: 0.0140 - accuracy: 0.3644 - categorical_accuracy: 0.9964 - precision_1: 0.9964 - recall_1: 0.9964 - val_loss: 0.1803 - val_accuracy: 0.3517 - val_categorical_accuracy: 0.9693 - val_precision_1: 0.9693 - val_recall_1: 0.9693\n",
      "Epoch 10/50\n",
      "197/197 [==============================] - 8s 40ms/step - loss: 0.0111 - accuracy: 0.3713 - categorical_accuracy: 0.9975 - precision_1: 0.9975 - recall_1: 0.9975 - val_loss: 0.3323 - val_accuracy: 0.3978 - val_categorical_accuracy: 0.9607 - val_precision_1: 0.9607 - val_recall_1: 0.9607\n",
      "Epoch 11/50\n",
      "197/197 [==============================] - 8s 40ms/step - loss: 0.0124 - accuracy: 0.4432 - categorical_accuracy: 0.9962 - precision_1: 0.9962 - recall_1: 0.9962 - val_loss: 0.2501 - val_accuracy: 0.4274 - val_categorical_accuracy: 0.9693 - val_precision_1: 0.9693 - val_recall_1: 0.9693\n",
      "Epoch 12/50\n",
      "197/197 [==============================] - 8s 40ms/step - loss: 0.0122 - accuracy: 0.4325 - categorical_accuracy: 0.9974 - precision_1: 0.9974 - recall_1: 0.9974 - val_loss: 0.2297 - val_accuracy: 0.3788 - val_categorical_accuracy: 0.9707 - val_precision_1: 0.9707 - val_recall_1: 0.9707\n",
      "Epoch 13/50\n",
      "197/197 [==============================] - 8s 40ms/step - loss: 0.0258 - accuracy: 0.4088 - categorical_accuracy: 0.9960 - precision_1: 0.9960 - recall_1: 0.9960 - val_loss: 0.2331 - val_accuracy: 0.4296 - val_categorical_accuracy: 0.9650 - val_precision_1: 0.9650 - val_recall_1: 0.9650\n",
      "Epoch 14/50\n",
      "197/197 [==============================] - 8s 40ms/step - loss: 0.0107 - accuracy: 0.4672 - categorical_accuracy: 0.9977 - precision_1: 0.9977 - recall_1: 0.9977 - val_loss: 0.1535 - val_accuracy: 0.3402 - val_categorical_accuracy: 0.9721 - val_precision_1: 0.9721 - val_recall_1: 0.9721\n",
      "Epoch 15/50\n",
      "197/197 [==============================] - 8s 40ms/step - loss: 0.0108 - accuracy: 0.4210 - categorical_accuracy: 0.9975 - precision_1: 0.9975 - recall_1: 0.9975 - val_loss: 0.2066 - val_accuracy: 0.3756 - val_categorical_accuracy: 0.9714 - val_precision_1: 0.9714 - val_recall_1: 0.9714\n",
      "Epoch 16/50\n",
      "197/197 [==============================] - 8s 40ms/step - loss: 0.0158 - accuracy: 0.4002 - categorical_accuracy: 0.9973 - precision_1: 0.9973 - recall_1: 0.9973 - val_loss: 0.2346 - val_accuracy: 0.3974 - val_categorical_accuracy: 0.9678 - val_precision_1: 0.9678 - val_recall_1: 0.9678\n",
      "Epoch 17/50\n",
      "197/197 [==============================] - 8s 40ms/step - loss: 0.0090 - accuracy: 0.4314 - categorical_accuracy: 0.9975 - precision_1: 0.9975 - recall_1: 0.9975 - val_loss: 0.2967 - val_accuracy: 0.5200 - val_categorical_accuracy: 0.9714 - val_precision_1: 0.9714 - val_recall_1: 0.9714\n",
      "Epoch 18/50\n",
      "197/197 [==============================] - 8s 40ms/step - loss: 0.0106 - accuracy: 0.5204 - categorical_accuracy: 0.9983 - precision_1: 0.9983 - recall_1: 0.9983 - val_loss: 0.3754 - val_accuracy: 0.5522 - val_categorical_accuracy: 0.9678 - val_precision_1: 0.9678 - val_recall_1: 0.9678\n",
      "Epoch 19/50\n",
      "197/197 [==============================] - 8s 41ms/step - loss: 0.0106 - accuracy: 0.5106 - categorical_accuracy: 0.9977 - precision_1: 0.9977 - recall_1: 0.9977 - val_loss: 0.2604 - val_accuracy: 0.4982 - val_categorical_accuracy: 0.9700 - val_precision_1: 0.9700 - val_recall_1: 0.9700\n",
      "Epoch 20/50\n",
      "197/197 [==============================] - 8s 40ms/step - loss: 0.0073 - accuracy: 0.5583 - categorical_accuracy: 0.9987 - precision_1: 0.9987 - recall_1: 0.9987 - val_loss: 0.3752 - val_accuracy: 0.5575 - val_categorical_accuracy: 0.9685 - val_precision_1: 0.9685 - val_recall_1: 0.9685\n",
      "Epoch 21/50\n",
      "197/197 [==============================] - 8s 40ms/step - loss: 0.0272 - accuracy: 0.4155 - categorical_accuracy: 0.9971 - precision_1: 0.9971 - recall_1: 0.9971 - val_loss: 0.2861 - val_accuracy: 0.5086 - val_categorical_accuracy: 0.9736 - val_precision_1: 0.9736 - val_recall_1: 0.9736\n",
      "Epoch 22/50\n",
      "197/197 [==============================] - 8s 40ms/step - loss: 0.0140 - accuracy: 0.4609 - categorical_accuracy: 0.9969 - precision_1: 0.9969 - recall_1: 0.9969 - val_loss: 0.2952 - val_accuracy: 0.5114 - val_categorical_accuracy: 0.9700 - val_precision_1: 0.9700 - val_recall_1: 0.9700\n",
      "Epoch 23/50\n",
      "197/197 [==============================] - 8s 40ms/step - loss: 0.0150 - accuracy: 0.4814 - categorical_accuracy: 0.9969 - precision_1: 0.9969 - recall_1: 0.9969 - val_loss: 0.3683 - val_accuracy: 0.5929 - val_categorical_accuracy: 0.9685 - val_precision_1: 0.9685 - val_recall_1: 0.9685\n",
      "Epoch 24/50\n",
      "197/197 [==============================] - 8s 40ms/step - loss: 0.0097 - accuracy: 0.5385 - categorical_accuracy: 0.9978 - precision_1: 0.9978 - recall_1: 0.9978 - val_loss: 0.2790 - val_accuracy: 0.5054 - val_categorical_accuracy: 0.9693 - val_precision_1: 0.9693 - val_recall_1: 0.9693\n",
      "Epoch 25/50\n",
      "197/197 [==============================] - 8s 41ms/step - loss: 0.0091 - accuracy: 0.5398 - categorical_accuracy: 0.9987 - precision_1: 0.9987 - recall_1: 0.9987 - val_loss: 0.3413 - val_accuracy: 0.5793 - val_categorical_accuracy: 0.9721 - val_precision_1: 0.9721 - val_recall_1: 0.9721\n",
      "Epoch 26/50\n",
      "197/197 [==============================] - 8s 41ms/step - loss: 0.0113 - accuracy: 0.5685 - categorical_accuracy: 0.9992 - precision_1: 0.9992 - recall_1: 0.9992 - val_loss: 0.2634 - val_accuracy: 0.4778 - val_categorical_accuracy: 0.9707 - val_precision_1: 0.9707 - val_recall_1: 0.9707\n",
      "Epoch 27/50\n",
      "197/197 [==============================] - 8s 41ms/step - loss: 0.0034 - accuracy: 0.5457 - categorical_accuracy: 0.9993 - precision_1: 0.9993 - recall_1: 0.9993 - val_loss: 0.2008 - val_accuracy: 0.5079 - val_categorical_accuracy: 0.9671 - val_precision_1: 0.9671 - val_recall_1: 0.9671\n",
      "Epoch 28/50\n",
      "197/197 [==============================] - 8s 41ms/step - loss: 0.0056 - accuracy: 0.5901 - categorical_accuracy: 0.9988 - precision_1: 0.9988 - recall_1: 0.9988 - val_loss: 0.2895 - val_accuracy: 0.5500 - val_categorical_accuracy: 0.9736 - val_precision_1: 0.9736 - val_recall_1: 0.9736\n",
      "Epoch 29/50\n",
      "197/197 [==============================] - 8s 41ms/step - loss: 0.0079 - accuracy: 0.5740 - categorical_accuracy: 0.9983 - precision_1: 0.9983 - recall_1: 0.9983 - val_loss: 0.3847 - val_accuracy: 0.6047 - val_categorical_accuracy: 0.9721 - val_precision_1: 0.9721 - val_recall_1: 0.9721\n",
      "Epoch 30/50\n",
      "197/197 [==============================] - 8s 41ms/step - loss: 0.0262 - accuracy: 0.5991 - categorical_accuracy: 0.9973 - precision_1: 0.9973 - recall_1: 0.9973 - val_loss: 0.4360 - val_accuracy: 0.6251 - val_categorical_accuracy: 0.9700 - val_precision_1: 0.9700 - val_recall_1: 0.9700\n",
      "Epoch 31/50\n",
      "197/197 [==============================] - 8s 41ms/step - loss: 0.0632 - accuracy: 0.5856 - categorical_accuracy: 0.9944 - precision_1: 0.9944 - recall_1: 0.9944 - val_loss: 0.2827 - val_accuracy: 0.5901 - val_categorical_accuracy: 0.9728 - val_precision_1: 0.9728 - val_recall_1: 0.9728\n",
      "Epoch 32/50\n",
      "197/197 [==============================] - 8s 41ms/step - loss: 0.0151 - accuracy: 0.5630 - categorical_accuracy: 0.9986 - precision_1: 0.9986 - recall_1: 0.9986 - val_loss: 0.3370 - val_accuracy: 0.5919 - val_categorical_accuracy: 0.9721 - val_precision_1: 0.9721 - val_recall_1: 0.9721\n",
      "Epoch 33/50\n",
      "197/197 [==============================] - 8s 41ms/step - loss: 0.0039 - accuracy: 0.6155 - categorical_accuracy: 0.9993 - precision_1: 0.9993 - recall_1: 0.9993 - val_loss: 0.3276 - val_accuracy: 0.6133 - val_categorical_accuracy: 0.9728 - val_precision_1: 0.9728 - val_recall_1: 0.9728\n",
      "Epoch 34/50\n",
      "197/197 [==============================] - 8s 41ms/step - loss: 0.0053 - accuracy: 0.6328 - categorical_accuracy: 0.9992 - precision_1: 0.9992 - recall_1: 0.9992 - val_loss: 0.3482 - val_accuracy: 0.5064 - val_categorical_accuracy: 0.9714 - val_precision_1: 0.9714 - val_recall_1: 0.9714\n",
      "Epoch 35/50\n",
      "197/197 [==============================] - 8s 41ms/step - loss: 0.0118 - accuracy: 0.5459 - categorical_accuracy: 0.9984 - precision_1: 0.9984 - recall_1: 0.9984 - val_loss: 0.2899 - val_accuracy: 0.4886 - val_categorical_accuracy: 0.9664 - val_precision_1: 0.9664 - val_recall_1: 0.9664\n",
      "Epoch 36/50\n",
      "197/197 [==============================] - 8s 41ms/step - loss: 0.0088 - accuracy: 0.5616 - categorical_accuracy: 0.9984 - precision_1: 0.9984 - recall_1: 0.9984 - val_loss: 0.4574 - val_accuracy: 0.5958 - val_categorical_accuracy: 0.9678 - val_precision_1: 0.9678 - val_recall_1: 0.9678\n",
      "Epoch 37/50\n",
      "197/197 [==============================] - 8s 41ms/step - loss: 0.0037 - accuracy: 0.6188 - categorical_accuracy: 0.9991 - precision_1: 0.9991 - recall_1: 0.9991 - val_loss: 0.4968 - val_accuracy: 0.6773 - val_categorical_accuracy: 0.9721 - val_precision_1: 0.9721 - val_recall_1: 0.9721\n",
      "Epoch 38/50\n",
      "197/197 [==============================] - 8s 41ms/step - loss: 0.0090 - accuracy: 0.6418 - categorical_accuracy: 0.9983 - precision_1: 0.9983 - recall_1: 0.9983 - val_loss: 0.3196 - val_accuracy: 0.6061 - val_categorical_accuracy: 0.9757 - val_precision_1: 0.9757 - val_recall_1: 0.9757\n",
      "Epoch 39/50\n",
      "197/197 [==============================] - 8s 41ms/step - loss: 0.0080 - accuracy: 0.6207 - categorical_accuracy: 0.9987 - precision_1: 0.9987 - recall_1: 0.9987 - val_loss: 0.5122 - val_accuracy: 0.6519 - val_categorical_accuracy: 0.9707 - val_precision_1: 0.9707 - val_recall_1: 0.9707\n",
      "Epoch 40/50\n",
      "197/197 [==============================] - 8s 41ms/step - loss: 0.0081 - accuracy: 0.6468 - categorical_accuracy: 0.9984 - precision_1: 0.9984 - recall_1: 0.9984 - val_loss: 0.7162 - val_accuracy: 0.6397 - val_categorical_accuracy: 0.9600 - val_precision_1: 0.9600 - val_recall_1: 0.9600\n",
      "Epoch 41/50\n",
      "197/197 [==============================] - 8s 41ms/step - loss: 0.0096 - accuracy: 0.6430 - categorical_accuracy: 0.9979 - precision_1: 0.9979 - recall_1: 0.9979 - val_loss: 0.2775 - val_accuracy: 0.5340 - val_categorical_accuracy: 0.9678 - val_precision_1: 0.9678 - val_recall_1: 0.9678\n",
      "Epoch 42/50\n",
      "197/197 [==============================] - 8s 41ms/step - loss: 0.0018 - accuracy: 0.6068 - categorical_accuracy: 0.9996 - precision_1: 0.9996 - recall_1: 0.9996 - val_loss: 0.6224 - val_accuracy: 0.6980 - val_categorical_accuracy: 0.9728 - val_precision_1: 0.9728 - val_recall_1: 0.9728\n",
      "Epoch 43/50\n",
      "197/197 [==============================] - 8s 41ms/step - loss: 0.0037 - accuracy: 0.6962 - categorical_accuracy: 0.9993 - precision_1: 0.9993 - recall_1: 0.9993 - val_loss: 0.3952 - val_accuracy: 0.6112 - val_categorical_accuracy: 0.9693 - val_precision_1: 0.9693 - val_recall_1: 0.9693\n",
      "Epoch 44/50\n",
      "197/197 [==============================] - 8s 41ms/step - loss: 0.0064 - accuracy: 0.6312 - categorical_accuracy: 0.9984 - precision_1: 0.9984 - recall_1: 0.9984 - val_loss: 0.5495 - val_accuracy: 0.6615 - val_categorical_accuracy: 0.9714 - val_precision_1: 0.9714 - val_recall_1: 0.9714\n",
      "Epoch 45/50\n",
      "197/197 [==============================] - 8s 41ms/step - loss: 0.0056 - accuracy: 0.6583 - categorical_accuracy: 0.9991 - precision_1: 0.9991 - recall_1: 0.9991 - val_loss: 0.4294 - val_accuracy: 0.6483 - val_categorical_accuracy: 0.9671 - val_precision_1: 0.9671 - val_recall_1: 0.9671\n",
      "Epoch 46/50\n",
      "197/197 [==============================] - 8s 41ms/step - loss: 0.0130 - accuracy: 0.6656 - categorical_accuracy: 0.9983 - precision_1: 0.9983 - recall_1: 0.9983 - val_loss: 0.3775 - val_accuracy: 0.5994 - val_categorical_accuracy: 0.9714 - val_precision_1: 0.9714 - val_recall_1: 0.9714\n",
      "Epoch 47/50\n",
      "197/197 [==============================] - 8s 41ms/step - loss: 0.0030 - accuracy: 0.6410 - categorical_accuracy: 0.9994 - precision_1: 0.9994 - recall_1: 0.9994 - val_loss: 0.5568 - val_accuracy: 0.6558 - val_categorical_accuracy: 0.9685 - val_precision_1: 0.9685 - val_recall_1: 0.9685\n",
      "Epoch 48/50\n",
      "197/197 [==============================] - 8s 41ms/step - loss: 0.0070 - accuracy: 0.7029 - categorical_accuracy: 0.9994 - precision_1: 0.9994 - recall_1: 0.9994 - val_loss: 0.5990 - val_accuracy: 0.6347 - val_categorical_accuracy: 0.9671 - val_precision_1: 0.9671 - val_recall_1: 0.9671\n",
      "Epoch 49/50\n",
      "197/197 [==============================] - 8s 41ms/step - loss: 0.0020 - accuracy: 0.6494 - categorical_accuracy: 0.9993 - precision_1: 0.9993 - recall_1: 0.9993 - val_loss: 0.6001 - val_accuracy: 0.6880 - val_categorical_accuracy: 0.9628 - val_precision_1: 0.9628 - val_recall_1: 0.9628\n",
      "Epoch 50/50\n",
      "197/197 [==============================] - 8s 41ms/step - loss: 0.0130 - accuracy: 0.6378 - categorical_accuracy: 0.9979 - precision_1: 0.9979 - recall_1: 0.9979 - val_loss: 0.4772 - val_accuracy: 0.6505 - val_categorical_accuracy: 0.9707 - val_precision_1: 0.9707 - val_recall_1: 0.9707\n"
     ]
    }
   ],
   "source": [
    "model_1.compile(optimizer='rmsprop',\n",
    "              loss='categorical_crossentropy',\n",
    "              metrics=[\n",
    "                  metrics.Accuracy(),\n",
    "                  metrics.categorical_accuracy,\n",
    "                  metrics.Precision(),\n",
    "                  metrics.Recall()\n",
    "              ])\n",
    "results_1 = model_1.fit(X_train_normalized, y_train_one_hot, validation_data=(X_val, y_val), epochs=50, batch_size=64)"
   ]
  },
  {
   "cell_type": "markdown",
   "id": "rational-proof",
   "metadata": {},
   "source": [
    "#### Predictions\n",
    "Make class predictions using the model."
   ]
  },
  {
   "cell_type": "code",
   "execution_count": 31,
   "id": "extra-multiple",
   "metadata": {},
   "outputs": [],
   "source": [
    "y_pred_train_cnn = model_1.predict(X_train_normalized)\n",
    "y_pred_cnn = model_1.predict(X_test_normalized)"
   ]
  },
  {
   "cell_type": "markdown",
   "id": "activated-essex",
   "metadata": {},
   "source": [
    "### Evaluate the Model"
   ]
  },
  {
   "cell_type": "code",
   "execution_count": 32,
   "id": "willing-spanking",
   "metadata": {},
   "outputs": [
    {
     "data": {
      "image/png": "[encoded data removed]",
      "text/plain": [
       "<Figure size 720x432 with 1 Axes>"
      ]
     },
     "metadata": {
      "needs_background": "light"
     },
     "output_type": "display_data"
    }
   ],
   "source": [
    "em.plot_train_val_losses(results_1)"
   ]
  },
  {
   "cell_type": "markdown",
   "id": "addressed-material",
   "metadata": {},
   "source": [
    "**Observations:**\n",
    "The flat curve for the training loss indicates that this model is underfitting. It is not complex enough."
   ]
  },
  {
   "cell_type": "code",
   "execution_count": 33,
   "id": "tough-archive",
   "metadata": {},
   "outputs": [
    {
     "name": "stdout",
     "output_type": "stream",
     "text": [
      "              precision    recall  f1-score   support\n",
      "\n",
      "           0       1.00      1.00      1.00      6089\n",
      "           1       1.00      1.00      1.00      6494\n",
      "\n",
      "    accuracy                           1.00     12583\n",
      "   macro avg       1.00      1.00      1.00     12583\n",
      "weighted avg       1.00      1.00      1.00     12583\n",
      "\n"
     ]
    }
   ],
   "source": [
    "print(classification_report(np.argmax(y_train_one_hot, axis=1), np.argmax(y_pred_train_cnn, axis=1)))"
   ]
  },
  {
   "cell_type": "code",
   "execution_count": 34,
   "id": "communist-overall",
   "metadata": {},
   "outputs": [
    {
     "name": "stdout",
     "output_type": "stream",
     "text": [
      "              precision    recall  f1-score   support\n",
      "\n",
      "           0       0.98      0.98      0.98      1697\n",
      "           1       0.98      0.98      0.98      1799\n",
      "\n",
      "    accuracy                           0.98      3496\n",
      "   macro avg       0.98      0.98      0.98      3496\n",
      "weighted avg       0.98      0.98      0.98      3496\n",
      "\n"
     ]
    }
   ],
   "source": [
    "print(classification_report(np.argmax(y_test_one_hot, axis=1), np.argmax(y_pred_cnn, axis=1)))"
   ]
  },
  {
   "cell_type": "code",
   "execution_count": 35,
   "id": "hybrid-large",
   "metadata": {},
   "outputs": [
    {
     "data": {
      "image/png": "[encoded data removed]",
      "text/plain": [
       "<Figure size 720x576 with 2 Axes>"
      ]
     },
     "metadata": {
      "needs_background": "light"
     },
     "output_type": "display_data"
    }
   ],
   "source": [
    "em.plot_confusion_matrix(y_test_one_hot, y_pred_cnn, label_encodings)"
   ]
  },
  {
   "cell_type": "markdown",
   "id": "objective-extraction",
   "metadata": {},
   "source": [
    "**Observations:**\n",
    "Despite not training well, the model does a pretty good job at making predictions."
   ]
  },
  {
   "cell_type": "markdown",
   "id": "exempt-editor",
   "metadata": {},
   "source": [
    "### Train Model - Use Weighted Classes\n",
    "In the previous CNN model, I also tried weighting the classes to counter class imbalance. While these two classes are more balanced, they are not equal. Therefore, in order to be complete, I will also try weighting the classes and see how the model performs."
   ]
  },
  {
   "cell_type": "code",
   "execution_count": 36,
   "id": "nearby-kernel",
   "metadata": {},
   "outputs": [],
   "source": [
    "class_weights = compute_class_weight('balanced', classes=np.unique(y_train_encoded), y=y_train_encoded)\n",
    "class_weights_dict = dict(enumerate(class_weights))"
   ]
  },
  {
   "cell_type": "code",
   "execution_count": 37,
   "id": "rural-charlotte",
   "metadata": {},
   "outputs": [
    {
     "data": {
      "text/plain": [
       "{0: 1.0300574627965227, 1: 0.9716469770674079}"
      ]
     },
     "execution_count": 37,
     "metadata": {},
     "output_type": "execute_result"
    }
   ],
   "source": [
    "class_weights_dict"
   ]
  },
  {
   "cell_type": "code",
   "execution_count": 38,
   "id": "loaded-section",
   "metadata": {},
   "outputs": [
    {
     "name": "stdout",
     "output_type": "stream",
     "text": [
      "Epoch 1/50\n",
      "197/197 [==============================] - 9s 40ms/step - loss: 0.0112 - accuracy: 0.6207 - categorical_accuracy: 0.9979 - precision_2: 0.9979 - recall_2: 0.9979 - val_loss: 0.4626 - val_accuracy: 0.6462 - val_categorical_accuracy: 0.9707 - val_precision_2: 0.9707 - val_recall_2: 0.9707\n",
      "Epoch 2/50\n",
      "197/197 [==============================] - 7s 38ms/step - loss: 0.0057 - accuracy: 0.6720 - categorical_accuracy: 0.9999 - precision_2: 0.9999 - recall_2: 0.9999 - val_loss: 0.5739 - val_accuracy: 0.6690 - val_categorical_accuracy: 0.9707 - val_precision_2: 0.9707 - val_recall_2: 0.9707\n",
      "Epoch 3/50\n",
      "197/197 [==============================] - 8s 38ms/step - loss: 0.0033 - accuracy: 0.7062 - categorical_accuracy: 0.9996 - precision_2: 0.9996 - recall_2: 0.9996 - val_loss: 0.3703 - val_accuracy: 0.4753 - val_categorical_accuracy: 0.9671 - val_precision_2: 0.9671 - val_recall_2: 0.9671\n",
      "Epoch 4/50\n",
      "197/197 [==============================] - 8s 39ms/step - loss: 0.0043 - accuracy: 0.5937 - categorical_accuracy: 0.9996 - precision_2: 0.9996 - recall_2: 0.9996 - val_loss: 0.3536 - val_accuracy: 0.4314 - val_categorical_accuracy: 0.9664 - val_precision_2: 0.9664 - val_recall_2: 0.9664\n",
      "Epoch 5/50\n",
      "197/197 [==============================] - 8s 40ms/step - loss: 0.0021 - accuracy: 0.5368 - categorical_accuracy: 0.9995 - precision_2: 0.9995 - recall_2: 0.9995 - val_loss: 0.4341 - val_accuracy: 0.6208 - val_categorical_accuracy: 0.9721 - val_precision_2: 0.9721 - val_recall_2: 0.9721\n",
      "Epoch 6/50\n",
      "197/197 [==============================] - 8s 41ms/step - loss: 0.0026 - accuracy: 0.6504 - categorical_accuracy: 0.9994 - precision_2: 0.9994 - recall_2: 0.9994 - val_loss: 0.5675 - val_accuracy: 0.6665 - val_categorical_accuracy: 0.9678 - val_precision_2: 0.9678 - val_recall_2: 0.9678\n",
      "Epoch 7/50\n",
      "197/197 [==============================] - 8s 41ms/step - loss: 0.0013 - accuracy: 0.6752 - categorical_accuracy: 0.9992 - precision_2: 0.9992 - recall_2: 0.9992 - val_loss: 0.7472 - val_accuracy: 0.6708 - val_categorical_accuracy: 0.9671 - val_precision_2: 0.9671 - val_recall_2: 0.9671\n",
      "Epoch 8/50\n",
      "197/197 [==============================] - 8s 42ms/step - loss: 0.0039 - accuracy: 0.7119 - categorical_accuracy: 0.9985 - precision_2: 0.9985 - recall_2: 0.9985 - val_loss: 0.4716 - val_accuracy: 0.6698 - val_categorical_accuracy: 0.9707 - val_precision_2: 0.9707 - val_recall_2: 0.9707\n",
      "Epoch 9/50\n",
      "197/197 [==============================] - 8s 41ms/step - loss: 0.0097 - accuracy: 0.6980 - categorical_accuracy: 0.9996 - precision_2: 0.9996 - recall_2: 0.9996 - val_loss: 0.6434 - val_accuracy: 0.7480 - val_categorical_accuracy: 0.9707 - val_precision_2: 0.9707 - val_recall_2: 0.9707\n",
      "Epoch 10/50\n",
      "197/197 [==============================] - 8s 42ms/step - loss: 0.0022 - accuracy: 0.7638 - categorical_accuracy: 0.9998 - precision_2: 0.9998 - recall_2: 0.9998 - val_loss: 0.5287 - val_accuracy: 0.7059 - val_categorical_accuracy: 0.9728 - val_precision_2: 0.9728 - val_recall_2: 0.9728\n",
      "Epoch 11/50\n",
      "197/197 [==============================] - 8s 43ms/step - loss: 0.0065 - accuracy: 0.7110 - categorical_accuracy: 0.9989 - precision_2: 0.9989 - recall_2: 0.9989 - val_loss: 0.5144 - val_accuracy: 0.6612 - val_categorical_accuracy: 0.9714 - val_precision_2: 0.9714 - val_recall_2: 0.9714\n",
      "Epoch 12/50\n",
      "197/197 [==============================] - 8s 41ms/step - loss: 0.0037 - accuracy: 0.6677 - categorical_accuracy: 0.9993 - precision_2: 0.9993 - recall_2: 0.9993 - val_loss: 0.3985 - val_accuracy: 0.5765 - val_categorical_accuracy: 0.9657 - val_precision_2: 0.9657 - val_recall_2: 0.9657\n",
      "Epoch 13/50\n",
      "197/197 [==============================] - 8s 42ms/step - loss: 0.0036 - accuracy: 0.6588 - categorical_accuracy: 0.9985 - precision_2: 0.9985 - recall_2: 0.9985 - val_loss: 0.8401 - val_accuracy: 0.7177 - val_categorical_accuracy: 0.9678 - val_precision_2: 0.9678 - val_recall_2: 0.9678\n",
      "Epoch 14/50\n",
      "197/197 [==============================] - 8s 43ms/step - loss: 0.0059 - accuracy: 0.7251 - categorical_accuracy: 0.9990 - precision_2: 0.9990 - recall_2: 0.9990 - val_loss: 0.3830 - val_accuracy: 0.6326 - val_categorical_accuracy: 0.9707 - val_precision_2: 0.9707 - val_recall_2: 0.9707\n",
      "Epoch 15/50\n",
      "197/197 [==============================] - 9s 44ms/step - loss: 8.2160e-04 - accuracy: 0.6802 - categorical_accuracy: 0.9997 - precision_2: 0.9997 - recall_2: 0.9997 - val_loss: 0.7463 - val_accuracy: 0.6951 - val_categorical_accuracy: 0.9621 - val_precision_2: 0.9621 - val_recall_2: 0.9621\n",
      "Epoch 16/50\n",
      "197/197 [==============================] - 8s 43ms/step - loss: 0.0046 - accuracy: 0.6842 - categorical_accuracy: 0.9993 - precision_2: 0.9993 - recall_2: 0.9993 - val_loss: 0.8241 - val_accuracy: 0.7498 - val_categorical_accuracy: 0.9664 - val_precision_2: 0.9664 - val_recall_2: 0.9664\n",
      "Epoch 17/50\n",
      "197/197 [==============================] - 8s 42ms/step - loss: 0.0165 - accuracy: 0.6805 - categorical_accuracy: 0.9987 - precision_2: 0.9987 - recall_2: 0.9987 - val_loss: 0.6808 - val_accuracy: 0.6726 - val_categorical_accuracy: 0.9650 - val_precision_2: 0.9650 - val_recall_2: 0.9650\n",
      "Epoch 18/50\n",
      "197/197 [==============================] - 8s 40ms/step - loss: 6.5795e-04 - accuracy: 0.6989 - categorical_accuracy: 1.0000 - precision_2: 1.0000 - recall_2: 1.0000 - val_loss: 0.7121 - val_accuracy: 0.7069 - val_categorical_accuracy: 0.9664 - val_precision_2: 0.9664 - val_recall_2: 0.9664\n",
      "Epoch 19/50\n",
      "197/197 [==============================] - 8s 40ms/step - loss: 0.0020 - accuracy: 0.7014 - categorical_accuracy: 0.9997 - precision_2: 0.9997 - recall_2: 0.9997 - val_loss: 0.4858 - val_accuracy: 0.6433 - val_categorical_accuracy: 0.9678 - val_precision_2: 0.9678 - val_recall_2: 0.9678\n",
      "Epoch 20/50\n",
      "197/197 [==============================] - 8s 42ms/step - loss: 0.0043 - accuracy: 0.6874 - categorical_accuracy: 0.9995 - precision_2: 0.9995 - recall_2: 0.9995 - val_loss: 0.6215 - val_accuracy: 0.7137 - val_categorical_accuracy: 0.9678 - val_precision_2: 0.9678 - val_recall_2: 0.9678\n",
      "Epoch 21/50\n",
      "197/197 [==============================] - 8s 40ms/step - loss: 0.0024 - accuracy: 0.6775 - categorical_accuracy: 0.9991 - precision_2: 0.9991 - recall_2: 0.9991 - val_loss: 0.6470 - val_accuracy: 0.6941 - val_categorical_accuracy: 0.9707 - val_precision_2: 0.9707 - val_recall_2: 0.9707\n",
      "Epoch 22/50\n",
      "197/197 [==============================] - 8s 42ms/step - loss: 8.3901e-04 - accuracy: 0.7260 - categorical_accuracy: 0.9997 - precision_2: 0.9997 - recall_2: 0.9997 - val_loss: 0.7284 - val_accuracy: 0.7448 - val_categorical_accuracy: 0.9685 - val_precision_2: 0.9685 - val_recall_2: 0.9685\n",
      "Epoch 23/50\n",
      "197/197 [==============================] - 8s 41ms/step - loss: 0.0099 - accuracy: 0.7780 - categorical_accuracy: 0.9995 - precision_2: 0.9995 - recall_2: 0.9995 - val_loss: 0.5885 - val_accuracy: 0.7334 - val_categorical_accuracy: 0.9714 - val_precision_2: 0.9714 - val_recall_2: 0.9714\n",
      "Epoch 24/50\n",
      "197/197 [==============================] - 8s 39ms/step - loss: 0.0115 - accuracy: 0.7362 - categorical_accuracy: 0.9993 - precision_2: 0.9993 - recall_2: 0.9993 - val_loss: 0.5743 - val_accuracy: 0.6823 - val_categorical_accuracy: 0.9721 - val_precision_2: 0.9721 - val_recall_2: 0.9721\n",
      "Epoch 25/50\n",
      "197/197 [==============================] - 9s 44ms/step - loss: 9.5233e-07 - accuracy: 0.7160 - categorical_accuracy: 1.0000 - precision_2: 1.0000 - recall_2: 1.0000 - val_loss: 0.9524 - val_accuracy: 0.7888 - val_categorical_accuracy: 0.9707 - val_precision_2: 0.9707 - val_recall_2: 0.9707\n",
      "Epoch 26/50\n",
      "197/197 [==============================] - 8s 41ms/step - loss: 7.7273e-04 - accuracy: 0.8088 - categorical_accuracy: 0.9999 - precision_2: 0.9999 - recall_2: 0.9999 - val_loss: 0.6035 - val_accuracy: 0.7044 - val_categorical_accuracy: 0.9693 - val_precision_2: 0.9693 - val_recall_2: 0.9693\n",
      "Epoch 27/50\n",
      "197/197 [==============================] - 8s 42ms/step - loss: 2.0628e-05 - accuracy: 0.7342 - categorical_accuracy: 1.0000 - precision_2: 1.0000 - recall_2: 1.0000 - val_loss: 1.0317 - val_accuracy: 0.7538 - val_categorical_accuracy: 0.9678 - val_precision_2: 0.9678 - val_recall_2: 0.9678\n",
      "Epoch 28/50\n",
      "197/197 [==============================] - 8s 42ms/step - loss: 0.0144 - accuracy: 0.7533 - categorical_accuracy: 0.9987 - precision_2: 0.9987 - recall_2: 0.9987 - val_loss: 0.4484 - val_accuracy: 0.6415 - val_categorical_accuracy: 0.9685 - val_precision_2: 0.9685 - val_recall_2: 0.9685\n",
      "Epoch 29/50\n",
      "197/197 [==============================] - 8s 40ms/step - loss: 0.0077 - accuracy: 0.6670 - categorical_accuracy: 0.9993 - precision_2: 0.9993 - recall_2: 0.9993 - val_loss: 0.4229 - val_accuracy: 0.6301 - val_categorical_accuracy: 0.9678 - val_precision_2: 0.9678 - val_recall_2: 0.9678\n",
      "Epoch 30/50\n",
      "197/197 [==============================] - 8s 43ms/step - loss: 1.5764e-04 - accuracy: 0.6811 - categorical_accuracy: 0.9999 - precision_2: 0.9999 - recall_2: 0.9999 - val_loss: 0.7196 - val_accuracy: 0.7259 - val_categorical_accuracy: 0.9693 - val_precision_2: 0.9693 - val_recall_2: 0.9693\n",
      "Epoch 31/50\n",
      "197/197 [==============================] - 8s 42ms/step - loss: 0.0188 - accuracy: 0.7464 - categorical_accuracy: 0.9994 - precision_2: 0.9994 - recall_2: 0.9994 - val_loss: 0.5906 - val_accuracy: 0.6898 - val_categorical_accuracy: 0.9693 - val_precision_2: 0.9693 - val_recall_2: 0.9693\n",
      "Epoch 32/50\n",
      "197/197 [==============================] - 8s 40ms/step - loss: 0.0052 - accuracy: 0.7007 - categorical_accuracy: 0.9988 - precision_2: 0.9988 - recall_2: 0.9988 - val_loss: 0.6416 - val_accuracy: 0.6966 - val_categorical_accuracy: 0.9721 - val_precision_2: 0.9721 - val_recall_2: 0.9721\n",
      "Epoch 33/50\n",
      "197/197 [==============================] - 8s 40ms/step - loss: 0.0019 - accuracy: 0.7376 - categorical_accuracy: 0.9999 - precision_2: 0.9999 - recall_2: 0.9999 - val_loss: 0.5131 - val_accuracy: 0.6655 - val_categorical_accuracy: 0.9700 - val_precision_2: 0.9700 - val_recall_2: 0.9700\n",
      "Epoch 34/50\n",
      "197/197 [==============================] - 8s 39ms/step - loss: 0.0010 - accuracy: 0.6777 - categorical_accuracy: 0.9996 - precision_2: 0.9996 - recall_2: 0.9996 - val_loss: 0.6954 - val_accuracy: 0.7205 - val_categorical_accuracy: 0.9700 - val_precision_2: 0.9700 - val_recall_2: 0.9700\n",
      "Epoch 35/50\n",
      "197/197 [==============================] - 8s 40ms/step - loss: 0.0020 - accuracy: 0.7514 - categorical_accuracy: 0.9999 - precision_2: 0.9999 - recall_2: 0.9999 - val_loss: 0.3956 - val_accuracy: 0.6190 - val_categorical_accuracy: 0.9721 - val_precision_2: 0.9721 - val_recall_2: 0.9721\n",
      "Epoch 36/50\n",
      "197/197 [==============================] - 8s 41ms/step - loss: 0.0059 - accuracy: 0.6549 - categorical_accuracy: 0.9994 - precision_2: 0.9994 - recall_2: 0.9994 - val_loss: 0.3759 - val_accuracy: 0.5958 - val_categorical_accuracy: 0.9714 - val_precision_2: 0.9714 - val_recall_2: 0.9714\n",
      "Epoch 37/50\n",
      "197/197 [==============================] - 9s 44ms/step - loss: 0.0015 - accuracy: 0.6509 - categorical_accuracy: 0.9998 - precision_2: 0.9998 - recall_2: 0.9998 - val_loss: 0.7718 - val_accuracy: 0.6909 - val_categorical_accuracy: 0.9693 - val_precision_2: 0.9693 - val_recall_2: 0.9693\n",
      "Epoch 38/50\n",
      "197/197 [==============================] - 8s 40ms/step - loss: 0.0038 - accuracy: 0.7238 - categorical_accuracy: 0.9993 - precision_2: 0.9993 - recall_2: 0.9993 - val_loss: 0.6401 - val_accuracy: 0.7491 - val_categorical_accuracy: 0.9728 - val_precision_2: 0.9728 - val_recall_2: 0.9728\n",
      "Epoch 39/50\n",
      "197/197 [==============================] - 8s 43ms/step - loss: 0.0088 - accuracy: 0.7485 - categorical_accuracy: 0.9996 - precision_2: 0.9996 - recall_2: 0.9996 - val_loss: 0.5735 - val_accuracy: 0.6573 - val_categorical_accuracy: 0.9685 - val_precision_2: 0.9685 - val_recall_2: 0.9685\n",
      "Epoch 40/50\n",
      "197/197 [==============================] - 8s 41ms/step - loss: 0.0108 - accuracy: 0.6820 - categorical_accuracy: 0.9992 - precision_2: 0.9992 - recall_2: 0.9992 - val_loss: 0.4725 - val_accuracy: 0.6626 - val_categorical_accuracy: 0.9700 - val_precision_2: 0.9700 - val_recall_2: 0.9700\n",
      "Epoch 41/50\n",
      "197/197 [==============================] - 8s 41ms/step - loss: 9.5847e-06 - accuracy: 0.6914 - categorical_accuracy: 1.0000 - precision_2: 1.0000 - recall_2: 1.0000 - val_loss: 0.6007 - val_accuracy: 0.7462 - val_categorical_accuracy: 0.9714 - val_precision_2: 0.9714 - val_recall_2: 0.9714\n",
      "Epoch 42/50\n",
      "197/197 [==============================] - 8s 41ms/step - loss: 0.0090 - accuracy: 0.7521 - categorical_accuracy: 0.9991 - precision_2: 0.9991 - recall_2: 0.9991 - val_loss: 0.5914 - val_accuracy: 0.6998 - val_categorical_accuracy: 0.9707 - val_precision_2: 0.9707 - val_recall_2: 0.9707\n",
      "Epoch 43/50\n",
      "197/197 [==============================] - 8s 42ms/step - loss: 0.0059 - accuracy: 0.7370 - categorical_accuracy: 0.9992 - precision_2: 0.9992 - recall_2: 0.9992 - val_loss: 0.5787 - val_accuracy: 0.6894 - val_categorical_accuracy: 0.9685 - val_precision_2: 0.9685 - val_recall_2: 0.9685\n",
      "Epoch 44/50\n",
      "197/197 [==============================] - 8s 43ms/step - loss: 0.0044 - accuracy: 0.7353 - categorical_accuracy: 0.9995 - precision_2: 0.9995 - recall_2: 0.9995 - val_loss: 0.5198 - val_accuracy: 0.6791 - val_categorical_accuracy: 0.9700 - val_precision_2: 0.9700 - val_recall_2: 0.9700\n",
      "Epoch 45/50\n",
      "197/197 [==============================] - 8s 42ms/step - loss: 4.7300e-04 - accuracy: 0.6930 - categorical_accuracy: 0.9999 - precision_2: 0.9999 - recall_2: 0.9999 - val_loss: 0.5700 - val_accuracy: 0.7066 - val_categorical_accuracy: 0.9700 - val_precision_2: 0.9700 - val_recall_2: 0.9700\n",
      "Epoch 46/50\n",
      "197/197 [==============================] - 8s 42ms/step - loss: 0.0065 - accuracy: 0.7232 - categorical_accuracy: 0.9997 - precision_2: 0.9997 - recall_2: 0.9997 - val_loss: 0.4907 - val_accuracy: 0.6594 - val_categorical_accuracy: 0.9693 - val_precision_2: 0.9693 - val_recall_2: 0.9693\n",
      "Epoch 47/50\n",
      "197/197 [==============================] - 8s 42ms/step - loss: 0.0025 - accuracy: 0.6852 - categorical_accuracy: 0.9996 - precision_2: 0.9996 - recall_2: 0.9996 - val_loss: 0.5630 - val_accuracy: 0.6887 - val_categorical_accuracy: 0.9721 - val_precision_2: 0.9721 - val_recall_2: 0.9721\n",
      "Epoch 48/50\n",
      "197/197 [==============================] - 8s 41ms/step - loss: 0.0031 - accuracy: 0.6756 - categorical_accuracy: 0.9997 - precision_2: 0.9997 - recall_2: 0.9997 - val_loss: 0.7463 - val_accuracy: 0.6801 - val_categorical_accuracy: 0.9678 - val_precision_2: 0.9678 - val_recall_2: 0.9678\n",
      "Epoch 49/50\n",
      "197/197 [==============================] - 8s 40ms/step - loss: 0.0011 - accuracy: 0.6997 - categorical_accuracy: 0.9998 - precision_2: 0.9998 - recall_2: 0.9998 - val_loss: 0.4585 - val_accuracy: 0.6494 - val_categorical_accuracy: 0.9707 - val_precision_2: 0.9707 - val_recall_2: 0.9707\n",
      "Epoch 50/50\n",
      "197/197 [==============================] - 8s 40ms/step - loss: 4.5132e-06 - accuracy: 0.6952 - categorical_accuracy: 1.0000 - precision_2: 1.0000 - recall_2: 1.0000 - val_loss: 0.7246 - val_accuracy: 0.7659 - val_categorical_accuracy: 0.9714 - val_precision_2: 0.9714 - val_recall_2: 0.9714\n"
     ]
    }
   ],
   "source": [
    "model_1.compile(optimizer='rmsprop',\n",
    "                loss='categorical_crossentropy',\n",
    "                metrics=[\n",
    "                    metrics.Accuracy(),\n",
    "                    metrics.categorical_accuracy,\n",
    "                    metrics.Precision(),\n",
    "                    metrics.Recall()\n",
    "                ])\n",
    "results_2 = model_1.fit(X_train_normalized, y_train_one_hot, validation_data=(X_val, y_val), epochs=50, batch_size=64, class_weight=class_weights_dict)"
   ]
  },
  {
   "cell_type": "code",
   "execution_count": 39,
   "id": "worthy-estate",
   "metadata": {},
   "outputs": [
    {
     "data": {
      "text/plain": [
       "dict_keys(['loss', 'accuracy', 'categorical_accuracy', 'precision_2', 'recall_2', 'val_loss', 'val_accuracy', 'val_categorical_accuracy', 'val_precision_2', 'val_recall_2'])"
      ]
     },
     "execution_count": 39,
     "metadata": {},
     "output_type": "execute_result"
    }
   ],
   "source": [
    "results_2.history.keys()"
   ]
  },
  {
   "cell_type": "code",
   "execution_count": 40,
   "id": "fleet-diabetes",
   "metadata": {},
   "outputs": [
    {
     "data": {
      "image/png": "[encoded data removed]",
      "text/plain": [
       "<Figure size 720x432 with 1 Axes>"
      ]
     },
     "metadata": {
      "needs_background": "light"
     },
     "output_type": "display_data"
    }
   ],
   "source": [
    "em.plot_train_val_losses(results_2)"
   ]
  },
  {
   "cell_type": "markdown",
   "id": "excited-cause",
   "metadata": {},
   "source": [
    "**Observations:** The flat curve still indicates that the model is underfitting.\n",
    "\n",
    "## Summary\n",
    "After fitting the CNN to a dataset with only two classes, I have determined that the model is underfitting. Nevertheless, it has high predictive power, as shown by the classification report for the test set and the confussion matrix.\n",
    "\n",
    "## Future Direction\n",
    "Since this model is underfitting, even for a two class problem, this indicates that I need a more complicated model in order to be able to learn useful features that can be used to predict leukocite class. \n",
    "\n",
    "As future work, I will extend my project to include the following improvements:\n",
    "* Develop more complex architecture.\n",
    "* Explore data augmentation to counter class imbalance."
   ]
  },
  {
   "cell_type": "code",
   "execution_count": null,
   "id": "introductory-scratch",
   "metadata": {},
   "outputs": [],
   "source": []
  }
 ],
 "metadata": {
  "kernelspec": {
   "display_name": "Python 3",
   "language": "python",
   "name": "python3"
  },
  "language_info": {
   "codemirror_mode": {
    "name": "ipython",
    "version": 3
   },
   "file_extension": ".py",
   "mimetype": "text/x-python",
   "name": "python",
   "nbconvert_exporter": "python",
   "pygments_lexer": "ipython3",
   "version": "3.8.8"
  }
 },
 "nbformat": 4,
 "nbformat_minor": 5
}
