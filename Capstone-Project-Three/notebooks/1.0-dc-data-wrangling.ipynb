{
 "cells": [
  {
   "cell_type": "markdown",
   "id": "molecular-string",
   "metadata": {},
   "source": [
    "# Data Wrangling\n",
    "## Business Problem\n",
    "Leukemia is a type of cancer of the blood that often affects young people. In the past, pathologists would diagnose patients by eye after examining blood smear images under the microscope. But, this is time consuming and tedious. Advances in image recognition technology have come a long ways since their inception. Therefore, automated solutions using computers would be of great benefit to the medical community to aid in cancer diagnoses.\n",
    "\n",
    "The goal of this project is to address the following question: How can the doctor’s at the Munich University Hospital automate the diagnosis of patients with leukemia using images from blood smears?\n",
    "\n",
    "**Plan:**\n",
    "Address the following questions:\n",
    "* How many different morphology classes are there in the dataset?\n",
    "* What are the image counts per morphology class?\n",
    "* For each morphology class, what percentage of samples were re-annotated?\n",
    "* Are there any samples there were re-annoted only once?"
   ]
  },
  {
   "cell_type": "code",
   "execution_count": 1,
   "id": "adult-contamination",
   "metadata": {},
   "outputs": [],
   "source": [
    "import matplotlib.pyplot as plt\n",
    "import numpy as np\n",
    "import pandas as pd\n",
    "import seaborn as sns\n",
    "\n",
    "%load_ext autoreload\n",
    "%autoreload 2\n",
    "%matplotlib inline"
   ]
  },
  {
   "cell_type": "markdown",
   "id": "packed-referral",
   "metadata": {},
   "source": [
    "## Load Annotations File\n",
    "The above questions can be answered by exmaining the annotations file, _annotations.dat_."
   ]
  },
  {
   "cell_type": "code",
   "execution_count": null,
   "id": "executive-tulsa",
   "metadata": {},
   "outputs": [],
   "source": []
  }
 ],
 "metadata": {
  "kernelspec": {
   "display_name": "Python 3",
   "language": "python",
   "name": "python3"
  },
  "language_info": {
   "codemirror_mode": {
    "name": "ipython",
    "version": 3
   },
   "file_extension": ".py",
   "mimetype": "text/x-python",
   "name": "python",
   "nbconvert_exporter": "python",
   "pygments_lexer": "ipython3",
   "version": "3.8.8"
  }
 },
 "nbformat": 4,
 "nbformat_minor": 5
}
