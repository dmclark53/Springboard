{
 "cells": [
  {
   "cell_type": "markdown",
   "id": "flush-pitch",
   "metadata": {},
   "source": [
    "# Pre-Processing: Reduced Classes\n",
    "## Business Problem\n",
    "Leukemia is a type of cancer of the blood that often affects young people. In the past, pathologists would diagnose patients by eye after examining blood smear images under the microscope. But, this is time consuming and tedious. Advances in image recognition technology have come a long ways since their inception. Therefore, automated solutions using computers would be of great benefit to the medical community to aid in cancer diagnoses.\n",
    "\n",
    "The goal of this project is to address the following question: How can the doctor’s at the Munich University Hospital automate the diagnosis of patients with leukemia using images from blood smears?\n",
    "\n",
    "## Approach \n",
    "In this notebook, I will create a subset of the original dataset that includes leukocites with more balanced class counts. Furthermore, I will reduce the problem to a binary classification problem."
   ]
  },
  {
   "cell_type": "code",
   "execution_count": 1,
   "id": "selected-international",
   "metadata": {},
   "outputs": [],
   "source": [
    "import os\n",
    "import pickle\n",
    "import sys\n",
    "sys.path.append('..')\n",
    "\n",
    "import cv2 as cv\n",
    "# from imblearn.over_sampling import RandomOverSampler\n",
    "import matplotlib.pyplot as plt\n",
    "import numpy as np\n",
    "import pandas as pd\n",
    "import seaborn as sns\n",
    "from sklearn.model_selection import train_test_split\n",
    "\n",
    "from src import constants as con\n",
    "from src.features import build_features as bf\n",
    "from src.visualization import visualize as viz\n",
    "\n",
    "# %load_ext autoreload\n",
    "# %autoreload 2\n",
    "%reload_ext autoreload\n",
    "%matplotlib inline"
   ]
  },
  {
   "cell_type": "markdown",
   "id": "similar-violation",
   "metadata": {},
   "source": [
    "## Load Annotations File\n",
    "The annotations files contains the list of images, which will be used for the features, and list of morphologies, which are the labels."
   ]
  },
  {
   "cell_type": "code",
   "execution_count": 2,
   "id": "growing-columbia",
   "metadata": {},
   "outputs": [],
   "source": [
    "df_annotate = pd.read_csv(os.path.join(con.REFERENCES_DIR, 'annotations.dat'), sep=' ', \n",
    "                          names=['Image Dir', 'Morphology', 'First Re-Annotation', 'Second Re-Annotation'])"
   ]
  },
  {
   "cell_type": "code",
   "execution_count": 3,
   "id": "stretch-duration",
   "metadata": {},
   "outputs": [
    {
     "name": "stdout",
     "output_type": "stream",
     "text": [
      "<class 'pandas.core.frame.DataFrame'>\n",
      "RangeIndex: 18365 entries, 0 to 18364\n",
      "Data columns (total 4 columns):\n",
      " #   Column                Non-Null Count  Dtype \n",
      "---  ------                --------------  ----- \n",
      " 0   Image Dir             18365 non-null  object\n",
      " 1   Morphology            18365 non-null  object\n",
      " 2   First Re-Annotation   1905 non-null   object\n",
      " 3   Second Re-Annotation  1905 non-null   object\n",
      "dtypes: object(4)\n",
      "memory usage: 574.0+ KB\n"
     ]
    }
   ],
   "source": [
    "df_annotate.info()"
   ]
  },
  {
   "cell_type": "markdown",
   "id": "capable-outline",
   "metadata": {},
   "source": [
    "## Reduced Classes\n",
    "First, lets examine the class count by leukocite type."
   ]
  },
  {
   "cell_type": "code",
   "execution_count": 4,
   "id": "severe-nelson",
   "metadata": {},
   "outputs": [
    {
     "data": {
      "text/html": [
       "<div>\n",
       "<style scoped>\n",
       "    .dataframe tbody tr th:only-of-type {\n",
       "        vertical-align: middle;\n",
       "    }\n",
       "\n",
       "    .dataframe tbody tr th {\n",
       "        vertical-align: top;\n",
       "    }\n",
       "\n",
       "    .dataframe thead th {\n",
       "        text-align: right;\n",
       "    }\n",
       "</style>\n",
       "<table border=\"1\" class=\"dataframe\">\n",
       "  <thead>\n",
       "    <tr style=\"text-align: right;\">\n",
       "      <th></th>\n",
       "      <th>Morphology</th>\n",
       "      <th>Image Count</th>\n",
       "    </tr>\n",
       "  </thead>\n",
       "  <tbody>\n",
       "    <tr>\n",
       "      <th>0</th>\n",
       "      <td>NGS</td>\n",
       "      <td>8484</td>\n",
       "    </tr>\n",
       "    <tr>\n",
       "      <th>1</th>\n",
       "      <td>LYT</td>\n",
       "      <td>3937</td>\n",
       "    </tr>\n",
       "    <tr>\n",
       "      <th>2</th>\n",
       "      <td>MYO</td>\n",
       "      <td>3268</td>\n",
       "    </tr>\n",
       "    <tr>\n",
       "      <th>3</th>\n",
       "      <td>MON</td>\n",
       "      <td>1789</td>\n",
       "    </tr>\n",
       "    <tr>\n",
       "      <th>4</th>\n",
       "      <td>EOS</td>\n",
       "      <td>424</td>\n",
       "    </tr>\n",
       "    <tr>\n",
       "      <th>5</th>\n",
       "      <td>NGB</td>\n",
       "      <td>109</td>\n",
       "    </tr>\n",
       "    <tr>\n",
       "      <th>6</th>\n",
       "      <td>BAS</td>\n",
       "      <td>79</td>\n",
       "    </tr>\n",
       "    <tr>\n",
       "      <th>7</th>\n",
       "      <td>EBO</td>\n",
       "      <td>78</td>\n",
       "    </tr>\n",
       "    <tr>\n",
       "      <th>8</th>\n",
       "      <td>PMO</td>\n",
       "      <td>70</td>\n",
       "    </tr>\n",
       "    <tr>\n",
       "      <th>9</th>\n",
       "      <td>MYB</td>\n",
       "      <td>42</td>\n",
       "    </tr>\n",
       "    <tr>\n",
       "      <th>10</th>\n",
       "      <td>MOB</td>\n",
       "      <td>26</td>\n",
       "    </tr>\n",
       "    <tr>\n",
       "      <th>11</th>\n",
       "      <td>PMB</td>\n",
       "      <td>18</td>\n",
       "    </tr>\n",
       "    <tr>\n",
       "      <th>12</th>\n",
       "      <td>KSC</td>\n",
       "      <td>15</td>\n",
       "    </tr>\n",
       "    <tr>\n",
       "      <th>13</th>\n",
       "      <td>MMZ</td>\n",
       "      <td>15</td>\n",
       "    </tr>\n",
       "    <tr>\n",
       "      <th>14</th>\n",
       "      <td>LYA</td>\n",
       "      <td>11</td>\n",
       "    </tr>\n",
       "  </tbody>\n",
       "</table>\n",
       "</div>"
      ],
      "text/plain": [
       "   Morphology  Image Count\n",
       "0         NGS         8484\n",
       "1         LYT         3937\n",
       "2         MYO         3268\n",
       "3         MON         1789\n",
       "4         EOS          424\n",
       "5         NGB          109\n",
       "6         BAS           79\n",
       "7         EBO           78\n",
       "8         PMO           70\n",
       "9         MYB           42\n",
       "10        MOB           26\n",
       "11        PMB           18\n",
       "12        KSC           15\n",
       "13        MMZ           15\n",
       "14        LYA           11"
      ]
     },
     "execution_count": 4,
     "metadata": {},
     "output_type": "execute_result"
    }
   ],
   "source": [
    "df_image_counts = viz.count_images(df_annotate)\n",
    "df_image_counts.reset_index().loc[:, ['Morphology', 'Image Count']]"
   ]
  },
  {
   "cell_type": "markdown",
   "id": "similar-saskatchewan",
   "metadata": {},
   "source": [
    "Let's only consider the first four leukocite morphologies. From this, I can create classes that are roughly equal."
   ]
  },
  {
   "cell_type": "code",
   "execution_count": 5,
   "id": "vanilla-expansion",
   "metadata": {},
   "outputs": [],
   "source": [
    "morphology_subset = ['NGS', 'LYT', 'MYO', 'MON']"
   ]
  },
  {
   "cell_type": "code",
   "execution_count": 6,
   "id": "scenic-premiere",
   "metadata": {},
   "outputs": [],
   "source": [
    "df_annotate_subset = df_annotate[df_annotate['Morphology'].isin(morphology_subset)]"
   ]
  },
  {
   "cell_type": "code",
   "execution_count": 7,
   "id": "acceptable-memorabilia",
   "metadata": {},
   "outputs": [
    {
     "data": {
      "text/html": [
       "<div>\n",
       "<style scoped>\n",
       "    .dataframe tbody tr th:only-of-type {\n",
       "        vertical-align: middle;\n",
       "    }\n",
       "\n",
       "    .dataframe tbody tr th {\n",
       "        vertical-align: top;\n",
       "    }\n",
       "\n",
       "    .dataframe thead th {\n",
       "        text-align: right;\n",
       "    }\n",
       "</style>\n",
       "<table border=\"1\" class=\"dataframe\">\n",
       "  <thead>\n",
       "    <tr style=\"text-align: right;\">\n",
       "      <th></th>\n",
       "      <th>Morphology</th>\n",
       "      <th>Image Count</th>\n",
       "    </tr>\n",
       "  </thead>\n",
       "  <tbody>\n",
       "    <tr>\n",
       "      <th>0</th>\n",
       "      <td>NGS</td>\n",
       "      <td>8484</td>\n",
       "    </tr>\n",
       "    <tr>\n",
       "      <th>1</th>\n",
       "      <td>LYT</td>\n",
       "      <td>3937</td>\n",
       "    </tr>\n",
       "    <tr>\n",
       "      <th>2</th>\n",
       "      <td>MYO</td>\n",
       "      <td>3268</td>\n",
       "    </tr>\n",
       "    <tr>\n",
       "      <th>3</th>\n",
       "      <td>MON</td>\n",
       "      <td>1789</td>\n",
       "    </tr>\n",
       "  </tbody>\n",
       "</table>\n",
       "</div>"
      ],
      "text/plain": [
       "  Morphology  Image Count\n",
       "0        NGS         8484\n",
       "1        LYT         3937\n",
       "2        MYO         3268\n",
       "3        MON         1789"
      ]
     },
     "execution_count": 7,
     "metadata": {},
     "output_type": "execute_result"
    }
   ],
   "source": [
    "df_image_subset_counts = viz.count_images(df_annotate_subset)\n",
    "df_image_subset_counts.reset_index().loc[:, ['Morphology', 'Image Count']]"
   ]
  },
  {
   "cell_type": "markdown",
   "id": "continued-chrome",
   "metadata": {},
   "source": [
    "Let's make this a binary classification problem by defining the classes _NGS_ and _not NGS_."
   ]
  },
  {
   "cell_type": "code",
   "execution_count": 11,
   "id": "moved-video",
   "metadata": {},
   "outputs": [],
   "source": [
    "df_annotate_subset.loc[:, 'Morphology'] = df_annotate_subset.loc[:, 'Morphology'].replace({'LYT': 'not NGC', 'MYO': 'not NGC', 'MON': 'not NGC'})"
   ]
  },
  {
   "cell_type": "code",
   "execution_count": 12,
   "id": "jewish-headquarters",
   "metadata": {},
   "outputs": [
    {
     "data": {
      "text/html": [
       "<div>\n",
       "<style scoped>\n",
       "    .dataframe tbody tr th:only-of-type {\n",
       "        vertical-align: middle;\n",
       "    }\n",
       "\n",
       "    .dataframe tbody tr th {\n",
       "        vertical-align: top;\n",
       "    }\n",
       "\n",
       "    .dataframe thead th {\n",
       "        text-align: right;\n",
       "    }\n",
       "</style>\n",
       "<table border=\"1\" class=\"dataframe\">\n",
       "  <thead>\n",
       "    <tr style=\"text-align: right;\">\n",
       "      <th></th>\n",
       "      <th>Morphology</th>\n",
       "      <th>Image Count</th>\n",
       "    </tr>\n",
       "  </thead>\n",
       "  <tbody>\n",
       "    <tr>\n",
       "      <th>0</th>\n",
       "      <td>not NGS</td>\n",
       "      <td>8994</td>\n",
       "    </tr>\n",
       "    <tr>\n",
       "      <th>1</th>\n",
       "      <td>NGS</td>\n",
       "      <td>8484</td>\n",
       "    </tr>\n",
       "  </tbody>\n",
       "</table>\n",
       "</div>"
      ],
      "text/plain": [
       "  Morphology  Image Count\n",
       "0    not NGS         8994\n",
       "1        NGS         8484"
      ]
     },
     "execution_count": 12,
     "metadata": {},
     "output_type": "execute_result"
    }
   ],
   "source": [
    "df_image_subset_counts = viz.count_images(df_annotate_subset)\n",
    "df_image_subset_counts.reset_index().loc[:, ['Morphology', 'Image Count']]"
   ]
  },
  {
   "cell_type": "markdown",
   "id": "consistent-modification",
   "metadata": {},
   "source": [
    "**Observations:**\n",
    "The class counts for morphology type and much closer now."
   ]
  },
  {
   "cell_type": "markdown",
   "id": "august-cookie",
   "metadata": {},
   "source": [
    "## Features and Labels\n",
    "Select the features and labels from the annotations file."
   ]
  },
  {
   "cell_type": "code",
   "execution_count": null,
   "id": "armed-scotland",
   "metadata": {},
   "outputs": [],
   "source": [
    "X = df_image_subset_counts['Image Dir'].values\n",
    "y = df_image_subset_counts['Morphology'].values"
   ]
  },
  {
   "cell_type": "markdown",
   "id": "adult-scanning",
   "metadata": {},
   "source": [
    "Print out a few items in the features array. These are image file names."
   ]
  },
  {
   "cell_type": "code",
   "execution_count": null,
   "id": "formal-helicopter",
   "metadata": {},
   "outputs": [],
   "source": [
    "X[:5]"
   ]
  },
  {
   "cell_type": "markdown",
   "id": "loose-accommodation",
   "metadata": {},
   "source": [
    "Print out of few of the label values. These are leukocite morphology types."
   ]
  },
  {
   "cell_type": "code",
   "execution_count": null,
   "id": "russian-acrylic",
   "metadata": {},
   "outputs": [],
   "source": [
    "y[:5]"
   ]
  },
  {
   "cell_type": "markdown",
   "id": "joint-democracy",
   "metadata": {},
   "source": [
    "## Flatten Images\n",
    "Load each image and flatten into a one-dimensional array.\n",
    "* Convert images to grayscale so they take up less memory on disk."
   ]
  },
  {
   "cell_type": "code",
   "execution_count": null,
   "id": "surgical-warren",
   "metadata": {},
   "outputs": [],
   "source": [
    "X_flat = bf.preprocess_images(X, flatten=True, gray=True, rescale=True, scale_factor=0.12)"
   ]
  },
  {
   "cell_type": "markdown",
   "id": "surface-rough",
   "metadata": {},
   "source": [
    "Display the preprocessed images."
   ]
  },
  {
   "cell_type": "code",
   "execution_count": null,
   "id": "touched-macedonia",
   "metadata": {},
   "outputs": [],
   "source": [
    "X_flat.shape"
   ]
  },
  {
   "cell_type": "code",
   "execution_count": null,
   "id": "derived-green",
   "metadata": {},
   "outputs": [],
   "source": [
    "np.sqrt(2304)"
   ]
  },
  {
   "cell_type": "code",
   "execution_count": null,
   "id": "provincial-mandate",
   "metadata": {},
   "outputs": [],
   "source": [
    "X_flat.max()"
   ]
  },
  {
   "cell_type": "code",
   "execution_count": null,
   "id": "horizontal-christmas",
   "metadata": {},
   "outputs": [],
   "source": [
    "X_flat.reshape((len(X_flat), 48, 48, 1)).shape"
   ]
  },
  {
   "cell_type": "code",
   "execution_count": null,
   "id": "specified-greece",
   "metadata": {},
   "outputs": [],
   "source": [
    "viz.display_preprocessed(X_flat, y, 4)"
   ]
  },
  {
   "cell_type": "markdown",
   "id": "informal-commander",
   "metadata": {},
   "source": [
    "## Train-Test Split\n",
    "Split the features and labels into training and test sets. I will set aside 20% of the dataset for testing and the rest for training.\n",
    "\n",
    "First, let's examine the distribution in class counts for the labels."
   ]
  },
  {
   "cell_type": "code",
   "execution_count": null,
   "id": "average-conducting",
   "metadata": {},
   "outputs": [],
   "source": [
    "print('Class fractions for the labels:')\n",
    "pd.Series(y).value_counts(normalize=True)"
   ]
  },
  {
   "cell_type": "markdown",
   "id": "available-wellington",
   "metadata": {},
   "source": [
    "As pointed in the EDA step, there is a large difference in class counts for each of the morphological types."
   ]
  },
  {
   "cell_type": "code",
   "execution_count": null,
   "id": "trying-links",
   "metadata": {},
   "outputs": [],
   "source": [
    "X_train, X_test, y_train, y_test = train_test_split(X_flat, y, test_size=0.2, random_state=42)"
   ]
  },
  {
   "cell_type": "markdown",
   "id": "selective-alignment",
   "metadata": {},
   "source": [
    "After splitting the data into train and test splits, how does the class distribution change?"
   ]
  },
  {
   "cell_type": "code",
   "execution_count": null,
   "id": "ancient-arthritis",
   "metadata": {},
   "outputs": [],
   "source": [
    "print('Class fractions for labels in the training set:')\n",
    "pd.Series(y_train).value_counts(normalize=True)"
   ]
  },
  {
   "cell_type": "code",
   "execution_count": null,
   "id": "vanilla-relations",
   "metadata": {},
   "outputs": [],
   "source": [
    "pd.Series(y_train).value_counts()"
   ]
  },
  {
   "cell_type": "code",
   "execution_count": null,
   "id": "interior-fence",
   "metadata": {},
   "outputs": [],
   "source": [
    "print('Class fractions for labels in the test set:')\n",
    "pd.Series(y_test).value_counts(normalize=True)"
   ]
  },
  {
   "cell_type": "markdown",
   "id": "vietnamese-security",
   "metadata": {},
   "source": [
    "To make the comparison clearer, let's compute the fractional difference in value counts between training and test labels. If the class distribution is the same between and train test sets, then the fractions should be close to 1."
   ]
  },
  {
   "cell_type": "code",
   "execution_count": null,
   "id": "serial-korean",
   "metadata": {},
   "outputs": [],
   "source": [
    "y_value_counts = viz.compare_class_spread(y_train, y_test)"
   ]
  },
  {
   "cell_type": "code",
   "execution_count": null,
   "id": "equal-disease",
   "metadata": {},
   "outputs": [],
   "source": [
    "y_value_counts"
   ]
  },
  {
   "cell_type": "code",
   "execution_count": null,
   "id": "attractive-congress",
   "metadata": {},
   "outputs": [],
   "source": [
    "print(f\"Minimum fractional difference: {y_value_counts['y_train/y_test'].min():0.3f}\")\n",
    "print(f\"Maximum fractional difference: {y_value_counts['y_train/y_test'].max():0.3f}\")"
   ]
  },
  {
   "cell_type": "markdown",
   "id": "minimal-continuity",
   "metadata": {},
   "source": [
    "As you can see, not all fractions are one. The lowest is around 0.69, while the higest is up to 3.5.\n",
    "\n",
    "Let's redo the train/test split, but this time use the _`stratify`_ parameter to make the distribution in classes between the train and test sets more equal."
   ]
  },
  {
   "cell_type": "code",
   "execution_count": null,
   "id": "alpine-importance",
   "metadata": {},
   "outputs": [],
   "source": [
    "X_train, X_test, y_train, y_test = train_test_split(X_flat, y, test_size=0.2, random_state=42, stratify=y)"
   ]
  },
  {
   "cell_type": "code",
   "execution_count": null,
   "id": "rising-insert",
   "metadata": {},
   "outputs": [],
   "source": [
    "y_value_counts = viz.compare_class_spread(y_train, y_test)"
   ]
  },
  {
   "cell_type": "code",
   "execution_count": null,
   "id": "bibliographic-selection",
   "metadata": {},
   "outputs": [],
   "source": [
    "y_value_counts"
   ]
  },
  {
   "cell_type": "code",
   "execution_count": null,
   "id": "sustainable-sharp",
   "metadata": {},
   "outputs": [],
   "source": [
    "print(f\"Minimum fractional difference: {y_value_counts['y_train/y_test'].min():0.3f}\")\n",
    "print(f\"Maximum fractional difference: {y_value_counts['y_train/y_test'].max():0.3f}\")"
   ]
  },
  {
   "cell_type": "markdown",
   "id": "severe-barrel",
   "metadata": {},
   "source": [
    "The distribution in classes are now much closer to one."
   ]
  },
  {
   "cell_type": "markdown",
   "id": "figured-august",
   "metadata": {},
   "source": [
    "## Class Imbalance\n",
    "Plan:\n",
    "1. Bootstrapping.\n",
    "2. Image Augmentation."
   ]
  },
  {
   "cell_type": "code",
   "execution_count": null,
   "id": "boxed-magnet",
   "metadata": {},
   "outputs": [],
   "source": [
    "X_train, y_train = bf.bootstrap_images(X_train, y_train)"
   ]
  },
  {
   "cell_type": "markdown",
   "id": "certified-sitting",
   "metadata": {},
   "source": [
    "## Save Train/Test Data\n",
    "Save the training and test data to file. This data will not change during the modeling phase."
   ]
  },
  {
   "cell_type": "code",
   "execution_count": null,
   "id": "critical-assumption",
   "metadata": {},
   "outputs": [],
   "source": [
    "X_train.shape"
   ]
  },
  {
   "cell_type": "code",
   "execution_count": null,
   "id": "hearing-money",
   "metadata": {},
   "outputs": [],
   "source": [
    "data_dict = {\n",
    "    'X_train': X_train,\n",
    "    'X_test': X_test,\n",
    "    'y_train': y_train,\n",
    "    'y_test': y_test\n",
    "}"
   ]
  },
  {
   "cell_type": "code",
   "execution_count": null,
   "id": "collect-injury",
   "metadata": {},
   "outputs": [],
   "source": [
    "for key, value in data_dict.items():\n",
    "    outfile = open(os.path.join(con.PROCESSED_DATA_DIR, key), 'wb')\n",
    "    pickle.dump(value, outfile)\n",
    "    outfile.close()"
   ]
  },
  {
   "cell_type": "code",
   "execution_count": null,
   "id": "banner-authorization",
   "metadata": {},
   "outputs": [],
   "source": []
  }
 ],
 "metadata": {
  "kernelspec": {
   "display_name": "Python 3",
   "language": "python",
   "name": "python3"
  },
  "language_info": {
   "codemirror_mode": {
    "name": "ipython",
    "version": 3
   },
   "file_extension": ".py",
   "mimetype": "text/x-python",
   "name": "python",
   "nbconvert_exporter": "python",
   "pygments_lexer": "ipython3",
   "version": "3.8.8"
  }
 },
 "nbformat": 4,
 "nbformat_minor": 5
}
