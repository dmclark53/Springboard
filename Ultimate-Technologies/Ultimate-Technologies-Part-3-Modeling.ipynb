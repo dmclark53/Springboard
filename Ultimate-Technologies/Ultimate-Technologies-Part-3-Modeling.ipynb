{
 "cells": [
  {
   "cell_type": "markdown",
   "id": "veterinary-causing",
   "metadata": {},
   "source": [
    "# Ultimate Technologies: Part 3 - Modeling"
   ]
  },
  {
   "cell_type": "code",
   "execution_count": 1,
   "id": "decreased-forge",
   "metadata": {},
   "outputs": [],
   "source": [
    "import numpy as np\n",
    "import pandas as pd\n",
    "from sklearn.ensemble import RandomForestClassifier\n",
    "from sklearn.metrics import classification_report\n",
    "from sklearn.model_selection import train_test_split\n",
    "from sklearn.preprocessing import MinMaxScaler"
   ]
  },
  {
   "cell_type": "markdown",
   "id": "subtle-omega",
   "metadata": {},
   "source": [
    "## Load Data Set\n",
    "Load the preprocessed dataset."
   ]
  },
  {
   "cell_type": "code",
   "execution_count": 2,
   "id": "pressed-prior",
   "metadata": {},
   "outputs": [],
   "source": [
    "df = pd.read_csv('./data/processed_data.csv')"
   ]
  },
  {
   "cell_type": "code",
   "execution_count": 3,
   "id": "brief-moscow",
   "metadata": {},
   "outputs": [
    {
     "name": "stdout",
     "output_type": "stream",
     "text": [
      "<class 'pandas.core.frame.DataFrame'>\n",
      "RangeIndex: 50000 entries, 0 to 49999\n",
      "Data columns (total 14 columns):\n",
      " #   Column                  Non-Null Count  Dtype  \n",
      "---  ------                  --------------  -----  \n",
      " 0   trips_in_first_30_days  50000 non-null  int64  \n",
      " 1   avg_rating_of_driver    50000 non-null  float64\n",
      " 2   avg_surge               50000 non-null  float64\n",
      " 3   surge_pct               50000 non-null  float64\n",
      " 4   ultimate_black_user     50000 non-null  int64  \n",
      " 5   weekday_pct             50000 non-null  float64\n",
      " 6   avg_dist                50000 non-null  float64\n",
      " 7   avg_rating_by_driver    50000 non-null  float64\n",
      " 8   active                  50000 non-null  int64  \n",
      " 9   days_since_last_trip    50000 non-null  int64  \n",
      " 10  days_since_signup_date  50000 non-null  int64  \n",
      " 11  city_King's Landing     50000 non-null  int64  \n",
      " 12  city_Winterfell         50000 non-null  int64  \n",
      " 13  phone_iPhone            50000 non-null  int64  \n",
      "dtypes: float64(6), int64(8)\n",
      "memory usage: 5.3 MB\n"
     ]
    }
   ],
   "source": [
    "df.info()"
   ]
  },
  {
   "cell_type": "code",
   "execution_count": null,
   "id": "suspected-qatar",
   "metadata": {},
   "outputs": [],
   "source": []
  }
 ],
 "metadata": {
  "kernelspec": {
   "display_name": "Python 3",
   "language": "python",
   "name": "python3"
  },
  "language_info": {
   "codemirror_mode": {
    "name": "ipython",
    "version": 3
   },
   "file_extension": ".py",
   "mimetype": "text/x-python",
   "name": "python",
   "nbconvert_exporter": "python",
   "pygments_lexer": "ipython3",
   "version": "3.8.8"
  }
 },
 "nbformat": 4,
 "nbformat_minor": 5
}
