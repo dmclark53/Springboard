{
 "cells": [
  {
   "cell_type": "markdown",
   "id": "stainless-determination",
   "metadata": {},
   "source": [
    "# Ultimate Technologies: Part 3 - Modeling"
   ]
  },
  {
   "cell_type": "code",
   "execution_count": 1,
   "id": "arbitrary-scene",
   "metadata": {},
   "outputs": [],
   "source": [
    "import matplotlib\n",
    "import matplotlib.pyplot as plt\n",
    "import numpy as np\n",
    "import pandas as pd\n",
    "from sklearn.linear_model import LogisticRegression\n",
    "from sklearn.metrics import classification_report\n",
    "from sklearn.model_selection import train_test_split\n",
    "from sklearn.preprocessing import MinMaxScaler\n",
    "\n",
    "%matplotlib inline"
   ]
  },
  {
   "cell_type": "markdown",
   "id": "banned-eclipse",
   "metadata": {},
   "source": [
    "## Load Data Set\n",
    "Load the preprocessed dataset."
   ]
  },
  {
   "cell_type": "code",
   "execution_count": 2,
   "id": "forbidden-nomination",
   "metadata": {},
   "outputs": [],
   "source": [
    "df = pd.read_csv('./data/processed_data.csv')"
   ]
  },
  {
   "cell_type": "code",
   "execution_count": 3,
   "id": "positive-congress",
   "metadata": {},
   "outputs": [
    {
     "name": "stdout",
     "output_type": "stream",
     "text": [
      "<class 'pandas.core.frame.DataFrame'>\n",
      "RangeIndex: 50000 entries, 0 to 49999\n",
      "Data columns (total 13 columns):\n",
      " #   Column                  Non-Null Count  Dtype  \n",
      "---  ------                  --------------  -----  \n",
      " 0   trips_in_first_30_days  50000 non-null  int64  \n",
      " 1   avg_rating_of_driver    50000 non-null  float64\n",
      " 2   avg_surge               50000 non-null  float64\n",
      " 3   surge_pct               50000 non-null  float64\n",
      " 4   ultimate_black_user     50000 non-null  int64  \n",
      " 5   weekday_pct             50000 non-null  float64\n",
      " 6   avg_dist                50000 non-null  float64\n",
      " 7   avg_rating_by_driver    50000 non-null  float64\n",
      " 8   active                  50000 non-null  int64  \n",
      " 9   days_since_signup_date  50000 non-null  int64  \n",
      " 10  city_King's Landing     50000 non-null  int64  \n",
      " 11  city_Winterfell         50000 non-null  int64  \n",
      " 12  phone_iPhone            50000 non-null  int64  \n",
      "dtypes: float64(6), int64(7)\n",
      "memory usage: 5.0 MB\n"
     ]
    }
   ],
   "source": [
    "df.info()"
   ]
  },
  {
   "cell_type": "markdown",
   "id": "colonial-parish",
   "metadata": {},
   "source": [
    "## Features and Labels\n",
    "Select the features and labels."
   ]
  },
  {
   "cell_type": "code",
   "execution_count": 4,
   "id": "personal-casino",
   "metadata": {},
   "outputs": [],
   "source": [
    "X = df.drop(columns=['active']).values\n",
    "y = df['active'].values"
   ]
  },
  {
   "cell_type": "code",
   "execution_count": 5,
   "id": "suburban-charleston",
   "metadata": {},
   "outputs": [
    {
     "data": {
      "text/plain": [
       "(50000, 12)"
      ]
     },
     "execution_count": 5,
     "metadata": {},
     "output_type": "execute_result"
    }
   ],
   "source": [
    "X.shape"
   ]
  },
  {
   "cell_type": "code",
   "execution_count": 6,
   "id": "ready-avenue",
   "metadata": {},
   "outputs": [
    {
     "data": {
      "text/plain": [
       "(50000,)"
      ]
     },
     "execution_count": 6,
     "metadata": {},
     "output_type": "execute_result"
    }
   ],
   "source": [
    "y.shape"
   ]
  },
  {
   "cell_type": "markdown",
   "id": "absolute-tooth",
   "metadata": {},
   "source": [
    "## Train/Test Split"
   ]
  },
  {
   "cell_type": "code",
   "execution_count": 7,
   "id": "least-income",
   "metadata": {},
   "outputs": [],
   "source": [
    "X_train, X_test, y_train, y_test = train_test_split(X, y, test_size=0.3, random_state=42, stratify=y)"
   ]
  },
  {
   "cell_type": "markdown",
   "id": "classified-retro",
   "metadata": {},
   "source": [
    "## Rescaling\n",
    "Rescale the training and test features to values between 0 and 1."
   ]
  },
  {
   "cell_type": "code",
   "execution_count": 8,
   "id": "blocked-routine",
   "metadata": {},
   "outputs": [],
   "source": [
    "scaler = MinMaxScaler().fit(X_train)\n",
    "X_train_rescaled = scaler.transform(X_train)\n",
    "X_test_rescaled = scaler.transform(X_test)"
   ]
  },
  {
   "cell_type": "markdown",
   "id": "immediate-ebony",
   "metadata": {},
   "source": [
    "## Logistic Regression Model\n",
    "For this dataset, I will use a logistic regression model to predict whether a user is active or not."
   ]
  },
  {
   "cell_type": "code",
   "execution_count": 9,
   "id": "expensive-boutique",
   "metadata": {},
   "outputs": [
    {
     "data": {
      "text/plain": [
       "LogisticRegression()"
      ]
     },
     "execution_count": 9,
     "metadata": {},
     "output_type": "execute_result"
    }
   ],
   "source": [
    "logreg = LogisticRegression()\n",
    "logreg.fit(X_train_rescaled, y_train)"
   ]
  },
  {
   "cell_type": "code",
   "execution_count": 10,
   "id": "metropolitan-orleans",
   "metadata": {},
   "outputs": [],
   "source": [
    "y_pred = logreg.predict(X_test_rescaled)"
   ]
  },
  {
   "cell_type": "markdown",
   "id": "paperback-customs",
   "metadata": {},
   "source": [
    "### Model Evaluation"
   ]
  },
  {
   "cell_type": "code",
   "execution_count": 11,
   "id": "bacterial-draft",
   "metadata": {},
   "outputs": [
    {
     "name": "stdout",
     "output_type": "stream",
     "text": [
      "              precision    recall  f1-score   support\n",
      "\n",
      "           0       0.75      0.86      0.80      9507\n",
      "           1       0.67      0.49      0.57      5493\n",
      "\n",
      "    accuracy                           0.73     15000\n",
      "   macro avg       0.71      0.68      0.68     15000\n",
      "weighted avg       0.72      0.73      0.71     15000\n",
      "\n"
     ]
    }
   ],
   "source": [
    "print(classification_report(y_test, y_pred))"
   ]
  },
  {
   "cell_type": "markdown",
   "id": "correct-japan",
   "metadata": {},
   "source": [
    "### Feature Importance"
   ]
  },
  {
   "cell_type": "code",
   "execution_count": 12,
   "id": "separate-engineering",
   "metadata": {},
   "outputs": [],
   "source": [
    "model_coefficients = logreg.coef_[0]"
   ]
  },
  {
   "cell_type": "code",
   "execution_count": 13,
   "id": "constitutional-multiple",
   "metadata": {},
   "outputs": [],
   "source": [
    "features = df.drop(columns=['active']).columns.tolist()"
   ]
  },
  {
   "cell_type": "code",
   "execution_count": 14,
   "id": "large-boating",
   "metadata": {},
   "outputs": [],
   "source": [
    "feature_importance = pd.DataFrame({'feature': features, 'importance': model_coefficients})"
   ]
  },
  {
   "cell_type": "code",
   "execution_count": 15,
   "id": "tropical-regulation",
   "metadata": {},
   "outputs": [],
   "source": [
    "feature_importance.sort_values(by='importance', ascending=False, inplace=True)\n",
    "feature_importance.index = np.arange(len(feature_importance))"
   ]
  },
  {
   "cell_type": "code",
   "execution_count": 16,
   "id": "owned-salad",
   "metadata": {},
   "outputs": [
    {
     "data": {
      "text/html": [
       "<div>\n",
       "<style scoped>\n",
       "    .dataframe tbody tr th:only-of-type {\n",
       "        vertical-align: middle;\n",
       "    }\n",
       "\n",
       "    .dataframe tbody tr th {\n",
       "        vertical-align: top;\n",
       "    }\n",
       "\n",
       "    .dataframe thead th {\n",
       "        text-align: right;\n",
       "    }\n",
       "</style>\n",
       "<table border=\"1\" class=\"dataframe\">\n",
       "  <thead>\n",
       "    <tr style=\"text-align: right;\">\n",
       "      <th></th>\n",
       "      <th>feature</th>\n",
       "      <th>importance</th>\n",
       "    </tr>\n",
       "  </thead>\n",
       "  <tbody>\n",
       "    <tr>\n",
       "      <th>0</th>\n",
       "      <td>trips_in_first_30_days</td>\n",
       "      <td>8.182265</td>\n",
       "    </tr>\n",
       "    <tr>\n",
       "      <th>1</th>\n",
       "      <td>city_King's Landing</td>\n",
       "      <td>1.784972</td>\n",
       "    </tr>\n",
       "    <tr>\n",
       "      <th>2</th>\n",
       "      <td>phone_iPhone</td>\n",
       "      <td>1.101179</td>\n",
       "    </tr>\n",
       "    <tr>\n",
       "      <th>3</th>\n",
       "      <td>ultimate_black_user</td>\n",
       "      <td>0.901084</td>\n",
       "    </tr>\n",
       "    <tr>\n",
       "      <th>4</th>\n",
       "      <td>city_Winterfell</td>\n",
       "      <td>0.562687</td>\n",
       "    </tr>\n",
       "    <tr>\n",
       "      <th>5</th>\n",
       "      <td>surge_pct</td>\n",
       "      <td>0.334517</td>\n",
       "    </tr>\n",
       "    <tr>\n",
       "      <th>6</th>\n",
       "      <td>days_since_signup_date</td>\n",
       "      <td>0.223096</td>\n",
       "    </tr>\n",
       "    <tr>\n",
       "      <th>7</th>\n",
       "      <td>weekday_pct</td>\n",
       "      <td>0.075678</td>\n",
       "    </tr>\n",
       "    <tr>\n",
       "      <th>8</th>\n",
       "      <td>avg_rating_of_driver</td>\n",
       "      <td>-0.484460</td>\n",
       "    </tr>\n",
       "    <tr>\n",
       "      <th>9</th>\n",
       "      <td>avg_rating_by_driver</td>\n",
       "      <td>-0.694555</td>\n",
       "    </tr>\n",
       "    <tr>\n",
       "      <th>10</th>\n",
       "      <td>avg_surge</td>\n",
       "      <td>-1.078931</td>\n",
       "    </tr>\n",
       "    <tr>\n",
       "      <th>11</th>\n",
       "      <td>avg_dist</td>\n",
       "      <td>-5.253489</td>\n",
       "    </tr>\n",
       "  </tbody>\n",
       "</table>\n",
       "</div>"
      ],
      "text/plain": [
       "                   feature  importance\n",
       "0   trips_in_first_30_days    8.182265\n",
       "1      city_King's Landing    1.784972\n",
       "2             phone_iPhone    1.101179\n",
       "3      ultimate_black_user    0.901084\n",
       "4          city_Winterfell    0.562687\n",
       "5                surge_pct    0.334517\n",
       "6   days_since_signup_date    0.223096\n",
       "7              weekday_pct    0.075678\n",
       "8     avg_rating_of_driver   -0.484460\n",
       "9     avg_rating_by_driver   -0.694555\n",
       "10               avg_surge   -1.078931\n",
       "11                avg_dist   -5.253489"
      ]
     },
     "execution_count": 16,
     "metadata": {},
     "output_type": "execute_result"
    }
   ],
   "source": [
    "feature_importance"
   ]
  },
  {
   "cell_type": "code",
   "execution_count": 17,
   "id": "handed-rehabilitation",
   "metadata": {},
   "outputs": [
    {
     "data": {
      "image/png": "[encoded data removed]",
      "text/plain": [
       "<Figure size 432x432 with 1 Axes>"
      ]
     },
     "metadata": {
      "needs_background": "light"
     },
     "output_type": "display_data"
    }
   ],
   "source": [
    "fig, ax = plt.subplots(figsize=(6, 6))\n",
    "feature_importance.plot.barh(x='feature', ax=ax)\n",
    "ax.set_xlabel('Model Coefficient')\n",
    "ax.set_title('Feature Importance')\n",
    "plt.show()"
   ]
  },
  {
   "cell_type": "markdown",
   "id": "treated-inspector",
   "metadata": {},
   "source": [
    "## Summary\n",
    "During EDA, I determined that 37% of the drivers are active, which is a low retention rate.\n",
    "\n",
    "**Goal:** \n",
    "\n",
    "The goal of this project was to determine if a rider will be active in their six month or not. \n",
    "\n",
    "**Modeling Approach:**\n",
    "\n",
    "To answer this question, I chose to create two groups, those that are active (have traveled in the last 30 days) and those that are not. Thus, I created a classification problem. I decide on logistic regression as a simple way to create a predictive model to answer the goal of the project.\n",
    "\n",
    "**Results:**\n",
    "\n",
    "The model achieved an accuracy of 73%, with an F1-score of 0.80 on the majority class (in active drivers) and and F1-score of 0.57 on the minority class (active drivers). The large difference in F1-scores is most likely due to class imbalance issues.\n",
    "\n",
    "**Feature Importance:**\n",
    "\n",
    "From the model coefficients, I could assess the importance of the features in the model fit. I determined that whether a driver is active is strongly negatively related to the average distance the driver has gone. While, if a driver has made a trip in the first 30 days, it is strongly likely that is driver will be active in the future.\n",
    "\n",
    "**Recommendations:**\n",
    "\n",
    "As part of a new sign-up process, I would recommend that Ultimate Technologies gives riders and insentive to take a trip within their first month as members. This seems to be the strongest indicator of rider retention."
   ]
  },
  {
   "cell_type": "code",
   "execution_count": null,
   "id": "renewable-fairy",
   "metadata": {},
   "outputs": [],
   "source": []
  }
 ],
 "metadata": {
  "kernelspec": {
   "display_name": "Python 3",
   "language": "python",
   "name": "python3"
  },
  "language_info": {
   "codemirror_mode": {
    "name": "ipython",
    "version": 3
   },
   "file_extension": ".py",
   "mimetype": "text/x-python",
   "name": "python",
   "nbconvert_exporter": "python",
   "pygments_lexer": "ipython3",
   "version": "3.8.8"
  }
 },
 "nbformat": 4,
 "nbformat_minor": 5
}
