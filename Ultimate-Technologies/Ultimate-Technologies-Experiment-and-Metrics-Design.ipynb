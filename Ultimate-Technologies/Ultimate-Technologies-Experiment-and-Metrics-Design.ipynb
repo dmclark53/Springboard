{
 "cells": [
  {
   "cell_type": "markdown",
   "id": "vietnamese-disabled",
   "metadata": {},
   "source": [
    "# Ultimate Technologies: Experiment and Metrics Design\n",
    "\n",
    "The neighboring cities of Gotham and Metropolis have complementary circadian rhythms: on weekdays, Ultimate Gotham is most active at night, and Ultimate Metropolis is most active during the day. On weekends, there is reasonable activity in both cities.\n",
    "\n",
    "However, a toll bridge, with a two-way toll, between the two cities causes driver partners to tend to be exclusive to each city. The Ultimate managers of city operations for the two cities have proposed an experiment to encourage driver partners to be available in both cities, by reimbursing all toll costs.\n",
    "\n",
    "1. What would you choose as the key measure of success of this experiment in encouraging driver partners to serve both cities, and why would you choose this metric?\n",
    "\n",
    "**Answer:**\n",
    "I would chose mean bridge crossings over a period of time. By comparing mean bridge crossings before and after the toll incentive is implemented, I can determine if there is a statistically significant increasing in crossings.\n",
    "\n",
    "2. Describe a practical experiment you would design to compare the effectiveness of the proposed change in relation to the key measure of success. Please provide details on:\n",
    "    1. How you will implement the experiment?\n",
    "    2. What statistical test(s) you will conduct to verify the significance of the observation?\n",
    "    3. How you would interpret the results and provide recommendations to the city operations team along with any caveats?\n",
    "    \n",
    "**Answer:**\n",
    "Overall Strategy: Perform an A/B test.\n",
    "* Null hypothesis: There is no increase in bridge crossings after reimbursing toll costs.\n",
    "Plan:\n",
    "1. Take a sample of bridge crossings over the past month and compute the average number of crossings.\n",
    "2. Implement the toll reimbursements.\n",
    "3. After a month, take another sample of bridge crossings and compute the average number of crossings.\n",
    "4. Compare the two averages using a two-sided T test. If the p-value is less than 0.05, then the null hypothesis can be rejected, proving that the toll reimbursements did work in encourage residents of both cities to travel between cities."
   ]
  },
  {
   "cell_type": "code",
   "execution_count": null,
   "id": "considered-episode",
   "metadata": {},
   "outputs": [],
   "source": []
  }
 ],
 "metadata": {
  "kernelspec": {
   "display_name": "Python 3",
   "language": "python",
   "name": "python3"
  },
  "language_info": {
   "codemirror_mode": {
    "name": "ipython",
    "version": 3
   },
   "file_extension": ".py",
   "mimetype": "text/x-python",
   "name": "python",
   "nbconvert_exporter": "python",
   "pygments_lexer": "ipython3",
   "version": "3.8.8"
  }
 },
 "nbformat": 4,
 "nbformat_minor": 5
}
