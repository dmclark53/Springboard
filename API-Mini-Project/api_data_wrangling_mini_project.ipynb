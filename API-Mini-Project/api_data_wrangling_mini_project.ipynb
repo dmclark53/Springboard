{
 "cells": [
  {
   "cell_type": "markdown",
   "metadata": {},
   "source": [
    "This exercise will require you to pull some data from the Qunadl API. Qaundl is currently the most widely used aggregator of financial market data."
   ]
  },
  {
   "cell_type": "markdown",
   "metadata": {},
   "source": [
    "As a first step, you will need to register a free account on the http://www.quandl.com website."
   ]
  },
  {
   "cell_type": "markdown",
   "metadata": {},
   "source": [
    "After you register, you will be provided with a unique API key, that you should store:"
   ]
  },
  {
   "cell_type": "code",
   "execution_count": null,
   "metadata": {},
   "outputs": [],
   "source": [
    "# Store the API key as a string - according to PEP8, constants are always named in all upper case\n",
    "from config.config import api_key\n",
    "API_KEY = api_key"
   ]
  },
  {
   "cell_type": "markdown",
   "metadata": {},
   "source": [
    "Qaundl has a large number of data sources, but, unfortunately, most of them require a Premium subscription. Still, there are also a good number of free datasets."
   ]
  },
  {
   "cell_type": "markdown",
   "metadata": {},
   "source": [
    "For this mini project, we will focus on equities data from the Frankfurt Stock Exhange (FSE), which is available for free. We'll try and analyze the stock prices of a company called Carl Zeiss Meditec, which manufactures tools for eye examinations, as well as medical lasers for laser eye surgery: https://www.zeiss.com/meditec/int/home.html. The company is listed under the stock ticker AFX_X."
   ]
  },
  {
   "cell_type": "markdown",
   "metadata": {},
   "source": [
    "You can find the detailed Quandl API instructions here: https://docs.quandl.com/docs/time-series"
   ]
  },
  {
   "cell_type": "markdown",
   "metadata": {},
   "source": [
    "While there is a dedicated Python package for connecting to the Quandl API, we would prefer that you use the *requests* package, which can be easily downloaded using *pip* or *conda*. You can find the documentation for the package here: http://docs.python-requests.org/en/master/ "
   ]
  },
  {
   "cell_type": "markdown",
   "metadata": {},
   "source": [
    "Finally, apart from the *requests* package, you are encouraged to not use any third party Python packages, such as *pandas*, and instead focus on what's available in the Python Standard Library (the *collections* module might come in handy: https://pymotw.com/3/collections/ ).\n",
    "Also, since you won't have access to DataFrames, you are encouraged to us Python's native data structures - preferably dictionaries, though some questions can also be answered using lists.\n",
    "You can read more on these data structures here: https://docs.python.org/3/tutorial/datastructures.html"
   ]
  },
  {
   "cell_type": "markdown",
   "metadata": {},
   "source": [
    "Keep in mind that the JSON responses you will be getting from the API map almost one-to-one to Python's dictionaries. Unfortunately, they can be very nested, so make sure you read up on indexing dictionaries in the documentation provided above."
   ]
  },
  {
   "cell_type": "code",
   "execution_count": 2,
   "metadata": {},
   "outputs": [],
   "source": [
    "# First, import the relevant modules\n",
    "import requests\n"
   ]
  },
  {
   "cell_type": "code",
   "execution_count": 3,
   "metadata": {},
   "outputs": [],
   "source": [
    "# Now, call the Quandl API and pull out a small sample of the data (only one day) to get a glimpse\n",
    "# into the JSON structure that will be returned\n",
    "res = requests.get(f'https://www.quandl.com/api/v3/datasets/FSE/AFX_X?api_key={api_key}')"
   ]
  },
  {
   "cell_type": "code",
   "execution_count": 4,
   "metadata": {},
   "outputs": [],
   "source": [
    "# Inspect the JSON structure of the object you created, and take note of how nested it is,\n",
    "# as well as the overall structure\n",
    "# print(res.json())"
   ]
  },
  {
   "cell_type": "markdown",
   "metadata": {},
   "source": [
    "These are your tasks for this mini project:\n",
    "\n",
    "1. Collect data from the Franfurt Stock Exchange, for the ticker AFX_X, for the whole year 2017 (keep in mind that the date format is YYYY-MM-DD).\n",
    "2. Convert the returned JSON object into a Python dictionary.\n",
    "3. Calculate what the highest and lowest opening prices were for the stock in this period.\n",
    "4. What was the largest change in any one day (based on High and Low price)?\n",
    "5. What was the largest change between any two days (based on Closing Price)?\n",
    "6. What was the average daily trading volume during this year?\n",
    "7. (Optional) What was the median trading volume during this year. (Note: you may need to implement your own function for calculating the median.)"
   ]
  },
  {
   "cell_type": "markdown",
   "metadata": {},
   "source": [
    "## Load the Data"
   ]
  },
  {
   "cell_type": "code",
   "execution_count": 5,
   "metadata": {},
   "outputs": [],
   "source": [
    "res_fse = requests.get(f'https://www.quandl.com/api/v3/datasets/FSE/AFX_X?start_date=2017-01-01&end_date=2017-12-31&api_key={api_key}')"
   ]
  },
  {
   "cell_type": "code",
   "execution_count": 6,
   "metadata": {},
   "outputs": [],
   "source": [
    "fse_dict = res_fse.json()"
   ]
  },
  {
   "cell_type": "markdown",
   "metadata": {},
   "source": [
    "## Data Exploration"
   ]
  },
  {
   "cell_type": "code",
   "execution_count": 7,
   "metadata": {},
   "outputs": [
    {
     "name": "stdout",
     "output_type": "stream",
     "text": [
      "The keys in the dataset are:\n",
      "['id', 'dataset_code', 'database_code', 'name', 'description', 'refreshed_at', 'newest_available_date', 'oldest_available_date', 'column_names', 'frequency', 'type', 'premium', 'limit', 'transform', 'column_index', 'start_date', 'end_date', 'data', 'collapse', 'order', 'database_id']\n"
     ]
    }
   ],
   "source": [
    "print(f\"The keys in the dataset are:\\n{list(fse_dict['dataset'].keys())}\")"
   ]
  },
  {
   "cell_type": "code",
   "execution_count": 8,
   "metadata": {},
   "outputs": [
    {
     "name": "stdout",
     "output_type": "stream",
     "text": [
      "The columns for the data are:\n",
      "['Date', 'Open', 'High', 'Low', 'Close', 'Change', 'Traded Volume', 'Turnover', 'Last Price of the Day', 'Daily Traded Units', 'Daily Turnover']\n"
     ]
    }
   ],
   "source": [
    "print(f\"The columns for the data are:\\n{fse_dict['dataset']['column_names']}\")"
   ]
  },
  {
   "cell_type": "code",
   "execution_count": 9,
   "metadata": {},
   "outputs": [
    {
     "name": "stdout",
     "output_type": "stream",
     "text": [
      "There are 255 rows in the dataset.\n"
     ]
    }
   ],
   "source": [
    "print(f\"There are {len(fse_dict['dataset']['data'])} rows in the dataset.\")"
   ]
  },
  {
   "cell_type": "markdown",
   "metadata": {},
   "source": [
    "## Analysis\n",
    "### Highest and Lowest Prices"
   ]
  },
  {
   "cell_type": "code",
   "execution_count": 10,
   "metadata": {},
   "outputs": [],
   "source": [
    "def find_yearly_high_low(data_dict):\n",
    "    \"\"\"\n",
    "    Find the maximum and minimum prices for the year.\n",
    "    \n",
    "    Parameters\n",
    "    ----------\n",
    "    data_dict: dict\n",
    "        The output from the API call.\n",
    "    \n",
    "    \"\"\"\n",
    "    \n",
    "    # Find the indices for the high and low daily prices.\n",
    "    high_index = data_dict['dataset']['column_names'].index('High')\n",
    "    low_index = data_dict['dataset']['column_names'].index('Low')\n",
    "    \n",
    "    # Initialize the highest and lowest prices with the first values for High and Low in the dataset.\n",
    "    highest = data_dict['dataset']['data'][0][high_index]\n",
    "    lowest = data_dict['dataset']['data'][0][low_index]\n",
    "    for row in data_dict['dataset']['data']:\n",
    "        highest = max(highest, row[high_index])\n",
    "        lowest = min(lowest, row[low_index])\n",
    "    year = data_dict['dataset']['start_date'].split('-')[0]\n",
    "    print(f'The highest price for {year} was {highest}.')\n",
    "    print(f'The lowest price for {year} was {lowest}.')"
   ]
  },
  {
   "cell_type": "code",
   "execution_count": 11,
   "metadata": {},
   "outputs": [
    {
     "name": "stdout",
     "output_type": "stream",
     "text": [
      "The highest price for 2017 was 53.54.\n",
      "The lowest price for 2017 was 33.62.\n"
     ]
    }
   ],
   "source": [
    "find_yearly_high_low(fse_dict)"
   ]
  },
  {
   "cell_type": "markdown",
   "metadata": {},
   "source": [
    "### Largest Daily Change"
   ]
  },
  {
   "cell_type": "code",
   "execution_count": 12,
   "metadata": {},
   "outputs": [],
   "source": [
    "def find_largest_change(data_dict):\n",
    "    \"\"\"\n",
    "    Find the largest daily change for the year.\n",
    "    \n",
    "    Parameters\n",
    "    ----------\n",
    "    data_dict: dict\n",
    "        The output from the API call.\n",
    "    \n",
    "    \"\"\"\n",
    "    \n",
    "    # Find the indices for the high and low daily prices.\n",
    "    high_index = data_dict['dataset']['column_names'].index('High')\n",
    "    low_index = data_dict['dataset']['column_names'].index('Low')\n",
    "    \n",
    "    delta = data_dict['dataset']['data'][0][high_index] - data_dict['dataset']['data'][0][low_index]\n",
    "    for row in data_dict['dataset']['data']:\n",
    "        row_delta = row[high_index] - row[low_index]\n",
    "        delta = max(delta, row_delta)\n",
    "    year = data_dict['dataset']['start_date'].split('-')[0]\n",
    "    print(f'The largest daily change for {year} was {delta}.')"
   ]
  },
  {
   "cell_type": "code",
   "execution_count": 13,
   "metadata": {},
   "outputs": [
    {
     "name": "stdout",
     "output_type": "stream",
     "text": [
      "The largest daily change for 2017 was 2.8100000000000023.\n"
     ]
    }
   ],
   "source": [
    "find_largest_change(fse_dict)"
   ]
  },
  {
   "cell_type": "markdown",
   "metadata": {},
   "source": [
    "### Largest Change Between Two Days"
   ]
  },
  {
   "cell_type": "code",
   "execution_count": 14,
   "metadata": {},
   "outputs": [],
   "source": [
    "def find_largest_closing_change(data_dict):\n",
    "    \"\"\"\n",
    "    Find the largest change in closing prices between adjacent days.\n",
    "    \n",
    "    Parameters\n",
    "    ----------\n",
    "    data_dict: dict\n",
    "        The output from the API call.\n",
    "    \n",
    "    \"\"\"    \n",
    "    \n",
    "    # Find index values for Close.\n",
    "    close_index = data_dict['dataset']['column_names'].index('Close')\n",
    "    \n",
    "    closing_prices = [x[close_index] for x in data_dict['dataset']['data']]\n",
    "    current_day_prices = closing_prices[:-1]\n",
    "    next_day_prices = closing_prices[1:]\n",
    "    price_pairs = list(zip(current_day_prices, next_day_prices))\n",
    "    delta_prices = [x[1] - x[0] for x in price_pairs]\n",
    "    max_delta = max(delta_prices)\n",
    "    \n",
    "    year = data_dict['dataset']['start_date'].split('-')[0]\n",
    "    print(f'The largest change between closing prices on adjacent days for the year {year} was {max_delta}.')"
   ]
  },
  {
   "cell_type": "code",
   "execution_count": 15,
   "metadata": {},
   "outputs": [
    {
     "name": "stdout",
     "output_type": "stream",
     "text": [
      "The largest change between closing prices on adjacent days for the year 2017 was 2.559999999999995.\n"
     ]
    }
   ],
   "source": [
    "find_largest_closing_change(fse_dict)"
   ]
  },
  {
   "cell_type": "markdown",
   "metadata": {},
   "source": [
    "### Find Average Trading Volume"
   ]
  },
  {
   "cell_type": "code",
   "execution_count": 16,
   "metadata": {},
   "outputs": [],
   "source": [
    "def average_trading_volume(data_dict):\n",
    "    \"\"\"\n",
    "    Find the average traded volume for the year.\n",
    "    \n",
    "    Parameters\n",
    "    ----------\n",
    "    data_dict: dict\n",
    "        The output from the API call.\n",
    "    \n",
    "    \"\"\" \n",
    "    \n",
    "    \n",
    "    traded_volume_index = data_dict['dataset']['column_names'].index('Traded Volume')\n",
    "    traded_volumes = [x[traded_volume_index] for x in data_dict['dataset']['data']]\n",
    "    average_traded_volume = sum(traded_volumes) / len(traded_volumes)\n",
    "    \n",
    "    year = data_dict['dataset']['start_date'].split('-')[0]\n",
    "    print(f'The average traded volume for the year {year} was {average_traded_volume}.')"
   ]
  },
  {
   "cell_type": "code",
   "execution_count": 17,
   "metadata": {},
   "outputs": [
    {
     "name": "stdout",
     "output_type": "stream",
     "text": [
      "The average traded volume for the year 2017 was 89124.33725490196.\n"
     ]
    }
   ],
   "source": [
    "average_trading_volume(fse_dict)"
   ]
  },
  {
   "cell_type": "markdown",
   "metadata": {},
   "source": [
    "### Find Median Trading Volume"
   ]
  },
  {
   "cell_type": "code",
   "execution_count": 18,
   "metadata": {},
   "outputs": [],
   "source": [
    "def compute_median(numbers):\n",
    "    numbers_sorted = sorted(numbers)\n",
    "    \n",
    "    if len(numbers_sorted) % 2 == 0:\n",
    "        lower_index = int(len(numbers_sorted) / 2)\n",
    "        median = sum(numbers_sorted[lower_index:lower_index + 2]) / 2\n",
    "    else:\n",
    "        median_index = int(len(numbers_sorted) / 2)\n",
    "        median = numbers_sorted[median_index]\n",
    "    return median"
   ]
  },
  {
   "cell_type": "code",
   "execution_count": 19,
   "metadata": {},
   "outputs": [],
   "source": [
    "def median_trading_volume(data_dict):\n",
    "    \"\"\"\n",
    "    Find the median traded volume for the year.\n",
    "    \n",
    "    Parameters\n",
    "    ----------\n",
    "    data_dict: dict\n",
    "        The output from the API call.\n",
    "    \n",
    "    \"\"\" \n",
    "    \n",
    "    \n",
    "    traded_volume_index = data_dict['dataset']['column_names'].index('Traded Volume')\n",
    "    traded_volumes = [x[traded_volume_index] for x in data_dict['dataset']['data']]\n",
    "    median_traded_volume = compute_median(traded_volumes)\n",
    "    \n",
    "    year = data_dict['dataset']['start_date'].split('-')[0]\n",
    "    print(f'The median traded volume for the year {year} was {median_traded_volume}.')"
   ]
  },
  {
   "cell_type": "code",
   "execution_count": 20,
   "metadata": {},
   "outputs": [
    {
     "name": "stdout",
     "output_type": "stream",
     "text": [
      "The median traded volume for the year 2017 was 76286.0.\n"
     ]
    }
   ],
   "source": [
    "median_trading_volume(fse_dict)"
   ]
  },
  {
   "cell_type": "code",
   "execution_count": null,
   "metadata": {},
   "outputs": [],
   "source": []
  }
 ],
 "metadata": {
  "kernelspec": {
   "display_name": "Python 3",
   "language": "python",
   "name": "python3"
  },
  "language_info": {
   "codemirror_mode": {
    "name": "ipython",
    "version": 3
   },
   "file_extension": ".py",
   "mimetype": "text/x-python",
   "name": "python",
   "nbconvert_exporter": "python",
   "pygments_lexer": "ipython3",
   "version": "3.6.12"
  }
 },
 "nbformat": 4,
 "nbformat_minor": 4
}
