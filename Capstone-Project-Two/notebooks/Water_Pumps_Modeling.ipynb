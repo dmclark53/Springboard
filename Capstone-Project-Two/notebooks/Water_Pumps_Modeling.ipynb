{
 "cells": [
  {
   "cell_type": "markdown",
   "id": "unknown-seller",
   "metadata": {},
   "source": [
    "# Water Pumps: Modeling"
   ]
  },
  {
   "cell_type": "code",
   "execution_count": 1,
   "id": "competitive-knowing",
   "metadata": {},
   "outputs": [],
   "source": [
    "from imblearn.over_sampling import SMOTE\n",
    "from imblearn.under_sampling import RandomUnderSampler\n",
    "import matplotlib.pyplot as plt\n",
    "import numpy as np\n",
    "import pandas as pd\n",
    "import pickle\n",
    "from sklearn.ensemble import RandomForestClassifier\n",
    "from sklearn.linear_model import LogisticRegression\n",
    "from sklearn.linear_model import LogisticRegressionCV\n",
    "from sklearn.metrics import accuracy_score\n",
    "from sklearn.metrics import auc\n",
    "from sklearn.metrics import classification_report\n",
    "from sklearn.metrics import confusion_matrix\n",
    "from sklearn.metrics import plot_confusion_matrix\n",
    "from sklearn.metrics import roc_curve\n",
    "from sklearn.model_selection import GridSearchCV\n",
    "from sklearn.model_selection import RandomizedSearchCV\n",
    "from sklearn.pipeline import Pipeline\n",
    "from sklearn.preprocessing import MinMaxScaler\n",
    "from sklearn.preprocessing import StandardScaler"
   ]
  },
  {
   "cell_type": "markdown",
   "id": "living-metadata",
   "metadata": {},
   "source": [
    "## Load Train and Test Sets"
   ]
  },
  {
   "cell_type": "code",
   "execution_count": 2,
   "id": "electoral-johnston",
   "metadata": {},
   "outputs": [],
   "source": [
    "def load_train_test():\n",
    "    file_list = ['X_train', 'X_test', 'y_train', 'y_test']\n",
    "    data_sets = []\n",
    "    for filename in file_list:\n",
    "        data_sets.append(pickle.load(open(f'../data/clean/{filename}', 'rb')))\n",
    "    return tuple(data_sets)"
   ]
  },
  {
   "cell_type": "code",
   "execution_count": 3,
   "id": "silent-easter",
   "metadata": {},
   "outputs": [],
   "source": [
    "X_train, X_test, y_train, y_test = load_train_test()"
   ]
  },
  {
   "cell_type": "code",
   "execution_count": 4,
   "id": "anonymous-weapon",
   "metadata": {},
   "outputs": [
    {
     "data": {
      "text/plain": [
       "(21296, 230)"
      ]
     },
     "execution_count": 4,
     "metadata": {},
     "output_type": "execute_result"
    }
   ],
   "source": [
    "X_train.shape"
   ]
  },
  {
   "cell_type": "markdown",
   "id": "integral-density",
   "metadata": {},
   "source": [
    "Load predictions from baseline model."
   ]
  },
  {
   "cell_type": "code",
   "execution_count": 5,
   "id": "public-system",
   "metadata": {},
   "outputs": [],
   "source": [
    "y_test_base = pickle.load(open(f'../data/clean/y_test_base', 'rb'))"
   ]
  },
  {
   "cell_type": "code",
   "execution_count": 6,
   "id": "unsigned-improvement",
   "metadata": {},
   "outputs": [
    {
     "data": {
      "text/plain": [
       "(9127,)"
      ]
     },
     "execution_count": 6,
     "metadata": {},
     "output_type": "execute_result"
    }
   ],
   "source": [
    "y_test_base.shape"
   ]
  },
  {
   "cell_type": "markdown",
   "id": "sudden-robertson",
   "metadata": {},
   "source": [
    "## Rescaling\n",
    "Rescale the features to values between 0 and 1. Since the categorical variables are one-hot-encoded, this will ensure that the continuous variables are on the same scale."
   ]
  },
  {
   "cell_type": "code",
   "execution_count": null,
   "id": "significant-slovenia",
   "metadata": {},
   "outputs": [],
   "source": [
    "scaler = MinMaxScaler().fit(X_train)\n",
    "X_train_rescaled = scaler.transform(X_train)\n",
    "X_test_rescaled = scaler.transform(X_test)"
   ]
  },
  {
   "cell_type": "code",
   "execution_count": 10,
   "id": "civilian-folks",
   "metadata": {},
   "outputs": [
    {
     "data": {
      "text/plain": [
       "(0.0, 1.0)"
      ]
     },
     "execution_count": 10,
     "metadata": {},
     "output_type": "execute_result"
    }
   ],
   "source": [
    "X_train_rescaled.min(), X_train_rescaled.max()"
   ]
  },
  {
   "cell_type": "code",
   "execution_count": 11,
   "id": "unsigned-energy",
   "metadata": {},
   "outputs": [
    {
     "data": {
      "text/plain": [
       "(0.0, 1.0)"
      ]
     },
     "execution_count": 11,
     "metadata": {},
     "output_type": "execute_result"
    }
   ],
   "source": [
    "X_test_rescaled.min(), X_test_rescaled.max()"
   ]
  },
  {
   "cell_type": "code",
   "execution_count": 12,
   "id": "loose-messenger",
   "metadata": {},
   "outputs": [
    {
     "data": {
      "text/plain": [
       "((21296, 230), (9127, 230))"
      ]
     },
     "execution_count": 12,
     "metadata": {},
     "output_type": "execute_result"
    }
   ],
   "source": [
    "X_train_rescaled.shape, X_test_rescaled.shape"
   ]
  },
  {
   "cell_type": "code",
   "execution_count": null,
   "id": "familiar-greensboro",
   "metadata": {},
   "outputs": [],
   "source": []
  },
  {
   "cell_type": "markdown",
   "id": "liberal-pound",
   "metadata": {},
   "source": [
    "## Resampling\n",
    "Counter the class imbalanced data set by performing resampling. I will consider both over sampling and under sampling.\n",
    "\n",
    "### Over Sampling"
   ]
  },
  {
   "cell_type": "code",
   "execution_count": null,
   "id": "religious-coordinator",
   "metadata": {},
   "outputs": [],
   "source": [
    "X_train_over, y_train_over = SMOTE().fit_resample(X_train, y_train)"
   ]
  },
  {
   "cell_type": "code",
   "execution_count": null,
   "id": "coordinated-setting",
   "metadata": {},
   "outputs": [],
   "source": [
    "print(pd.Series(y_train_over).value_counts())"
   ]
  },
  {
   "cell_type": "markdown",
   "id": "incorporated-field",
   "metadata": {},
   "source": [
    "### Under Sampling"
   ]
  },
  {
   "cell_type": "code",
   "execution_count": null,
   "id": "spoken-malaysia",
   "metadata": {},
   "outputs": [],
   "source": [
    "X_train_under, y_train_under = RandomUnderSampler(random_state=42).fit_resample(X_train, y_train)"
   ]
  },
  {
   "cell_type": "code",
   "execution_count": null,
   "id": "comparable-walker",
   "metadata": {},
   "outputs": [],
   "source": [
    "print(pd.Series(y_train_under).value_counts())"
   ]
  },
  {
   "cell_type": "markdown",
   "id": "intended-operator",
   "metadata": {},
   "source": [
    "## Modeling\n",
    "I will create two sets of models, one for over sampled training sets, and another for under sampled training sets. For each set of models, I will consider the following models:\n",
    "* Logistic Regression.\n",
    "* Random Forrest.\n",
    "* XGBoost.\n",
    "\n",
    "### Models with Over Sampling\n",
    "#### Logistic Regression"
   ]
  },
  {
   "cell_type": "code",
   "execution_count": null,
   "id": "hidden-cleveland",
   "metadata": {},
   "outputs": [],
   "source": [
    "params_logreg_over = [('min_max', MinMaxScaler()), ('log_reg', LogisticRegression(solver='saga', multi_class='multinomial'))]\n",
    "pipe_logreg_over = Pipeline(params_logreg_over)\n",
    "pipe_logreg_over.fit(X_train_over, y_train_over)\n",
    "print(f'The training score is: {pipe_logreg_over.score(X_train_over, y_train_over):0.3%}.')\n",
    "print(f'The test score is: {pipe_logreg_over.score(X_test, y_test):0.3%}.')"
   ]
  },
  {
   "cell_type": "code",
   "execution_count": null,
   "id": "negative-williams",
   "metadata": {},
   "outputs": [],
   "source": [
    "C = pipe_logreg_over.get_params()['log_reg__C']\n",
    "print(f'The regularization parameter is {C:0.3f}.')"
   ]
  },
  {
   "cell_type": "markdown",
   "id": "comfortable-pharmaceutical",
   "metadata": {},
   "source": [
    "**Observations:**\n",
    "The roughly 5% drop in performance between the training and test scores indicates that over fitting could be a problem. I will try to address this using cross-validation. I will also use a grid search to identify the best regularization parameter, which could reduce the over fitting."
   ]
  },
  {
   "cell_type": "code",
   "execution_count": null,
   "id": "upper-booking",
   "metadata": {},
   "outputs": [],
   "source": [
    "params_logreg_over_gs = [('min_max', MinMaxScaler()), ('log_reg', LogisticRegression(solver='saga', multi_class='multinomial', max_iter=10000))]\n",
    "pipe_logreg_over_gs = Pipeline(params_logreg_over_gs)\n",
    "gs_logreg_params = {'log_reg__C': np.logspace(-1, 1, num=5)}\n",
    "gs_logreg = GridSearchCV(pipe_logreg_over_gs, gs_logreg_params, n_jobs=-1)\n",
    "gs_logreg.fit(X_train_over, y_train_over)\n",
    "best_c = gs_logreg.best_estimator_.get_params()['log_reg__C']\n",
    "print(f'The best value for C is {best_c:0.3f}.')"
   ]
  },
  {
   "cell_type": "code",
   "execution_count": null,
   "id": "juvenile-newspaper",
   "metadata": {},
   "outputs": [],
   "source": [
    "params_logreg_over = [('min_max', MinMaxScaler()), ('log_reg', LogisticRegression(solver='saga', multi_class='multinomial', C=best_c))]\n",
    "pipe_logreg_over = Pipeline(params_logreg_over)\n",
    "pipe_logreg_over.fit(X_train_over, y_train_over)\n",
    "print(f'The training score is: {pipe_logreg_over.score(X_train_over, y_train_over):0.3%}.')\n",
    "print(f'The test score is: {pipe_logreg_over.score(X_test, y_test):0.3%}.')"
   ]
  },
  {
   "cell_type": "markdown",
   "id": "classified-compromise",
   "metadata": {},
   "source": [
    "**Observations:** The grid search found a regularization parameter that gave a better accuracy, but did not improve overfitting."
   ]
  },
  {
   "cell_type": "code",
   "execution_count": null,
   "id": "presidential-stadium",
   "metadata": {},
   "outputs": [],
   "source": [
    "y_pred_train_logreg_over = pipe_logreg_over.predict(X_train_over)\n",
    "y_pred_logreg_over = pipe_logreg_over.predict(X_test)"
   ]
  },
  {
   "cell_type": "code",
   "execution_count": null,
   "id": "electoral-reservation",
   "metadata": {},
   "outputs": [],
   "source": [
    "print(classification_report(y_train_over, y_pred_train_logreg_over))"
   ]
  },
  {
   "cell_type": "code",
   "execution_count": null,
   "id": "legendary-arizona",
   "metadata": {},
   "outputs": [],
   "source": [
    "print(classification_report(y_test, y_pred_logreg_over))"
   ]
  },
  {
   "cell_type": "markdown",
   "id": "speaking-mentor",
   "metadata": {},
   "source": [
    "**Observations:**\n",
    "The recall value is pretty mediocre across the board."
   ]
  },
  {
   "cell_type": "markdown",
   "id": "detected-director",
   "metadata": {},
   "source": [
    "#### Random Forest"
   ]
  },
  {
   "cell_type": "code",
   "execution_count": null,
   "id": "broadband-thunder",
   "metadata": {},
   "outputs": [],
   "source": [
    "params_rf_over = [('min_max', MinMaxScaler()), ('random_forest', RandomForestClassifier(n_estimators=100, random_state = 42, n_jobs=-1))]\n",
    "pipe_rf_over = Pipeline(params_rf_over)\n",
    "pipe_rf_over.fit(X_train_over, y_train_over)\n",
    "print(f'The training score is: {pipe_rf_over.score(X_train_over, y_train_over):0.3%}.')\n",
    "print(f'The test score is: {pipe_rf_over.score(X_test, y_test):0.3%}.')"
   ]
  },
  {
   "cell_type": "markdown",
   "id": "polish-anger",
   "metadata": {},
   "source": [
    "**Observations:** Without doing any hyperparameter tuning, this model overfit a lot on the first try."
   ]
  },
  {
   "cell_type": "code",
   "execution_count": null,
   "id": "subjective-ability",
   "metadata": {},
   "outputs": [],
   "source": [
    "params_rf_over = [('min_max', MinMaxScaler()), ('random_forest', RandomForestClassifier(n_estimators=100, \n",
    "                                                                                        random_state = 42, \n",
    "                                                                                        max_features='sqrt', \n",
    "                                                                                        n_jobs=-1))]\n",
    "pipe_rf_over = Pipeline(params_rf_over)\n",
    "pipe_rf_over.fit(X_train_over, y_train_over)\n",
    "print(f'The training score is: {pipe_rf_over.score(X_train_over, y_train_over):0.3%}.')\n",
    "print(f'The test score is: {pipe_rf_over.score(X_test, y_test):0.3%}.')"
   ]
  },
  {
   "cell_type": "code",
   "execution_count": null,
   "id": "outer-secret",
   "metadata": {},
   "outputs": [],
   "source": [
    "params_rf_over = [('min_max', MinMaxScaler()), ('random_forest', RandomForestClassifier(n_estimators=100, \n",
    "                                                                                        random_state = 42, \n",
    "                                                                                        max_features='sqrt', \n",
    "                                                                                        max_depth=None, \n",
    "                                                                                        min_samples_split=2,\n",
    "                                                                                        n_jobs=-1))]\n",
    "pipe_rf_over = Pipeline(params_rf_over)\n",
    "pipe_rf_over.fit(X_train_over, y_train_over)\n",
    "print(f'The training score is: {pipe_rf_over.score(X_train_over, y_train_over):0.3%}.')\n",
    "print(f'The test score is: {pipe_rf_over.score(X_test, y_test):0.3%}.')"
   ]
  },
  {
   "cell_type": "markdown",
   "id": "individual-attribute",
   "metadata": {},
   "source": [
    "**Observations:** After adjusting the parameters using the [suggestions](https://scikit-learn.org/stable/modules/ensemble.html#random-forest-parameters) from scikit-learn, there is still a lot of overfitting. I will need to do a grid search with cross validation to find the best hyperparameters."
   ]
  },
  {
   "cell_type": "code",
   "execution_count": null,
   "id": "overall-organic",
   "metadata": {},
   "outputs": [],
   "source": [
    "params_rf_over = [('min_max', MinMaxScaler()), ('rf', RandomForestClassifier(random_state = 42, n_jobs=-1))]\n",
    "pipe_rf_over = Pipeline(params_rf_over)"
   ]
  },
  {
   "cell_type": "code",
   "execution_count": null,
   "id": "powered-europe",
   "metadata": {},
   "outputs": [],
   "source": [
    "max_depth_list = list(np.arange(10, 110, 10))\n",
    "max_depth_list.append(None)"
   ]
  },
  {
   "cell_type": "code",
   "execution_count": null,
   "id": "caroline-mention",
   "metadata": {},
   "outputs": [],
   "source": [
    "rs_params_rf_over = {\n",
    "    'rf__bootstrap': [True, False],\n",
    "    'rf__max_depth': max_depth_list,\n",
    "    'rf__max_features': ['auto', 'sqrt'],\n",
    "    'rf__min_samples_leaf': list(np.arange(1, 11, 1)),\n",
    "    'rf__min_samples_split': list(np.arange(1, 11, 1)),\n",
    "    'rf__n_estimators': list(np.arange(200, 2200, 200))\n",
    "}"
   ]
  },
  {
   "cell_type": "code",
   "execution_count": null,
   "id": "twenty-truth",
   "metadata": {},
   "outputs": [],
   "source": [
    "list(pipe_rf_over.get_params().keys())"
   ]
  },
  {
   "cell_type": "code",
   "execution_count": null,
   "id": "thirty-things",
   "metadata": {},
   "outputs": [],
   "source": [
    "rs_rf_over = RandomizedSearchCV(pipe_rf_over, rs_params_rf_over, random_state=42, n_jobs=-1)\n",
    "rs_rf_over.fit(X_train_over, y_train_over)"
   ]
  },
  {
   "cell_type": "code",
   "execution_count": null,
   "id": "wicked-vector",
   "metadata": {},
   "outputs": [],
   "source": [
    "rs_rf_over.best_params_"
   ]
  },
  {
   "cell_type": "code",
   "execution_count": null,
   "id": "wrapped-authentication",
   "metadata": {},
   "outputs": [],
   "source": [
    "np.arange(100, 350, 50)"
   ]
  },
  {
   "cell_type": "code",
   "execution_count": null,
   "id": "smart-reach",
   "metadata": {},
   "outputs": [],
   "source": [
    "gs_params_rf_over = {\n",
    "    'rf__bootstrap': [False],\n",
    "    'rf__max_depth': list(np.arange(90, 115, 5)),\n",
    "    'rf__max_features': ['auto', 'sqrt'],\n",
    "    'rf__min_samples_leaf': list(np.arange(1, 5, 1)),\n",
    "    'rf__min_samples_split': list(np.arange(8, 13, 1)),\n",
    "    'rf__n_estimators': list(np.arange(100, 350, 50))\n",
    "}"
   ]
  },
  {
   "cell_type": "code",
   "execution_count": null,
   "id": "tight-practitioner",
   "metadata": {},
   "outputs": [],
   "source": [
    "# gs_rf_over = GridSearchCV(pipe_rf_over, gs_params_rf_over, n_jobs=-1)\n",
    "# gs_rf_over.fit(X_train_over, y_train_over)"
   ]
  },
  {
   "cell_type": "code",
   "execution_count": null,
   "id": "frozen-collect",
   "metadata": {},
   "outputs": [],
   "source": [
    "params_rf_over = [('min_max', MinMaxScaler()), ('random_forest', RandomForestClassifier(n_estimators=800, \n",
    "                                                                                        random_state = 42, \n",
    "                                                                                        max_features='sqrt', \n",
    "                                                                                        max_depth=100, \n",
    "                                                                                        min_samples_split=10,\n",
    "                                                                                        min_samples_leaf=1,\n",
    "                                                                                        bootstrap=False,\n",
    "                                                                                        n_jobs=-1))]\n",
    "pipe_rf_over = Pipeline(params_rf_over)\n",
    "pipe_rf_over.fit(X_train_over, y_train_over)\n",
    "print(f'The training score is: {pipe_rf_over.score(X_train_over, y_train_over):0.3%}.')\n",
    "print(f'The test score is: {pipe_rf_over.score(X_test, y_test):0.3%}.')"
   ]
  },
  {
   "cell_type": "code",
   "execution_count": null,
   "id": "competent-festival",
   "metadata": {},
   "outputs": [],
   "source": [
    "y_pred_train_rf_over = pipe_rf_over.predict(X_train_over)\n",
    "y_pred_rf_over = pipe_rf_over.predict(X_test)"
   ]
  },
  {
   "cell_type": "code",
   "execution_count": null,
   "id": "posted-bunny",
   "metadata": {},
   "outputs": [],
   "source": [
    "print(classification_report(y_train_over, y_pred_train_rf_over))"
   ]
  },
  {
   "cell_type": "code",
   "execution_count": null,
   "id": "visible-paint",
   "metadata": {},
   "outputs": [],
   "source": [
    "print(classification_report(y_test, y_pred_rf_over))"
   ]
  }
 ],
 "metadata": {
  "kernelspec": {
   "display_name": "Python 3",
   "language": "python",
   "name": "python3"
  },
  "language_info": {
   "codemirror_mode": {
    "name": "ipython",
    "version": 3
   },
   "file_extension": ".py",
   "mimetype": "text/x-python",
   "name": "python",
   "nbconvert_exporter": "python",
   "pygments_lexer": "ipython3",
   "version": "3.8.8"
  }
 },
 "nbformat": 4,
 "nbformat_minor": 5
}
