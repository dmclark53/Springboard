{
 "cells": [
  {
   "cell_type": "markdown",
   "id": "absent-burns",
   "metadata": {},
   "source": [
    "# Water Pumps - Modeling Pipeline\n",
    "\n",
    "In this notebook, I will take what I learned in the Modeling notebook to create a pipeline that fits all three models. The notebook can be configured to either over sample or under sample the data. For each model, hyperparameter tuning will be performed, using the strategy developed in the Modeling notebook. The best parameters will then be selected for the final model for each model type. All results are saved to a csv file. At the end of the notebook, the results between each model can be compared."
   ]
  },
  {
   "cell_type": "markdown",
   "id": "designing-implement",
   "metadata": {},
   "source": [
    "## Import Libraries"
   ]
  },
  {
   "cell_type": "code",
   "execution_count": 1,
   "id": "mathematical-yacht",
   "metadata": {},
   "outputs": [],
   "source": [
    "from imblearn.over_sampling import SMOTE\n",
    "from imblearn.under_sampling import RandomUnderSampler\n",
    "import matplotlib.pyplot as plt\n",
    "import numpy as np\n",
    "import os\n",
    "import pandas as pd\n",
    "import pickle\n",
    "from sklearn.ensemble import RandomForestClassifier\n",
    "from sklearn.linear_model import LogisticRegression\n",
    "from sklearn.linear_model import LogisticRegressionCV\n",
    "from sklearn.metrics import accuracy_score\n",
    "from sklearn.metrics import auc\n",
    "from sklearn.metrics import classification_report\n",
    "from sklearn.metrics import confusion_matrix\n",
    "from sklearn.metrics import plot_confusion_matrix\n",
    "from sklearn.metrics import roc_curve\n",
    "from sklearn.model_selection import GridSearchCV\n",
    "from sklearn.model_selection import RandomizedSearchCV\n",
    "from sklearn.pipeline import Pipeline\n",
    "from sklearn.preprocessing import MinMaxScaler\n",
    "from sklearn.preprocessing import StandardScaler\n",
    "from xgboost import XGBClassifier"
   ]
  },
  {
   "cell_type": "markdown",
   "id": "trying-narrow",
   "metadata": {},
   "source": [
    "## Configurations\n",
    "Set up configurations for current run of this notebook."
   ]
  },
  {
   "cell_type": "code",
   "execution_count": 206,
   "id": "normal-rolling",
   "metadata": {},
   "outputs": [],
   "source": [
    "binary = True\n",
    "debug = True\n",
    "# sampling_type = 'over'\n",
    "sampling_type = 'under'\n",
    "results_filename = 'pipeline_results.csv'\n",
    "if binary:\n",
    "    split_filename = results_filename.split('_')\n",
    "    results_filename = '_'.join([split_filename[0], 'binary', split_filename[1]])\n",
    "results_filepath = f'../results/{results_filename}'"
   ]
  },
  {
   "cell_type": "markdown",
   "id": "agreed-prescription",
   "metadata": {},
   "source": [
    "## Load Train and Test Sets"
   ]
  },
  {
   "cell_type": "code",
   "execution_count": 207,
   "id": "portable-vertical",
   "metadata": {},
   "outputs": [],
   "source": [
    "def load_train_test():\n",
    "    file_list = ['X_train', 'X_test', 'y_train', 'y_test']\n",
    "    data_sets = []\n",
    "    for filename in file_list:\n",
    "        data_sets.append(pickle.load(open(f'../data/clean/{filename}', 'rb')))\n",
    "    return tuple(data_sets)"
   ]
  },
  {
   "cell_type": "code",
   "execution_count": 208,
   "id": "martial-virgin",
   "metadata": {},
   "outputs": [],
   "source": [
    "X_train, X_test, y_train, y_test = load_train_test()"
   ]
  },
  {
   "cell_type": "code",
   "execution_count": 209,
   "id": "personalized-direction",
   "metadata": {},
   "outputs": [],
   "source": [
    "# Use this block to shortening training data for debugging.\n",
    "if debug:\n",
    "    row_cut = 100\n",
    "    X_train = X_train[:100]\n",
    "    y_train = y_train[:100]"
   ]
  },
  {
   "cell_type": "markdown",
   "id": "incredible-speaking",
   "metadata": {},
   "source": [
    "### Baseline Model\n",
    "Load predictions from baseline model."
   ]
  },
  {
   "cell_type": "code",
   "execution_count": 210,
   "id": "excited-indicator",
   "metadata": {},
   "outputs": [],
   "source": [
    "y_pred_base = pickle.load(open(f'../data/clean/y_pred_base', 'rb'))"
   ]
  },
  {
   "cell_type": "markdown",
   "id": "olive-leonard",
   "metadata": {},
   "source": [
    "## Prepare Training Data"
   ]
  },
  {
   "cell_type": "code",
   "execution_count": 211,
   "id": "unusual-anime",
   "metadata": {},
   "outputs": [],
   "source": [
    "def prepare_data(X_train, X_test, y_train, y_test, sampling_type):\n",
    "    \n",
    "    if binary:\n",
    "        y_train = pd.Series(y_train).replace({'functional needs repair': 'faulty', 'non functional': 'faulty'}).values\n",
    "        y_test = pd.Series(y_test).replace({'functional needs repair': 'faulty', 'non functional': 'faulty'}).values\n",
    "    \n",
    "    scaler = MinMaxScaler().fit(X_train)\n",
    "    X_train_rescaled = scaler.transform(X_train)\n",
    "    X_test_pipe = scaler.transform(X_test)\n",
    "    \n",
    "    if sampling_type == 'over':\n",
    "        X_train_pipe, y_train_pipe = SMOTE().fit_resample(X_train_rescaled, y_train)\n",
    "    elif sampling_type == 'under':\n",
    "        X_train_pipe, y_train_pipe = RandomUnderSampler(random_state=42).fit_resample(X_train_rescaled, y_train)\n",
    "    else:\n",
    "        raise Exception(\"sampling_type must be 'over' or 'under'. Please try again.\")\n",
    "    \n",
    "    y_test_pipe = y_test\n",
    "    \n",
    "    return X_train_pipe, X_test_pipe, y_train_pipe, y_test_pipe"
   ]
  },
  {
   "cell_type": "code",
   "execution_count": 212,
   "id": "fallen-crash",
   "metadata": {},
   "outputs": [],
   "source": [
    "X_train_pipe, X_test_pipe, y_train_pipe, y_test_pipe = prepare_data(X_train, X_test, y_train, y_test, sampling_type)"
   ]
  },
  {
   "cell_type": "markdown",
   "id": "graduate-andrews",
   "metadata": {},
   "source": [
    "## Modeling"
   ]
  },
  {
   "cell_type": "markdown",
   "id": "facial-young",
   "metadata": {},
   "source": [
    "### Load Saved Results\n",
    "If a results file exists, load it, otherwise set it to `None`."
   ]
  },
  {
   "cell_type": "code",
   "execution_count": 215,
   "id": "curious-sending",
   "metadata": {},
   "outputs": [],
   "source": [
    "if os.path.isfile(results_filepath):\n",
    "    df_results = pd.read_csv(results_filepath, index_col=0, header=[0, 1])\n",
    "    df_results.drop('class count', level=1, axis=1, inplace=True)\n",
    "else:\n",
    "    df_results = None"
   ]
  },
  {
   "cell_type": "code",
   "execution_count": 216,
   "id": "equal-reconstruction",
   "metadata": {},
   "outputs": [
    {
     "data": {
      "text/html": [
       "<div>\n",
       "<style scoped>\n",
       "    .dataframe tbody tr th:only-of-type {\n",
       "        vertical-align: middle;\n",
       "    }\n",
       "\n",
       "    .dataframe tbody tr th {\n",
       "        vertical-align: top;\n",
       "    }\n",
       "\n",
       "    .dataframe thead tr th {\n",
       "        text-align: left;\n",
       "    }\n",
       "</style>\n",
       "<table border=\"1\" class=\"dataframe\">\n",
       "  <thead>\n",
       "    <tr>\n",
       "      <th></th>\n",
       "      <th colspan=\"2\" halign=\"left\">logreg_over</th>\n",
       "      <th colspan=\"2\" halign=\"left\">logreg_under</th>\n",
       "      <th colspan=\"2\" halign=\"left\">rf_over</th>\n",
       "      <th colspan=\"2\" halign=\"left\">rf_under</th>\n",
       "      <th colspan=\"2\" halign=\"left\">xgb_over</th>\n",
       "      <th colspan=\"2\" halign=\"left\">xgb_under</th>\n",
       "    </tr>\n",
       "    <tr>\n",
       "      <th></th>\n",
       "      <th>precision</th>\n",
       "      <th>recall</th>\n",
       "      <th>precision</th>\n",
       "      <th>recall</th>\n",
       "      <th>precision</th>\n",
       "      <th>recall</th>\n",
       "      <th>precision</th>\n",
       "      <th>recall</th>\n",
       "      <th>precision</th>\n",
       "      <th>recall</th>\n",
       "      <th>precision</th>\n",
       "      <th>recall</th>\n",
       "    </tr>\n",
       "  </thead>\n",
       "  <tbody>\n",
       "    <tr>\n",
       "      <th>faulty</th>\n",
       "      <td>0.528846</td>\n",
       "      <td>0.567761</td>\n",
       "      <td>0.511537</td>\n",
       "      <td>0.622022</td>\n",
       "      <td>0.569132</td>\n",
       "      <td>0.515352</td>\n",
       "      <td>0.530914</td>\n",
       "      <td>0.588671</td>\n",
       "      <td>0.514713</td>\n",
       "      <td>0.546321</td>\n",
       "      <td>0.516355</td>\n",
       "      <td>0.547380</td>\n",
       "    </tr>\n",
       "    <tr>\n",
       "      <th>functional</th>\n",
       "      <td>0.677973</td>\n",
       "      <td>0.642737</td>\n",
       "      <td>0.684977</td>\n",
       "      <td>0.580482</td>\n",
       "      <td>0.679110</td>\n",
       "      <td>0.724434</td>\n",
       "      <td>0.685298</td>\n",
       "      <td>0.632642</td>\n",
       "      <td>0.665038</td>\n",
       "      <td>0.636194</td>\n",
       "      <td>0.666146</td>\n",
       "      <td>0.637876</td>\n",
       "    </tr>\n",
       "  </tbody>\n",
       "</table>\n",
       "</div>"
      ],
      "text/plain": [
       "           logreg_over           logreg_under             rf_over            \\\n",
       "             precision    recall    precision    recall precision    recall   \n",
       "faulty        0.528846  0.567761     0.511537  0.622022  0.569132  0.515352   \n",
       "functional    0.677973  0.642737     0.684977  0.580482  0.679110  0.724434   \n",
       "\n",
       "            rf_under            xgb_over           xgb_under            \n",
       "           precision    recall precision    recall precision    recall  \n",
       "faulty      0.530914  0.588671  0.514713  0.546321  0.516355  0.547380  \n",
       "functional  0.685298  0.632642  0.665038  0.636194  0.666146  0.637876  "
      ]
     },
     "execution_count": 216,
     "metadata": {},
     "output_type": "execute_result"
    }
   ],
   "source": [
    "df_results"
   ]
  },
  {
   "cell_type": "code",
   "execution_count": 217,
   "id": "logical-cooling",
   "metadata": {},
   "outputs": [],
   "source": [
    "def store_results(y_test, y_pred, model_type, df=None):\n",
    "    \n",
    "    if df is not None:\n",
    "        if model_type in df.columns:\n",
    "            df.drop(model_type, level=0, axis=1, inplace=True)\n",
    "    else:\n",
    "        pass\n",
    "    \n",
    "    results = classification_report(y_test, y_pred, output_dict=True)\n",
    "    df_results = pd.DataFrame(results).T\n",
    "    df_results.drop(columns=['f1-score', 'support'], inplace=True)\n",
    "    df_results.drop(['accuracy', 'macro avg', 'weighted avg'], inplace=True)\n",
    "    \n",
    "    multi_columns = [(model_type, x) for x in df_results.columns]\n",
    "    df_results.columns = pd.MultiIndex.from_tuples(multi_columns)\n",
    "    \n",
    "    if df is None:\n",
    "        return df_results\n",
    "    else:\n",
    "        df_results = pd.concat([df, df_results], axis=1)\n",
    "        df_results.sort_index(axis=1, level=0, inplace=True)\n",
    "        return df_results"
   ]
  },
  {
   "cell_type": "markdown",
   "id": "scientific-daisy",
   "metadata": {},
   "source": [
    "### Baseline Model\n",
    "Set up baseline model results and store in data frame."
   ]
  },
  {
   "cell_type": "code",
   "execution_count": 218,
   "id": "offensive-understanding",
   "metadata": {},
   "outputs": [],
   "source": [
    "model_type = 'base_line'"
   ]
  },
  {
   "cell_type": "code",
   "execution_count": 219,
   "id": "alleged-india",
   "metadata": {},
   "outputs": [],
   "source": [
    "if binary == False:\n",
    "    df_results = store_results(y_test, y_pred_base, model_type, df=df_results)\n",
    "    df_results"
   ]
  },
  {
   "cell_type": "markdown",
   "id": "funded-jamaica",
   "metadata": {},
   "source": [
    "### Logistic Regression"
   ]
  },
  {
   "cell_type": "code",
   "execution_count": 220,
   "id": "sensitive-music",
   "metadata": {},
   "outputs": [],
   "source": [
    "model_type = f'logreg_{sampling_type}'"
   ]
  },
  {
   "cell_type": "code",
   "execution_count": 221,
   "id": "colonial-invasion",
   "metadata": {},
   "outputs": [
    {
     "data": {
      "text/plain": [
       "RandomizedSearchCV(estimator=LogisticRegression(max_iter=10000,\n",
       "                                                multi_class='multinomial',\n",
       "                                                solver='saga'),\n",
       "                   n_jobs=-1,\n",
       "                   param_distributions={'C': array([0.2, 0.6, 1. , 1.4, 1.8, 2.2]),\n",
       "                                        'penalty': ['l1', 'l2']},\n",
       "                   random_state=42)"
      ]
     },
     "execution_count": 221,
     "metadata": {},
     "output_type": "execute_result"
    }
   ],
   "source": [
    "logreg_rs = LogisticRegression(solver='saga', multi_class='multinomial', max_iter=10000)\n",
    "rs_logreg_params = {'C': np.arange(0.2, 2.4, 0.4), 'penalty': ['l1', 'l2']}\n",
    "rs_logreg = RandomizedSearchCV(logreg_rs, rs_logreg_params, random_state=42, n_jobs=-1)\n",
    "rs_logreg.fit(X_train_pipe, y_train_pipe)"
   ]
  },
  {
   "cell_type": "code",
   "execution_count": 222,
   "id": "overall-acceptance",
   "metadata": {},
   "outputs": [],
   "source": [
    "def print_best_params(best_params):\n",
    "    for key, value in best_params.items():\n",
    "        if type(best_params[key]) == str:\n",
    "            print(f' * {key}: {best_params[key]}')\n",
    "        else:\n",
    "            print(f' * {key}: {best_params[key]:0.3f}')"
   ]
  },
  {
   "cell_type": "code",
   "execution_count": 223,
   "id": "reasonable-census",
   "metadata": {},
   "outputs": [
    {
     "name": "stdout",
     "output_type": "stream",
     "text": [
      "The best hypeparameters of logistic regression are:\n",
      " * penalty: l1\n",
      " * C: 2.200\n"
     ]
    }
   ],
   "source": [
    "print('The best hyperparameters of logistic regression are:')\n",
    "print_best_params(rs_logreg.best_params_)"
   ]
  },
  {
   "cell_type": "code",
   "execution_count": 224,
   "id": "prescription-genesis",
   "metadata": {},
   "outputs": [],
   "source": [
    "def save_hyper_params(model_type, sampling, binary, best_params):\n",
    "    \n",
    "    next_row = {\n",
    "        'sampling': sampling,\n",
    "        'num_classes': 3 - int(True == binary),\n",
    "    }\n",
    "    \n",
    "    for key, value in best_params.items():\n",
    "        next_row[key] = best_params[key]\n",
    "    \n",
    "    hyper_params_files = f'../results/{model_type}_hyperparams.csv'\n",
    "    if os.path.isfile(hyper_params_files):\n",
    "        df = pd.read_csv(hyper_params_files)\n",
    "        next_index = len(df)\n",
    "        df.loc[next_index] = next_row\n",
    "    else:\n",
    "        df = pd.DataFrame(next_row, index=[0])\n",
    "    df.to_csv(hyper_params_files, index=False)\n",
    "    \n",
    "    return df"
   ]
  },
  {
   "cell_type": "code",
   "execution_count": 225,
   "id": "initial-testament",
   "metadata": {},
   "outputs": [],
   "source": [
    "df_logreg_params = save_hyper_params('logreg', sampling_type, binary, rs_logreg.best_params_)"
   ]
  },
  {
   "cell_type": "code",
   "execution_count": 226,
   "id": "horizontal-violin",
   "metadata": {},
   "outputs": [
    {
     "data": {
      "text/html": [
       "<div>\n",
       "<style scoped>\n",
       "    .dataframe tbody tr th:only-of-type {\n",
       "        vertical-align: middle;\n",
       "    }\n",
       "\n",
       "    .dataframe tbody tr th {\n",
       "        vertical-align: top;\n",
       "    }\n",
       "\n",
       "    .dataframe thead th {\n",
       "        text-align: right;\n",
       "    }\n",
       "</style>\n",
       "<table border=\"1\" class=\"dataframe\">\n",
       "  <thead>\n",
       "    <tr style=\"text-align: right;\">\n",
       "      <th></th>\n",
       "      <th>sampling</th>\n",
       "      <th>num_classes</th>\n",
       "      <th>penalty</th>\n",
       "      <th>C</th>\n",
       "    </tr>\n",
       "  </thead>\n",
       "  <tbody>\n",
       "    <tr>\n",
       "      <th>0</th>\n",
       "      <td>over</td>\n",
       "      <td>3</td>\n",
       "      <td>l1</td>\n",
       "      <td>2.2</td>\n",
       "    </tr>\n",
       "    <tr>\n",
       "      <th>1</th>\n",
       "      <td>under</td>\n",
       "      <td>3</td>\n",
       "      <td>l1</td>\n",
       "      <td>0.2</td>\n",
       "    </tr>\n",
       "    <tr>\n",
       "      <th>2</th>\n",
       "      <td>over</td>\n",
       "      <td>2</td>\n",
       "      <td>l1</td>\n",
       "      <td>2.2</td>\n",
       "    </tr>\n",
       "    <tr>\n",
       "      <th>3</th>\n",
       "      <td>under</td>\n",
       "      <td>2</td>\n",
       "      <td>l1</td>\n",
       "      <td>2.2</td>\n",
       "    </tr>\n",
       "  </tbody>\n",
       "</table>\n",
       "</div>"
      ],
      "text/plain": [
       "  sampling  num_classes penalty    C\n",
       "0     over            3      l1  2.2\n",
       "1    under            3      l1  0.2\n",
       "2     over            2      l1  2.2\n",
       "3    under            2      l1  2.2"
      ]
     },
     "execution_count": 226,
     "metadata": {},
     "output_type": "execute_result"
    }
   ],
   "source": [
    "df_logreg_params"
   ]
  },
  {
   "cell_type": "code",
   "execution_count": 227,
   "id": "organized-seventh",
   "metadata": {},
   "outputs": [
    {
     "data": {
      "text/plain": [
       "LogisticRegression(C=2.2000000000000006, max_iter=10000,\n",
       "                   multi_class='multinomial', penalty='l1', solver='saga')"
      ]
     },
     "execution_count": 227,
     "metadata": {},
     "output_type": "execute_result"
    }
   ],
   "source": [
    "logreg_best = LogisticRegression(\n",
    "    solver='saga', \n",
    "    multi_class='multinomial', \n",
    "    C=rs_logreg.best_params_['C'], \n",
    "    penalty=rs_logreg.best_params_['penalty'], \n",
    "    max_iter=10000\n",
    ")\n",
    "logreg_best.fit(X_train_pipe, y_train_pipe)"
   ]
  },
  {
   "cell_type": "code",
   "execution_count": 228,
   "id": "oriental-standard",
   "metadata": {},
   "outputs": [],
   "source": [
    "y_pred_logreg_best = logreg_best.predict(X_test_pipe)"
   ]
  },
  {
   "cell_type": "code",
   "execution_count": 229,
   "id": "allied-transmission",
   "metadata": {},
   "outputs": [],
   "source": [
    "df_results = store_results(y_test_pipe, y_pred_logreg_best, model_type, df=df_results)"
   ]
  },
  {
   "cell_type": "code",
   "execution_count": 230,
   "id": "loved-restoration",
   "metadata": {},
   "outputs": [
    {
     "data": {
      "text/html": [
       "<div>\n",
       "<style scoped>\n",
       "    .dataframe tbody tr th:only-of-type {\n",
       "        vertical-align: middle;\n",
       "    }\n",
       "\n",
       "    .dataframe tbody tr th {\n",
       "        vertical-align: top;\n",
       "    }\n",
       "\n",
       "    .dataframe thead tr th {\n",
       "        text-align: left;\n",
       "    }\n",
       "</style>\n",
       "<table border=\"1\" class=\"dataframe\">\n",
       "  <thead>\n",
       "    <tr>\n",
       "      <th></th>\n",
       "      <th colspan=\"2\" halign=\"left\">logreg_over</th>\n",
       "      <th colspan=\"2\" halign=\"left\">logreg_under</th>\n",
       "      <th colspan=\"2\" halign=\"left\">rf_over</th>\n",
       "      <th colspan=\"2\" halign=\"left\">rf_under</th>\n",
       "      <th colspan=\"2\" halign=\"left\">xgb_over</th>\n",
       "      <th colspan=\"2\" halign=\"left\">xgb_under</th>\n",
       "    </tr>\n",
       "    <tr>\n",
       "      <th></th>\n",
       "      <th>precision</th>\n",
       "      <th>recall</th>\n",
       "      <th>precision</th>\n",
       "      <th>recall</th>\n",
       "      <th>precision</th>\n",
       "      <th>recall</th>\n",
       "      <th>precision</th>\n",
       "      <th>recall</th>\n",
       "      <th>precision</th>\n",
       "      <th>recall</th>\n",
       "      <th>precision</th>\n",
       "      <th>recall</th>\n",
       "    </tr>\n",
       "  </thead>\n",
       "  <tbody>\n",
       "    <tr>\n",
       "      <th>faulty</th>\n",
       "      <td>0.528846</td>\n",
       "      <td>0.567761</td>\n",
       "      <td>0.511653</td>\n",
       "      <td>0.621758</td>\n",
       "      <td>0.569132</td>\n",
       "      <td>0.515352</td>\n",
       "      <td>0.530914</td>\n",
       "      <td>0.588671</td>\n",
       "      <td>0.514713</td>\n",
       "      <td>0.546321</td>\n",
       "      <td>0.516355</td>\n",
       "      <td>0.547380</td>\n",
       "    </tr>\n",
       "    <tr>\n",
       "      <th>functional</th>\n",
       "      <td>0.677973</td>\n",
       "      <td>0.642737</td>\n",
       "      <td>0.684965</td>\n",
       "      <td>0.580856</td>\n",
       "      <td>0.679110</td>\n",
       "      <td>0.724434</td>\n",
       "      <td>0.685298</td>\n",
       "      <td>0.632642</td>\n",
       "      <td>0.665038</td>\n",
       "      <td>0.636194</td>\n",
       "      <td>0.666146</td>\n",
       "      <td>0.637876</td>\n",
       "    </tr>\n",
       "  </tbody>\n",
       "</table>\n",
       "</div>"
      ],
      "text/plain": [
       "           logreg_over           logreg_under             rf_over            \\\n",
       "             precision    recall    precision    recall precision    recall   \n",
       "faulty        0.528846  0.567761     0.511653  0.621758  0.569132  0.515352   \n",
       "functional    0.677973  0.642737     0.684965  0.580856  0.679110  0.724434   \n",
       "\n",
       "            rf_under            xgb_over           xgb_under            \n",
       "           precision    recall precision    recall precision    recall  \n",
       "faulty      0.530914  0.588671  0.514713  0.546321  0.516355  0.547380  \n",
       "functional  0.685298  0.632642  0.665038  0.636194  0.666146  0.637876  "
      ]
     },
     "execution_count": 230,
     "metadata": {},
     "output_type": "execute_result"
    }
   ],
   "source": [
    "df_results"
   ]
  },
  {
   "cell_type": "markdown",
   "id": "romance-abraham",
   "metadata": {},
   "source": [
    "### Random Forest"
   ]
  },
  {
   "cell_type": "code",
   "execution_count": 231,
   "id": "oriental-guard",
   "metadata": {},
   "outputs": [],
   "source": [
    "model_type = f'rf_{sampling_type}'"
   ]
  },
  {
   "cell_type": "code",
   "execution_count": 232,
   "id": "incorporate-wholesale",
   "metadata": {},
   "outputs": [],
   "source": [
    "rf_rs = RandomForestClassifier(random_state = 42, n_jobs=-1)"
   ]
  },
  {
   "cell_type": "code",
   "execution_count": 233,
   "id": "fossil-scottish",
   "metadata": {},
   "outputs": [],
   "source": [
    "max_depth_list = list(np.arange(10, 110, 10))\n",
    "max_depth_list.append(None)"
   ]
  },
  {
   "cell_type": "code",
   "execution_count": 234,
   "id": "eastern-fiber",
   "metadata": {},
   "outputs": [],
   "source": [
    "rs_rf_params = {\n",
    "    'bootstrap': [True, False],\n",
    "    'max_depth': max_depth_list,\n",
    "    'max_features': ['auto', 'sqrt'],\n",
    "    'min_samples_leaf': list(np.arange(1, 11, 1)),\n",
    "    'min_samples_split': list(np.arange(1, 11, 1)),\n",
    "    'n_estimators': list(np.arange(200, 2200, 200))\n",
    "}"
   ]
  },
  {
   "cell_type": "code",
   "execution_count": 235,
   "id": "future-camera",
   "metadata": {},
   "outputs": [
    {
     "data": {
      "text/plain": [
       "RandomizedSearchCV(estimator=RandomForestClassifier(n_jobs=-1, random_state=42),\n",
       "                   n_jobs=-1,\n",
       "                   param_distributions={'bootstrap': [True, False],\n",
       "                                        'max_depth': [10, 20, 30, 40, 50, 60,\n",
       "                                                      70, 80, 90, 100, None],\n",
       "                                        'max_features': ['auto', 'sqrt'],\n",
       "                                        'min_samples_leaf': [1, 2, 3, 4, 5, 6,\n",
       "                                                             7, 8, 9, 10],\n",
       "                                        'min_samples_split': [1, 2, 3, 4, 5, 6,\n",
       "                                                              7, 8, 9, 10],\n",
       "                                        'n_estimators': [200, 400, 600, 800,\n",
       "                                                         1000, 1200, 1400, 1600,\n",
       "                                                         1800, 2000]},\n",
       "                   random_state=42)"
      ]
     },
     "execution_count": 235,
     "metadata": {},
     "output_type": "execute_result"
    }
   ],
   "source": [
    "rs_rf = RandomizedSearchCV(rf_rs, rs_rf_params, random_state=42, n_jobs=-1)\n",
    "rs_rf.fit(X_train_pipe, y_train_pipe)"
   ]
  },
  {
   "cell_type": "code",
   "execution_count": 236,
   "id": "administrative-devil",
   "metadata": {},
   "outputs": [
    {
     "name": "stdout",
     "output_type": "stream",
     "text": [
      "The best hyperparameters for random forest are:\n",
      " * n_estimators: 1000.000\n",
      " * min_samples_split: 10.000\n",
      " * min_samples_leaf: 2.000\n",
      " * max_features: sqrt\n",
      " * max_depth: 80.000\n",
      " * bootstrap: 0.000\n"
     ]
    }
   ],
   "source": [
    "print('The best hyperparameters for random forest are:')\n",
    "print_best_params(rs_rf.best_params_)"
   ]
  },
  {
   "cell_type": "markdown",
   "id": "southeast-supplier",
   "metadata": {},
   "source": [
    "Double the number of trees for the final random forest model."
   ]
  },
  {
   "cell_type": "code",
   "execution_count": 237,
   "id": "front-exclusive",
   "metadata": {},
   "outputs": [],
   "source": [
    "rs_rf.best_params_['n_estimators'] *= 2"
   ]
  },
  {
   "cell_type": "code",
   "execution_count": 238,
   "id": "educational-intention",
   "metadata": {},
   "outputs": [],
   "source": [
    "df_rf_params = save_hyper_params('rf', sampling_type, binary, rs_rf.best_params_)"
   ]
  },
  {
   "cell_type": "code",
   "execution_count": 239,
   "id": "closing-subscriber",
   "metadata": {},
   "outputs": [
    {
     "data": {
      "text/html": [
       "<div>\n",
       "<style scoped>\n",
       "    .dataframe tbody tr th:only-of-type {\n",
       "        vertical-align: middle;\n",
       "    }\n",
       "\n",
       "    .dataframe tbody tr th {\n",
       "        vertical-align: top;\n",
       "    }\n",
       "\n",
       "    .dataframe thead th {\n",
       "        text-align: right;\n",
       "    }\n",
       "</style>\n",
       "<table border=\"1\" class=\"dataframe\">\n",
       "  <thead>\n",
       "    <tr style=\"text-align: right;\">\n",
       "      <th></th>\n",
       "      <th>sampling</th>\n",
       "      <th>num_classes</th>\n",
       "      <th>n_estimators</th>\n",
       "      <th>min_samples_split</th>\n",
       "      <th>min_samples_leaf</th>\n",
       "      <th>max_features</th>\n",
       "      <th>max_depth</th>\n",
       "      <th>bootstrap</th>\n",
       "    </tr>\n",
       "  </thead>\n",
       "  <tbody>\n",
       "    <tr>\n",
       "      <th>0</th>\n",
       "      <td>over</td>\n",
       "      <td>3</td>\n",
       "      <td>1600</td>\n",
       "      <td>3</td>\n",
       "      <td>1</td>\n",
       "      <td>auto</td>\n",
       "      <td>90</td>\n",
       "      <td>True</td>\n",
       "    </tr>\n",
       "    <tr>\n",
       "      <th>1</th>\n",
       "      <td>under</td>\n",
       "      <td>3</td>\n",
       "      <td>2400</td>\n",
       "      <td>7</td>\n",
       "      <td>3</td>\n",
       "      <td>auto</td>\n",
       "      <td>40</td>\n",
       "      <td>True</td>\n",
       "    </tr>\n",
       "    <tr>\n",
       "      <th>2</th>\n",
       "      <td>over</td>\n",
       "      <td>2</td>\n",
       "      <td>2000</td>\n",
       "      <td>9</td>\n",
       "      <td>3</td>\n",
       "      <td>sqrt</td>\n",
       "      <td>60</td>\n",
       "      <td>True</td>\n",
       "    </tr>\n",
       "    <tr>\n",
       "      <th>3</th>\n",
       "      <td>under</td>\n",
       "      <td>2</td>\n",
       "      <td>2000</td>\n",
       "      <td>10</td>\n",
       "      <td>2</td>\n",
       "      <td>sqrt</td>\n",
       "      <td>80</td>\n",
       "      <td>False</td>\n",
       "    </tr>\n",
       "  </tbody>\n",
       "</table>\n",
       "</div>"
      ],
      "text/plain": [
       "  sampling  num_classes  n_estimators  min_samples_split  min_samples_leaf  \\\n",
       "0     over            3          1600                  3                 1   \n",
       "1    under            3          2400                  7                 3   \n",
       "2     over            2          2000                  9                 3   \n",
       "3    under            2          2000                 10                 2   \n",
       "\n",
       "  max_features  max_depth  bootstrap  \n",
       "0         auto         90       True  \n",
       "1         auto         40       True  \n",
       "2         sqrt         60       True  \n",
       "3         sqrt         80      False  "
      ]
     },
     "execution_count": 239,
     "metadata": {},
     "output_type": "execute_result"
    }
   ],
   "source": [
    "df_rf_params"
   ]
  },
  {
   "cell_type": "code",
   "execution_count": 240,
   "id": "human-rally",
   "metadata": {},
   "outputs": [],
   "source": [
    "rf_best = RandomForestClassifier(\n",
    "    n_estimators = rs_rf.best_params_['n_estimators'],\n",
    "    min_samples_split = rs_rf.best_params_['min_samples_split'],\n",
    "    min_samples_leaf = rs_rf.best_params_['min_samples_leaf'],\n",
    "    max_features = rs_rf.best_params_['max_features'],\n",
    "    max_depth = rs_rf.best_params_['max_depth'],\n",
    "    bootstrap = rs_rf.best_params_['bootstrap'],\n",
    "    random_state = 42, \n",
    "    n_jobs=-1\n",
    ")"
   ]
  },
  {
   "cell_type": "code",
   "execution_count": 241,
   "id": "unavailable-november",
   "metadata": {},
   "outputs": [
    {
     "data": {
      "text/plain": [
       "RandomForestClassifier(bootstrap=False, max_depth=80, max_features='sqrt',\n",
       "                       min_samples_leaf=2, min_samples_split=10,\n",
       "                       n_estimators=2000, n_jobs=-1, random_state=42)"
      ]
     },
     "execution_count": 241,
     "metadata": {},
     "output_type": "execute_result"
    }
   ],
   "source": [
    "rf_best.fit(X_train_pipe, y_train_pipe)"
   ]
  },
  {
   "cell_type": "code",
   "execution_count": 242,
   "id": "hungarian-plenty",
   "metadata": {},
   "outputs": [],
   "source": [
    "y_pred_rf = rf_best.predict(X_test_pipe)"
   ]
  },
  {
   "cell_type": "code",
   "execution_count": 243,
   "id": "cloudy-exhibit",
   "metadata": {},
   "outputs": [],
   "source": [
    "df_results = store_results(y_test_pipe, y_pred_rf, model_type, df=df_results)"
   ]
  },
  {
   "cell_type": "code",
   "execution_count": 244,
   "id": "north-realtor",
   "metadata": {},
   "outputs": [
    {
     "data": {
      "text/html": [
       "<div>\n",
       "<style scoped>\n",
       "    .dataframe tbody tr th:only-of-type {\n",
       "        vertical-align: middle;\n",
       "    }\n",
       "\n",
       "    .dataframe tbody tr th {\n",
       "        vertical-align: top;\n",
       "    }\n",
       "\n",
       "    .dataframe thead tr th {\n",
       "        text-align: left;\n",
       "    }\n",
       "</style>\n",
       "<table border=\"1\" class=\"dataframe\">\n",
       "  <thead>\n",
       "    <tr>\n",
       "      <th></th>\n",
       "      <th colspan=\"2\" halign=\"left\">logreg_over</th>\n",
       "      <th colspan=\"2\" halign=\"left\">logreg_under</th>\n",
       "      <th colspan=\"2\" halign=\"left\">rf_over</th>\n",
       "      <th colspan=\"2\" halign=\"left\">rf_under</th>\n",
       "      <th colspan=\"2\" halign=\"left\">xgb_over</th>\n",
       "      <th colspan=\"2\" halign=\"left\">xgb_under</th>\n",
       "    </tr>\n",
       "    <tr>\n",
       "      <th></th>\n",
       "      <th>precision</th>\n",
       "      <th>recall</th>\n",
       "      <th>precision</th>\n",
       "      <th>recall</th>\n",
       "      <th>precision</th>\n",
       "      <th>recall</th>\n",
       "      <th>precision</th>\n",
       "      <th>recall</th>\n",
       "      <th>precision</th>\n",
       "      <th>recall</th>\n",
       "      <th>precision</th>\n",
       "      <th>recall</th>\n",
       "    </tr>\n",
       "  </thead>\n",
       "  <tbody>\n",
       "    <tr>\n",
       "      <th>faulty</th>\n",
       "      <td>0.528846</td>\n",
       "      <td>0.567761</td>\n",
       "      <td>0.511653</td>\n",
       "      <td>0.621758</td>\n",
       "      <td>0.569132</td>\n",
       "      <td>0.515352</td>\n",
       "      <td>0.530914</td>\n",
       "      <td>0.588671</td>\n",
       "      <td>0.514713</td>\n",
       "      <td>0.546321</td>\n",
       "      <td>0.516355</td>\n",
       "      <td>0.547380</td>\n",
       "    </tr>\n",
       "    <tr>\n",
       "      <th>functional</th>\n",
       "      <td>0.677973</td>\n",
       "      <td>0.642737</td>\n",
       "      <td>0.684965</td>\n",
       "      <td>0.580856</td>\n",
       "      <td>0.679110</td>\n",
       "      <td>0.724434</td>\n",
       "      <td>0.685298</td>\n",
       "      <td>0.632642</td>\n",
       "      <td>0.665038</td>\n",
       "      <td>0.636194</td>\n",
       "      <td>0.666146</td>\n",
       "      <td>0.637876</td>\n",
       "    </tr>\n",
       "  </tbody>\n",
       "</table>\n",
       "</div>"
      ],
      "text/plain": [
       "           logreg_over           logreg_under             rf_over            \\\n",
       "             precision    recall    precision    recall precision    recall   \n",
       "faulty        0.528846  0.567761     0.511653  0.621758  0.569132  0.515352   \n",
       "functional    0.677973  0.642737     0.684965  0.580856  0.679110  0.724434   \n",
       "\n",
       "            rf_under            xgb_over           xgb_under            \n",
       "           precision    recall precision    recall precision    recall  \n",
       "faulty      0.530914  0.588671  0.514713  0.546321  0.516355  0.547380  \n",
       "functional  0.685298  0.632642  0.665038  0.636194  0.666146  0.637876  "
      ]
     },
     "execution_count": 244,
     "metadata": {},
     "output_type": "execute_result"
    }
   ],
   "source": [
    "df_results"
   ]
  },
  {
   "cell_type": "markdown",
   "id": "prescribed-ready",
   "metadata": {},
   "source": [
    "### XGBoost"
   ]
  },
  {
   "cell_type": "code",
   "execution_count": 245,
   "id": "impressed-allowance",
   "metadata": {},
   "outputs": [],
   "source": [
    "model_type = f'xgb_{sampling_type}'"
   ]
  },
  {
   "cell_type": "code",
   "execution_count": 246,
   "id": "beneficial-referral",
   "metadata": {},
   "outputs": [],
   "source": [
    "if binary:\n",
    "    class_mapping = {\n",
    "        'functional': 0,\n",
    "        'faulty': 1\n",
    "    }\n",
    "else:\n",
    "    class_mapping = {\n",
    "        'functional': 0,\n",
    "        'functional needs repair': 1,\n",
    "        'non functional': 2\n",
    "    }"
   ]
  },
  {
   "cell_type": "code",
   "execution_count": 247,
   "id": "signed-retention",
   "metadata": {},
   "outputs": [],
   "source": [
    "y_train_encoded = pd.Series(y_train_pipe).replace(class_mapping).values\n",
    "y_test_encoded = pd.Series(y_test_pipe).replace(class_mapping).values"
   ]
  },
  {
   "cell_type": "code",
   "execution_count": 248,
   "id": "stretch-cowboy",
   "metadata": {},
   "outputs": [],
   "source": [
    "xgb_rs = XGBClassifier(n_estimators=1000)"
   ]
  },
  {
   "cell_type": "code",
   "execution_count": 249,
   "id": "fifteen-ordering",
   "metadata": {},
   "outputs": [],
   "source": [
    "if debug:\n",
    "    rs_params_xgb_over = {\n",
    "        'max_depth': [1],\n",
    "        'min_child_weight': [1],\n",
    "        'gamma': [0]\n",
    "    }\n",
    "else:\n",
    "    rs_params_xgb_over = {\n",
    "        'max_depth': list(np.arange(1, 7, 2)),\n",
    "        'min_child_weight': list(np.arange(1, 7, 2)),\n",
    "        'gamma': [0, 1, 5]\n",
    "    }"
   ]
  },
  {
   "cell_type": "code",
   "execution_count": 250,
   "id": "measured-riding",
   "metadata": {},
   "outputs": [
    {
     "name": "stderr",
     "output_type": "stream",
     "text": [
      "/Users/dave/anaconda3/envs/springboard/lib/python3.8/site-packages/sklearn/model_selection/_search.py:285: UserWarning: The total space of parameters 1 is smaller than n_iter=100. Running 1 iterations. For exhaustive searches, use GridSearchCV.\n",
      "  warnings.warn(\n",
      "/Users/dave/anaconda3/envs/springboard/lib/python3.8/site-packages/xgboost/sklearn.py:888: UserWarning: The use of label encoder in XGBClassifier is deprecated and will be removed in a future release. To remove this warning, do the following: 1) Pass option use_label_encoder=False when constructing XGBClassifier object; and 2) Encode your labels (y) as integers starting with 0, i.e. 0, 1, 2, ..., [num_class - 1].\n",
      "  warnings.warn(label_encoder_deprecation_msg, UserWarning)\n"
     ]
    },
    {
     "name": "stdout",
     "output_type": "stream",
     "text": [
      "[19:08:34] WARNING: ../src/learner.cc:1061: Starting in XGBoost 1.3.0, the default evaluation metric used with the objective 'binary:logistic' was changed from 'error' to 'logloss'. Explicitly set eval_metric if you'd like to restore the old behavior.\n"
     ]
    },
    {
     "data": {
      "text/plain": [
       "RandomizedSearchCV(estimator=XGBClassifier(base_score=None, booster=None,\n",
       "                                           colsample_bylevel=None,\n",
       "                                           colsample_bynode=None,\n",
       "                                           colsample_bytree=None, gamma=None,\n",
       "                                           gpu_id=None, importance_type='gain',\n",
       "                                           interaction_constraints=None,\n",
       "                                           learning_rate=None,\n",
       "                                           max_delta_step=None, max_depth=None,\n",
       "                                           min_child_weight=None, missing=nan,\n",
       "                                           monotone_constraints=None,\n",
       "                                           n_estimators=1000, n_jobs=None,\n",
       "                                           num_parallel_tree=None,\n",
       "                                           random_state=None, reg_alpha=None,\n",
       "                                           reg_lambda=None,\n",
       "                                           scale_pos_weight=None,\n",
       "                                           subsample=None, tree_method=None,\n",
       "                                           validate_parameters=None,\n",
       "                                           verbosity=None),\n",
       "                   n_iter=100, n_jobs=-1,\n",
       "                   param_distributions={'gamma': [0], 'max_depth': [1],\n",
       "                                        'min_child_weight': [1]},\n",
       "                   random_state=42)"
      ]
     },
     "execution_count": 250,
     "metadata": {},
     "output_type": "execute_result"
    }
   ],
   "source": [
    "rs_xgb = RandomizedSearchCV(xgb_rs, rs_params_xgb_over, random_state=42, n_jobs=-1, n_iter=100)\n",
    "rs_xgb.fit(X_train_pipe, y_train_encoded)"
   ]
  },
  {
   "cell_type": "code",
   "execution_count": 251,
   "id": "raising-calvin",
   "metadata": {},
   "outputs": [
    {
     "name": "stdout",
     "output_type": "stream",
     "text": [
      "The best parameters for XGBoost are:\n",
      " * min_child_weight: 1.000\n",
      " * max_depth: 1.000\n",
      " * gamma: 0.000\n"
     ]
    }
   ],
   "source": [
    "print('The best parameters for XGBoost are:')\n",
    "print_best_params(rs_xgb.best_params_)"
   ]
  },
  {
   "cell_type": "markdown",
   "id": "bound-climb",
   "metadata": {},
   "source": [
    "Set the total number of trees to 1000."
   ]
  },
  {
   "cell_type": "code",
   "execution_count": 252,
   "id": "short-mainstream",
   "metadata": {},
   "outputs": [],
   "source": [
    "rs_xgb.best_params_['n_estimators'] = 1000"
   ]
  },
  {
   "cell_type": "code",
   "execution_count": 254,
   "id": "practical-unknown",
   "metadata": {},
   "outputs": [],
   "source": [
    "df_xgb_params = save_hyper_params('xgb', sampling_type, binary, rs_xgb.best_params_)"
   ]
  },
  {
   "cell_type": "code",
   "execution_count": 255,
   "id": "pediatric-drill",
   "metadata": {},
   "outputs": [
    {
     "data": {
      "text/html": [
       "<div>\n",
       "<style scoped>\n",
       "    .dataframe tbody tr th:only-of-type {\n",
       "        vertical-align: middle;\n",
       "    }\n",
       "\n",
       "    .dataframe tbody tr th {\n",
       "        vertical-align: top;\n",
       "    }\n",
       "\n",
       "    .dataframe thead th {\n",
       "        text-align: right;\n",
       "    }\n",
       "</style>\n",
       "<table border=\"1\" class=\"dataframe\">\n",
       "  <thead>\n",
       "    <tr style=\"text-align: right;\">\n",
       "      <th></th>\n",
       "      <th>sampling</th>\n",
       "      <th>num_classes</th>\n",
       "      <th>min_child_weight</th>\n",
       "      <th>max_depth</th>\n",
       "      <th>gamma</th>\n",
       "      <th>n_estimators</th>\n",
       "    </tr>\n",
       "  </thead>\n",
       "  <tbody>\n",
       "    <tr>\n",
       "      <th>0</th>\n",
       "      <td>over</td>\n",
       "      <td>3</td>\n",
       "      <td>1</td>\n",
       "      <td>1</td>\n",
       "      <td>0</td>\n",
       "      <td>1000</td>\n",
       "    </tr>\n",
       "    <tr>\n",
       "      <th>1</th>\n",
       "      <td>under</td>\n",
       "      <td>3</td>\n",
       "      <td>1</td>\n",
       "      <td>1</td>\n",
       "      <td>0</td>\n",
       "      <td>1000</td>\n",
       "    </tr>\n",
       "    <tr>\n",
       "      <th>2</th>\n",
       "      <td>over</td>\n",
       "      <td>2</td>\n",
       "      <td>1</td>\n",
       "      <td>1</td>\n",
       "      <td>0</td>\n",
       "      <td>1000</td>\n",
       "    </tr>\n",
       "    <tr>\n",
       "      <th>3</th>\n",
       "      <td>under</td>\n",
       "      <td>2</td>\n",
       "      <td>1</td>\n",
       "      <td>1</td>\n",
       "      <td>0</td>\n",
       "      <td>1000</td>\n",
       "    </tr>\n",
       "  </tbody>\n",
       "</table>\n",
       "</div>"
      ],
      "text/plain": [
       "  sampling  num_classes  min_child_weight  max_depth  gamma  n_estimators\n",
       "0     over            3                 1          1      0          1000\n",
       "1    under            3                 1          1      0          1000\n",
       "2     over            2                 1          1      0          1000\n",
       "3    under            2                 1          1      0          1000"
      ]
     },
     "execution_count": 255,
     "metadata": {},
     "output_type": "execute_result"
    }
   ],
   "source": [
    "df_xgb_params"
   ]
  },
  {
   "cell_type": "code",
   "execution_count": 256,
   "id": "fresh-happiness",
   "metadata": {},
   "outputs": [],
   "source": [
    "xgb_best = XGBClassifier(\n",
    "    n_estimators=rs_xgb.best_params_['n_estimators'],\n",
    "    max_depth=rs_xgb.best_params_['max_depth'],\n",
    "    min_child_weight=rs_xgb.best_params_['min_child_weight'],\n",
    "    gamma=rs_xgb.best_params_['gamma']\n",
    ")"
   ]
  },
  {
   "cell_type": "code",
   "execution_count": 257,
   "id": "burning-medicaid",
   "metadata": {},
   "outputs": [
    {
     "name": "stdout",
     "output_type": "stream",
     "text": [
      "[19:08:35] WARNING: ../src/learner.cc:1061: Starting in XGBoost 1.3.0, the default evaluation metric used with the objective 'binary:logistic' was changed from 'error' to 'logloss'. Explicitly set eval_metric if you'd like to restore the old behavior.\n"
     ]
    },
    {
     "name": "stderr",
     "output_type": "stream",
     "text": [
      "/Users/dave/anaconda3/envs/springboard/lib/python3.8/site-packages/xgboost/sklearn.py:888: UserWarning: The use of label encoder in XGBClassifier is deprecated and will be removed in a future release. To remove this warning, do the following: 1) Pass option use_label_encoder=False when constructing XGBClassifier object; and 2) Encode your labels (y) as integers starting with 0, i.e. 0, 1, 2, ..., [num_class - 1].\n",
      "  warnings.warn(label_encoder_deprecation_msg, UserWarning)\n"
     ]
    },
    {
     "data": {
      "text/plain": [
       "XGBClassifier(base_score=0.5, booster='gbtree', colsample_bylevel=1,\n",
       "              colsample_bynode=1, colsample_bytree=1, gamma=0, gpu_id=-1,\n",
       "              importance_type='gain', interaction_constraints='',\n",
       "              learning_rate=0.300000012, max_delta_step=0, max_depth=1,\n",
       "              min_child_weight=1, missing=nan, monotone_constraints='()',\n",
       "              n_estimators=1000, n_jobs=16, num_parallel_tree=1, random_state=0,\n",
       "              reg_alpha=0, reg_lambda=1, scale_pos_weight=1, subsample=1,\n",
       "              tree_method='exact', validate_parameters=1, verbosity=None)"
      ]
     },
     "execution_count": 257,
     "metadata": {},
     "output_type": "execute_result"
    }
   ],
   "source": [
    "xgb_best.fit(X_train_pipe, y_train_encoded)"
   ]
  },
  {
   "cell_type": "code",
   "execution_count": 258,
   "id": "affected-bernard",
   "metadata": {},
   "outputs": [],
   "source": [
    "y_pred_encoded = xgb_best.predict(X_test_pipe)"
   ]
  },
  {
   "cell_type": "code",
   "execution_count": 259,
   "id": "removable-component",
   "metadata": {},
   "outputs": [],
   "source": [
    "reverse_mapping = {}\n",
    "if binary:\n",
    "    reverse_mapping = {\n",
    "        0:'functional',\n",
    "        1:'faulty'\n",
    "    }\n",
    "else:\n",
    "    reverse_mapping = {\n",
    "        0:'functional',\n",
    "        1:'functional needs repair',\n",
    "        2:'non functional'\n",
    "    }"
   ]
  },
  {
   "cell_type": "code",
   "execution_count": 260,
   "id": "narrative-privilege",
   "metadata": {},
   "outputs": [],
   "source": [
    "y_pred_xgb = pd.Series(y_pred_encoded).replace(reverse_mapping).values"
   ]
  },
  {
   "cell_type": "code",
   "execution_count": 261,
   "id": "official-counter",
   "metadata": {},
   "outputs": [],
   "source": [
    "df_results = store_results(y_test_pipe, y_pred_xgb, model_type, df=df_results)"
   ]
  },
  {
   "cell_type": "markdown",
   "id": "confirmed-straight",
   "metadata": {},
   "source": [
    "### Add Class Counts"
   ]
  },
  {
   "cell_type": "code",
   "execution_count": 262,
   "id": "amateur-parliament",
   "metadata": {},
   "outputs": [],
   "source": [
    "def add_class_counts(df, y_test):\n",
    "    df_class_counts = pd.DataFrame(pd.Series(y_test).value_counts())\n",
    "    df_class_counts.columns = pd.MultiIndex.from_tuples([('', 'class count')])\n",
    "    df_results = pd.concat([df, df_class_counts], axis=1)\n",
    "    return df_results"
   ]
  },
  {
   "cell_type": "code",
   "execution_count": 263,
   "id": "random-minnesota",
   "metadata": {},
   "outputs": [],
   "source": [
    "df_results = add_class_counts(df_results, y_test_pipe)"
   ]
  },
  {
   "cell_type": "code",
   "execution_count": 264,
   "id": "confident-edinburgh",
   "metadata": {},
   "outputs": [
    {
     "data": {
      "text/html": [
       "<div>\n",
       "<style scoped>\n",
       "    .dataframe tbody tr th:only-of-type {\n",
       "        vertical-align: middle;\n",
       "    }\n",
       "\n",
       "    .dataframe tbody tr th {\n",
       "        vertical-align: top;\n",
       "    }\n",
       "\n",
       "    .dataframe thead tr th {\n",
       "        text-align: left;\n",
       "    }\n",
       "</style>\n",
       "<table border=\"1\" class=\"dataframe\">\n",
       "  <thead>\n",
       "    <tr>\n",
       "      <th></th>\n",
       "      <th colspan=\"2\" halign=\"left\">logreg_over</th>\n",
       "      <th colspan=\"2\" halign=\"left\">logreg_under</th>\n",
       "      <th colspan=\"2\" halign=\"left\">rf_over</th>\n",
       "      <th colspan=\"2\" halign=\"left\">rf_under</th>\n",
       "      <th colspan=\"2\" halign=\"left\">xgb_over</th>\n",
       "      <th colspan=\"2\" halign=\"left\">xgb_under</th>\n",
       "      <th></th>\n",
       "    </tr>\n",
       "    <tr>\n",
       "      <th></th>\n",
       "      <th>precision</th>\n",
       "      <th>recall</th>\n",
       "      <th>precision</th>\n",
       "      <th>recall</th>\n",
       "      <th>precision</th>\n",
       "      <th>recall</th>\n",
       "      <th>precision</th>\n",
       "      <th>recall</th>\n",
       "      <th>precision</th>\n",
       "      <th>recall</th>\n",
       "      <th>precision</th>\n",
       "      <th>recall</th>\n",
       "      <th>class count</th>\n",
       "    </tr>\n",
       "  </thead>\n",
       "  <tbody>\n",
       "    <tr>\n",
       "      <th>faulty</th>\n",
       "      <td>0.528846</td>\n",
       "      <td>0.567761</td>\n",
       "      <td>0.511653</td>\n",
       "      <td>0.621758</td>\n",
       "      <td>0.569132</td>\n",
       "      <td>0.515352</td>\n",
       "      <td>0.530914</td>\n",
       "      <td>0.588671</td>\n",
       "      <td>0.514713</td>\n",
       "      <td>0.546321</td>\n",
       "      <td>0.516355</td>\n",
       "      <td>0.547380</td>\n",
       "      <td>3778</td>\n",
       "    </tr>\n",
       "    <tr>\n",
       "      <th>functional</th>\n",
       "      <td>0.677973</td>\n",
       "      <td>0.642737</td>\n",
       "      <td>0.684965</td>\n",
       "      <td>0.580856</td>\n",
       "      <td>0.679110</td>\n",
       "      <td>0.724434</td>\n",
       "      <td>0.685298</td>\n",
       "      <td>0.632642</td>\n",
       "      <td>0.665038</td>\n",
       "      <td>0.636194</td>\n",
       "      <td>0.666146</td>\n",
       "      <td>0.637876</td>\n",
       "      <td>5349</td>\n",
       "    </tr>\n",
       "  </tbody>\n",
       "</table>\n",
       "</div>"
      ],
      "text/plain": [
       "           logreg_over           logreg_under             rf_over            \\\n",
       "             precision    recall    precision    recall precision    recall   \n",
       "faulty        0.528846  0.567761     0.511653  0.621758  0.569132  0.515352   \n",
       "functional    0.677973  0.642737     0.684965  0.580856  0.679110  0.724434   \n",
       "\n",
       "            rf_under            xgb_over           xgb_under            \\\n",
       "           precision    recall precision    recall precision    recall   \n",
       "faulty      0.530914  0.588671  0.514713  0.546321  0.516355  0.547380   \n",
       "functional  0.685298  0.632642  0.665038  0.636194  0.666146  0.637876   \n",
       "\n",
       "                        \n",
       "           class count  \n",
       "faulty            3778  \n",
       "functional        5349  "
      ]
     },
     "execution_count": 264,
     "metadata": {},
     "output_type": "execute_result"
    }
   ],
   "source": [
    "df_results"
   ]
  },
  {
   "cell_type": "markdown",
   "id": "cooked-helmet",
   "metadata": {},
   "source": [
    "### Save Results\n",
    "Save the results from the pipeline to the results directory."
   ]
  },
  {
   "cell_type": "code",
   "execution_count": 265,
   "id": "geological-facial",
   "metadata": {},
   "outputs": [],
   "source": [
    "df_results.to_csv(results_filepath)"
   ]
  },
  {
   "cell_type": "markdown",
   "id": "alternate-capital",
   "metadata": {},
   "source": [
    "### Display Results"
   ]
  },
  {
   "cell_type": "code",
   "execution_count": 266,
   "id": "usual-omaha",
   "metadata": {},
   "outputs": [],
   "source": [
    "def get_results(get_binary=False):\n",
    "    results_filename = 'pipeline_results.csv'\n",
    "    if get_binary:\n",
    "        split_filename = results_filename.split('_')\n",
    "        results_filename = '_'.join([split_filename[0], 'binary', split_filename[1]])\n",
    "    results_filepath = f'../results/{results_filename}'\n",
    "    if os.path.isfile(results_filepath):\n",
    "        df = pd.read_csv(results_filepath, index_col=0, header=[0, 1])\n",
    "        unnnamed = [x[0] for x in df.columns if 'Unnamed' in x[0]][0]\n",
    "        new_index = [(x[0].replace(unnnamed, ' '), x[1]) if unnnamed in x else x for x in df.columns.values.tolist()]\n",
    "        df.columns = pd.MultiIndex.from_tuples(new_index)\n",
    "        return df\n",
    "    else:\n",
    "        return None"
   ]
  },
  {
   "cell_type": "code",
   "execution_count": 267,
   "id": "above-crystal",
   "metadata": {},
   "outputs": [],
   "source": [
    "df_final_results = get_results(get_binary=False)"
   ]
  },
  {
   "cell_type": "code",
   "execution_count": 268,
   "id": "fifty-wrapping",
   "metadata": {},
   "outputs": [],
   "source": [
    "df_final_binary_results = get_results(get_binary=True)"
   ]
  },
  {
   "cell_type": "markdown",
   "id": "employed-gates",
   "metadata": {},
   "source": [
    "### Final Results:\n",
    "\n",
    "\n",
    "\n",
    "#### All Three Classes"
   ]
  },
  {
   "cell_type": "code",
   "execution_count": 269,
   "id": "corrected-ceramic",
   "metadata": {},
   "outputs": [
    {
     "data": {
      "text/html": [
       "<div>\n",
       "<style scoped>\n",
       "    .dataframe tbody tr th:only-of-type {\n",
       "        vertical-align: middle;\n",
       "    }\n",
       "\n",
       "    .dataframe tbody tr th {\n",
       "        vertical-align: top;\n",
       "    }\n",
       "\n",
       "    .dataframe thead tr th {\n",
       "        text-align: left;\n",
       "    }\n",
       "</style>\n",
       "<table border=\"1\" class=\"dataframe\">\n",
       "  <thead>\n",
       "    <tr>\n",
       "      <th></th>\n",
       "      <th colspan=\"2\" halign=\"left\">base_line</th>\n",
       "      <th colspan=\"2\" halign=\"left\">logreg_over</th>\n",
       "      <th colspan=\"2\" halign=\"left\">logreg_under</th>\n",
       "      <th colspan=\"2\" halign=\"left\">rf_over</th>\n",
       "      <th colspan=\"2\" halign=\"left\">rf_under</th>\n",
       "      <th colspan=\"2\" halign=\"left\">xgb_over</th>\n",
       "      <th colspan=\"2\" halign=\"left\">xgb_under</th>\n",
       "      <th></th>\n",
       "    </tr>\n",
       "    <tr>\n",
       "      <th></th>\n",
       "      <th>precision</th>\n",
       "      <th>recall</th>\n",
       "      <th>precision</th>\n",
       "      <th>recall</th>\n",
       "      <th>precision</th>\n",
       "      <th>recall</th>\n",
       "      <th>precision</th>\n",
       "      <th>recall</th>\n",
       "      <th>precision</th>\n",
       "      <th>recall</th>\n",
       "      <th>precision</th>\n",
       "      <th>recall</th>\n",
       "      <th>precision</th>\n",
       "      <th>recall</th>\n",
       "      <th>class count</th>\n",
       "    </tr>\n",
       "  </thead>\n",
       "  <tbody>\n",
       "    <tr>\n",
       "      <th>functional</th>\n",
       "      <td>0.767559</td>\n",
       "      <td>0.911198</td>\n",
       "      <td>0.679266</td>\n",
       "      <td>0.678632</td>\n",
       "      <td>0.000000</td>\n",
       "      <td>0.0</td>\n",
       "      <td>0.670067</td>\n",
       "      <td>0.749112</td>\n",
       "      <td>0.603381</td>\n",
       "      <td>0.373715</td>\n",
       "      <td>0.672786</td>\n",
       "      <td>0.739951</td>\n",
       "      <td>0.621650</td>\n",
       "      <td>0.438026</td>\n",
       "      <td>5349</td>\n",
       "    </tr>\n",
       "    <tr>\n",
       "      <th>functional needs repair</th>\n",
       "      <td>0.632258</td>\n",
       "      <td>0.151938</td>\n",
       "      <td>0.124478</td>\n",
       "      <td>0.231008</td>\n",
       "      <td>0.000000</td>\n",
       "      <td>0.0</td>\n",
       "      <td>0.110390</td>\n",
       "      <td>0.052713</td>\n",
       "      <td>0.088183</td>\n",
       "      <td>0.460465</td>\n",
       "      <td>0.086262</td>\n",
       "      <td>0.083721</td>\n",
       "      <td>0.073048</td>\n",
       "      <td>0.269767</td>\n",
       "      <td>645</td>\n",
       "    </tr>\n",
       "    <tr>\n",
       "      <th>non functional</th>\n",
       "      <td>0.787948</td>\n",
       "      <td>0.659432</td>\n",
       "      <td>0.535963</td>\n",
       "      <td>0.442387</td>\n",
       "      <td>0.343267</td>\n",
       "      <td>1.0</td>\n",
       "      <td>0.522015</td>\n",
       "      <td>0.473029</td>\n",
       "      <td>0.484464</td>\n",
       "      <td>0.378232</td>\n",
       "      <td>0.549274</td>\n",
       "      <td>0.458985</td>\n",
       "      <td>0.468078</td>\n",
       "      <td>0.444622</td>\n",
       "      <td>3133</td>\n",
       "    </tr>\n",
       "  </tbody>\n",
       "</table>\n",
       "</div>"
      ],
      "text/plain": [
       "                        base_line           logreg_over            \\\n",
       "                        precision    recall   precision    recall   \n",
       "functional               0.767559  0.911198    0.679266  0.678632   \n",
       "functional needs repair  0.632258  0.151938    0.124478  0.231008   \n",
       "non functional           0.787948  0.659432    0.535963  0.442387   \n",
       "\n",
       "                        logreg_under          rf_over            rf_under  \\\n",
       "                           precision recall precision    recall precision   \n",
       "functional                  0.000000    0.0  0.670067  0.749112  0.603381   \n",
       "functional needs repair     0.000000    0.0  0.110390  0.052713  0.088183   \n",
       "non functional              0.343267    1.0  0.522015  0.473029  0.484464   \n",
       "\n",
       "                                   xgb_over           xgb_under            \\\n",
       "                           recall precision    recall precision    recall   \n",
       "functional               0.373715  0.672786  0.739951  0.621650  0.438026   \n",
       "functional needs repair  0.460465  0.086262  0.083721  0.073048  0.269767   \n",
       "non functional           0.378232  0.549274  0.458985  0.468078  0.444622   \n",
       "\n",
       "                                     \n",
       "                        class count  \n",
       "functional                     5349  \n",
       "functional needs repair         645  \n",
       "non functional                 3133  "
      ]
     },
     "execution_count": 269,
     "metadata": {},
     "output_type": "execute_result"
    }
   ],
   "source": [
    "df_final_results"
   ]
  },
  {
   "cell_type": "markdown",
   "id": "framed-hungarian",
   "metadata": {},
   "source": [
    "#### Two Classes:"
   ]
  },
  {
   "cell_type": "code",
   "execution_count": 270,
   "id": "abandoned-heath",
   "metadata": {},
   "outputs": [
    {
     "data": {
      "text/html": [
       "<div>\n",
       "<style scoped>\n",
       "    .dataframe tbody tr th:only-of-type {\n",
       "        vertical-align: middle;\n",
       "    }\n",
       "\n",
       "    .dataframe tbody tr th {\n",
       "        vertical-align: top;\n",
       "    }\n",
       "\n",
       "    .dataframe thead tr th {\n",
       "        text-align: left;\n",
       "    }\n",
       "</style>\n",
       "<table border=\"1\" class=\"dataframe\">\n",
       "  <thead>\n",
       "    <tr>\n",
       "      <th></th>\n",
       "      <th colspan=\"2\" halign=\"left\">logreg_over</th>\n",
       "      <th colspan=\"2\" halign=\"left\">logreg_under</th>\n",
       "      <th colspan=\"2\" halign=\"left\">rf_over</th>\n",
       "      <th colspan=\"2\" halign=\"left\">rf_under</th>\n",
       "      <th colspan=\"2\" halign=\"left\">xgb_over</th>\n",
       "      <th colspan=\"2\" halign=\"left\">xgb_under</th>\n",
       "      <th></th>\n",
       "    </tr>\n",
       "    <tr>\n",
       "      <th></th>\n",
       "      <th>precision</th>\n",
       "      <th>recall</th>\n",
       "      <th>precision</th>\n",
       "      <th>recall</th>\n",
       "      <th>precision</th>\n",
       "      <th>recall</th>\n",
       "      <th>precision</th>\n",
       "      <th>recall</th>\n",
       "      <th>precision</th>\n",
       "      <th>recall</th>\n",
       "      <th>precision</th>\n",
       "      <th>recall</th>\n",
       "      <th>class count</th>\n",
       "    </tr>\n",
       "  </thead>\n",
       "  <tbody>\n",
       "    <tr>\n",
       "      <th>faulty</th>\n",
       "      <td>0.528846</td>\n",
       "      <td>0.567761</td>\n",
       "      <td>0.511653</td>\n",
       "      <td>0.621758</td>\n",
       "      <td>0.569132</td>\n",
       "      <td>0.515352</td>\n",
       "      <td>0.530914</td>\n",
       "      <td>0.588671</td>\n",
       "      <td>0.514713</td>\n",
       "      <td>0.546321</td>\n",
       "      <td>0.516355</td>\n",
       "      <td>0.547380</td>\n",
       "      <td>3778</td>\n",
       "    </tr>\n",
       "    <tr>\n",
       "      <th>functional</th>\n",
       "      <td>0.677973</td>\n",
       "      <td>0.642737</td>\n",
       "      <td>0.684965</td>\n",
       "      <td>0.580856</td>\n",
       "      <td>0.679110</td>\n",
       "      <td>0.724434</td>\n",
       "      <td>0.685298</td>\n",
       "      <td>0.632642</td>\n",
       "      <td>0.665038</td>\n",
       "      <td>0.636194</td>\n",
       "      <td>0.666146</td>\n",
       "      <td>0.637876</td>\n",
       "      <td>5349</td>\n",
       "    </tr>\n",
       "  </tbody>\n",
       "</table>\n",
       "</div>"
      ],
      "text/plain": [
       "           logreg_over           logreg_under             rf_over            \\\n",
       "             precision    recall    precision    recall precision    recall   \n",
       "faulty        0.528846  0.567761     0.511653  0.621758  0.569132  0.515352   \n",
       "functional    0.677973  0.642737     0.684965  0.580856  0.679110  0.724434   \n",
       "\n",
       "            rf_under            xgb_over           xgb_under            \\\n",
       "           precision    recall precision    recall precision    recall   \n",
       "faulty      0.530914  0.588671  0.514713  0.546321  0.516355  0.547380   \n",
       "functional  0.685298  0.632642  0.665038  0.636194  0.666146  0.637876   \n",
       "\n",
       "                        \n",
       "           class count  \n",
       "faulty            3778  \n",
       "functional        5349  "
      ]
     },
     "execution_count": 270,
     "metadata": {},
     "output_type": "execute_result"
    }
   ],
   "source": [
    "df_final_binary_results"
   ]
  },
  {
   "cell_type": "markdown",
   "id": "generous-package",
   "metadata": {},
   "source": [
    "#### Hyperparameters\n",
    "Here is a summary of the hyperparameters use for each model.\n",
    "\n",
    "* Logistic Regression:"
   ]
  },
  {
   "cell_type": "code",
   "execution_count": 271,
   "id": "joined-parish",
   "metadata": {},
   "outputs": [
    {
     "data": {
      "text/html": [
       "<div>\n",
       "<style scoped>\n",
       "    .dataframe tbody tr th:only-of-type {\n",
       "        vertical-align: middle;\n",
       "    }\n",
       "\n",
       "    .dataframe tbody tr th {\n",
       "        vertical-align: top;\n",
       "    }\n",
       "\n",
       "    .dataframe thead th {\n",
       "        text-align: right;\n",
       "    }\n",
       "</style>\n",
       "<table border=\"1\" class=\"dataframe\">\n",
       "  <thead>\n",
       "    <tr style=\"text-align: right;\">\n",
       "      <th></th>\n",
       "      <th>sampling</th>\n",
       "      <th>num_classes</th>\n",
       "      <th>penalty</th>\n",
       "      <th>C</th>\n",
       "    </tr>\n",
       "  </thead>\n",
       "  <tbody>\n",
       "    <tr>\n",
       "      <th>0</th>\n",
       "      <td>over</td>\n",
       "      <td>3</td>\n",
       "      <td>l1</td>\n",
       "      <td>2.2</td>\n",
       "    </tr>\n",
       "    <tr>\n",
       "      <th>1</th>\n",
       "      <td>under</td>\n",
       "      <td>3</td>\n",
       "      <td>l1</td>\n",
       "      <td>0.2</td>\n",
       "    </tr>\n",
       "    <tr>\n",
       "      <th>2</th>\n",
       "      <td>over</td>\n",
       "      <td>2</td>\n",
       "      <td>l1</td>\n",
       "      <td>2.2</td>\n",
       "    </tr>\n",
       "    <tr>\n",
       "      <th>3</th>\n",
       "      <td>under</td>\n",
       "      <td>2</td>\n",
       "      <td>l1</td>\n",
       "      <td>2.2</td>\n",
       "    </tr>\n",
       "  </tbody>\n",
       "</table>\n",
       "</div>"
      ],
      "text/plain": [
       "  sampling  num_classes penalty    C\n",
       "0     over            3      l1  2.2\n",
       "1    under            3      l1  0.2\n",
       "2     over            2      l1  2.2\n",
       "3    under            2      l1  2.2"
      ]
     },
     "execution_count": 271,
     "metadata": {},
     "output_type": "execute_result"
    }
   ],
   "source": [
    "df_logreg_params"
   ]
  },
  {
   "cell_type": "markdown",
   "id": "weighted-contemporary",
   "metadata": {},
   "source": [
    "* Random Forest"
   ]
  },
  {
   "cell_type": "code",
   "execution_count": 272,
   "id": "organizational-jersey",
   "metadata": {},
   "outputs": [
    {
     "data": {
      "text/html": [
       "<div>\n",
       "<style scoped>\n",
       "    .dataframe tbody tr th:only-of-type {\n",
       "        vertical-align: middle;\n",
       "    }\n",
       "\n",
       "    .dataframe tbody tr th {\n",
       "        vertical-align: top;\n",
       "    }\n",
       "\n",
       "    .dataframe thead th {\n",
       "        text-align: right;\n",
       "    }\n",
       "</style>\n",
       "<table border=\"1\" class=\"dataframe\">\n",
       "  <thead>\n",
       "    <tr style=\"text-align: right;\">\n",
       "      <th></th>\n",
       "      <th>sampling</th>\n",
       "      <th>num_classes</th>\n",
       "      <th>n_estimators</th>\n",
       "      <th>min_samples_split</th>\n",
       "      <th>min_samples_leaf</th>\n",
       "      <th>max_features</th>\n",
       "      <th>max_depth</th>\n",
       "      <th>bootstrap</th>\n",
       "    </tr>\n",
       "  </thead>\n",
       "  <tbody>\n",
       "    <tr>\n",
       "      <th>0</th>\n",
       "      <td>over</td>\n",
       "      <td>3</td>\n",
       "      <td>1600</td>\n",
       "      <td>3</td>\n",
       "      <td>1</td>\n",
       "      <td>auto</td>\n",
       "      <td>90</td>\n",
       "      <td>True</td>\n",
       "    </tr>\n",
       "    <tr>\n",
       "      <th>1</th>\n",
       "      <td>under</td>\n",
       "      <td>3</td>\n",
       "      <td>2400</td>\n",
       "      <td>7</td>\n",
       "      <td>3</td>\n",
       "      <td>auto</td>\n",
       "      <td>40</td>\n",
       "      <td>True</td>\n",
       "    </tr>\n",
       "    <tr>\n",
       "      <th>2</th>\n",
       "      <td>over</td>\n",
       "      <td>2</td>\n",
       "      <td>2000</td>\n",
       "      <td>9</td>\n",
       "      <td>3</td>\n",
       "      <td>sqrt</td>\n",
       "      <td>60</td>\n",
       "      <td>True</td>\n",
       "    </tr>\n",
       "    <tr>\n",
       "      <th>3</th>\n",
       "      <td>under</td>\n",
       "      <td>2</td>\n",
       "      <td>2000</td>\n",
       "      <td>10</td>\n",
       "      <td>2</td>\n",
       "      <td>sqrt</td>\n",
       "      <td>80</td>\n",
       "      <td>False</td>\n",
       "    </tr>\n",
       "  </tbody>\n",
       "</table>\n",
       "</div>"
      ],
      "text/plain": [
       "  sampling  num_classes  n_estimators  min_samples_split  min_samples_leaf  \\\n",
       "0     over            3          1600                  3                 1   \n",
       "1    under            3          2400                  7                 3   \n",
       "2     over            2          2000                  9                 3   \n",
       "3    under            2          2000                 10                 2   \n",
       "\n",
       "  max_features  max_depth  bootstrap  \n",
       "0         auto         90       True  \n",
       "1         auto         40       True  \n",
       "2         sqrt         60       True  \n",
       "3         sqrt         80      False  "
      ]
     },
     "execution_count": 272,
     "metadata": {},
     "output_type": "execute_result"
    }
   ],
   "source": [
    "df_rf_params"
   ]
  },
  {
   "cell_type": "markdown",
   "id": "entire-garlic",
   "metadata": {},
   "source": [
    "* XGBoost"
   ]
  },
  {
   "cell_type": "code",
   "execution_count": 273,
   "id": "serious-astrology",
   "metadata": {},
   "outputs": [
    {
     "data": {
      "text/html": [
       "<div>\n",
       "<style scoped>\n",
       "    .dataframe tbody tr th:only-of-type {\n",
       "        vertical-align: middle;\n",
       "    }\n",
       "\n",
       "    .dataframe tbody tr th {\n",
       "        vertical-align: top;\n",
       "    }\n",
       "\n",
       "    .dataframe thead th {\n",
       "        text-align: right;\n",
       "    }\n",
       "</style>\n",
       "<table border=\"1\" class=\"dataframe\">\n",
       "  <thead>\n",
       "    <tr style=\"text-align: right;\">\n",
       "      <th></th>\n",
       "      <th>sampling</th>\n",
       "      <th>num_classes</th>\n",
       "      <th>min_child_weight</th>\n",
       "      <th>max_depth</th>\n",
       "      <th>gamma</th>\n",
       "      <th>n_estimators</th>\n",
       "    </tr>\n",
       "  </thead>\n",
       "  <tbody>\n",
       "    <tr>\n",
       "      <th>0</th>\n",
       "      <td>over</td>\n",
       "      <td>3</td>\n",
       "      <td>1</td>\n",
       "      <td>1</td>\n",
       "      <td>0</td>\n",
       "      <td>1000</td>\n",
       "    </tr>\n",
       "    <tr>\n",
       "      <th>1</th>\n",
       "      <td>under</td>\n",
       "      <td>3</td>\n",
       "      <td>1</td>\n",
       "      <td>1</td>\n",
       "      <td>0</td>\n",
       "      <td>1000</td>\n",
       "    </tr>\n",
       "    <tr>\n",
       "      <th>2</th>\n",
       "      <td>over</td>\n",
       "      <td>2</td>\n",
       "      <td>1</td>\n",
       "      <td>1</td>\n",
       "      <td>0</td>\n",
       "      <td>1000</td>\n",
       "    </tr>\n",
       "    <tr>\n",
       "      <th>3</th>\n",
       "      <td>under</td>\n",
       "      <td>2</td>\n",
       "      <td>1</td>\n",
       "      <td>1</td>\n",
       "      <td>0</td>\n",
       "      <td>1000</td>\n",
       "    </tr>\n",
       "  </tbody>\n",
       "</table>\n",
       "</div>"
      ],
      "text/plain": [
       "  sampling  num_classes  min_child_weight  max_depth  gamma  n_estimators\n",
       "0     over            3                 1          1      0          1000\n",
       "1    under            3                 1          1      0          1000\n",
       "2     over            2                 1          1      0          1000\n",
       "3    under            2                 1          1      0          1000"
      ]
     },
     "execution_count": 273,
     "metadata": {},
     "output_type": "execute_result"
    }
   ],
   "source": [
    "df_xgb_params"
   ]
  },
  {
   "cell_type": "markdown",
   "id": "driven-credit",
   "metadata": {},
   "source": [
    "## Conclusions\n",
    "### All Classes\n",
    "* "
   ]
  }
 ],
 "metadata": {
  "kernelspec": {
   "display_name": "Python 3",
   "language": "python",
   "name": "python3"
  },
  "language_info": {
   "codemirror_mode": {
    "name": "ipython",
    "version": 3
   },
   "file_extension": ".py",
   "mimetype": "text/x-python",
   "name": "python",
   "nbconvert_exporter": "python",
   "pygments_lexer": "ipython3",
   "version": "3.8.8"
  }
 },
 "nbformat": 4,
 "nbformat_minor": 5
}
