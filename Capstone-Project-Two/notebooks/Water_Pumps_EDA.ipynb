{
 "cells": [
  {
   "cell_type": "markdown",
   "metadata": {},
   "source": [
    "# Water Pumps: EDA\n",
    "**Plan:**\n",
    "1. Relationships between date recorded and geographical location.\n",
    "2. Relations between groups of categorical data.\n",
    "3. Distributions of numerical data."
   ]
  },
  {
   "cell_type": "code",
   "execution_count": 1,
   "metadata": {},
   "outputs": [],
   "source": [
    "from collections import defaultdict\n",
    "\n",
    "import pandas as pd\n",
    "import matplotlib.pyplot as plt\n",
    "import numpy as np\n",
    "import seaborn as sns\n",
    "\n",
    "%matplotlib inline"
   ]
  },
  {
   "cell_type": "code",
   "execution_count": 2,
   "metadata": {},
   "outputs": [
    {
     "data": {
      "text/plain": [
       "'1.1.3'"
      ]
     },
     "execution_count": 2,
     "metadata": {},
     "output_type": "execute_result"
    }
   ],
   "source": [
    "pd.__version__"
   ]
  },
  {
   "cell_type": "code",
   "execution_count": 3,
   "metadata": {},
   "outputs": [
    {
     "data": {
      "text/plain": [
       "'0.11.0'"
      ]
     },
     "execution_count": 3,
     "metadata": {},
     "output_type": "execute_result"
    }
   ],
   "source": [
    "sns.__version__"
   ]
  },
  {
   "cell_type": "markdown",
   "metadata": {},
   "source": [
    "## Load Cleaned Data"
   ]
  },
  {
   "cell_type": "code",
   "execution_count": 4,
   "metadata": {},
   "outputs": [],
   "source": [
    "df = pd.read_csv('../data/clean/cleaned_data.csv', index_col='id')"
   ]
  },
  {
   "cell_type": "code",
   "execution_count": 5,
   "metadata": {},
   "outputs": [
    {
     "data": {
      "text/html": [
       "<div>\n",
       "<style scoped>\n",
       "    .dataframe tbody tr th:only-of-type {\n",
       "        vertical-align: middle;\n",
       "    }\n",
       "\n",
       "    .dataframe tbody tr th {\n",
       "        vertical-align: top;\n",
       "    }\n",
       "\n",
       "    .dataframe thead th {\n",
       "        text-align: right;\n",
       "    }\n",
       "</style>\n",
       "<table border=\"1\" class=\"dataframe\">\n",
       "  <thead>\n",
       "    <tr style=\"text-align: right;\">\n",
       "      <th></th>\n",
       "      <th>status_group</th>\n",
       "      <th>amount_tsh</th>\n",
       "      <th>date_recorded</th>\n",
       "      <th>funder</th>\n",
       "      <th>gps_height</th>\n",
       "      <th>installer</th>\n",
       "      <th>longitude</th>\n",
       "      <th>latitude</th>\n",
       "      <th>wpt_name</th>\n",
       "      <th>num_private</th>\n",
       "      <th>...</th>\n",
       "      <th>payment_type</th>\n",
       "      <th>water_quality</th>\n",
       "      <th>quality_group</th>\n",
       "      <th>quantity</th>\n",
       "      <th>quantity_group</th>\n",
       "      <th>source</th>\n",
       "      <th>source_type</th>\n",
       "      <th>source_class</th>\n",
       "      <th>waterpoint_type</th>\n",
       "      <th>waterpoint_type_group</th>\n",
       "    </tr>\n",
       "    <tr>\n",
       "      <th>id</th>\n",
       "      <th></th>\n",
       "      <th></th>\n",
       "      <th></th>\n",
       "      <th></th>\n",
       "      <th></th>\n",
       "      <th></th>\n",
       "      <th></th>\n",
       "      <th></th>\n",
       "      <th></th>\n",
       "      <th></th>\n",
       "      <th></th>\n",
       "      <th></th>\n",
       "      <th></th>\n",
       "      <th></th>\n",
       "      <th></th>\n",
       "      <th></th>\n",
       "      <th></th>\n",
       "      <th></th>\n",
       "      <th></th>\n",
       "      <th></th>\n",
       "      <th></th>\n",
       "    </tr>\n",
       "  </thead>\n",
       "  <tbody>\n",
       "    <tr>\n",
       "      <th>0</th>\n",
       "      <td>non functional</td>\n",
       "      <td>0.0</td>\n",
       "      <td>2012-11-13</td>\n",
       "      <td>Tasaf</td>\n",
       "      <td>0</td>\n",
       "      <td>TASAF</td>\n",
       "      <td>33.125828</td>\n",
       "      <td>-5.118154</td>\n",
       "      <td>Mratibu</td>\n",
       "      <td>0</td>\n",
       "      <td>...</td>\n",
       "      <td>unknown</td>\n",
       "      <td>milky</td>\n",
       "      <td>milky</td>\n",
       "      <td>enough</td>\n",
       "      <td>enough</td>\n",
       "      <td>shallow well</td>\n",
       "      <td>shallow well</td>\n",
       "      <td>groundwater</td>\n",
       "      <td>hand pump</td>\n",
       "      <td>hand pump</td>\n",
       "    </tr>\n",
       "    <tr>\n",
       "      <th>1</th>\n",
       "      <td>functional</td>\n",
       "      <td>0.0</td>\n",
       "      <td>2011-03-05</td>\n",
       "      <td>Shipo</td>\n",
       "      <td>1978</td>\n",
       "      <td>SHIPO</td>\n",
       "      <td>34.770717</td>\n",
       "      <td>-9.395642</td>\n",
       "      <td>none</td>\n",
       "      <td>0</td>\n",
       "      <td>...</td>\n",
       "      <td>never pay</td>\n",
       "      <td>soft</td>\n",
       "      <td>good</td>\n",
       "      <td>enough</td>\n",
       "      <td>enough</td>\n",
       "      <td>shallow well</td>\n",
       "      <td>shallow well</td>\n",
       "      <td>groundwater</td>\n",
       "      <td>hand pump</td>\n",
       "      <td>hand pump</td>\n",
       "    </tr>\n",
       "    <tr>\n",
       "      <th>2</th>\n",
       "      <td>functional</td>\n",
       "      <td>0.0</td>\n",
       "      <td>2011-03-27</td>\n",
       "      <td>Lvia</td>\n",
       "      <td>0</td>\n",
       "      <td>LVIA</td>\n",
       "      <td>36.115056</td>\n",
       "      <td>-6.279268</td>\n",
       "      <td>Bombani</td>\n",
       "      <td>0</td>\n",
       "      <td>...</td>\n",
       "      <td>per bucket</td>\n",
       "      <td>soft</td>\n",
       "      <td>good</td>\n",
       "      <td>insufficient</td>\n",
       "      <td>insufficient</td>\n",
       "      <td>machine dbh</td>\n",
       "      <td>borehole</td>\n",
       "      <td>groundwater</td>\n",
       "      <td>communal standpipe multiple</td>\n",
       "      <td>communal standpipe</td>\n",
       "    </tr>\n",
       "    <tr>\n",
       "      <th>3</th>\n",
       "      <td>functional</td>\n",
       "      <td>10.0</td>\n",
       "      <td>2013-06-03</td>\n",
       "      <td>Germany Republi</td>\n",
       "      <td>1639</td>\n",
       "      <td>CES</td>\n",
       "      <td>37.147432</td>\n",
       "      <td>-3.187555</td>\n",
       "      <td>Area 7 Namba 5</td>\n",
       "      <td>0</td>\n",
       "      <td>...</td>\n",
       "      <td>per bucket</td>\n",
       "      <td>soft</td>\n",
       "      <td>good</td>\n",
       "      <td>enough</td>\n",
       "      <td>enough</td>\n",
       "      <td>spring</td>\n",
       "      <td>spring</td>\n",
       "      <td>groundwater</td>\n",
       "      <td>communal standpipe</td>\n",
       "      <td>communal standpipe</td>\n",
       "    </tr>\n",
       "    <tr>\n",
       "      <th>4</th>\n",
       "      <td>non functional</td>\n",
       "      <td>0.0</td>\n",
       "      <td>2011-03-22</td>\n",
       "      <td>Cmsr</td>\n",
       "      <td>0</td>\n",
       "      <td>CMSR</td>\n",
       "      <td>36.164893</td>\n",
       "      <td>-6.099289</td>\n",
       "      <td>Ezeleda</td>\n",
       "      <td>0</td>\n",
       "      <td>...</td>\n",
       "      <td>unknown</td>\n",
       "      <td>soft</td>\n",
       "      <td>good</td>\n",
       "      <td>dry</td>\n",
       "      <td>dry</td>\n",
       "      <td>shallow well</td>\n",
       "      <td>shallow well</td>\n",
       "      <td>groundwater</td>\n",
       "      <td>hand pump</td>\n",
       "      <td>hand pump</td>\n",
       "    </tr>\n",
       "  </tbody>\n",
       "</table>\n",
       "<p>5 rows × 38 columns</p>\n",
       "</div>"
      ],
      "text/plain": [
       "      status_group  amount_tsh date_recorded           funder  gps_height  \\\n",
       "id                                                                          \n",
       "0   non functional         0.0    2012-11-13            Tasaf           0   \n",
       "1       functional         0.0    2011-03-05            Shipo        1978   \n",
       "2       functional         0.0    2011-03-27             Lvia           0   \n",
       "3       functional        10.0    2013-06-03  Germany Republi        1639   \n",
       "4   non functional         0.0    2011-03-22             Cmsr           0   \n",
       "\n",
       "   installer  longitude  latitude        wpt_name  num_private  ...  \\\n",
       "id                                                              ...   \n",
       "0      TASAF  33.125828 -5.118154         Mratibu            0  ...   \n",
       "1      SHIPO  34.770717 -9.395642            none            0  ...   \n",
       "2       LVIA  36.115056 -6.279268         Bombani            0  ...   \n",
       "3        CES  37.147432 -3.187555  Area 7 Namba 5            0  ...   \n",
       "4       CMSR  36.164893 -6.099289         Ezeleda            0  ...   \n",
       "\n",
       "   payment_type water_quality quality_group      quantity  quantity_group  \\\n",
       "id                                                                          \n",
       "0       unknown         milky         milky        enough          enough   \n",
       "1     never pay          soft          good        enough          enough   \n",
       "2    per bucket          soft          good  insufficient    insufficient   \n",
       "3    per bucket          soft          good        enough          enough   \n",
       "4       unknown          soft          good           dry             dry   \n",
       "\n",
       "          source   source_type  source_class              waterpoint_type  \\\n",
       "id                                                                          \n",
       "0   shallow well  shallow well   groundwater                    hand pump   \n",
       "1   shallow well  shallow well   groundwater                    hand pump   \n",
       "2    machine dbh      borehole   groundwater  communal standpipe multiple   \n",
       "3         spring        spring   groundwater           communal standpipe   \n",
       "4   shallow well  shallow well   groundwater                    hand pump   \n",
       "\n",
       "   waterpoint_type_group  \n",
       "id                        \n",
       "0              hand pump  \n",
       "1              hand pump  \n",
       "2     communal standpipe  \n",
       "3     communal standpipe  \n",
       "4              hand pump  \n",
       "\n",
       "[5 rows x 38 columns]"
      ]
     },
     "execution_count": 5,
     "metadata": {},
     "output_type": "execute_result"
    }
   ],
   "source": [
    "df.head()"
   ]
  },
  {
   "cell_type": "code",
   "execution_count": 6,
   "metadata": {},
   "outputs": [
    {
     "name": "stdout",
     "output_type": "stream",
     "text": [
      "<class 'pandas.core.frame.DataFrame'>\n",
      "Int64Index: 59364 entries, 0 to 74247\n",
      "Data columns (total 38 columns):\n",
      " #   Column                 Non-Null Count  Dtype  \n",
      "---  ------                 --------------  -----  \n",
      " 0   status_group           59364 non-null  object \n",
      " 1   amount_tsh             59364 non-null  float64\n",
      " 2   date_recorded          59364 non-null  object \n",
      " 3   funder                 59364 non-null  object \n",
      " 4   gps_height             59364 non-null  int64  \n",
      " 5   installer              59364 non-null  object \n",
      " 6   longitude              59364 non-null  float64\n",
      " 7   latitude               59364 non-null  float64\n",
      " 8   wpt_name               59364 non-null  object \n",
      " 9   num_private            59364 non-null  int64  \n",
      " 10  basin                  59364 non-null  object \n",
      " 11  subvillage             59364 non-null  object \n",
      " 12  region                 59364 non-null  object \n",
      " 13  region_code            59364 non-null  int64  \n",
      " 14  district_code          59364 non-null  int64  \n",
      " 15  lga                    59364 non-null  object \n",
      " 16  ward                   59364 non-null  object \n",
      " 17  population             59364 non-null  int64  \n",
      " 18  public_meeting         59364 non-null  bool   \n",
      " 19  scheme_management      59364 non-null  object \n",
      " 20  permit                 59364 non-null  bool   \n",
      " 21  construction_year      59364 non-null  int64  \n",
      " 22  extraction_type        59364 non-null  object \n",
      " 23  extraction_type_group  59364 non-null  object \n",
      " 24  extraction_type_class  59364 non-null  object \n",
      " 25  management             59364 non-null  object \n",
      " 26  management_group       59364 non-null  object \n",
      " 27  payment                59364 non-null  object \n",
      " 28  payment_type           59364 non-null  object \n",
      " 29  water_quality          59364 non-null  object \n",
      " 30  quality_group          59364 non-null  object \n",
      " 31  quantity               59364 non-null  object \n",
      " 32  quantity_group         59364 non-null  object \n",
      " 33  source                 59364 non-null  object \n",
      " 34  source_type            59364 non-null  object \n",
      " 35  source_class           59364 non-null  object \n",
      " 36  waterpoint_type        59364 non-null  object \n",
      " 37  waterpoint_type_group  59364 non-null  object \n",
      "dtypes: bool(2), float64(3), int64(6), object(27)\n",
      "memory usage: 16.9+ MB\n"
     ]
    }
   ],
   "source": [
    "df.info()"
   ]
  },
  {
   "cell_type": "markdown",
   "metadata": {},
   "source": [
    "## EDA"
   ]
  },
  {
   "cell_type": "markdown",
   "metadata": {},
   "source": [
    "### Dates and Geographical location\n",
    "As indicated during data wrangling, it appears that the geographical locations were recorded twice. I will investigate on whether there is a relationship between when the record was made and the location."
   ]
  },
  {
   "cell_type": "code",
   "execution_count": 7,
   "metadata": {},
   "outputs": [
    {
     "name": "stdout",
     "output_type": "stream",
     "text": [
      "1       57443\n",
      "2          72\n",
      "1777        1\n",
      "Name: longitude, dtype: int64\n",
      "1       57445\n",
      "2          71\n",
      "1777        1\n",
      "Name: latitude, dtype: int64\n"
     ]
    }
   ],
   "source": [
    "geo_columns = ['longitude', 'latitude']\n",
    "for column in geo_columns:\n",
    "    print(df[column].value_counts().to_frame()[column].value_counts())"
   ]
  },
  {
   "cell_type": "markdown",
   "metadata": {},
   "source": [
    "**Observations:**\n",
    "* The majority of the geographical locations are unique.\n",
    "* 71 geographical locations are recorded twice.\n",
    "    * Could these pumps have been recorded on different days?\n",
    "* One geographical location was recorded 1777 times.\n",
    "    * This seems suspicious and is worth investigating."
   ]
  },
  {
   "cell_type": "code",
   "execution_count": 8,
   "metadata": {},
   "outputs": [
    {
     "name": "stdout",
     "output_type": "stream",
     "text": [
      "           longitude\n",
      "0.000000        1777\n",
      "33.010510          2\n",
      "39.095087          2\n",
      "39.099069          2\n",
      "39.085965          2\n",
      "...              ...\n",
      "31.789709          1\n",
      "37.095085          1\n",
      "39.183964          1\n",
      "34.341160          1\n",
      "35.256844          1\n",
      "\n",
      "[57516 rows x 1 columns]\n",
      "               latitude\n",
      "-2.000000e-08      1777\n",
      "-2.465246e+00         2\n",
      "-6.957328e+00         2\n",
      "-6.991294e+00         2\n",
      "-2.490324e+00         2\n",
      "...                 ...\n",
      "-3.263586e+00         1\n",
      "-9.564592e+00         1\n",
      "-8.519241e+00         1\n",
      "-9.342734e+00         1\n",
      "-2.598965e+00         1\n",
      "\n",
      "[57517 rows x 1 columns]\n"
     ]
    }
   ],
   "source": [
    "geo_columns = ['longitude', 'latitude']\n",
    "for column in geo_columns:\n",
    "    print(df[column].value_counts().to_frame())"
   ]
  },
  {
   "cell_type": "markdown",
   "metadata": {},
   "source": [
    "**Question:** Do these geographical coordinates even fall within the borders of Tanzania?\n",
    "\n",
    "A Google map inspection reveals that these coordinates fall within the Atlantic Ocean! Therefore, they must have been used to indicate pumps with missing geographical information."
   ]
  },
  {
   "cell_type": "code",
   "execution_count": 9,
   "metadata": {},
   "outputs": [
    {
     "data": {
      "text/plain": [
       "0.0299339667138333"
      ]
     },
     "execution_count": 9,
     "metadata": {},
     "output_type": "execute_result"
    }
   ],
   "source": [
    "1777 / len(df)"
   ]
  },
  {
   "cell_type": "markdown",
   "metadata": {},
   "source": [
    "Less than three percent of the pumps are missing geographical locations. This is small, but not insignificant."
   ]
  },
  {
   "cell_type": "markdown",
   "metadata": {},
   "source": [
    "### Data types\n",
    "Inspecting the dataset above reveals that the categorical variable data types were lost when converting the file to a csv file. I will re-add them here."
   ]
  },
  {
   "cell_type": "code",
   "execution_count": 10,
   "metadata": {},
   "outputs": [],
   "source": [
    "categorical_vars = ['funder', 'installer', 'wpt_name', 'basin', 'subvillage', 'region', 'region_code', 'district_code',\n",
    "                   'lga', 'ward', 'public_meeting', 'permit', 'construction_year',\n",
    "                   'extraction_type', 'extraction_type_group', 'extraction_type_class', 'management', 'management_group',\n",
    "                   'payment_type', 'water_quality', 'quality_group', 'quantity_group', 'source', 'source_type', \n",
    "                    'source_class', 'waterpoint_type', 'waterpoint_type_group', 'scheme_management', 'status_group', \n",
    "                   'payment', 'quantity']"
   ]
  },
  {
   "cell_type": "code",
   "execution_count": 11,
   "metadata": {},
   "outputs": [],
   "source": [
    "categorical_dict = {x: 'category' for x in categorical_vars}"
   ]
  },
  {
   "cell_type": "code",
   "execution_count": 12,
   "metadata": {},
   "outputs": [],
   "source": [
    "df = df.astype(categorical_dict)"
   ]
  },
  {
   "cell_type": "code",
   "execution_count": 13,
   "metadata": {},
   "outputs": [
    {
     "name": "stdout",
     "output_type": "stream",
     "text": [
      "<class 'pandas.core.frame.DataFrame'>\n",
      "Int64Index: 59364 entries, 0 to 74247\n",
      "Data columns (total 38 columns):\n",
      " #   Column                 Non-Null Count  Dtype   \n",
      "---  ------                 --------------  -----   \n",
      " 0   status_group           59364 non-null  category\n",
      " 1   amount_tsh             59364 non-null  float64 \n",
      " 2   date_recorded          59364 non-null  object  \n",
      " 3   funder                 59364 non-null  category\n",
      " 4   gps_height             59364 non-null  int64   \n",
      " 5   installer              59364 non-null  category\n",
      " 6   longitude              59364 non-null  float64 \n",
      " 7   latitude               59364 non-null  float64 \n",
      " 8   wpt_name               59364 non-null  category\n",
      " 9   num_private            59364 non-null  int64   \n",
      " 10  basin                  59364 non-null  category\n",
      " 11  subvillage             59364 non-null  category\n",
      " 12  region                 59364 non-null  category\n",
      " 13  region_code            59364 non-null  category\n",
      " 14  district_code          59364 non-null  category\n",
      " 15  lga                    59364 non-null  category\n",
      " 16  ward                   59364 non-null  category\n",
      " 17  population             59364 non-null  int64   \n",
      " 18  public_meeting         59364 non-null  category\n",
      " 19  scheme_management      59364 non-null  category\n",
      " 20  permit                 59364 non-null  category\n",
      " 21  construction_year      59364 non-null  category\n",
      " 22  extraction_type        59364 non-null  category\n",
      " 23  extraction_type_group  59364 non-null  category\n",
      " 24  extraction_type_class  59364 non-null  category\n",
      " 25  management             59364 non-null  category\n",
      " 26  management_group       59364 non-null  category\n",
      " 27  payment                59364 non-null  category\n",
      " 28  payment_type           59364 non-null  category\n",
      " 29  water_quality          59364 non-null  category\n",
      " 30  quality_group          59364 non-null  category\n",
      " 31  quantity               59364 non-null  category\n",
      " 32  quantity_group         59364 non-null  category\n",
      " 33  source                 59364 non-null  category\n",
      " 34  source_type            59364 non-null  category\n",
      " 35  source_class           59364 non-null  category\n",
      " 36  waterpoint_type        59364 non-null  category\n",
      " 37  waterpoint_type_group  59364 non-null  category\n",
      "dtypes: category(31), float64(3), int64(3), object(1)\n",
      "memory usage: 8.4+ MB\n"
     ]
    }
   ],
   "source": [
    "df.info()"
   ]
  },
  {
   "cell_type": "markdown",
   "metadata": {},
   "source": [
    "## Distributions of numerical variables\n",
    "**Plan:**\n",
    "1. Create list of numerical column names.\n",
    "2. Plot ECDF plots to visualize distributions. Use subplots."
   ]
  },
  {
   "cell_type": "code",
   "execution_count": 14,
   "metadata": {},
   "outputs": [],
   "source": [
    "numerical_columns = df.select_dtypes(include=['float64', 'int64']).columns"
   ]
  },
  {
   "cell_type": "code",
   "execution_count": 15,
   "metadata": {},
   "outputs": [
    {
     "name": "stdout",
     "output_type": "stream",
     "text": [
      "Index(['amount_tsh', 'gps_height', 'longitude', 'latitude', 'num_private',\n",
      "       'population'],\n",
      "      dtype='object')\n"
     ]
    }
   ],
   "source": [
    "print(numerical_columns)"
   ]
  },
  {
   "cell_type": "code",
   "execution_count": 16,
   "metadata": {},
   "outputs": [
    {
     "name": "stdout",
     "output_type": "stream",
     "text": [
      "['amount_tsh', 'gps_height', 'longitude', 'latitude', 'num_private', 'population']\n"
     ]
    }
   ],
   "source": [
    "num_cols_list = numerical_columns.to_list()\n",
    "print(num_cols_list)"
   ]
  },
  {
   "cell_type": "code",
   "execution_count": 17,
   "metadata": {},
   "outputs": [
    {
     "data": {
      "text/plain": [
       "'0.11.0'"
      ]
     },
     "execution_count": 17,
     "metadata": {},
     "output_type": "execute_result"
    }
   ],
   "source": [
    "sns.__version__"
   ]
  },
  {
   "cell_type": "code",
   "execution_count": 24,
   "metadata": {},
   "outputs": [
    {
     "data": {
      "image/png": "[encoded data removed]",
      "text/plain": [
       "<Figure size 864x576 with 6 Axes>"
      ]
     },
     "metadata": {
      "needs_background": "light"
     },
     "output_type": "display_data"
    }
   ],
   "source": [
    "num_cols = 3\n",
    "num_rows = 2\n",
    "\n",
    "num_plots = len(num_cols_list)\n",
    "num_cols = 3\n",
    "num_rows = num_plots//num_cols\n",
    "\n",
    "fix, ax = plt.subplots(num_rows, num_cols, figsize=(12, 8))\n",
    "for i, column in enumerate(num_cols_list):\n",
    "    row_i = i // num_cols\n",
    "    col_i = i % num_cols\n",
    "    sns.ecdfplot(x=column, data=df, ax=ax[row_i, col_i])\n",
    "plt.tight_layout()\n",
    "plt.show()"
   ]
  },
  {
   "cell_type": "code",
   "execution_count": 25,
   "metadata": {},
   "outputs": [
    {
     "data": {
      "image/png": "[encoded data removed]",
      "text/plain": [
       "<Figure size 864x576 with 6 Axes>"
      ]
     },
     "metadata": {
      "needs_background": "light"
     },
     "output_type": "display_data"
    }
   ],
   "source": [
    "num_cols = 3\n",
    "num_rows = 2\n",
    "\n",
    "num_plots = len(num_cols_list)\n",
    "num_cols = 3\n",
    "num_rows = num_plots//num_cols\n",
    "\n",
    "fix, ax = plt.subplots(num_rows, num_cols, figsize=(12, 8))\n",
    "for i, column in enumerate(num_cols_list):\n",
    "    non_zero = df[column] != 0.0\n",
    "    row_i = i // num_cols\n",
    "    col_i = i % num_cols\n",
    "    sns.ecdfplot(x=column, data=df[non_zero], ax=ax[row_i, col_i])\n",
    "plt.tight_layout()\n",
    "plt.show()"
   ]
  },
  {
   "cell_type": "code",
   "execution_count": null,
   "metadata": {},
   "outputs": [],
   "source": []
  }
 ],
 "metadata": {
  "kernelspec": {
   "display_name": "Python 3",
   "language": "python",
   "name": "python3"
  },
  "language_info": {
   "codemirror_mode": {
    "name": "ipython",
    "version": 3
   },
   "file_extension": ".py",
   "mimetype": "text/x-python",
   "name": "python",
   "nbconvert_exporter": "python",
   "pygments_lexer": "ipython3",
   "version": "3.6.12"
  }
 },
 "nbformat": 4,
 "nbformat_minor": 4
}
