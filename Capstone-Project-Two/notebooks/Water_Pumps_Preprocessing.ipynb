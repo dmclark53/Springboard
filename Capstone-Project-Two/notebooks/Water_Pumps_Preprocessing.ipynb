{
 "cells": [
  {
   "cell_type": "markdown",
   "metadata": {},
   "source": [
    "# Water Pumps: Preprocessing\n",
    "## Business Problem:\n",
    "Tanzania is a developing country and access to water is very important for the health of the population. For this reason, it is vital that all water pumps are properly working. Currently, the only way to monitor pump working status is by physically visiting the site. This is time consuming and costly. Therefore, a more intelligent solution to monitor water pump status is desirable.\n",
    "\n",
    "This project will address the following question: How can the government of Tanzania improve water pump maintenance by knowing the pump functional status in advance?\n",
    "\n",
    "* Plan:\n",
    "    1. Standard continuous variables.\n",
    "    2. Perform model selection\n",
    "    \n",
    "* Model Selection: Models to Try:\n",
    "    * Tree-based.\n",
    "        * Random Forrest.\n",
    "        * AdaBoost.\n",
    "        * Gradient Boosting/XGBoost.\n",
    "    * Logistic regression.\n",
    "    \n",
    "## Import libraries"
   ]
  },
  {
   "cell_type": "code",
   "execution_count": 1,
   "metadata": {},
   "outputs": [],
   "source": [
    "import numpy as np\n",
    "import pandas as pd\n",
    "from sklearn.preprocessing import MinMaxScaler"
   ]
  },
  {
   "cell_type": "markdown",
   "metadata": {},
   "source": [
    "## Load Dataset\n",
    "Load the dataset after it has been modified during EDA."
   ]
  },
  {
   "cell_type": "code",
   "execution_count": 2,
   "metadata": {},
   "outputs": [],
   "source": [
    "df = pd.read_csv('../data/clean/eda_data.csv', parse_dates=['date_recorded'], infer_datetime_format=True)"
   ]
  },
  {
   "cell_type": "markdown",
   "metadata": {},
   "source": [
    "## Preprocessing\n",
    "### Data types\n",
    "Review the datatypes in the dataset."
   ]
  },
  {
   "cell_type": "code",
   "execution_count": 3,
   "metadata": {},
   "outputs": [
    {
     "name": "stdout",
     "output_type": "stream",
     "text": [
      "[dtype('O') dtype('<M8[ns]') dtype('int64') dtype('float64')]\n"
     ]
    }
   ],
   "source": [
    "all_data_types = df.dtypes\n",
    "unique_data_types = all_data_types.unique()\n",
    "print(unique_data_types)"
   ]
  },
  {
   "cell_type": "code",
   "execution_count": 4,
   "metadata": {},
   "outputs": [
    {
     "name": "stdout",
     "output_type": "stream",
     "text": [
      "['status_group']\n"
     ]
    }
   ],
   "source": [
    "print(df.select_dtypes(include=['O']).columns.tolist())"
   ]
  },
  {
   "cell_type": "markdown",
   "metadata": {},
   "source": [
    "The data types consist of *object*, which is the *status_group* column, datetime, int and float."
   ]
  },
  {
   "cell_type": "markdown",
   "metadata": {},
   "source": [
    "### Normalization\n",
    "\n",
    "First, select only those columns which have not been one-hot encoded."
   ]
  },
  {
   "cell_type": "code",
   "execution_count": 5,
   "metadata": {},
   "outputs": [],
   "source": [
    "all_numerical_columns = df.select_dtypes(include=['int64', 'float64']).columns.tolist()"
   ]
  },
  {
   "cell_type": "code",
   "execution_count": 6,
   "metadata": {},
   "outputs": [],
   "source": [
    "df_summary = df[all_numerical_columns].describe().T"
   ]
  },
  {
   "cell_type": "code",
   "execution_count": 7,
   "metadata": {},
   "outputs": [],
   "source": [
    "numerical_columns = df_summary[~df_summary['max'].isin([0.0, 1.0])].index.to_list()"
   ]
  },
  {
   "cell_type": "code",
   "execution_count": 8,
   "metadata": {},
   "outputs": [
    {
     "data": {
      "text/html": [
       "<div>\n",
       "<style scoped>\n",
       "    .dataframe tbody tr th:only-of-type {\n",
       "        vertical-align: middle;\n",
       "    }\n",
       "\n",
       "    .dataframe tbody tr th {\n",
       "        vertical-align: top;\n",
       "    }\n",
       "\n",
       "    .dataframe thead th {\n",
       "        text-align: right;\n",
       "    }\n",
       "</style>\n",
       "<table border=\"1\" class=\"dataframe\">\n",
       "  <thead>\n",
       "    <tr style=\"text-align: right;\">\n",
       "      <th></th>\n",
       "      <th>count</th>\n",
       "      <th>mean</th>\n",
       "      <th>std</th>\n",
       "      <th>min</th>\n",
       "      <th>25%</th>\n",
       "      <th>50%</th>\n",
       "      <th>75%</th>\n",
       "      <th>max</th>\n",
       "    </tr>\n",
       "  </thead>\n",
       "  <tbody>\n",
       "    <tr>\n",
       "      <th>gps_height</th>\n",
       "      <td>30423.0</td>\n",
       "      <td>983.518456</td>\n",
       "      <td>611.146363</td>\n",
       "      <td>-63.000000</td>\n",
       "      <td>353.000000</td>\n",
       "      <td>1148.000000</td>\n",
       "      <td>1462.000000</td>\n",
       "      <td>2628.000000</td>\n",
       "    </tr>\n",
       "    <tr>\n",
       "      <th>longitude</th>\n",
       "      <td>30423.0</td>\n",
       "      <td>35.832252</td>\n",
       "      <td>2.650462</td>\n",
       "      <td>29.607122</td>\n",
       "      <td>34.607104</td>\n",
       "      <td>36.404454</td>\n",
       "      <td>37.751836</td>\n",
       "      <td>40.345193</td>\n",
       "    </tr>\n",
       "    <tr>\n",
       "      <th>latitude</th>\n",
       "      <td>30423.0</td>\n",
       "      <td>-6.084223</td>\n",
       "      <td>2.738387</td>\n",
       "      <td>-11.568577</td>\n",
       "      <td>-8.506306</td>\n",
       "      <td>-5.749784</td>\n",
       "      <td>-3.599285</td>\n",
       "      <td>-1.042375</td>\n",
       "    </tr>\n",
       "    <tr>\n",
       "      <th>log_population</th>\n",
       "      <td>30423.0</td>\n",
       "      <td>5.236613</td>\n",
       "      <td>1.095295</td>\n",
       "      <td>0.693147</td>\n",
       "      <td>4.605170</td>\n",
       "      <td>5.298317</td>\n",
       "      <td>5.940171</td>\n",
       "      <td>10.325482</td>\n",
       "    </tr>\n",
       "  </tbody>\n",
       "</table>\n",
       "</div>"
      ],
      "text/plain": [
       "                  count        mean         std        min         25%  \\\n",
       "gps_height      30423.0  983.518456  611.146363 -63.000000  353.000000   \n",
       "longitude       30423.0   35.832252    2.650462  29.607122   34.607104   \n",
       "latitude        30423.0   -6.084223    2.738387 -11.568577   -8.506306   \n",
       "log_population  30423.0    5.236613    1.095295   0.693147    4.605170   \n",
       "\n",
       "                        50%          75%          max  \n",
       "gps_height      1148.000000  1462.000000  2628.000000  \n",
       "longitude         36.404454    37.751836    40.345193  \n",
       "latitude          -5.749784    -3.599285    -1.042375  \n",
       "log_population     5.298317     5.940171    10.325482  "
      ]
     },
     "execution_count": 8,
     "metadata": {},
     "output_type": "execute_result"
    }
   ],
   "source": [
    "df[numerical_columns].describe().T"
   ]
  },
  {
   "cell_type": "markdown",
   "metadata": {},
   "source": [
    "Normalize all numerical values to the range 0.0 - 1.0."
   ]
  },
  {
   "cell_type": "code",
   "execution_count": 10,
   "metadata": {},
   "outputs": [],
   "source": [
    "df[numerical_columns] = MinMaxScaler().fit_transform(df[numerical_columns])"
   ]
  },
  {
   "cell_type": "code",
   "execution_count": 11,
   "metadata": {},
   "outputs": [
    {
     "data": {
      "text/html": [
       "<div>\n",
       "<style scoped>\n",
       "    .dataframe tbody tr th:only-of-type {\n",
       "        vertical-align: middle;\n",
       "    }\n",
       "\n",
       "    .dataframe tbody tr th {\n",
       "        vertical-align: top;\n",
       "    }\n",
       "\n",
       "    .dataframe thead th {\n",
       "        text-align: right;\n",
       "    }\n",
       "</style>\n",
       "<table border=\"1\" class=\"dataframe\">\n",
       "  <thead>\n",
       "    <tr style=\"text-align: right;\">\n",
       "      <th></th>\n",
       "      <th>count</th>\n",
       "      <th>mean</th>\n",
       "      <th>std</th>\n",
       "      <th>min</th>\n",
       "      <th>25%</th>\n",
       "      <th>50%</th>\n",
       "      <th>75%</th>\n",
       "      <th>max</th>\n",
       "    </tr>\n",
       "  </thead>\n",
       "  <tbody>\n",
       "    <tr>\n",
       "      <th>gps_height</th>\n",
       "      <td>30423.0</td>\n",
       "      <td>0.388896</td>\n",
       "      <td>0.227108</td>\n",
       "      <td>0.0</td>\n",
       "      <td>0.154589</td>\n",
       "      <td>0.450019</td>\n",
       "      <td>0.566704</td>\n",
       "      <td>1.0</td>\n",
       "    </tr>\n",
       "    <tr>\n",
       "      <th>longitude</th>\n",
       "      <td>30423.0</td>\n",
       "      <td>0.579725</td>\n",
       "      <td>0.246828</td>\n",
       "      <td>0.0</td>\n",
       "      <td>0.465631</td>\n",
       "      <td>0.633012</td>\n",
       "      <td>0.758489</td>\n",
       "      <td>1.0</td>\n",
       "    </tr>\n",
       "    <tr>\n",
       "      <th>latitude</th>\n",
       "      <td>30423.0</td>\n",
       "      <td>0.521019</td>\n",
       "      <td>0.260150</td>\n",
       "      <td>0.0</td>\n",
       "      <td>0.290919</td>\n",
       "      <td>0.552791</td>\n",
       "      <td>0.757091</td>\n",
       "      <td>1.0</td>\n",
       "    </tr>\n",
       "    <tr>\n",
       "      <th>log_population</th>\n",
       "      <td>30423.0</td>\n",
       "      <td>0.471689</td>\n",
       "      <td>0.113710</td>\n",
       "      <td>0.0</td>\n",
       "      <td>0.406134</td>\n",
       "      <td>0.478095</td>\n",
       "      <td>0.544730</td>\n",
       "      <td>1.0</td>\n",
       "    </tr>\n",
       "  </tbody>\n",
       "</table>\n",
       "</div>"
      ],
      "text/plain": [
       "                  count      mean       std  min       25%       50%  \\\n",
       "gps_height      30423.0  0.388896  0.227108  0.0  0.154589  0.450019   \n",
       "longitude       30423.0  0.579725  0.246828  0.0  0.465631  0.633012   \n",
       "latitude        30423.0  0.521019  0.260150  0.0  0.290919  0.552791   \n",
       "log_population  30423.0  0.471689  0.113710  0.0  0.406134  0.478095   \n",
       "\n",
       "                     75%  max  \n",
       "gps_height      0.566704  1.0  \n",
       "longitude       0.758489  1.0  \n",
       "latitude        0.757091  1.0  \n",
       "log_population  0.544730  1.0  "
      ]
     },
     "execution_count": 11,
     "metadata": {},
     "output_type": "execute_result"
    }
   ],
   "source": [
    "df[numerical_columns].describe().T"
   ]
  },
  {
   "cell_type": "code",
   "execution_count": null,
   "metadata": {},
   "outputs": [],
   "source": []
  }
 ],
 "metadata": {
  "kernelspec": {
   "display_name": "Python 3",
   "language": "python",
   "name": "python3"
  },
  "language_info": {
   "codemirror_mode": {
    "name": "ipython",
    "version": 3
   },
   "file_extension": ".py",
   "mimetype": "text/x-python",
   "name": "python",
   "nbconvert_exporter": "python",
   "pygments_lexer": "ipython3",
   "version": "3.6.12"
  }
 },
 "nbformat": 4,
 "nbformat_minor": 4
}
