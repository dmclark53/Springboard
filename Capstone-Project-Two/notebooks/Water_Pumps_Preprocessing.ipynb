{
 "cells": [
  {
   "cell_type": "markdown",
   "metadata": {},
   "source": [
    "# Water Pumps: Preprocessing\n",
    "## Business Problem:\n",
    "Tanzania is a developing country and access to water is very important for the health of the population. For this reason, it is vital that all water pumps are properly working. Currently, the only way to monitor pump working status is by physically visiting the site. This is time consuming and costly. Therefore, a more intelligent solution to monitor water pump status is desirable.\n",
    "\n",
    "This project will address the following question: How can the government of Tanzania improve water pump maintenance by knowing the pump functional status in advance?\n",
    "\n",
    "## Preprocessing\n",
    "* Plan:\n",
    "    1. Standard continuous variables.\n",
    "    2. Perform model selection\n",
    "    \n",
    "* Model Selection: Models to Try:\n",
    "    * Tree-based.\n",
    "        * Random Forrest.\n",
    "        * AdaBoost.\n",
    "        * Gradient Boosting/XGBoost.\n",
    "    * Logistic regression."
   ]
  }
 ],
 "metadata": {
  "kernelspec": {
   "display_name": "Python 3",
   "language": "python",
   "name": "python3"
  },
  "language_info": {
   "codemirror_mode": {
    "name": "ipython",
    "version": 3
   },
   "file_extension": ".py",
   "mimetype": "text/x-python",
   "name": "python",
   "nbconvert_exporter": "python",
   "pygments_lexer": "ipython3",
   "version": "3.6.12"
  }
 },
 "nbformat": 4,
 "nbformat_minor": 4
}
