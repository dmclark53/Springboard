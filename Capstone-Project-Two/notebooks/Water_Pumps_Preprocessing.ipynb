{
 "cells": [
  {
   "cell_type": "markdown",
   "metadata": {},
   "source": [
    "# Water Pumps: Preprocessing\n",
    "## Business Problem:\n",
    "Tanzania is a developing country and access to water is very important for the health of the population. For this reason, it is vital that all water pumps are properly working. Currently, the only way to monitor pump working status is by physically visiting the site. This is time consuming and costly. Therefore, a more intelligent solution to monitor water pump status is desirable.\n",
    "\n",
    "This project will address the following question: How can the government of Tanzania improve water pump maintenance by knowing the pump functional status in advance?\n",
    "    \n",
    "## Import libraries"
   ]
  },
  {
   "cell_type": "code",
   "execution_count": 1,
   "metadata": {},
   "outputs": [],
   "source": [
    "from IPython.display import display\n",
    "import matplotlib.pyplot as plt\n",
    "import numpy as np\n",
    "import pandas as pd\n",
    "import pickle\n",
    "import seaborn as sns\n",
    "from sklearn.linear_model import LogisticRegression\n",
    "from sklearn.metrics import accuracy_score\n",
    "from sklearn.metrics import auc\n",
    "from sklearn.metrics import classification_report\n",
    "from sklearn.metrics import confusion_matrix\n",
    "from sklearn.metrics import plot_confusion_matrix\n",
    "from sklearn.metrics import roc_curve\n",
    "from sklearn.model_selection import train_test_split\n",
    "from sklearn.pipeline import Pipeline\n",
    "from sklearn.preprocessing import MinMaxScaler\n",
    "\n",
    "%matplotlib inline"
   ]
  },
  {
   "cell_type": "markdown",
   "metadata": {},
   "source": [
    "## Load Dataset\n",
    "Load the dataset after it has been modified during EDA."
   ]
  },
  {
   "cell_type": "code",
   "execution_count": 2,
   "metadata": {},
   "outputs": [],
   "source": [
    "df = pd.read_csv('../data/clean/eda_data.csv', parse_dates=['date_recorded'], infer_datetime_format=True)"
   ]
  },
  {
   "cell_type": "markdown",
   "metadata": {},
   "source": [
    "## Preprocessing\n",
    "### Data types\n",
    "Review the datatypes in the dataset."
   ]
  },
  {
   "cell_type": "code",
   "execution_count": 3,
   "metadata": {},
   "outputs": [
    {
     "name": "stdout",
     "output_type": "stream",
     "text": [
      "[dtype('O') dtype('<M8[ns]') dtype('int64') dtype('float64')]\n"
     ]
    }
   ],
   "source": [
    "all_data_types = df.dtypes\n",
    "unique_data_types = all_data_types.unique()\n",
    "print(unique_data_types)"
   ]
  },
  {
   "cell_type": "code",
   "execution_count": 4,
   "metadata": {},
   "outputs": [
    {
     "name": "stdout",
     "output_type": "stream",
     "text": [
      "['status_group']\n"
     ]
    }
   ],
   "source": [
    "print(df.select_dtypes(include=['O']).columns.tolist())"
   ]
  },
  {
   "cell_type": "markdown",
   "metadata": {},
   "source": [
    "The data types consist of *object*, which is the *status_group* column, datetime, int and float."
   ]
  },
  {
   "cell_type": "markdown",
   "metadata": {},
   "source": [
    "### Target Classes\n",
    "Let's look at the counts for each class of the target variable."
   ]
  },
  {
   "cell_type": "code",
   "execution_count": 5,
   "metadata": {},
   "outputs": [
    {
     "data": {
      "text/plain": [
       "functional                 17831\n",
       "non functional             10442\n",
       "functional needs repair     2150\n",
       "Name: status_group, dtype: int64"
      ]
     },
     "execution_count": 5,
     "metadata": {},
     "output_type": "execute_result"
    }
   ],
   "source": [
    "df['status_group'].value_counts()"
   ]
  },
  {
   "cell_type": "code",
   "execution_count": 6,
   "metadata": {},
   "outputs": [
    {
     "data": {
      "text/plain": [
       "functional                 0.586103\n",
       "non functional             0.343227\n",
       "functional needs repair    0.070670\n",
       "Name: status_group, dtype: float64"
      ]
     },
     "execution_count": 6,
     "metadata": {},
     "output_type": "execute_result"
    }
   ],
   "source": [
    "df['status_group'].value_counts(normalize=True)"
   ]
  },
  {
   "cell_type": "markdown",
   "metadata": {},
   "source": [
    "**Observations:**\n",
    "The majority class is _functional_, while the class with the least amount of values is _non functional_."
   ]
  },
  {
   "cell_type": "markdown",
   "metadata": {},
   "source": [
    "## Model Evaluation\n",
    "The dataset is now ready for modeling. I will try several models to determine which one performs the best.\n",
    "\n",
    "## Train/Test Split\n",
    "Before modeling, I will split the dataset into a training set and test set."
   ]
  },
  {
   "cell_type": "code",
   "execution_count": 7,
   "metadata": {},
   "outputs": [],
   "source": [
    "X = df.drop(columns=['status_group', 'date_recorded'])\n",
    "y = df['status_group']"
   ]
  },
  {
   "cell_type": "code",
   "execution_count": 8,
   "metadata": {},
   "outputs": [],
   "source": [
    "X_train, X_test, y_train, y_test = train_test_split(X.values, y.values, test_size=0.3, random_state=42)"
   ]
  },
  {
   "cell_type": "markdown",
   "metadata": {},
   "source": [
    "Let's calculate the class fractions for **`y_train`** and **`y_test`**:"
   ]
  },
  {
   "cell_type": "code",
   "execution_count": 9,
   "metadata": {},
   "outputs": [
    {
     "name": "stdout",
     "output_type": "stream",
     "text": [
      "Class fractions for y_train:\n"
     ]
    },
    {
     "data": {
      "text/plain": [
       "functional                 0.589078\n",
       "non functional             0.340299\n",
       "functional needs repair    0.070624\n",
       "dtype: float64"
      ]
     },
     "execution_count": 9,
     "metadata": {},
     "output_type": "execute_result"
    }
   ],
   "source": [
    "print('Class fractions for y_train:')\n",
    "pd.Series(y_train).value_counts(normalize=True)"
   ]
  },
  {
   "cell_type": "code",
   "execution_count": 10,
   "metadata": {},
   "outputs": [
    {
     "name": "stdout",
     "output_type": "stream",
     "text": [
      "Class fractions for y_test:\n"
     ]
    },
    {
     "data": {
      "text/plain": [
       "functional                 0.579161\n",
       "non functional             0.350060\n",
       "functional needs repair    0.070779\n",
       "dtype: float64"
      ]
     },
     "execution_count": 10,
     "metadata": {},
     "output_type": "execute_result"
    }
   ],
   "source": [
    "print('Class fractions for y_test:')\n",
    "pd.Series(y_test).value_counts(normalize=True)"
   ]
  },
  {
   "cell_type": "markdown",
   "metadata": {},
   "source": [
    "**Observations:** Compared with the full dataset, the fraction of each class for the test and training sets are similiar. But, it would be more accurate to take the class imbalance into account when splitting the data. This can be done using the _**`stratify`**_ parameter in **`train_test_split`**."
   ]
  },
  {
   "cell_type": "code",
   "execution_count": 11,
   "metadata": {},
   "outputs": [],
   "source": [
    "X_train, X_test, y_train, y_test = train_test_split(X.values, y.values, test_size=0.3, random_state=42, stratify=y)"
   ]
  },
  {
   "cell_type": "code",
   "execution_count": 12,
   "metadata": {},
   "outputs": [
    {
     "name": "stdout",
     "output_type": "stream",
     "text": [
      "Class fractions for y_train:\n"
     ]
    },
    {
     "data": {
      "text/plain": [
       "functional                 0.586119\n",
       "non functional             0.343210\n",
       "functional needs repair    0.070671\n",
       "dtype: float64"
      ]
     },
     "execution_count": 12,
     "metadata": {},
     "output_type": "execute_result"
    }
   ],
   "source": [
    "print('Class fractions for y_train:')\n",
    "pd.Series(y_train).value_counts(normalize=True)"
   ]
  },
  {
   "cell_type": "code",
   "execution_count": 13,
   "metadata": {},
   "outputs": [
    {
     "name": "stdout",
     "output_type": "stream",
     "text": [
      "Class fractions for y_test:\n"
     ]
    },
    {
     "data": {
      "text/plain": [
       "functional                 0.586063\n",
       "non functional             0.343267\n",
       "functional needs repair    0.070669\n",
       "dtype: float64"
      ]
     },
     "execution_count": 13,
     "metadata": {},
     "output_type": "execute_result"
    }
   ],
   "source": [
    "print('Class fractions for y_test:')\n",
    "pd.Series(y_test).value_counts(normalize=True)"
   ]
  },
  {
   "cell_type": "markdown",
   "metadata": {},
   "source": [
    "The class fractions are now much more equal between the training and test sets. The fractions are also in close agreement with the full dataset."
   ]
  },
  {
   "cell_type": "markdown",
   "metadata": {},
   "source": [
    "### Model 1: Logistic Regression\n",
    "I will first try a very simple logistic regression model.\n",
    "\n",
    "**Parameters:**\n",
    "* Algorithm: `LogisticRegression()`\n",
    "* Preprocessing: `MinMaxScaler()`"
   ]
  },
  {
   "cell_type": "code",
   "execution_count": 14,
   "metadata": {},
   "outputs": [
    {
     "name": "stderr",
     "output_type": "stream",
     "text": [
      "/Users/dave/anaconda3/envs/springboard/lib/python3.8/site-packages/sklearn/linear_model/_logistic.py:763: ConvergenceWarning: lbfgs failed to converge (status=1):\n",
      "STOP: TOTAL NO. of ITERATIONS REACHED LIMIT.\n",
      "\n",
      "Increase the number of iterations (max_iter) or scale the data as shown in:\n",
      "    https://scikit-learn.org/stable/modules/preprocessing.html\n",
      "Please also refer to the documentation for alternative solver options:\n",
      "    https://scikit-learn.org/stable/modules/linear_model.html#logistic-regression\n",
      "  n_iter_i = _check_optimize_result(\n"
     ]
    },
    {
     "data": {
      "text/plain": [
       "0.7716664840582886"
      ]
     },
     "execution_count": 14,
     "metadata": {},
     "output_type": "execute_result"
    }
   ],
   "source": [
    "estimators_1 = [('min_max', MinMaxScaler()), ('log_reg', LogisticRegression())]\n",
    "pipe_1 = Pipeline(estimators_1)\n",
    "pipe_1.fit(X_train, y_train)\n",
    "pipe_1.score(X_test, y_test)"
   ]
  },
  {
   "cell_type": "markdown",
   "metadata": {},
   "source": [
    "### Model 2: Logistic Regresion - `solver`=_saga_\n",
    "Using the recommendations from this error message, I will try a different solver."
   ]
  },
  {
   "cell_type": "code",
   "execution_count": 15,
   "metadata": {},
   "outputs": [
    {
     "name": "stdout",
     "output_type": "stream",
     "text": [
      "The training score is: 76.578%.\n",
      "The test score is: 77.090%.\n"
     ]
    }
   ],
   "source": [
    "estimators_2 = [('min_max', MinMaxScaler()), ('log_reg', LogisticRegression(solver='saga'))]\n",
    "pipe_2 = Pipeline(estimators_2)\n",
    "pipe_2.fit(X_train, y_train)\n",
    "print(f'The training score is: {pipe_2.score(X_train, y_train):0.3%}.')\n",
    "print(f'The test score is: {pipe_2.score(X_test, y_test):0.3%}.')"
   ]
  },
  {
   "cell_type": "markdown",
   "metadata": {},
   "source": [
    "**Observations:**\n",
    "The similarity in scores seems to indicate that over fitting is not a problem. But, more analysis is needed to determine how good the classification of each target class is.\n",
    "\n",
    "### Confusion Matrix\n",
    "Let's compare the performance of the model by creating a confusion matrix for both the training and test sets."
   ]
  },
  {
   "cell_type": "code",
   "execution_count": 16,
   "metadata": {},
   "outputs": [
    {
     "data": {
      "image/png": "[encoded data removed]",
      "text/plain": [
       "<Figure size 432x576 with 2 Axes>"
      ]
     },
     "metadata": {
      "needs_background": "light"
     },
     "output_type": "display_data"
    }
   ],
   "source": [
    "fix, ax = plt.subplots(figsize=(6, 8))\n",
    "plot_confusion_matrix(pipe_2, X_train, y_train, ax=ax)\n",
    "ax.set_title('Confusion Matrix: Training')\n",
    "plt.show()"
   ]
  },
  {
   "cell_type": "code",
   "execution_count": 17,
   "metadata": {},
   "outputs": [
    {
     "data": {
      "image/png": "[encoded data removed]",
      "text/plain": [
       "<Figure size 432x576 with 2 Axes>"
      ]
     },
     "metadata": {
      "needs_background": "light"
     },
     "output_type": "display_data"
    }
   ],
   "source": [
    "fix, ax = plt.subplots(figsize=(6, 8))\n",
    "plot_confusion_matrix(pipe_2, X_test, y_test, ax=ax)\n",
    "ax.set_title('Confusion Matrix: Test')\n",
    "plt.show()"
   ]
  },
  {
   "cell_type": "markdown",
   "metadata": {},
   "source": [
    "**Observations:**\n",
    "Visually, the model appears to perform best on the *functional* class and worse on the *functional needs repair* class. Intuitively this makes sense since *functional* has the largest class membership, while *functional needs repair* has the lowest class membership.\n",
    "\n",
    "### Classification Report\n",
    "Metrics for each class predicted by the model can be determined by using ``"
   ]
  },
  {
   "cell_type": "code",
   "execution_count": 18,
   "metadata": {},
   "outputs": [],
   "source": [
    "y_pred_train_2 = pipe_2.predict(X_train)\n",
    "y_pred_2 = pipe_2.predict(X_test)"
   ]
  },
  {
   "cell_type": "code",
   "execution_count": 19,
   "metadata": {},
   "outputs": [
    {
     "name": "stdout",
     "output_type": "stream",
     "text": [
      "                         precision    recall  f1-score   support\n",
      "\n",
      "             functional       0.77      0.90      0.83     12482\n",
      "functional needs repair       0.57      0.18      0.28      1505\n",
      "         non functional       0.78      0.65      0.71      7309\n",
      "\n",
      "               accuracy                           0.77     21296\n",
      "              macro avg       0.70      0.58      0.60     21296\n",
      "           weighted avg       0.76      0.77      0.75     21296\n",
      "\n"
     ]
    }
   ],
   "source": [
    "print(classification_report(y_train, y_pred_train_2))"
   ]
  },
  {
   "cell_type": "code",
   "execution_count": 20,
   "metadata": {},
   "outputs": [
    {
     "name": "stdout",
     "output_type": "stream",
     "text": [
      "                         precision    recall  f1-score   support\n",
      "\n",
      "             functional       0.77      0.91      0.83      5349\n",
      "functional needs repair       0.59      0.18      0.27       645\n",
      "         non functional       0.78      0.66      0.72      3133\n",
      "\n",
      "               accuracy                           0.77      9127\n",
      "              macro avg       0.71      0.58      0.61      9127\n",
      "           weighted avg       0.76      0.77      0.75      9127\n",
      "\n"
     ]
    }
   ],
   "source": [
    "print(classification_report(y_test, y_pred_2))"
   ]
  },
  {
   "cell_type": "markdown",
   "metadata": {},
   "source": [
    "**Observations:**\n",
    "The model performance on the train and test sets is quite similar. The test set only performs a few hundredths of a point worse across all classification report metrics. Therefore, I can conclude that there is no overfitting."
   ]
  },
  {
   "cell_type": "markdown",
   "metadata": {},
   "source": [
    "### Model 2: Overfitting Analysis\n",
    "I will compare metrics between the test and training data sets to determine if there is any overfitting.\n",
    "* **Accuracy:**\n",
    "    * The difference in accuracy between the training and test sets was less than 2%.\n",
    "* **Precision:**\n",
    "    * _functional_:\n",
    "        * The precision is identical.\n",
    "    * _functional needs repair_:\n",
    "        * There is a difference of 0.02 between the test and training sets.\n",
    "    * _non functional_:\n",
    "        * The precision is identical.\n",
    "* **Recall:**\n",
    "    * _functional_:\n",
    "        * There is a difference of 0.01 between the test and training sets.\n",
    "    * _functional needs repair_:\n",
    "        * The recall is identical.\n",
    "    * _non functional_:\n",
    "        * There is a difference of 0.01 between the test and training sets.\n",
    "        \n",
    "The closeness in metrics values between the test and training sets indicates that overfitting is not an issue for a logistic regression problem. Therefore, I do not need to consider regularization."
   ]
  },
  {
   "cell_type": "markdown",
   "metadata": {},
   "source": [
    "### Model 2: Feature Importance\n",
    "I will now explore feature importance. But, first I need to understand the coefficients for this model."
   ]
  },
  {
   "cell_type": "code",
   "execution_count": 21,
   "metadata": {},
   "outputs": [
    {
     "name": "stdout",
     "output_type": "stream",
     "text": [
      "The multi_class param is auto.\n"
     ]
    }
   ],
   "source": [
    "multi_class_param = pipe_2.get_params()['log_reg__multi_class']\n",
    "print(f'The multi_class param is {multi_class_param}.')"
   ]
  },
  {
   "cell_type": "markdown",
   "metadata": {},
   "source": [
    "According to the sklearn documentation, if multi_class is set to 'auto' and the number of classes is greater than two, the model defaults to a multi_class value of 'multi_nominal'. The means that for each sample prediction a separate probability is computed for each class. The class with the highest probability is then assigned as the predicted class for that sample.\n",
    "\n",
    "Now, I will explore the shape of the coefficents array."
   ]
  },
  {
   "cell_type": "code",
   "execution_count": 22,
   "metadata": {},
   "outputs": [
    {
     "data": {
      "text/plain": [
       "(3, 230)"
      ]
     },
     "execution_count": 22,
     "metadata": {},
     "output_type": "execute_result"
    }
   ],
   "source": [
    "pipe_2.named_steps['log_reg'].coef_.shape"
   ]
  },
  {
   "cell_type": "markdown",
   "metadata": {},
   "source": [
    "The coefficents consist of three columns, one for each class, and 230 rows, the number of features in the dataset.\n",
    "\n",
    "Let's determine which column index corresponds to which class."
   ]
  },
  {
   "cell_type": "code",
   "execution_count": 23,
   "metadata": {},
   "outputs": [
    {
     "name": "stdout",
     "output_type": "stream",
     "text": [
      " * 'functional' class corresponds to index 0.\n",
      " * 'functional needs repair' class corresponds to index 1.\n",
      " * 'non functional' class corresponds to index 2.\n"
     ]
    }
   ],
   "source": [
    "for i, class_name in enumerate(pipe_2.named_steps['log_reg'].classes_):\n",
    "    print(f\" * '{class_name}' class corresponds to index {i}.\")"
   ]
  },
  {
   "cell_type": "markdown",
   "metadata": {},
   "source": [
    "Now, I will determine the important features for each class in the target variable, as determined by the model."
   ]
  },
  {
   "cell_type": "code",
   "execution_count": 24,
   "metadata": {},
   "outputs": [],
   "source": [
    "def gather_feature_importance(X, model, step_name, top_n_features=10):\n",
    "    feature_importance_dict = {}\n",
    "    for i in range(len(model.named_steps[step_name].coef_)):\n",
    "        feature_importance = pd.DataFrame({'features': X.columns.to_list(), 'coefs': model.named_steps[step_name].coef_[i]})\n",
    "        feature_importance['abs_coefs'] = np.abs(feature_importance['coefs'])\n",
    "        feature_importance = feature_importance.sort_values(by='abs_coefs', ascending=False).iloc[:top_n_features, :]\n",
    "        feature_importance_dict[model.named_steps[step_name].classes_[i]] = feature_importance\n",
    "    return feature_importance_dict"
   ]
  },
  {
   "cell_type": "code",
   "execution_count": 25,
   "metadata": {},
   "outputs": [],
   "source": [
    "feature_importance_dict = gather_feature_importance(X, pipe_2, 'log_reg')"
   ]
  },
  {
   "cell_type": "code",
   "execution_count": 26,
   "metadata": {},
   "outputs": [
    {
     "name": "stdout",
     "output_type": "stream",
     "text": [
      "Class Name: functional\n"
     ]
    },
    {
     "data": {
      "text/html": [
       "<div>\n",
       "<style scoped>\n",
       "    .dataframe tbody tr th:only-of-type {\n",
       "        vertical-align: middle;\n",
       "    }\n",
       "\n",
       "    .dataframe tbody tr th {\n",
       "        vertical-align: top;\n",
       "    }\n",
       "\n",
       "    .dataframe thead th {\n",
       "        text-align: right;\n",
       "    }\n",
       "</style>\n",
       "<table border=\"1\" class=\"dataframe\">\n",
       "  <thead>\n",
       "    <tr style=\"text-align: right;\">\n",
       "      <th></th>\n",
       "      <th>features</th>\n",
       "      <th>coefs</th>\n",
       "      <th>abs_coefs</th>\n",
       "    </tr>\n",
       "  </thead>\n",
       "  <tbody>\n",
       "    <tr>\n",
       "      <th>214</th>\n",
       "      <td>quantity_group_enough</td>\n",
       "      <td>2.303792</td>\n",
       "      <td>2.303792</td>\n",
       "    </tr>\n",
       "    <tr>\n",
       "      <th>216</th>\n",
       "      <td>quantity_group_seasonal</td>\n",
       "      <td>2.017357</td>\n",
       "      <td>2.017357</td>\n",
       "    </tr>\n",
       "    <tr>\n",
       "      <th>215</th>\n",
       "      <td>quantity_group_insufficient</td>\n",
       "      <td>2.015797</td>\n",
       "      <td>2.015797</td>\n",
       "    </tr>\n",
       "    <tr>\n",
       "      <th>217</th>\n",
       "      <td>quantity_group_unknown</td>\n",
       "      <td>1.917948</td>\n",
       "      <td>1.917948</td>\n",
       "    </tr>\n",
       "    <tr>\n",
       "      <th>229</th>\n",
       "      <td>waterpoint_type_other</td>\n",
       "      <td>-1.433772</td>\n",
       "      <td>1.433772</td>\n",
       "    </tr>\n",
       "    <tr>\n",
       "      <th>40</th>\n",
       "      <td>lga_Karatu</td>\n",
       "      <td>1.240305</td>\n",
       "      <td>1.240305</td>\n",
       "    </tr>\n",
       "    <tr>\n",
       "      <th>1</th>\n",
       "      <td>longitude</td>\n",
       "      <td>1.168977</td>\n",
       "      <td>1.168977</td>\n",
       "    </tr>\n",
       "    <tr>\n",
       "      <th>122</th>\n",
       "      <td>construction_year_1961</td>\n",
       "      <td>-1.161657</td>\n",
       "      <td>1.161657</td>\n",
       "    </tr>\n",
       "    <tr>\n",
       "      <th>57</th>\n",
       "      <td>lga_Liwale</td>\n",
       "      <td>1.028771</td>\n",
       "      <td>1.028771</td>\n",
       "    </tr>\n",
       "    <tr>\n",
       "      <th>39</th>\n",
       "      <td>lga_Iringa Rural</td>\n",
       "      <td>0.967860</td>\n",
       "      <td>0.967860</td>\n",
       "    </tr>\n",
       "  </tbody>\n",
       "</table>\n",
       "</div>"
      ],
      "text/plain": [
       "                        features     coefs  abs_coefs\n",
       "214        quantity_group_enough  2.303792   2.303792\n",
       "216      quantity_group_seasonal  2.017357   2.017357\n",
       "215  quantity_group_insufficient  2.015797   2.015797\n",
       "217       quantity_group_unknown  1.917948   1.917948\n",
       "229        waterpoint_type_other -1.433772   1.433772\n",
       "40                    lga_Karatu  1.240305   1.240305\n",
       "1                      longitude  1.168977   1.168977\n",
       "122       construction_year_1961 -1.161657   1.161657\n",
       "57                    lga_Liwale  1.028771   1.028771\n",
       "39              lga_Iringa Rural  0.967860   0.967860"
      ]
     },
     "metadata": {},
     "output_type": "display_data"
    },
    {
     "name": "stdout",
     "output_type": "stream",
     "text": [
      "\n",
      "Class Name: functional needs repair\n"
     ]
    },
    {
     "data": {
      "text/html": [
       "<div>\n",
       "<style scoped>\n",
       "    .dataframe tbody tr th:only-of-type {\n",
       "        vertical-align: middle;\n",
       "    }\n",
       "\n",
       "    .dataframe tbody tr th {\n",
       "        vertical-align: top;\n",
       "    }\n",
       "\n",
       "    .dataframe thead th {\n",
       "        text-align: right;\n",
       "    }\n",
       "</style>\n",
       "<table border=\"1\" class=\"dataframe\">\n",
       "  <thead>\n",
       "    <tr style=\"text-align: right;\">\n",
       "      <th></th>\n",
       "      <th>features</th>\n",
       "      <th>coefs</th>\n",
       "      <th>abs_coefs</th>\n",
       "    </tr>\n",
       "  </thead>\n",
       "  <tbody>\n",
       "    <tr>\n",
       "      <th>63</th>\n",
       "      <td>lga_Masasi</td>\n",
       "      <td>1.466774</td>\n",
       "      <td>1.466774</td>\n",
       "    </tr>\n",
       "    <tr>\n",
       "      <th>34</th>\n",
       "      <td>lga_Hanang</td>\n",
       "      <td>-1.383034</td>\n",
       "      <td>1.383034</td>\n",
       "    </tr>\n",
       "    <tr>\n",
       "      <th>28</th>\n",
       "      <td>lga_Arusha Urban</td>\n",
       "      <td>1.376605</td>\n",
       "      <td>1.376605</td>\n",
       "    </tr>\n",
       "    <tr>\n",
       "      <th>105</th>\n",
       "      <td>lga_Tunduru</td>\n",
       "      <td>1.376170</td>\n",
       "      <td>1.376170</td>\n",
       "    </tr>\n",
       "    <tr>\n",
       "      <th>71</th>\n",
       "      <td>lga_Moshi Rural</td>\n",
       "      <td>1.165634</td>\n",
       "      <td>1.165634</td>\n",
       "    </tr>\n",
       "    <tr>\n",
       "      <th>25</th>\n",
       "      <td>region_Shinyanga</td>\n",
       "      <td>1.145852</td>\n",
       "      <td>1.145852</td>\n",
       "    </tr>\n",
       "    <tr>\n",
       "      <th>31</th>\n",
       "      <td>lga_Bariadi</td>\n",
       "      <td>1.145852</td>\n",
       "      <td>1.145852</td>\n",
       "    </tr>\n",
       "    <tr>\n",
       "      <th>53</th>\n",
       "      <td>lga_Kiteto</td>\n",
       "      <td>1.141457</td>\n",
       "      <td>1.141457</td>\n",
       "    </tr>\n",
       "    <tr>\n",
       "      <th>40</th>\n",
       "      <td>lga_Karatu</td>\n",
       "      <td>-1.138365</td>\n",
       "      <td>1.138365</td>\n",
       "    </tr>\n",
       "    <tr>\n",
       "      <th>215</th>\n",
       "      <td>quantity_group_insufficient</td>\n",
       "      <td>1.122630</td>\n",
       "      <td>1.122630</td>\n",
       "    </tr>\n",
       "  </tbody>\n",
       "</table>\n",
       "</div>"
      ],
      "text/plain": [
       "                        features     coefs  abs_coefs\n",
       "63                    lga_Masasi  1.466774   1.466774\n",
       "34                    lga_Hanang -1.383034   1.383034\n",
       "28              lga_Arusha Urban  1.376605   1.376605\n",
       "105                  lga_Tunduru  1.376170   1.376170\n",
       "71               lga_Moshi Rural  1.165634   1.165634\n",
       "25              region_Shinyanga  1.145852   1.145852\n",
       "31                   lga_Bariadi  1.145852   1.145852\n",
       "53                    lga_Kiteto  1.141457   1.141457\n",
       "40                    lga_Karatu -1.138365   1.138365\n",
       "215  quantity_group_insufficient  1.122630   1.122630"
      ]
     },
     "metadata": {},
     "output_type": "display_data"
    },
    {
     "name": "stdout",
     "output_type": "stream",
     "text": [
      "\n",
      "Class Name: non functional\n"
     ]
    },
    {
     "data": {
      "text/html": [
       "<div>\n",
       "<style scoped>\n",
       "    .dataframe tbody tr th:only-of-type {\n",
       "        vertical-align: middle;\n",
       "    }\n",
       "\n",
       "    .dataframe tbody tr th {\n",
       "        vertical-align: top;\n",
       "    }\n",
       "\n",
       "    .dataframe thead th {\n",
       "        text-align: right;\n",
       "    }\n",
       "</style>\n",
       "<table border=\"1\" class=\"dataframe\">\n",
       "  <thead>\n",
       "    <tr style=\"text-align: right;\">\n",
       "      <th></th>\n",
       "      <th>features</th>\n",
       "      <th>coefs</th>\n",
       "      <th>abs_coefs</th>\n",
       "    </tr>\n",
       "  </thead>\n",
       "  <tbody>\n",
       "    <tr>\n",
       "      <th>214</th>\n",
       "      <td>quantity_group_enough</td>\n",
       "      <td>-3.394970</td>\n",
       "      <td>3.394970</td>\n",
       "    </tr>\n",
       "    <tr>\n",
       "      <th>215</th>\n",
       "      <td>quantity_group_insufficient</td>\n",
       "      <td>-3.138427</td>\n",
       "      <td>3.138427</td>\n",
       "    </tr>\n",
       "    <tr>\n",
       "      <th>216</th>\n",
       "      <td>quantity_group_seasonal</td>\n",
       "      <td>-3.062579</td>\n",
       "      <td>3.062579</td>\n",
       "    </tr>\n",
       "    <tr>\n",
       "      <th>217</th>\n",
       "      <td>quantity_group_unknown</td>\n",
       "      <td>-2.365513</td>\n",
       "      <td>2.365513</td>\n",
       "    </tr>\n",
       "    <tr>\n",
       "      <th>71</th>\n",
       "      <td>lga_Moshi Rural</td>\n",
       "      <td>-1.747527</td>\n",
       "      <td>1.747527</td>\n",
       "    </tr>\n",
       "    <tr>\n",
       "      <th>63</th>\n",
       "      <td>lga_Masasi</td>\n",
       "      <td>-1.496800</td>\n",
       "      <td>1.496800</td>\n",
       "    </tr>\n",
       "    <tr>\n",
       "      <th>28</th>\n",
       "      <td>lga_Arusha Urban</td>\n",
       "      <td>-1.481036</td>\n",
       "      <td>1.481036</td>\n",
       "    </tr>\n",
       "    <tr>\n",
       "      <th>95</th>\n",
       "      <td>lga_Singida Rural</td>\n",
       "      <td>-1.121488</td>\n",
       "      <td>1.121488</td>\n",
       "    </tr>\n",
       "    <tr>\n",
       "      <th>130</th>\n",
       "      <td>construction_year_1969</td>\n",
       "      <td>1.107877</td>\n",
       "      <td>1.107877</td>\n",
       "    </tr>\n",
       "    <tr>\n",
       "      <th>24</th>\n",
       "      <td>region_Ruvuma</td>\n",
       "      <td>-0.995229</td>\n",
       "      <td>0.995229</td>\n",
       "    </tr>\n",
       "  </tbody>\n",
       "</table>\n",
       "</div>"
      ],
      "text/plain": [
       "                        features     coefs  abs_coefs\n",
       "214        quantity_group_enough -3.394970   3.394970\n",
       "215  quantity_group_insufficient -3.138427   3.138427\n",
       "216      quantity_group_seasonal -3.062579   3.062579\n",
       "217       quantity_group_unknown -2.365513   2.365513\n",
       "71               lga_Moshi Rural -1.747527   1.747527\n",
       "63                    lga_Masasi -1.496800   1.496800\n",
       "28              lga_Arusha Urban -1.481036   1.481036\n",
       "95             lga_Singida Rural -1.121488   1.121488\n",
       "130       construction_year_1969  1.107877   1.107877\n",
       "24                 region_Ruvuma -0.995229   0.995229"
      ]
     },
     "metadata": {},
     "output_type": "display_data"
    },
    {
     "name": "stdout",
     "output_type": "stream",
     "text": [
      "\n"
     ]
    }
   ],
   "source": [
    "for class_name, feature_importance in feature_importance_dict.items():\n",
    "    print(f'Class Name: {class_name}')\n",
    "    display(feature_importance)\n",
    "    print('')"
   ]
  },
  {
   "cell_type": "markdown",
   "metadata": {},
   "source": [
    "**Observations:**\n",
    "* Class: functional\n",
    "    * The feature contributing most positively is *quantity_group_enough*.\n",
    "    * The feature contributing most negatively is *waterpoint_type_other*.\n",
    "* Class: functional needs repair\n",
    "    * The feature contributing most positively is *lga_Arusha Urban*.\n",
    "    * The feature contributing most negatively is *lga_Hanang*.\n",
    "* Class: non functional\n",
    "    * There is not dominant, positive feature.\n",
    "    * The feature contributing most negatively is *quantity_group_enough*.\n",
    "    \n",
    "The amount of water at a pump appears to be strongly related to whether the pump is functional or not."
   ]
  },
  {
   "cell_type": "markdown",
   "metadata": {},
   "source": [
    "### Model 3: Logistic Regression - One-vs-Rest\n",
    "I would like to create an ROC curve as an additional way to assess the model fit. But, ROC curves only work with binary classification problems. Since this is a multi-class classification problem, I will need to change my strategy.\n",
    "\n",
    "What I can do is create a model that fits each class to the additional two classes. This would create three binary classification problems. I can then create and ROC curve for each class and compare them."
   ]
  },
  {
   "cell_type": "code",
   "execution_count": 27,
   "metadata": {},
   "outputs": [
    {
     "name": "stdout",
     "output_type": "stream",
     "text": [
      "The training score is: 76.568%.\n",
      "The test score is: 77.112%.\n"
     ]
    }
   ],
   "source": [
    "estimators_3 = [('min_max', MinMaxScaler()), ('log_reg', LogisticRegression(multi_class='ovr', solver='liblinear'))]\n",
    "pipe_3 = Pipeline(estimators_3)\n",
    "pipe_3.fit(X_train, y_train)\n",
    "print(f'The training score is: {pipe_3.score(X_train, y_train):0.3%}.')\n",
    "print(f'The test score is: {pipe_3.score(X_test, y_test):0.3%}.')"
   ]
  },
  {
   "cell_type": "code",
   "execution_count": 28,
   "metadata": {},
   "outputs": [],
   "source": [
    "y_pred_train_3 = pipe_3.predict(X_train)\n",
    "y_pred_3 = pipe_3.predict(X_test)"
   ]
  },
  {
   "cell_type": "code",
   "execution_count": 29,
   "metadata": {},
   "outputs": [
    {
     "name": "stdout",
     "output_type": "stream",
     "text": [
      "                         precision    recall  f1-score   support\n",
      "\n",
      "             functional       0.76      0.91      0.83     12482\n",
      "functional needs repair       0.63      0.15      0.24      1505\n",
      "         non functional       0.78      0.65      0.71      7309\n",
      "\n",
      "               accuracy                           0.77     21296\n",
      "              macro avg       0.72      0.57      0.59     21296\n",
      "           weighted avg       0.76      0.77      0.75     21296\n",
      "\n"
     ]
    }
   ],
   "source": [
    "print(classification_report(y_train, y_pred_train_3))"
   ]
  },
  {
   "cell_type": "code",
   "execution_count": 30,
   "metadata": {},
   "outputs": [
    {
     "name": "stdout",
     "output_type": "stream",
     "text": [
      "                         precision    recall  f1-score   support\n",
      "\n",
      "             functional       0.77      0.91      0.83      5349\n",
      "functional needs repair       0.63      0.15      0.24       645\n",
      "         non functional       0.79      0.66      0.72      3133\n",
      "\n",
      "               accuracy                           0.77      9127\n",
      "              macro avg       0.73      0.57      0.60      9127\n",
      "           weighted avg       0.76      0.77      0.75      9127\n",
      "\n"
     ]
    }
   ],
   "source": [
    "print(classification_report(y_test, y_pred_3))"
   ]
  },
  {
   "cell_type": "code",
   "execution_count": 31,
   "metadata": {},
   "outputs": [],
   "source": [
    "y_train_proba_3 = pipe_3.fit(X_train, y_train).predict_proba(X_train)\n",
    "y_test_proba_3 = pipe_3.fit(X_train, y_train).predict_proba(X_test)"
   ]
  },
  {
   "cell_type": "code",
   "execution_count": 32,
   "metadata": {},
   "outputs": [],
   "source": [
    "y_train_oh = pd.get_dummies(pd.Series(y_train)).values\n",
    "y_test_oh = pd.get_dummies(pd.Series(y_test)).values"
   ]
  },
  {
   "cell_type": "code",
   "execution_count": 33,
   "metadata": {},
   "outputs": [],
   "source": [
    "class_names = pd.get_dummies(pd.Series(y_train)).columns.to_list()"
   ]
  },
  {
   "cell_type": "code",
   "execution_count": 34,
   "metadata": {},
   "outputs": [],
   "source": [
    "def gather_roc_info(y_oh, y_proba):\n",
    "    fpr = {}\n",
    "    tpr = {}\n",
    "    num_classes = y_oh.shape[1]\n",
    "    for i in range(num_classes):\n",
    "        fpr[i], tpr[i], _ = roc_curve(y_oh[:, i], y_proba[:, i])\n",
    "    return fpr, tpr"
   ]
  },
  {
   "cell_type": "code",
   "execution_count": 35,
   "metadata": {},
   "outputs": [],
   "source": [
    "def compute_auc(y_oh, y_proba):\n",
    "    auc_dict = {}\n",
    "    num_classes = y_oh.shape[1]\n",
    "    fpr, tpr = gather_roc_info(y_oh, y_proba)\n",
    "    for i in range(num_classes):\n",
    "        auc_dict[i] = auc(fpr[i], tpr[i])\n",
    "    return auc_dict"
   ]
  },
  {
   "cell_type": "code",
   "execution_count": 36,
   "metadata": {},
   "outputs": [],
   "source": [
    "def plot_roc(y_oh, y_proba, class_names, dataset_type=None):\n",
    "    fpr, tpr = gather_roc_info(y_oh, y_proba)\n",
    "    auc_dict = compute_auc(y_oh, y_proba)\n",
    "    num_classes = y_oh.shape[1]\n",
    "    fig, ax = plt.subplots(figsize=(6, 6))\n",
    "    title_value = 'ROC'\n",
    "    if dataset_type is not None:\n",
    "        title_value += f' for {dataset_type.title()} Set'\n",
    "    for i in range(num_classes):\n",
    "        ax.plot(fpr[i], tpr[i], label=f'{class_names[i]} [AUC = {auc_dict[i]:0.3f}]')\n",
    "        ax.set_xlabel('False Positive Rate')\n",
    "        ax.set_ylabel('True Positive Rate')\n",
    "        ax.legend()\n",
    "    ax.plot([0, 1], [0, 1], color='black')\n",
    "    ax.set_title(title_value)\n",
    "    plt.show()"
   ]
  },
  {
   "cell_type": "code",
   "execution_count": 37,
   "metadata": {},
   "outputs": [
    {
     "data": {
      "image/png": "[encoded data removed]",
      "text/plain": [
       "<Figure size 432x432 with 1 Axes>"
      ]
     },
     "metadata": {
      "needs_background": "light"
     },
     "output_type": "display_data"
    }
   ],
   "source": [
    "plot_roc(y_train_oh, y_train_proba_3, class_names, dataset_type='training')"
   ]
  },
  {
   "cell_type": "code",
   "execution_count": 38,
   "metadata": {},
   "outputs": [
    {
     "data": {
      "image/png": "[encoded data removed]",
      "text/plain": [
       "<Figure size 432x432 with 1 Axes>"
      ]
     },
     "metadata": {
      "needs_background": "light"
     },
     "output_type": "display_data"
    }
   ],
   "source": [
    "plot_roc(y_test_oh, y_test_proba_3, class_names, dataset_type='test')"
   ]
  },
  {
   "cell_type": "markdown",
   "metadata": {},
   "source": [
    "**Observations:**\n",
    "The above plots show the ROC for the training and test sets, separated by the target class. The classes _functional_ and _functional needs repair_ follow similar trends, while _non functional_ has a steeper incline in true positive rate. All AUC values are high, ranging between 0.83 and 0.88. The class _non functional_ has the highest AUC, 0.878. I can conclude that a logistic regression model does a reasonable job of fitting the dataset. "
   ]
  },
  {
   "cell_type": "markdown",
   "metadata": {},
   "source": [
    "### Save train and test sets"
   ]
  },
  {
   "cell_type": "code",
   "execution_count": 40,
   "metadata": {},
   "outputs": [],
   "source": [
    "data_sets = [X_train, X_test, y_train, y_test]\n",
    "filenames = ['X_train', 'X_test', 'y_train', 'y_test']\n",
    "for i, filename in enumerate(filenames):\n",
    "    outfile = open(f'../data/clean/{filename}', 'wb')\n",
    "    pickle.dump(data_sets[i], outfile)\n",
    "    outfile.close()"
   ]
  },
  {
   "cell_type": "markdown",
   "metadata": {},
   "source": [
    "## Summary\n",
    "During pre-processing, I have determined the following items:\n",
    "* I created a preliminary logistic regression model with an accuracy of 77% on the training set and 76% on the test.\n",
    "* The classification metrics for the training and test sets are similar, differing by no more than 0.02, with a fit on the test set that is slightly worse.\n",
    "* The similarity in metrics between the training and test sets indicates that over fitting is not a problem.\n",
    "* An analysis of feature importance indicates that the amount of water at a pump appears to be strongly related to whether the pump is functional or not.\n",
    "* An ROC plot for each class show similar profiles. All AUC values for each class range between 0.83 and 0.88.\n",
    "\n",
    "## Conclusions\n",
    "I have shown that a logistic regression model can serve as a good baseline for predicting water quality. Considering an accuracy of 76%, there is room for improvement.\n",
    "\n",
    "When considering each class separately in a one-vs-rest model, the similarities in ROC curves and AUC values across each class indicates that this logistic regression model does a good model fit for each class. But, when fitting a multinominal model, when all three classes are considered together, there is a low recall value for the minority class, _functional needs repair_. During the modeling phase, I will consider this class imbalance issue in more detail.\n",
    "\n",
    "After speaking with the client, I have been requested to optimize the recall metric in the final model. Recall will need to be at least 0.95 across all classes for the model to be accepted. I will accomplish this by the following methods:\n",
    "* Investigate miss-classification errors for the class with the lowest recall.\n",
    "    * Are there any patterns in samples that have been miss-classified?\n",
    "* Explore features in more detail.\n",
    "    * Are there any irrelavent features that could be removed?"
   ]
  },
  {
   "cell_type": "code",
   "execution_count": null,
   "metadata": {},
   "outputs": [],
   "source": []
  }
 ],
 "metadata": {
  "kernelspec": {
   "display_name": "Python 3",
   "language": "python",
   "name": "python3"
  },
  "language_info": {
   "codemirror_mode": {
    "name": "ipython",
    "version": 3
   },
   "file_extension": ".py",
   "mimetype": "text/x-python",
   "name": "python",
   "nbconvert_exporter": "python",
   "pygments_lexer": "ipython3",
   "version": "3.8.8"
  }
 },
 "nbformat": 4,
 "nbformat_minor": 4
}
